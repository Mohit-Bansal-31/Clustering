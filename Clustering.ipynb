{
 "cells": [
  {
   "cell_type": "markdown",
   "id": "550cc351-85ac-475c-9829-6c5af746c232",
   "metadata": {},
   "source": [
    "# Comparing different clustering algorithms for different Preprocessing techniques"
   ]
  },
  {
   "cell_type": "markdown",
   "id": "d72c5a35-67d1-4576-b70a-240108f408b2",
   "metadata": {},
   "source": [
    "## Importing Libraries (We will be primarily using pycaret)"
   ]
  },
  {
   "cell_type": "code",
   "execution_count": 54,
   "id": "40001725-b328-4763-9087-2603fab0a5f5",
   "metadata": {},
   "outputs": [
    {
     "data": {
      "text/plain": [
       "'3.3.2'"
      ]
     },
     "execution_count": 54,
     "metadata": {},
     "output_type": "execute_result"
    }
   ],
   "source": [
    "import pycaret\n",
    "import pandas as pd\n",
    "\n",
    "from pycaret.utils import version\n",
    "version()"
   ]
  },
  {
   "cell_type": "markdown",
   "id": "f32881b7-aa26-4aca-a163-50345d6056a2",
   "metadata": {},
   "source": [
    "## Viewing available dataset in ucl Library"
   ]
  },
  {
   "cell_type": "code",
   "execution_count": 2,
   "id": "97231065-3950-4443-92f4-086bba20bc38",
   "metadata": {},
   "outputs": [
    {
     "data": {
      "text/html": [
       "<div>\n",
       "<style scoped>\n",
       "    .dataframe tbody tr th:only-of-type {\n",
       "        vertical-align: middle;\n",
       "    }\n",
       "\n",
       "    .dataframe tbody tr th {\n",
       "        vertical-align: top;\n",
       "    }\n",
       "\n",
       "    .dataframe thead th {\n",
       "        text-align: right;\n",
       "    }\n",
       "</style>\n",
       "<table border=\"1\" class=\"dataframe\">\n",
       "  <thead>\n",
       "    <tr style=\"text-align: right;\">\n",
       "      <th></th>\n",
       "      <th>Dataset</th>\n",
       "      <th>Data Types</th>\n",
       "      <th>Default Task</th>\n",
       "      <th>Target Variable 1</th>\n",
       "      <th>Target Variable 2</th>\n",
       "      <th># Instances</th>\n",
       "      <th># Attributes</th>\n",
       "      <th>Missing Values</th>\n",
       "    </tr>\n",
       "  </thead>\n",
       "  <tbody>\n",
       "    <tr>\n",
       "      <th>0</th>\n",
       "      <td>anomaly</td>\n",
       "      <td>Multivariate</td>\n",
       "      <td>Anomaly Detection</td>\n",
       "      <td>NaN</td>\n",
       "      <td>NaN</td>\n",
       "      <td>1000</td>\n",
       "      <td>10</td>\n",
       "      <td>N</td>\n",
       "    </tr>\n",
       "    <tr>\n",
       "      <th>1</th>\n",
       "      <td>france</td>\n",
       "      <td>Multivariate</td>\n",
       "      <td>Association Rule Mining</td>\n",
       "      <td>InvoiceNo</td>\n",
       "      <td>Description</td>\n",
       "      <td>8557</td>\n",
       "      <td>8</td>\n",
       "      <td>N</td>\n",
       "    </tr>\n",
       "    <tr>\n",
       "      <th>2</th>\n",
       "      <td>germany</td>\n",
       "      <td>Multivariate</td>\n",
       "      <td>Association Rule Mining</td>\n",
       "      <td>InvoiceNo</td>\n",
       "      <td>Description</td>\n",
       "      <td>9495</td>\n",
       "      <td>8</td>\n",
       "      <td>N</td>\n",
       "    </tr>\n",
       "    <tr>\n",
       "      <th>3</th>\n",
       "      <td>bank</td>\n",
       "      <td>Multivariate</td>\n",
       "      <td>Classification (Binary)</td>\n",
       "      <td>deposit</td>\n",
       "      <td>NaN</td>\n",
       "      <td>45211</td>\n",
       "      <td>17</td>\n",
       "      <td>N</td>\n",
       "    </tr>\n",
       "    <tr>\n",
       "      <th>4</th>\n",
       "      <td>blood</td>\n",
       "      <td>Multivariate</td>\n",
       "      <td>Classification (Binary)</td>\n",
       "      <td>Class</td>\n",
       "      <td>NaN</td>\n",
       "      <td>748</td>\n",
       "      <td>5</td>\n",
       "      <td>N</td>\n",
       "    </tr>\n",
       "    <tr>\n",
       "      <th>5</th>\n",
       "      <td>cancer</td>\n",
       "      <td>Multivariate</td>\n",
       "      <td>Classification (Binary)</td>\n",
       "      <td>Class</td>\n",
       "      <td>NaN</td>\n",
       "      <td>683</td>\n",
       "      <td>10</td>\n",
       "      <td>N</td>\n",
       "    </tr>\n",
       "    <tr>\n",
       "      <th>6</th>\n",
       "      <td>credit</td>\n",
       "      <td>Multivariate</td>\n",
       "      <td>Classification (Binary)</td>\n",
       "      <td>default</td>\n",
       "      <td>NaN</td>\n",
       "      <td>24000</td>\n",
       "      <td>24</td>\n",
       "      <td>N</td>\n",
       "    </tr>\n",
       "    <tr>\n",
       "      <th>7</th>\n",
       "      <td>diabetes</td>\n",
       "      <td>Multivariate</td>\n",
       "      <td>Classification (Binary)</td>\n",
       "      <td>Class variable</td>\n",
       "      <td>NaN</td>\n",
       "      <td>768</td>\n",
       "      <td>9</td>\n",
       "      <td>N</td>\n",
       "    </tr>\n",
       "    <tr>\n",
       "      <th>8</th>\n",
       "      <td>electrical_grid</td>\n",
       "      <td>Multivariate</td>\n",
       "      <td>Classification (Binary)</td>\n",
       "      <td>stabf</td>\n",
       "      <td>NaN</td>\n",
       "      <td>10000</td>\n",
       "      <td>14</td>\n",
       "      <td>N</td>\n",
       "    </tr>\n",
       "    <tr>\n",
       "      <th>9</th>\n",
       "      <td>employee</td>\n",
       "      <td>Multivariate</td>\n",
       "      <td>Classification (Binary)</td>\n",
       "      <td>left</td>\n",
       "      <td>NaN</td>\n",
       "      <td>14999</td>\n",
       "      <td>10</td>\n",
       "      <td>N</td>\n",
       "    </tr>\n",
       "    <tr>\n",
       "      <th>10</th>\n",
       "      <td>heart</td>\n",
       "      <td>Multivariate</td>\n",
       "      <td>Classification (Binary)</td>\n",
       "      <td>DEATH</td>\n",
       "      <td>NaN</td>\n",
       "      <td>200</td>\n",
       "      <td>16</td>\n",
       "      <td>N</td>\n",
       "    </tr>\n",
       "    <tr>\n",
       "      <th>11</th>\n",
       "      <td>heart_disease</td>\n",
       "      <td>Multivariate</td>\n",
       "      <td>Classification (Binary)</td>\n",
       "      <td>Disease</td>\n",
       "      <td>NaN</td>\n",
       "      <td>270</td>\n",
       "      <td>14</td>\n",
       "      <td>N</td>\n",
       "    </tr>\n",
       "    <tr>\n",
       "      <th>12</th>\n",
       "      <td>hepatitis</td>\n",
       "      <td>Multivariate</td>\n",
       "      <td>Classification (Binary)</td>\n",
       "      <td>Class</td>\n",
       "      <td>NaN</td>\n",
       "      <td>154</td>\n",
       "      <td>32</td>\n",
       "      <td>Y</td>\n",
       "    </tr>\n",
       "    <tr>\n",
       "      <th>13</th>\n",
       "      <td>income</td>\n",
       "      <td>Multivariate</td>\n",
       "      <td>Classification (Binary)</td>\n",
       "      <td>income &gt;50K</td>\n",
       "      <td>NaN</td>\n",
       "      <td>32561</td>\n",
       "      <td>14</td>\n",
       "      <td>Y</td>\n",
       "    </tr>\n",
       "    <tr>\n",
       "      <th>14</th>\n",
       "      <td>juice</td>\n",
       "      <td>Multivariate</td>\n",
       "      <td>Classification (Binary)</td>\n",
       "      <td>Purchase</td>\n",
       "      <td>NaN</td>\n",
       "      <td>1070</td>\n",
       "      <td>15</td>\n",
       "      <td>N</td>\n",
       "    </tr>\n",
       "    <tr>\n",
       "      <th>15</th>\n",
       "      <td>nba</td>\n",
       "      <td>Multivariate</td>\n",
       "      <td>Classification (Binary)</td>\n",
       "      <td>TARGET_5Yrs</td>\n",
       "      <td>NaN</td>\n",
       "      <td>1340</td>\n",
       "      <td>21</td>\n",
       "      <td>N</td>\n",
       "    </tr>\n",
       "    <tr>\n",
       "      <th>16</th>\n",
       "      <td>wine</td>\n",
       "      <td>Multivariate</td>\n",
       "      <td>Classification (Binary)</td>\n",
       "      <td>type</td>\n",
       "      <td>NaN</td>\n",
       "      <td>6498</td>\n",
       "      <td>13</td>\n",
       "      <td>N</td>\n",
       "    </tr>\n",
       "    <tr>\n",
       "      <th>17</th>\n",
       "      <td>telescope</td>\n",
       "      <td>Multivariate</td>\n",
       "      <td>Classification (Binary)</td>\n",
       "      <td>Class</td>\n",
       "      <td>NaN</td>\n",
       "      <td>19020</td>\n",
       "      <td>11</td>\n",
       "      <td>N</td>\n",
       "    </tr>\n",
       "    <tr>\n",
       "      <th>18</th>\n",
       "      <td>titanic</td>\n",
       "      <td>Multivariate</td>\n",
       "      <td>Classification (Binary)</td>\n",
       "      <td>Survived</td>\n",
       "      <td>NaN</td>\n",
       "      <td>891</td>\n",
       "      <td>11</td>\n",
       "      <td>Y</td>\n",
       "    </tr>\n",
       "    <tr>\n",
       "      <th>19</th>\n",
       "      <td>us_presidential_election_results</td>\n",
       "      <td>Multivariate</td>\n",
       "      <td>Classification (Binary)</td>\n",
       "      <td>party_winner</td>\n",
       "      <td>NaN</td>\n",
       "      <td>497</td>\n",
       "      <td>7</td>\n",
       "      <td>N</td>\n",
       "    </tr>\n",
       "    <tr>\n",
       "      <th>20</th>\n",
       "      <td>glass</td>\n",
       "      <td>Multivariate</td>\n",
       "      <td>Classification (Multiclass)</td>\n",
       "      <td>Type</td>\n",
       "      <td>NaN</td>\n",
       "      <td>214</td>\n",
       "      <td>10</td>\n",
       "      <td>N</td>\n",
       "    </tr>\n",
       "    <tr>\n",
       "      <th>21</th>\n",
       "      <td>iris</td>\n",
       "      <td>Multivariate</td>\n",
       "      <td>Classification (Multiclass)</td>\n",
       "      <td>species</td>\n",
       "      <td>NaN</td>\n",
       "      <td>150</td>\n",
       "      <td>5</td>\n",
       "      <td>N</td>\n",
       "    </tr>\n",
       "    <tr>\n",
       "      <th>22</th>\n",
       "      <td>poker</td>\n",
       "      <td>Multivariate</td>\n",
       "      <td>Classification (Multiclass)</td>\n",
       "      <td>CLASS</td>\n",
       "      <td>NaN</td>\n",
       "      <td>100000</td>\n",
       "      <td>11</td>\n",
       "      <td>N</td>\n",
       "    </tr>\n",
       "    <tr>\n",
       "      <th>23</th>\n",
       "      <td>questions</td>\n",
       "      <td>Multivariate</td>\n",
       "      <td>Classification (Multiclass)</td>\n",
       "      <td>Next_Question</td>\n",
       "      <td>NaN</td>\n",
       "      <td>499</td>\n",
       "      <td>4</td>\n",
       "      <td>N</td>\n",
       "    </tr>\n",
       "    <tr>\n",
       "      <th>24</th>\n",
       "      <td>satellite</td>\n",
       "      <td>Multivariate</td>\n",
       "      <td>Classification (Multiclass)</td>\n",
       "      <td>Class</td>\n",
       "      <td>NaN</td>\n",
       "      <td>6435</td>\n",
       "      <td>37</td>\n",
       "      <td>N</td>\n",
       "    </tr>\n",
       "    <tr>\n",
       "      <th>25</th>\n",
       "      <td>CTG</td>\n",
       "      <td>Multivariate</td>\n",
       "      <td>Classification (Multiclass)</td>\n",
       "      <td>NSP</td>\n",
       "      <td>NaN</td>\n",
       "      <td>2129</td>\n",
       "      <td>40</td>\n",
       "      <td>Y</td>\n",
       "    </tr>\n",
       "    <tr>\n",
       "      <th>26</th>\n",
       "      <td>asia_gdp</td>\n",
       "      <td>Multivariate</td>\n",
       "      <td>Clustering</td>\n",
       "      <td>NaN</td>\n",
       "      <td>NaN</td>\n",
       "      <td>40</td>\n",
       "      <td>11</td>\n",
       "      <td>N</td>\n",
       "    </tr>\n",
       "    <tr>\n",
       "      <th>27</th>\n",
       "      <td>elections</td>\n",
       "      <td>Multivariate</td>\n",
       "      <td>Clustering</td>\n",
       "      <td>NaN</td>\n",
       "      <td>NaN</td>\n",
       "      <td>3195</td>\n",
       "      <td>54</td>\n",
       "      <td>Y</td>\n",
       "    </tr>\n",
       "    <tr>\n",
       "      <th>28</th>\n",
       "      <td>facebook</td>\n",
       "      <td>Multivariate</td>\n",
       "      <td>Clustering</td>\n",
       "      <td>NaN</td>\n",
       "      <td>NaN</td>\n",
       "      <td>7050</td>\n",
       "      <td>12</td>\n",
       "      <td>N</td>\n",
       "    </tr>\n",
       "    <tr>\n",
       "      <th>29</th>\n",
       "      <td>ipl</td>\n",
       "      <td>Multivariate</td>\n",
       "      <td>Clustering</td>\n",
       "      <td>NaN</td>\n",
       "      <td>NaN</td>\n",
       "      <td>153</td>\n",
       "      <td>25</td>\n",
       "      <td>N</td>\n",
       "    </tr>\n",
       "    <tr>\n",
       "      <th>30</th>\n",
       "      <td>jewellery</td>\n",
       "      <td>Multivariate</td>\n",
       "      <td>Clustering</td>\n",
       "      <td>NaN</td>\n",
       "      <td>NaN</td>\n",
       "      <td>505</td>\n",
       "      <td>4</td>\n",
       "      <td>N</td>\n",
       "    </tr>\n",
       "    <tr>\n",
       "      <th>31</th>\n",
       "      <td>mice</td>\n",
       "      <td>Multivariate</td>\n",
       "      <td>Clustering</td>\n",
       "      <td>NaN</td>\n",
       "      <td>NaN</td>\n",
       "      <td>1080</td>\n",
       "      <td>82</td>\n",
       "      <td>Y</td>\n",
       "    </tr>\n",
       "    <tr>\n",
       "      <th>32</th>\n",
       "      <td>migration</td>\n",
       "      <td>Multivariate</td>\n",
       "      <td>Clustering</td>\n",
       "      <td>NaN</td>\n",
       "      <td>NaN</td>\n",
       "      <td>233</td>\n",
       "      <td>12</td>\n",
       "      <td>N</td>\n",
       "    </tr>\n",
       "    <tr>\n",
       "      <th>33</th>\n",
       "      <td>perfume</td>\n",
       "      <td>Multivariate</td>\n",
       "      <td>Clustering</td>\n",
       "      <td>NaN</td>\n",
       "      <td>NaN</td>\n",
       "      <td>20</td>\n",
       "      <td>29</td>\n",
       "      <td>N</td>\n",
       "    </tr>\n",
       "    <tr>\n",
       "      <th>34</th>\n",
       "      <td>pokemon</td>\n",
       "      <td>Multivariate</td>\n",
       "      <td>Clustering</td>\n",
       "      <td>NaN</td>\n",
       "      <td>NaN</td>\n",
       "      <td>800</td>\n",
       "      <td>13</td>\n",
       "      <td>Y</td>\n",
       "    </tr>\n",
       "    <tr>\n",
       "      <th>35</th>\n",
       "      <td>population</td>\n",
       "      <td>Multivariate</td>\n",
       "      <td>Clustering</td>\n",
       "      <td>NaN</td>\n",
       "      <td>NaN</td>\n",
       "      <td>255</td>\n",
       "      <td>56</td>\n",
       "      <td>Y</td>\n",
       "    </tr>\n",
       "    <tr>\n",
       "      <th>36</th>\n",
       "      <td>public_health</td>\n",
       "      <td>Multivariate</td>\n",
       "      <td>Clustering</td>\n",
       "      <td>NaN</td>\n",
       "      <td>NaN</td>\n",
       "      <td>224</td>\n",
       "      <td>21</td>\n",
       "      <td>N</td>\n",
       "    </tr>\n",
       "    <tr>\n",
       "      <th>37</th>\n",
       "      <td>seeds</td>\n",
       "      <td>Multivariate</td>\n",
       "      <td>Clustering</td>\n",
       "      <td>NaN</td>\n",
       "      <td>NaN</td>\n",
       "      <td>210</td>\n",
       "      <td>7</td>\n",
       "      <td>N</td>\n",
       "    </tr>\n",
       "    <tr>\n",
       "      <th>38</th>\n",
       "      <td>wholesale</td>\n",
       "      <td>Multivariate</td>\n",
       "      <td>Clustering</td>\n",
       "      <td>NaN</td>\n",
       "      <td>NaN</td>\n",
       "      <td>440</td>\n",
       "      <td>8</td>\n",
       "      <td>N</td>\n",
       "    </tr>\n",
       "    <tr>\n",
       "      <th>39</th>\n",
       "      <td>tweets</td>\n",
       "      <td>Text</td>\n",
       "      <td>NLP</td>\n",
       "      <td>tweet</td>\n",
       "      <td>NaN</td>\n",
       "      <td>8594</td>\n",
       "      <td>2</td>\n",
       "      <td>N</td>\n",
       "    </tr>\n",
       "    <tr>\n",
       "      <th>40</th>\n",
       "      <td>amazon</td>\n",
       "      <td>Text</td>\n",
       "      <td>NLP / Classification</td>\n",
       "      <td>reviewText</td>\n",
       "      <td>NaN</td>\n",
       "      <td>20000</td>\n",
       "      <td>2</td>\n",
       "      <td>N</td>\n",
       "    </tr>\n",
       "    <tr>\n",
       "      <th>41</th>\n",
       "      <td>kiva</td>\n",
       "      <td>Text</td>\n",
       "      <td>NLP / Classification</td>\n",
       "      <td>en</td>\n",
       "      <td>NaN</td>\n",
       "      <td>6818</td>\n",
       "      <td>7</td>\n",
       "      <td>N</td>\n",
       "    </tr>\n",
       "    <tr>\n",
       "      <th>42</th>\n",
       "      <td>spx</td>\n",
       "      <td>Text</td>\n",
       "      <td>NLP / Regression</td>\n",
       "      <td>text</td>\n",
       "      <td>NaN</td>\n",
       "      <td>874</td>\n",
       "      <td>4</td>\n",
       "      <td>N</td>\n",
       "    </tr>\n",
       "    <tr>\n",
       "      <th>43</th>\n",
       "      <td>wikipedia</td>\n",
       "      <td>Text</td>\n",
       "      <td>NLP / Classification</td>\n",
       "      <td>Text</td>\n",
       "      <td>NaN</td>\n",
       "      <td>500</td>\n",
       "      <td>3</td>\n",
       "      <td>N</td>\n",
       "    </tr>\n",
       "    <tr>\n",
       "      <th>44</th>\n",
       "      <td>automobile</td>\n",
       "      <td>Multivariate</td>\n",
       "      <td>Regression</td>\n",
       "      <td>price</td>\n",
       "      <td>NaN</td>\n",
       "      <td>202</td>\n",
       "      <td>26</td>\n",
       "      <td>Y</td>\n",
       "    </tr>\n",
       "    <tr>\n",
       "      <th>45</th>\n",
       "      <td>bike</td>\n",
       "      <td>Multivariate</td>\n",
       "      <td>Regression</td>\n",
       "      <td>cnt</td>\n",
       "      <td>NaN</td>\n",
       "      <td>17379</td>\n",
       "      <td>15</td>\n",
       "      <td>N</td>\n",
       "    </tr>\n",
       "    <tr>\n",
       "      <th>46</th>\n",
       "      <td>boston</td>\n",
       "      <td>Multivariate</td>\n",
       "      <td>Regression</td>\n",
       "      <td>medv</td>\n",
       "      <td>NaN</td>\n",
       "      <td>506</td>\n",
       "      <td>14</td>\n",
       "      <td>N</td>\n",
       "    </tr>\n",
       "    <tr>\n",
       "      <th>47</th>\n",
       "      <td>concrete</td>\n",
       "      <td>Multivariate</td>\n",
       "      <td>Regression</td>\n",
       "      <td>strength</td>\n",
       "      <td>NaN</td>\n",
       "      <td>1030</td>\n",
       "      <td>9</td>\n",
       "      <td>N</td>\n",
       "    </tr>\n",
       "    <tr>\n",
       "      <th>48</th>\n",
       "      <td>diamond</td>\n",
       "      <td>Multivariate</td>\n",
       "      <td>Regression</td>\n",
       "      <td>Price</td>\n",
       "      <td>NaN</td>\n",
       "      <td>6000</td>\n",
       "      <td>8</td>\n",
       "      <td>N</td>\n",
       "    </tr>\n",
       "    <tr>\n",
       "      <th>49</th>\n",
       "      <td>energy</td>\n",
       "      <td>Multivariate</td>\n",
       "      <td>Regression</td>\n",
       "      <td>Heating Load</td>\n",
       "      <td>Cooling Load</td>\n",
       "      <td>768</td>\n",
       "      <td>10</td>\n",
       "      <td>N</td>\n",
       "    </tr>\n",
       "    <tr>\n",
       "      <th>50</th>\n",
       "      <td>forest</td>\n",
       "      <td>Multivariate</td>\n",
       "      <td>Regression</td>\n",
       "      <td>area</td>\n",
       "      <td>NaN</td>\n",
       "      <td>517</td>\n",
       "      <td>13</td>\n",
       "      <td>N</td>\n",
       "    </tr>\n",
       "    <tr>\n",
       "      <th>51</th>\n",
       "      <td>gold</td>\n",
       "      <td>Multivariate</td>\n",
       "      <td>Regression</td>\n",
       "      <td>Gold_T+22</td>\n",
       "      <td>NaN</td>\n",
       "      <td>2558</td>\n",
       "      <td>121</td>\n",
       "      <td>N</td>\n",
       "    </tr>\n",
       "    <tr>\n",
       "      <th>52</th>\n",
       "      <td>house</td>\n",
       "      <td>Multivariate</td>\n",
       "      <td>Regression</td>\n",
       "      <td>SalePrice</td>\n",
       "      <td>NaN</td>\n",
       "      <td>1461</td>\n",
       "      <td>81</td>\n",
       "      <td>Y</td>\n",
       "    </tr>\n",
       "    <tr>\n",
       "      <th>53</th>\n",
       "      <td>insurance</td>\n",
       "      <td>Multivariate</td>\n",
       "      <td>Regression</td>\n",
       "      <td>charges</td>\n",
       "      <td>NaN</td>\n",
       "      <td>1338</td>\n",
       "      <td>7</td>\n",
       "      <td>N</td>\n",
       "    </tr>\n",
       "    <tr>\n",
       "      <th>54</th>\n",
       "      <td>parkinsons</td>\n",
       "      <td>Multivariate</td>\n",
       "      <td>Regression</td>\n",
       "      <td>PPE</td>\n",
       "      <td>NaN</td>\n",
       "      <td>5875</td>\n",
       "      <td>22</td>\n",
       "      <td>N</td>\n",
       "    </tr>\n",
       "    <tr>\n",
       "      <th>55</th>\n",
       "      <td>traffic</td>\n",
       "      <td>Multivariate</td>\n",
       "      <td>Regression</td>\n",
       "      <td>traffic_volume</td>\n",
       "      <td>NaN</td>\n",
       "      <td>48204</td>\n",
       "      <td>8</td>\n",
       "      <td>N</td>\n",
       "    </tr>\n",
       "  </tbody>\n",
       "</table>\n",
       "</div>"
      ],
      "text/plain": [
       "                             Dataset    Data Types  \\\n",
       "0                            anomaly  Multivariate   \n",
       "1                             france  Multivariate   \n",
       "2                            germany  Multivariate   \n",
       "3                               bank  Multivariate   \n",
       "4                              blood  Multivariate   \n",
       "5                             cancer  Multivariate   \n",
       "6                             credit  Multivariate   \n",
       "7                           diabetes  Multivariate   \n",
       "8                    electrical_grid  Multivariate   \n",
       "9                           employee  Multivariate   \n",
       "10                             heart  Multivariate   \n",
       "11                     heart_disease  Multivariate   \n",
       "12                         hepatitis  Multivariate   \n",
       "13                            income  Multivariate   \n",
       "14                             juice  Multivariate   \n",
       "15                               nba  Multivariate   \n",
       "16                              wine  Multivariate   \n",
       "17                         telescope  Multivariate   \n",
       "18                           titanic  Multivariate   \n",
       "19  us_presidential_election_results  Multivariate   \n",
       "20                             glass  Multivariate   \n",
       "21                              iris  Multivariate   \n",
       "22                             poker  Multivariate   \n",
       "23                         questions  Multivariate   \n",
       "24                         satellite  Multivariate   \n",
       "25                               CTG  Multivariate   \n",
       "26                          asia_gdp  Multivariate   \n",
       "27                         elections  Multivariate   \n",
       "28                          facebook  Multivariate   \n",
       "29                               ipl  Multivariate   \n",
       "30                         jewellery  Multivariate   \n",
       "31                              mice  Multivariate   \n",
       "32                         migration  Multivariate   \n",
       "33                           perfume  Multivariate   \n",
       "34                           pokemon  Multivariate   \n",
       "35                        population  Multivariate   \n",
       "36                     public_health  Multivariate   \n",
       "37                             seeds  Multivariate   \n",
       "38                         wholesale  Multivariate   \n",
       "39                            tweets          Text   \n",
       "40                            amazon          Text   \n",
       "41                              kiva          Text   \n",
       "42                               spx          Text   \n",
       "43                         wikipedia          Text   \n",
       "44                        automobile  Multivariate   \n",
       "45                              bike  Multivariate   \n",
       "46                            boston  Multivariate   \n",
       "47                          concrete  Multivariate   \n",
       "48                           diamond  Multivariate   \n",
       "49                            energy  Multivariate   \n",
       "50                            forest  Multivariate   \n",
       "51                              gold  Multivariate   \n",
       "52                             house  Multivariate   \n",
       "53                         insurance  Multivariate   \n",
       "54                        parkinsons  Multivariate   \n",
       "55                           traffic  Multivariate   \n",
       "\n",
       "                   Default Task Target Variable 1 Target Variable 2  \\\n",
       "0             Anomaly Detection               NaN               NaN   \n",
       "1       Association Rule Mining         InvoiceNo       Description   \n",
       "2       Association Rule Mining         InvoiceNo       Description   \n",
       "3       Classification (Binary)           deposit               NaN   \n",
       "4       Classification (Binary)             Class               NaN   \n",
       "5       Classification (Binary)             Class               NaN   \n",
       "6       Classification (Binary)           default               NaN   \n",
       "7       Classification (Binary)    Class variable               NaN   \n",
       "8       Classification (Binary)             stabf               NaN   \n",
       "9       Classification (Binary)              left               NaN   \n",
       "10      Classification (Binary)             DEATH               NaN   \n",
       "11      Classification (Binary)           Disease               NaN   \n",
       "12      Classification (Binary)             Class               NaN   \n",
       "13      Classification (Binary)       income >50K               NaN   \n",
       "14      Classification (Binary)          Purchase               NaN   \n",
       "15      Classification (Binary)       TARGET_5Yrs               NaN   \n",
       "16      Classification (Binary)              type               NaN   \n",
       "17      Classification (Binary)             Class               NaN   \n",
       "18      Classification (Binary)          Survived               NaN   \n",
       "19      Classification (Binary)      party_winner               NaN   \n",
       "20  Classification (Multiclass)              Type               NaN   \n",
       "21  Classification (Multiclass)           species               NaN   \n",
       "22  Classification (Multiclass)             CLASS               NaN   \n",
       "23  Classification (Multiclass)     Next_Question               NaN   \n",
       "24  Classification (Multiclass)             Class               NaN   \n",
       "25  Classification (Multiclass)               NSP               NaN   \n",
       "26                   Clustering               NaN               NaN   \n",
       "27                   Clustering               NaN               NaN   \n",
       "28                   Clustering               NaN               NaN   \n",
       "29                   Clustering               NaN               NaN   \n",
       "30                   Clustering               NaN               NaN   \n",
       "31                   Clustering               NaN               NaN   \n",
       "32                   Clustering               NaN               NaN   \n",
       "33                   Clustering               NaN               NaN   \n",
       "34                   Clustering               NaN               NaN   \n",
       "35                   Clustering               NaN               NaN   \n",
       "36                   Clustering               NaN               NaN   \n",
       "37                   Clustering               NaN               NaN   \n",
       "38                   Clustering               NaN               NaN   \n",
       "39                          NLP             tweet               NaN   \n",
       "40         NLP / Classification        reviewText               NaN   \n",
       "41         NLP / Classification                en               NaN   \n",
       "42             NLP / Regression              text               NaN   \n",
       "43         NLP / Classification              Text               NaN   \n",
       "44                   Regression             price               NaN   \n",
       "45                   Regression               cnt               NaN   \n",
       "46                   Regression              medv               NaN   \n",
       "47                   Regression          strength               NaN   \n",
       "48                   Regression             Price               NaN   \n",
       "49                   Regression      Heating Load      Cooling Load   \n",
       "50                   Regression              area               NaN   \n",
       "51                   Regression         Gold_T+22               NaN   \n",
       "52                   Regression         SalePrice               NaN   \n",
       "53                   Regression           charges               NaN   \n",
       "54                   Regression               PPE               NaN   \n",
       "55                   Regression    traffic_volume               NaN   \n",
       "\n",
       "    # Instances  # Attributes Missing Values  \n",
       "0          1000            10              N  \n",
       "1          8557             8              N  \n",
       "2          9495             8              N  \n",
       "3         45211            17              N  \n",
       "4           748             5              N  \n",
       "5           683            10              N  \n",
       "6         24000            24              N  \n",
       "7           768             9              N  \n",
       "8         10000            14              N  \n",
       "9         14999            10              N  \n",
       "10          200            16              N  \n",
       "11          270            14              N  \n",
       "12          154            32              Y  \n",
       "13        32561            14              Y  \n",
       "14         1070            15              N  \n",
       "15         1340            21              N  \n",
       "16         6498            13              N  \n",
       "17        19020            11              N  \n",
       "18          891            11              Y  \n",
       "19          497             7              N  \n",
       "20          214            10              N  \n",
       "21          150             5              N  \n",
       "22       100000            11              N  \n",
       "23          499             4              N  \n",
       "24         6435            37              N  \n",
       "25         2129            40              Y  \n",
       "26           40            11              N  \n",
       "27         3195            54              Y  \n",
       "28         7050            12              N  \n",
       "29          153            25              N  \n",
       "30          505             4              N  \n",
       "31         1080            82              Y  \n",
       "32          233            12              N  \n",
       "33           20            29              N  \n",
       "34          800            13              Y  \n",
       "35          255            56              Y  \n",
       "36          224            21              N  \n",
       "37          210             7              N  \n",
       "38          440             8              N  \n",
       "39         8594             2              N  \n",
       "40        20000             2              N  \n",
       "41         6818             7              N  \n",
       "42          874             4              N  \n",
       "43          500             3              N  \n",
       "44          202            26              Y  \n",
       "45        17379            15              N  \n",
       "46          506            14              N  \n",
       "47         1030             9              N  \n",
       "48         6000             8              N  \n",
       "49          768            10              N  \n",
       "50          517            13              N  \n",
       "51         2558           121              N  \n",
       "52         1461            81              Y  \n",
       "53         1338             7              N  \n",
       "54         5875            22              N  \n",
       "55        48204             8              N  "
      ]
     },
     "metadata": {},
     "output_type": "display_data"
    },
    {
     "data": {
      "text/html": [
       "<div>\n",
       "<style scoped>\n",
       "    .dataframe tbody tr th:only-of-type {\n",
       "        vertical-align: middle;\n",
       "    }\n",
       "\n",
       "    .dataframe tbody tr th {\n",
       "        vertical-align: top;\n",
       "    }\n",
       "\n",
       "    .dataframe thead th {\n",
       "        text-align: right;\n",
       "    }\n",
       "</style>\n",
       "<table border=\"1\" class=\"dataframe\">\n",
       "  <thead>\n",
       "    <tr style=\"text-align: right;\">\n",
       "      <th></th>\n",
       "      <th>Dataset</th>\n",
       "      <th>Data Types</th>\n",
       "      <th>Default Task</th>\n",
       "      <th>Target Variable 1</th>\n",
       "      <th>Target Variable 2</th>\n",
       "      <th># Instances</th>\n",
       "      <th># Attributes</th>\n",
       "      <th>Missing Values</th>\n",
       "    </tr>\n",
       "  </thead>\n",
       "  <tbody>\n",
       "    <tr>\n",
       "      <th>0</th>\n",
       "      <td>anomaly</td>\n",
       "      <td>Multivariate</td>\n",
       "      <td>Anomaly Detection</td>\n",
       "      <td>NaN</td>\n",
       "      <td>NaN</td>\n",
       "      <td>1000</td>\n",
       "      <td>10</td>\n",
       "      <td>N</td>\n",
       "    </tr>\n",
       "    <tr>\n",
       "      <th>1</th>\n",
       "      <td>france</td>\n",
       "      <td>Multivariate</td>\n",
       "      <td>Association Rule Mining</td>\n",
       "      <td>InvoiceNo</td>\n",
       "      <td>Description</td>\n",
       "      <td>8557</td>\n",
       "      <td>8</td>\n",
       "      <td>N</td>\n",
       "    </tr>\n",
       "    <tr>\n",
       "      <th>2</th>\n",
       "      <td>germany</td>\n",
       "      <td>Multivariate</td>\n",
       "      <td>Association Rule Mining</td>\n",
       "      <td>InvoiceNo</td>\n",
       "      <td>Description</td>\n",
       "      <td>9495</td>\n",
       "      <td>8</td>\n",
       "      <td>N</td>\n",
       "    </tr>\n",
       "    <tr>\n",
       "      <th>3</th>\n",
       "      <td>bank</td>\n",
       "      <td>Multivariate</td>\n",
       "      <td>Classification (Binary)</td>\n",
       "      <td>deposit</td>\n",
       "      <td>NaN</td>\n",
       "      <td>45211</td>\n",
       "      <td>17</td>\n",
       "      <td>N</td>\n",
       "    </tr>\n",
       "    <tr>\n",
       "      <th>4</th>\n",
       "      <td>blood</td>\n",
       "      <td>Multivariate</td>\n",
       "      <td>Classification (Binary)</td>\n",
       "      <td>Class</td>\n",
       "      <td>NaN</td>\n",
       "      <td>748</td>\n",
       "      <td>5</td>\n",
       "      <td>N</td>\n",
       "    </tr>\n",
       "    <tr>\n",
       "      <th>5</th>\n",
       "      <td>cancer</td>\n",
       "      <td>Multivariate</td>\n",
       "      <td>Classification (Binary)</td>\n",
       "      <td>Class</td>\n",
       "      <td>NaN</td>\n",
       "      <td>683</td>\n",
       "      <td>10</td>\n",
       "      <td>N</td>\n",
       "    </tr>\n",
       "    <tr>\n",
       "      <th>6</th>\n",
       "      <td>credit</td>\n",
       "      <td>Multivariate</td>\n",
       "      <td>Classification (Binary)</td>\n",
       "      <td>default</td>\n",
       "      <td>NaN</td>\n",
       "      <td>24000</td>\n",
       "      <td>24</td>\n",
       "      <td>N</td>\n",
       "    </tr>\n",
       "    <tr>\n",
       "      <th>7</th>\n",
       "      <td>diabetes</td>\n",
       "      <td>Multivariate</td>\n",
       "      <td>Classification (Binary)</td>\n",
       "      <td>Class variable</td>\n",
       "      <td>NaN</td>\n",
       "      <td>768</td>\n",
       "      <td>9</td>\n",
       "      <td>N</td>\n",
       "    </tr>\n",
       "    <tr>\n",
       "      <th>8</th>\n",
       "      <td>electrical_grid</td>\n",
       "      <td>Multivariate</td>\n",
       "      <td>Classification (Binary)</td>\n",
       "      <td>stabf</td>\n",
       "      <td>NaN</td>\n",
       "      <td>10000</td>\n",
       "      <td>14</td>\n",
       "      <td>N</td>\n",
       "    </tr>\n",
       "    <tr>\n",
       "      <th>9</th>\n",
       "      <td>employee</td>\n",
       "      <td>Multivariate</td>\n",
       "      <td>Classification (Binary)</td>\n",
       "      <td>left</td>\n",
       "      <td>NaN</td>\n",
       "      <td>14999</td>\n",
       "      <td>10</td>\n",
       "      <td>N</td>\n",
       "    </tr>\n",
       "    <tr>\n",
       "      <th>10</th>\n",
       "      <td>heart</td>\n",
       "      <td>Multivariate</td>\n",
       "      <td>Classification (Binary)</td>\n",
       "      <td>DEATH</td>\n",
       "      <td>NaN</td>\n",
       "      <td>200</td>\n",
       "      <td>16</td>\n",
       "      <td>N</td>\n",
       "    </tr>\n",
       "    <tr>\n",
       "      <th>11</th>\n",
       "      <td>heart_disease</td>\n",
       "      <td>Multivariate</td>\n",
       "      <td>Classification (Binary)</td>\n",
       "      <td>Disease</td>\n",
       "      <td>NaN</td>\n",
       "      <td>270</td>\n",
       "      <td>14</td>\n",
       "      <td>N</td>\n",
       "    </tr>\n",
       "    <tr>\n",
       "      <th>12</th>\n",
       "      <td>hepatitis</td>\n",
       "      <td>Multivariate</td>\n",
       "      <td>Classification (Binary)</td>\n",
       "      <td>Class</td>\n",
       "      <td>NaN</td>\n",
       "      <td>154</td>\n",
       "      <td>32</td>\n",
       "      <td>Y</td>\n",
       "    </tr>\n",
       "    <tr>\n",
       "      <th>13</th>\n",
       "      <td>income</td>\n",
       "      <td>Multivariate</td>\n",
       "      <td>Classification (Binary)</td>\n",
       "      <td>income &gt;50K</td>\n",
       "      <td>NaN</td>\n",
       "      <td>32561</td>\n",
       "      <td>14</td>\n",
       "      <td>Y</td>\n",
       "    </tr>\n",
       "    <tr>\n",
       "      <th>14</th>\n",
       "      <td>juice</td>\n",
       "      <td>Multivariate</td>\n",
       "      <td>Classification (Binary)</td>\n",
       "      <td>Purchase</td>\n",
       "      <td>NaN</td>\n",
       "      <td>1070</td>\n",
       "      <td>15</td>\n",
       "      <td>N</td>\n",
       "    </tr>\n",
       "    <tr>\n",
       "      <th>15</th>\n",
       "      <td>nba</td>\n",
       "      <td>Multivariate</td>\n",
       "      <td>Classification (Binary)</td>\n",
       "      <td>TARGET_5Yrs</td>\n",
       "      <td>NaN</td>\n",
       "      <td>1340</td>\n",
       "      <td>21</td>\n",
       "      <td>N</td>\n",
       "    </tr>\n",
       "    <tr>\n",
       "      <th>16</th>\n",
       "      <td>wine</td>\n",
       "      <td>Multivariate</td>\n",
       "      <td>Classification (Binary)</td>\n",
       "      <td>type</td>\n",
       "      <td>NaN</td>\n",
       "      <td>6498</td>\n",
       "      <td>13</td>\n",
       "      <td>N</td>\n",
       "    </tr>\n",
       "    <tr>\n",
       "      <th>17</th>\n",
       "      <td>telescope</td>\n",
       "      <td>Multivariate</td>\n",
       "      <td>Classification (Binary)</td>\n",
       "      <td>Class</td>\n",
       "      <td>NaN</td>\n",
       "      <td>19020</td>\n",
       "      <td>11</td>\n",
       "      <td>N</td>\n",
       "    </tr>\n",
       "    <tr>\n",
       "      <th>18</th>\n",
       "      <td>titanic</td>\n",
       "      <td>Multivariate</td>\n",
       "      <td>Classification (Binary)</td>\n",
       "      <td>Survived</td>\n",
       "      <td>NaN</td>\n",
       "      <td>891</td>\n",
       "      <td>11</td>\n",
       "      <td>Y</td>\n",
       "    </tr>\n",
       "    <tr>\n",
       "      <th>19</th>\n",
       "      <td>us_presidential_election_results</td>\n",
       "      <td>Multivariate</td>\n",
       "      <td>Classification (Binary)</td>\n",
       "      <td>party_winner</td>\n",
       "      <td>NaN</td>\n",
       "      <td>497</td>\n",
       "      <td>7</td>\n",
       "      <td>N</td>\n",
       "    </tr>\n",
       "    <tr>\n",
       "      <th>20</th>\n",
       "      <td>glass</td>\n",
       "      <td>Multivariate</td>\n",
       "      <td>Classification (Multiclass)</td>\n",
       "      <td>Type</td>\n",
       "      <td>NaN</td>\n",
       "      <td>214</td>\n",
       "      <td>10</td>\n",
       "      <td>N</td>\n",
       "    </tr>\n",
       "    <tr>\n",
       "      <th>21</th>\n",
       "      <td>iris</td>\n",
       "      <td>Multivariate</td>\n",
       "      <td>Classification (Multiclass)</td>\n",
       "      <td>species</td>\n",
       "      <td>NaN</td>\n",
       "      <td>150</td>\n",
       "      <td>5</td>\n",
       "      <td>N</td>\n",
       "    </tr>\n",
       "    <tr>\n",
       "      <th>22</th>\n",
       "      <td>poker</td>\n",
       "      <td>Multivariate</td>\n",
       "      <td>Classification (Multiclass)</td>\n",
       "      <td>CLASS</td>\n",
       "      <td>NaN</td>\n",
       "      <td>100000</td>\n",
       "      <td>11</td>\n",
       "      <td>N</td>\n",
       "    </tr>\n",
       "    <tr>\n",
       "      <th>23</th>\n",
       "      <td>questions</td>\n",
       "      <td>Multivariate</td>\n",
       "      <td>Classification (Multiclass)</td>\n",
       "      <td>Next_Question</td>\n",
       "      <td>NaN</td>\n",
       "      <td>499</td>\n",
       "      <td>4</td>\n",
       "      <td>N</td>\n",
       "    </tr>\n",
       "    <tr>\n",
       "      <th>24</th>\n",
       "      <td>satellite</td>\n",
       "      <td>Multivariate</td>\n",
       "      <td>Classification (Multiclass)</td>\n",
       "      <td>Class</td>\n",
       "      <td>NaN</td>\n",
       "      <td>6435</td>\n",
       "      <td>37</td>\n",
       "      <td>N</td>\n",
       "    </tr>\n",
       "    <tr>\n",
       "      <th>25</th>\n",
       "      <td>CTG</td>\n",
       "      <td>Multivariate</td>\n",
       "      <td>Classification (Multiclass)</td>\n",
       "      <td>NSP</td>\n",
       "      <td>NaN</td>\n",
       "      <td>2129</td>\n",
       "      <td>40</td>\n",
       "      <td>Y</td>\n",
       "    </tr>\n",
       "    <tr>\n",
       "      <th>26</th>\n",
       "      <td>asia_gdp</td>\n",
       "      <td>Multivariate</td>\n",
       "      <td>Clustering</td>\n",
       "      <td>NaN</td>\n",
       "      <td>NaN</td>\n",
       "      <td>40</td>\n",
       "      <td>11</td>\n",
       "      <td>N</td>\n",
       "    </tr>\n",
       "    <tr>\n",
       "      <th>27</th>\n",
       "      <td>elections</td>\n",
       "      <td>Multivariate</td>\n",
       "      <td>Clustering</td>\n",
       "      <td>NaN</td>\n",
       "      <td>NaN</td>\n",
       "      <td>3195</td>\n",
       "      <td>54</td>\n",
       "      <td>Y</td>\n",
       "    </tr>\n",
       "    <tr>\n",
       "      <th>28</th>\n",
       "      <td>facebook</td>\n",
       "      <td>Multivariate</td>\n",
       "      <td>Clustering</td>\n",
       "      <td>NaN</td>\n",
       "      <td>NaN</td>\n",
       "      <td>7050</td>\n",
       "      <td>12</td>\n",
       "      <td>N</td>\n",
       "    </tr>\n",
       "    <tr>\n",
       "      <th>29</th>\n",
       "      <td>ipl</td>\n",
       "      <td>Multivariate</td>\n",
       "      <td>Clustering</td>\n",
       "      <td>NaN</td>\n",
       "      <td>NaN</td>\n",
       "      <td>153</td>\n",
       "      <td>25</td>\n",
       "      <td>N</td>\n",
       "    </tr>\n",
       "    <tr>\n",
       "      <th>30</th>\n",
       "      <td>jewellery</td>\n",
       "      <td>Multivariate</td>\n",
       "      <td>Clustering</td>\n",
       "      <td>NaN</td>\n",
       "      <td>NaN</td>\n",
       "      <td>505</td>\n",
       "      <td>4</td>\n",
       "      <td>N</td>\n",
       "    </tr>\n",
       "    <tr>\n",
       "      <th>31</th>\n",
       "      <td>mice</td>\n",
       "      <td>Multivariate</td>\n",
       "      <td>Clustering</td>\n",
       "      <td>NaN</td>\n",
       "      <td>NaN</td>\n",
       "      <td>1080</td>\n",
       "      <td>82</td>\n",
       "      <td>Y</td>\n",
       "    </tr>\n",
       "    <tr>\n",
       "      <th>32</th>\n",
       "      <td>migration</td>\n",
       "      <td>Multivariate</td>\n",
       "      <td>Clustering</td>\n",
       "      <td>NaN</td>\n",
       "      <td>NaN</td>\n",
       "      <td>233</td>\n",
       "      <td>12</td>\n",
       "      <td>N</td>\n",
       "    </tr>\n",
       "    <tr>\n",
       "      <th>33</th>\n",
       "      <td>perfume</td>\n",
       "      <td>Multivariate</td>\n",
       "      <td>Clustering</td>\n",
       "      <td>NaN</td>\n",
       "      <td>NaN</td>\n",
       "      <td>20</td>\n",
       "      <td>29</td>\n",
       "      <td>N</td>\n",
       "    </tr>\n",
       "    <tr>\n",
       "      <th>34</th>\n",
       "      <td>pokemon</td>\n",
       "      <td>Multivariate</td>\n",
       "      <td>Clustering</td>\n",
       "      <td>NaN</td>\n",
       "      <td>NaN</td>\n",
       "      <td>800</td>\n",
       "      <td>13</td>\n",
       "      <td>Y</td>\n",
       "    </tr>\n",
       "    <tr>\n",
       "      <th>35</th>\n",
       "      <td>population</td>\n",
       "      <td>Multivariate</td>\n",
       "      <td>Clustering</td>\n",
       "      <td>NaN</td>\n",
       "      <td>NaN</td>\n",
       "      <td>255</td>\n",
       "      <td>56</td>\n",
       "      <td>Y</td>\n",
       "    </tr>\n",
       "    <tr>\n",
       "      <th>36</th>\n",
       "      <td>public_health</td>\n",
       "      <td>Multivariate</td>\n",
       "      <td>Clustering</td>\n",
       "      <td>NaN</td>\n",
       "      <td>NaN</td>\n",
       "      <td>224</td>\n",
       "      <td>21</td>\n",
       "      <td>N</td>\n",
       "    </tr>\n",
       "    <tr>\n",
       "      <th>37</th>\n",
       "      <td>seeds</td>\n",
       "      <td>Multivariate</td>\n",
       "      <td>Clustering</td>\n",
       "      <td>NaN</td>\n",
       "      <td>NaN</td>\n",
       "      <td>210</td>\n",
       "      <td>7</td>\n",
       "      <td>N</td>\n",
       "    </tr>\n",
       "    <tr>\n",
       "      <th>38</th>\n",
       "      <td>wholesale</td>\n",
       "      <td>Multivariate</td>\n",
       "      <td>Clustering</td>\n",
       "      <td>NaN</td>\n",
       "      <td>NaN</td>\n",
       "      <td>440</td>\n",
       "      <td>8</td>\n",
       "      <td>N</td>\n",
       "    </tr>\n",
       "    <tr>\n",
       "      <th>39</th>\n",
       "      <td>tweets</td>\n",
       "      <td>Text</td>\n",
       "      <td>NLP</td>\n",
       "      <td>tweet</td>\n",
       "      <td>NaN</td>\n",
       "      <td>8594</td>\n",
       "      <td>2</td>\n",
       "      <td>N</td>\n",
       "    </tr>\n",
       "    <tr>\n",
       "      <th>40</th>\n",
       "      <td>amazon</td>\n",
       "      <td>Text</td>\n",
       "      <td>NLP / Classification</td>\n",
       "      <td>reviewText</td>\n",
       "      <td>NaN</td>\n",
       "      <td>20000</td>\n",
       "      <td>2</td>\n",
       "      <td>N</td>\n",
       "    </tr>\n",
       "    <tr>\n",
       "      <th>41</th>\n",
       "      <td>kiva</td>\n",
       "      <td>Text</td>\n",
       "      <td>NLP / Classification</td>\n",
       "      <td>en</td>\n",
       "      <td>NaN</td>\n",
       "      <td>6818</td>\n",
       "      <td>7</td>\n",
       "      <td>N</td>\n",
       "    </tr>\n",
       "    <tr>\n",
       "      <th>42</th>\n",
       "      <td>spx</td>\n",
       "      <td>Text</td>\n",
       "      <td>NLP / Regression</td>\n",
       "      <td>text</td>\n",
       "      <td>NaN</td>\n",
       "      <td>874</td>\n",
       "      <td>4</td>\n",
       "      <td>N</td>\n",
       "    </tr>\n",
       "    <tr>\n",
       "      <th>43</th>\n",
       "      <td>wikipedia</td>\n",
       "      <td>Text</td>\n",
       "      <td>NLP / Classification</td>\n",
       "      <td>Text</td>\n",
       "      <td>NaN</td>\n",
       "      <td>500</td>\n",
       "      <td>3</td>\n",
       "      <td>N</td>\n",
       "    </tr>\n",
       "    <tr>\n",
       "      <th>44</th>\n",
       "      <td>automobile</td>\n",
       "      <td>Multivariate</td>\n",
       "      <td>Regression</td>\n",
       "      <td>price</td>\n",
       "      <td>NaN</td>\n",
       "      <td>202</td>\n",
       "      <td>26</td>\n",
       "      <td>Y</td>\n",
       "    </tr>\n",
       "    <tr>\n",
       "      <th>45</th>\n",
       "      <td>bike</td>\n",
       "      <td>Multivariate</td>\n",
       "      <td>Regression</td>\n",
       "      <td>cnt</td>\n",
       "      <td>NaN</td>\n",
       "      <td>17379</td>\n",
       "      <td>15</td>\n",
       "      <td>N</td>\n",
       "    </tr>\n",
       "    <tr>\n",
       "      <th>46</th>\n",
       "      <td>boston</td>\n",
       "      <td>Multivariate</td>\n",
       "      <td>Regression</td>\n",
       "      <td>medv</td>\n",
       "      <td>NaN</td>\n",
       "      <td>506</td>\n",
       "      <td>14</td>\n",
       "      <td>N</td>\n",
       "    </tr>\n",
       "    <tr>\n",
       "      <th>47</th>\n",
       "      <td>concrete</td>\n",
       "      <td>Multivariate</td>\n",
       "      <td>Regression</td>\n",
       "      <td>strength</td>\n",
       "      <td>NaN</td>\n",
       "      <td>1030</td>\n",
       "      <td>9</td>\n",
       "      <td>N</td>\n",
       "    </tr>\n",
       "    <tr>\n",
       "      <th>48</th>\n",
       "      <td>diamond</td>\n",
       "      <td>Multivariate</td>\n",
       "      <td>Regression</td>\n",
       "      <td>Price</td>\n",
       "      <td>NaN</td>\n",
       "      <td>6000</td>\n",
       "      <td>8</td>\n",
       "      <td>N</td>\n",
       "    </tr>\n",
       "    <tr>\n",
       "      <th>49</th>\n",
       "      <td>energy</td>\n",
       "      <td>Multivariate</td>\n",
       "      <td>Regression</td>\n",
       "      <td>Heating Load</td>\n",
       "      <td>Cooling Load</td>\n",
       "      <td>768</td>\n",
       "      <td>10</td>\n",
       "      <td>N</td>\n",
       "    </tr>\n",
       "    <tr>\n",
       "      <th>50</th>\n",
       "      <td>forest</td>\n",
       "      <td>Multivariate</td>\n",
       "      <td>Regression</td>\n",
       "      <td>area</td>\n",
       "      <td>NaN</td>\n",
       "      <td>517</td>\n",
       "      <td>13</td>\n",
       "      <td>N</td>\n",
       "    </tr>\n",
       "    <tr>\n",
       "      <th>51</th>\n",
       "      <td>gold</td>\n",
       "      <td>Multivariate</td>\n",
       "      <td>Regression</td>\n",
       "      <td>Gold_T+22</td>\n",
       "      <td>NaN</td>\n",
       "      <td>2558</td>\n",
       "      <td>121</td>\n",
       "      <td>N</td>\n",
       "    </tr>\n",
       "    <tr>\n",
       "      <th>52</th>\n",
       "      <td>house</td>\n",
       "      <td>Multivariate</td>\n",
       "      <td>Regression</td>\n",
       "      <td>SalePrice</td>\n",
       "      <td>NaN</td>\n",
       "      <td>1461</td>\n",
       "      <td>81</td>\n",
       "      <td>Y</td>\n",
       "    </tr>\n",
       "    <tr>\n",
       "      <th>53</th>\n",
       "      <td>insurance</td>\n",
       "      <td>Multivariate</td>\n",
       "      <td>Regression</td>\n",
       "      <td>charges</td>\n",
       "      <td>NaN</td>\n",
       "      <td>1338</td>\n",
       "      <td>7</td>\n",
       "      <td>N</td>\n",
       "    </tr>\n",
       "    <tr>\n",
       "      <th>54</th>\n",
       "      <td>parkinsons</td>\n",
       "      <td>Multivariate</td>\n",
       "      <td>Regression</td>\n",
       "      <td>PPE</td>\n",
       "      <td>NaN</td>\n",
       "      <td>5875</td>\n",
       "      <td>22</td>\n",
       "      <td>N</td>\n",
       "    </tr>\n",
       "    <tr>\n",
       "      <th>55</th>\n",
       "      <td>traffic</td>\n",
       "      <td>Multivariate</td>\n",
       "      <td>Regression</td>\n",
       "      <td>traffic_volume</td>\n",
       "      <td>NaN</td>\n",
       "      <td>48204</td>\n",
       "      <td>8</td>\n",
       "      <td>N</td>\n",
       "    </tr>\n",
       "  </tbody>\n",
       "</table>\n",
       "</div>"
      ],
      "text/plain": [
       "                             Dataset    Data Types  \\\n",
       "0                            anomaly  Multivariate   \n",
       "1                             france  Multivariate   \n",
       "2                            germany  Multivariate   \n",
       "3                               bank  Multivariate   \n",
       "4                              blood  Multivariate   \n",
       "5                             cancer  Multivariate   \n",
       "6                             credit  Multivariate   \n",
       "7                           diabetes  Multivariate   \n",
       "8                    electrical_grid  Multivariate   \n",
       "9                           employee  Multivariate   \n",
       "10                             heart  Multivariate   \n",
       "11                     heart_disease  Multivariate   \n",
       "12                         hepatitis  Multivariate   \n",
       "13                            income  Multivariate   \n",
       "14                             juice  Multivariate   \n",
       "15                               nba  Multivariate   \n",
       "16                              wine  Multivariate   \n",
       "17                         telescope  Multivariate   \n",
       "18                           titanic  Multivariate   \n",
       "19  us_presidential_election_results  Multivariate   \n",
       "20                             glass  Multivariate   \n",
       "21                              iris  Multivariate   \n",
       "22                             poker  Multivariate   \n",
       "23                         questions  Multivariate   \n",
       "24                         satellite  Multivariate   \n",
       "25                               CTG  Multivariate   \n",
       "26                          asia_gdp  Multivariate   \n",
       "27                         elections  Multivariate   \n",
       "28                          facebook  Multivariate   \n",
       "29                               ipl  Multivariate   \n",
       "30                         jewellery  Multivariate   \n",
       "31                              mice  Multivariate   \n",
       "32                         migration  Multivariate   \n",
       "33                           perfume  Multivariate   \n",
       "34                           pokemon  Multivariate   \n",
       "35                        population  Multivariate   \n",
       "36                     public_health  Multivariate   \n",
       "37                             seeds  Multivariate   \n",
       "38                         wholesale  Multivariate   \n",
       "39                            tweets          Text   \n",
       "40                            amazon          Text   \n",
       "41                              kiva          Text   \n",
       "42                               spx          Text   \n",
       "43                         wikipedia          Text   \n",
       "44                        automobile  Multivariate   \n",
       "45                              bike  Multivariate   \n",
       "46                            boston  Multivariate   \n",
       "47                          concrete  Multivariate   \n",
       "48                           diamond  Multivariate   \n",
       "49                            energy  Multivariate   \n",
       "50                            forest  Multivariate   \n",
       "51                              gold  Multivariate   \n",
       "52                             house  Multivariate   \n",
       "53                         insurance  Multivariate   \n",
       "54                        parkinsons  Multivariate   \n",
       "55                           traffic  Multivariate   \n",
       "\n",
       "                   Default Task Target Variable 1 Target Variable 2  \\\n",
       "0             Anomaly Detection               NaN               NaN   \n",
       "1       Association Rule Mining         InvoiceNo       Description   \n",
       "2       Association Rule Mining         InvoiceNo       Description   \n",
       "3       Classification (Binary)           deposit               NaN   \n",
       "4       Classification (Binary)             Class               NaN   \n",
       "5       Classification (Binary)             Class               NaN   \n",
       "6       Classification (Binary)           default               NaN   \n",
       "7       Classification (Binary)    Class variable               NaN   \n",
       "8       Classification (Binary)             stabf               NaN   \n",
       "9       Classification (Binary)              left               NaN   \n",
       "10      Classification (Binary)             DEATH               NaN   \n",
       "11      Classification (Binary)           Disease               NaN   \n",
       "12      Classification (Binary)             Class               NaN   \n",
       "13      Classification (Binary)       income >50K               NaN   \n",
       "14      Classification (Binary)          Purchase               NaN   \n",
       "15      Classification (Binary)       TARGET_5Yrs               NaN   \n",
       "16      Classification (Binary)              type               NaN   \n",
       "17      Classification (Binary)             Class               NaN   \n",
       "18      Classification (Binary)          Survived               NaN   \n",
       "19      Classification (Binary)      party_winner               NaN   \n",
       "20  Classification (Multiclass)              Type               NaN   \n",
       "21  Classification (Multiclass)           species               NaN   \n",
       "22  Classification (Multiclass)             CLASS               NaN   \n",
       "23  Classification (Multiclass)     Next_Question               NaN   \n",
       "24  Classification (Multiclass)             Class               NaN   \n",
       "25  Classification (Multiclass)               NSP               NaN   \n",
       "26                   Clustering               NaN               NaN   \n",
       "27                   Clustering               NaN               NaN   \n",
       "28                   Clustering               NaN               NaN   \n",
       "29                   Clustering               NaN               NaN   \n",
       "30                   Clustering               NaN               NaN   \n",
       "31                   Clustering               NaN               NaN   \n",
       "32                   Clustering               NaN               NaN   \n",
       "33                   Clustering               NaN               NaN   \n",
       "34                   Clustering               NaN               NaN   \n",
       "35                   Clustering               NaN               NaN   \n",
       "36                   Clustering               NaN               NaN   \n",
       "37                   Clustering               NaN               NaN   \n",
       "38                   Clustering               NaN               NaN   \n",
       "39                          NLP             tweet               NaN   \n",
       "40         NLP / Classification        reviewText               NaN   \n",
       "41         NLP / Classification                en               NaN   \n",
       "42             NLP / Regression              text               NaN   \n",
       "43         NLP / Classification              Text               NaN   \n",
       "44                   Regression             price               NaN   \n",
       "45                   Regression               cnt               NaN   \n",
       "46                   Regression              medv               NaN   \n",
       "47                   Regression          strength               NaN   \n",
       "48                   Regression             Price               NaN   \n",
       "49                   Regression      Heating Load      Cooling Load   \n",
       "50                   Regression              area               NaN   \n",
       "51                   Regression         Gold_T+22               NaN   \n",
       "52                   Regression         SalePrice               NaN   \n",
       "53                   Regression           charges               NaN   \n",
       "54                   Regression               PPE               NaN   \n",
       "55                   Regression    traffic_volume               NaN   \n",
       "\n",
       "    # Instances  # Attributes Missing Values  \n",
       "0          1000            10              N  \n",
       "1          8557             8              N  \n",
       "2          9495             8              N  \n",
       "3         45211            17              N  \n",
       "4           748             5              N  \n",
       "5           683            10              N  \n",
       "6         24000            24              N  \n",
       "7           768             9              N  \n",
       "8         10000            14              N  \n",
       "9         14999            10              N  \n",
       "10          200            16              N  \n",
       "11          270            14              N  \n",
       "12          154            32              Y  \n",
       "13        32561            14              Y  \n",
       "14         1070            15              N  \n",
       "15         1340            21              N  \n",
       "16         6498            13              N  \n",
       "17        19020            11              N  \n",
       "18          891            11              Y  \n",
       "19          497             7              N  \n",
       "20          214            10              N  \n",
       "21          150             5              N  \n",
       "22       100000            11              N  \n",
       "23          499             4              N  \n",
       "24         6435            37              N  \n",
       "25         2129            40              Y  \n",
       "26           40            11              N  \n",
       "27         3195            54              Y  \n",
       "28         7050            12              N  \n",
       "29          153            25              N  \n",
       "30          505             4              N  \n",
       "31         1080            82              Y  \n",
       "32          233            12              N  \n",
       "33           20            29              N  \n",
       "34          800            13              Y  \n",
       "35          255            56              Y  \n",
       "36          224            21              N  \n",
       "37          210             7              N  \n",
       "38          440             8              N  \n",
       "39         8594             2              N  \n",
       "40        20000             2              N  \n",
       "41         6818             7              N  \n",
       "42          874             4              N  \n",
       "43          500             3              N  \n",
       "44          202            26              Y  \n",
       "45        17379            15              N  \n",
       "46          506            14              N  \n",
       "47         1030             9              N  \n",
       "48         6000             8              N  \n",
       "49          768            10              N  \n",
       "50          517            13              N  \n",
       "51         2558           121              N  \n",
       "52         1461            81              Y  \n",
       "53         1338             7              N  \n",
       "54         5875            22              N  \n",
       "55        48204             8              N  "
      ]
     },
     "execution_count": 2,
     "metadata": {},
     "output_type": "execute_result"
    }
   ],
   "source": [
    "from pycaret.datasets import get_data\n",
    "get_data('index') ## Here we have a total of 56 datasets"
   ]
  },
  {
   "cell_type": "markdown",
   "id": "681fa007-661e-455f-b93d-933db58fdc0d",
   "metadata": {},
   "source": [
    "## Importing Dataset (we will be using \"seeds\",SN:37 dataset)"
   ]
  },
  {
   "cell_type": "code",
   "execution_count": 18,
   "id": "2d98d51c-7ce4-48d7-ad48-797b8aa5ff34",
   "metadata": {},
   "outputs": [
    {
     "data": {
      "text/html": [
       "<div>\n",
       "<style scoped>\n",
       "    .dataframe tbody tr th:only-of-type {\n",
       "        vertical-align: middle;\n",
       "    }\n",
       "\n",
       "    .dataframe tbody tr th {\n",
       "        vertical-align: top;\n",
       "    }\n",
       "\n",
       "    .dataframe thead th {\n",
       "        text-align: right;\n",
       "    }\n",
       "</style>\n",
       "<table border=\"1\" class=\"dataframe\">\n",
       "  <thead>\n",
       "    <tr style=\"text-align: right;\">\n",
       "      <th></th>\n",
       "      <th>area</th>\n",
       "      <th>perimeter</th>\n",
       "      <th>compactness</th>\n",
       "      <th>length</th>\n",
       "      <th>width</th>\n",
       "      <th>asymmetry</th>\n",
       "      <th>length.1</th>\n",
       "    </tr>\n",
       "  </thead>\n",
       "  <tbody>\n",
       "    <tr>\n",
       "      <th>0</th>\n",
       "      <td>15.26</td>\n",
       "      <td>14.84</td>\n",
       "      <td>0.8710</td>\n",
       "      <td>5.763</td>\n",
       "      <td>3.312</td>\n",
       "      <td>2.221</td>\n",
       "      <td>5.220</td>\n",
       "    </tr>\n",
       "    <tr>\n",
       "      <th>1</th>\n",
       "      <td>14.88</td>\n",
       "      <td>14.57</td>\n",
       "      <td>0.8811</td>\n",
       "      <td>5.554</td>\n",
       "      <td>3.333</td>\n",
       "      <td>1.018</td>\n",
       "      <td>4.956</td>\n",
       "    </tr>\n",
       "    <tr>\n",
       "      <th>2</th>\n",
       "      <td>14.29</td>\n",
       "      <td>14.09</td>\n",
       "      <td>0.9050</td>\n",
       "      <td>5.291</td>\n",
       "      <td>3.337</td>\n",
       "      <td>2.699</td>\n",
       "      <td>4.825</td>\n",
       "    </tr>\n",
       "    <tr>\n",
       "      <th>3</th>\n",
       "      <td>13.84</td>\n",
       "      <td>13.94</td>\n",
       "      <td>0.8955</td>\n",
       "      <td>5.324</td>\n",
       "      <td>3.379</td>\n",
       "      <td>2.259</td>\n",
       "      <td>4.805</td>\n",
       "    </tr>\n",
       "    <tr>\n",
       "      <th>4</th>\n",
       "      <td>16.14</td>\n",
       "      <td>14.99</td>\n",
       "      <td>0.9034</td>\n",
       "      <td>5.658</td>\n",
       "      <td>3.562</td>\n",
       "      <td>1.355</td>\n",
       "      <td>5.175</td>\n",
       "    </tr>\n",
       "  </tbody>\n",
       "</table>\n",
       "</div>"
      ],
      "text/plain": [
       "    area  perimeter  compactness  length  width  asymmetry  length.1\n",
       "0  15.26      14.84       0.8710   5.763  3.312      2.221     5.220\n",
       "1  14.88      14.57       0.8811   5.554  3.333      1.018     4.956\n",
       "2  14.29      14.09       0.9050   5.291  3.337      2.699     4.825\n",
       "3  13.84      13.94       0.8955   5.324  3.379      2.259     4.805\n",
       "4  16.14      14.99       0.9034   5.658  3.562      1.355     5.175"
      ]
     },
     "metadata": {},
     "output_type": "display_data"
    }
   ],
   "source": [
    "dataset=get_data(\"seeds\")"
   ]
  },
  {
   "cell_type": "markdown",
   "id": "fd170fea-8faa-4e12-b1eb-dc032e262ee4",
   "metadata": {},
   "source": [
    "### Saving and downloading dataset"
   ]
  },
  {
   "cell_type": "code",
   "execution_count": 11,
   "id": "39976e26-f0f0-42f4-afe5-ddcc307d4024",
   "metadata": {},
   "outputs": [],
   "source": [
    "dataset.to_csv(\"seeds.csv\")"
   ]
  },
  {
   "cell_type": "markdown",
   "id": "0ea3bf82-8dc5-46b5-b042-32039dabc768",
   "metadata": {},
   "source": [
    "## Parameter setting for clustering models"
   ]
  },
  {
   "cell_type": "code",
   "execution_count": 19,
   "id": "53f55613-6970-490a-9596-001a7b90afc3",
   "metadata": {},
   "outputs": [
    {
     "data": {
      "text/html": [
       "<style type=\"text/css\">\n",
       "#T_a2b31_row5_col1 {\n",
       "  background-color: lightgreen;\n",
       "}\n",
       "</style>\n",
       "<table id=\"T_a2b31\">\n",
       "  <thead>\n",
       "    <tr>\n",
       "      <th class=\"blank level0\" >&nbsp;</th>\n",
       "      <th id=\"T_a2b31_level0_col0\" class=\"col_heading level0 col0\" >Description</th>\n",
       "      <th id=\"T_a2b31_level0_col1\" class=\"col_heading level0 col1\" >Value</th>\n",
       "    </tr>\n",
       "  </thead>\n",
       "  <tbody>\n",
       "    <tr>\n",
       "      <th id=\"T_a2b31_level0_row0\" class=\"row_heading level0 row0\" >0</th>\n",
       "      <td id=\"T_a2b31_row0_col0\" class=\"data row0 col0\" >Session id</td>\n",
       "      <td id=\"T_a2b31_row0_col1\" class=\"data row0 col1\" >28</td>\n",
       "    </tr>\n",
       "    <tr>\n",
       "      <th id=\"T_a2b31_level0_row1\" class=\"row_heading level0 row1\" >1</th>\n",
       "      <td id=\"T_a2b31_row1_col0\" class=\"data row1 col0\" >Original data shape</td>\n",
       "      <td id=\"T_a2b31_row1_col1\" class=\"data row1 col1\" >(210, 7)</td>\n",
       "    </tr>\n",
       "    <tr>\n",
       "      <th id=\"T_a2b31_level0_row2\" class=\"row_heading level0 row2\" >2</th>\n",
       "      <td id=\"T_a2b31_row2_col0\" class=\"data row2 col0\" >Transformed data shape</td>\n",
       "      <td id=\"T_a2b31_row2_col1\" class=\"data row2 col1\" >(210, 7)</td>\n",
       "    </tr>\n",
       "    <tr>\n",
       "      <th id=\"T_a2b31_level0_row3\" class=\"row_heading level0 row3\" >3</th>\n",
       "      <td id=\"T_a2b31_row3_col0\" class=\"data row3 col0\" >Numeric features</td>\n",
       "      <td id=\"T_a2b31_row3_col1\" class=\"data row3 col1\" >7</td>\n",
       "    </tr>\n",
       "    <tr>\n",
       "      <th id=\"T_a2b31_level0_row4\" class=\"row_heading level0 row4\" >4</th>\n",
       "      <td id=\"T_a2b31_row4_col0\" class=\"data row4 col0\" >Rows with missing values</td>\n",
       "      <td id=\"T_a2b31_row4_col1\" class=\"data row4 col1\" >1.4%</td>\n",
       "    </tr>\n",
       "    <tr>\n",
       "      <th id=\"T_a2b31_level0_row5\" class=\"row_heading level0 row5\" >5</th>\n",
       "      <td id=\"T_a2b31_row5_col0\" class=\"data row5 col0\" >Preprocess</td>\n",
       "      <td id=\"T_a2b31_row5_col1\" class=\"data row5 col1\" >True</td>\n",
       "    </tr>\n",
       "    <tr>\n",
       "      <th id=\"T_a2b31_level0_row6\" class=\"row_heading level0 row6\" >6</th>\n",
       "      <td id=\"T_a2b31_row6_col0\" class=\"data row6 col0\" >Imputation type</td>\n",
       "      <td id=\"T_a2b31_row6_col1\" class=\"data row6 col1\" >simple</td>\n",
       "    </tr>\n",
       "    <tr>\n",
       "      <th id=\"T_a2b31_level0_row7\" class=\"row_heading level0 row7\" >7</th>\n",
       "      <td id=\"T_a2b31_row7_col0\" class=\"data row7 col0\" >Numeric imputation</td>\n",
       "      <td id=\"T_a2b31_row7_col1\" class=\"data row7 col1\" >mean</td>\n",
       "    </tr>\n",
       "    <tr>\n",
       "      <th id=\"T_a2b31_level0_row8\" class=\"row_heading level0 row8\" >8</th>\n",
       "      <td id=\"T_a2b31_row8_col0\" class=\"data row8 col0\" >Categorical imputation</td>\n",
       "      <td id=\"T_a2b31_row8_col1\" class=\"data row8 col1\" >mode</td>\n",
       "    </tr>\n",
       "    <tr>\n",
       "      <th id=\"T_a2b31_level0_row9\" class=\"row_heading level0 row9\" >9</th>\n",
       "      <td id=\"T_a2b31_row9_col0\" class=\"data row9 col0\" >CPU Jobs</td>\n",
       "      <td id=\"T_a2b31_row9_col1\" class=\"data row9 col1\" >-1</td>\n",
       "    </tr>\n",
       "    <tr>\n",
       "      <th id=\"T_a2b31_level0_row10\" class=\"row_heading level0 row10\" >10</th>\n",
       "      <td id=\"T_a2b31_row10_col0\" class=\"data row10 col0\" >Use GPU</td>\n",
       "      <td id=\"T_a2b31_row10_col1\" class=\"data row10 col1\" >False</td>\n",
       "    </tr>\n",
       "    <tr>\n",
       "      <th id=\"T_a2b31_level0_row11\" class=\"row_heading level0 row11\" >11</th>\n",
       "      <td id=\"T_a2b31_row11_col0\" class=\"data row11 col0\" >Log Experiment</td>\n",
       "      <td id=\"T_a2b31_row11_col1\" class=\"data row11 col1\" >False</td>\n",
       "    </tr>\n",
       "    <tr>\n",
       "      <th id=\"T_a2b31_level0_row12\" class=\"row_heading level0 row12\" >12</th>\n",
       "      <td id=\"T_a2b31_row12_col0\" class=\"data row12 col0\" >Experiment Name</td>\n",
       "      <td id=\"T_a2b31_row12_col1\" class=\"data row12 col1\" >cluster-default-name</td>\n",
       "    </tr>\n",
       "    <tr>\n",
       "      <th id=\"T_a2b31_level0_row13\" class=\"row_heading level0 row13\" >13</th>\n",
       "      <td id=\"T_a2b31_row13_col0\" class=\"data row13 col0\" >USI</td>\n",
       "      <td id=\"T_a2b31_row13_col1\" class=\"data row13 col1\" >9c9d</td>\n",
       "    </tr>\n",
       "  </tbody>\n",
       "</table>\n"
      ],
      "text/plain": [
       "<pandas.io.formats.style.Styler at 0x1fa515c3bb0>"
      ]
     },
     "metadata": {},
     "output_type": "display_data"
    }
   ],
   "source": [
    "from pycaret.clustering import *\n",
    "s=setup(dataset,session_id=28)"
   ]
  },
  {
   "cell_type": "code",
   "execution_count": 21,
   "id": "c1c9aa25-34aa-4795-9616-f1fd1c4ddfae",
   "metadata": {},
   "outputs": [
    {
     "data": {
      "text/html": [
       "<div>\n",
       "<style scoped>\n",
       "    .dataframe tbody tr th:only-of-type {\n",
       "        vertical-align: middle;\n",
       "    }\n",
       "\n",
       "    .dataframe tbody tr th {\n",
       "        vertical-align: top;\n",
       "    }\n",
       "\n",
       "    .dataframe thead th {\n",
       "        text-align: right;\n",
       "    }\n",
       "</style>\n",
       "<table border=\"1\" class=\"dataframe\">\n",
       "  <thead>\n",
       "    <tr style=\"text-align: right;\">\n",
       "      <th></th>\n",
       "      <th>Name</th>\n",
       "      <th>Reference</th>\n",
       "    </tr>\n",
       "    <tr>\n",
       "      <th>ID</th>\n",
       "      <th></th>\n",
       "      <th></th>\n",
       "    </tr>\n",
       "  </thead>\n",
       "  <tbody>\n",
       "    <tr>\n",
       "      <th>kmeans</th>\n",
       "      <td>K-Means Clustering</td>\n",
       "      <td>sklearn.cluster._kmeans.KMeans</td>\n",
       "    </tr>\n",
       "    <tr>\n",
       "      <th>ap</th>\n",
       "      <td>Affinity Propagation</td>\n",
       "      <td>sklearn.cluster._affinity_propagation.Affinity...</td>\n",
       "    </tr>\n",
       "    <tr>\n",
       "      <th>meanshift</th>\n",
       "      <td>Mean Shift Clustering</td>\n",
       "      <td>sklearn.cluster._mean_shift.MeanShift</td>\n",
       "    </tr>\n",
       "    <tr>\n",
       "      <th>sc</th>\n",
       "      <td>Spectral Clustering</td>\n",
       "      <td>sklearn.cluster._spectral.SpectralClustering</td>\n",
       "    </tr>\n",
       "    <tr>\n",
       "      <th>hclust</th>\n",
       "      <td>Agglomerative Clustering</td>\n",
       "      <td>sklearn.cluster._agglomerative.AgglomerativeCl...</td>\n",
       "    </tr>\n",
       "    <tr>\n",
       "      <th>dbscan</th>\n",
       "      <td>Density-Based Spatial Clustering</td>\n",
       "      <td>sklearn.cluster._dbscan.DBSCAN</td>\n",
       "    </tr>\n",
       "    <tr>\n",
       "      <th>optics</th>\n",
       "      <td>OPTICS Clustering</td>\n",
       "      <td>sklearn.cluster._optics.OPTICS</td>\n",
       "    </tr>\n",
       "    <tr>\n",
       "      <th>birch</th>\n",
       "      <td>Birch Clustering</td>\n",
       "      <td>sklearn.cluster._birch.Birch</td>\n",
       "    </tr>\n",
       "  </tbody>\n",
       "</table>\n",
       "</div>"
      ],
      "text/plain": [
       "                                       Name  \\\n",
       "ID                                            \n",
       "kmeans                   K-Means Clustering   \n",
       "ap                     Affinity Propagation   \n",
       "meanshift             Mean Shift Clustering   \n",
       "sc                      Spectral Clustering   \n",
       "hclust             Agglomerative Clustering   \n",
       "dbscan     Density-Based Spatial Clustering   \n",
       "optics                    OPTICS Clustering   \n",
       "birch                      Birch Clustering   \n",
       "\n",
       "                                                   Reference  \n",
       "ID                                                            \n",
       "kmeans                        sklearn.cluster._kmeans.KMeans  \n",
       "ap         sklearn.cluster._affinity_propagation.Affinity...  \n",
       "meanshift              sklearn.cluster._mean_shift.MeanShift  \n",
       "sc              sklearn.cluster._spectral.SpectralClustering  \n",
       "hclust     sklearn.cluster._agglomerative.AgglomerativeCl...  \n",
       "dbscan                        sklearn.cluster._dbscan.DBSCAN  \n",
       "optics                        sklearn.cluster._optics.OPTICS  \n",
       "birch                           sklearn.cluster._birch.Birch  "
      ]
     },
     "execution_count": 21,
     "metadata": {},
     "output_type": "execute_result"
    }
   ],
   "source": [
    "## All available clustering models in pycaret\n",
    "models()\n",
    "## We will be using four algorithms: kmeans, hclust, dbscan and birch"
   ]
  },
  {
   "cell_type": "markdown",
   "id": "57d20cbe-1ecf-4915-971f-7b60b15db7bd",
   "metadata": {},
   "source": [
    "## Understanding basic operations for pycaret clustering"
   ]
  },
  {
   "cell_type": "markdown",
   "id": "1639d7f5-7194-4d67-835b-199944ace2a5",
   "metadata": {},
   "source": [
    "### Building a clustering model (here using kmeans)"
   ]
  },
  {
   "cell_type": "code",
   "execution_count": 28,
   "id": "e6a3614b-9b4f-49a1-bd09-d36fc5d9349e",
   "metadata": {},
   "outputs": [
    {
     "data": {
      "text/html": [],
      "text/plain": [
       "<IPython.core.display.HTML object>"
      ]
     },
     "metadata": {},
     "output_type": "display_data"
    },
    {
     "data": {
      "text/html": [
       "<style type=\"text/css\">\n",
       "</style>\n",
       "<table id=\"T_7a051\">\n",
       "  <thead>\n",
       "    <tr>\n",
       "      <th class=\"blank level0\" >&nbsp;</th>\n",
       "      <th id=\"T_7a051_level0_col0\" class=\"col_heading level0 col0\" >Silhouette</th>\n",
       "      <th id=\"T_7a051_level0_col1\" class=\"col_heading level0 col1\" >Calinski-Harabasz</th>\n",
       "      <th id=\"T_7a051_level0_col2\" class=\"col_heading level0 col2\" >Davies-Bouldin</th>\n",
       "      <th id=\"T_7a051_level0_col3\" class=\"col_heading level0 col3\" >Homogeneity</th>\n",
       "      <th id=\"T_7a051_level0_col4\" class=\"col_heading level0 col4\" >Rand Index</th>\n",
       "      <th id=\"T_7a051_level0_col5\" class=\"col_heading level0 col5\" >Completeness</th>\n",
       "    </tr>\n",
       "  </thead>\n",
       "  <tbody>\n",
       "    <tr>\n",
       "      <th id=\"T_7a051_level0_row0\" class=\"row_heading level0 row0\" >0</th>\n",
       "      <td id=\"T_7a051_row0_col0\" class=\"data row0 col0\" >0.3909</td>\n",
       "      <td id=\"T_7a051_row0_col1\" class=\"data row0 col1\" >275.0454</td>\n",
       "      <td id=\"T_7a051_row0_col2\" class=\"data row0 col2\" >0.9340</td>\n",
       "      <td id=\"T_7a051_row0_col3\" class=\"data row0 col3\" >0</td>\n",
       "      <td id=\"T_7a051_row0_col4\" class=\"data row0 col4\" >0</td>\n",
       "      <td id=\"T_7a051_row0_col5\" class=\"data row0 col5\" >0</td>\n",
       "    </tr>\n",
       "  </tbody>\n",
       "</table>\n"
      ],
      "text/plain": [
       "<pandas.io.formats.style.Styler at 0x1fa516e1390>"
      ]
     },
     "metadata": {},
     "output_type": "display_data"
    },
    {
     "data": {
      "text/html": [],
      "text/plain": [
       "<IPython.core.display.HTML object>"
      ]
     },
     "metadata": {},
     "output_type": "display_data"
    }
   ],
   "source": [
    "Kmeanmodel=create_model('kmeans',num_clusters=4)"
   ]
  },
  {
   "cell_type": "markdown",
   "id": "2015331d-47f2-42c2-bd94-bff4d280f844",
   "metadata": {},
   "source": [
    "### Assigning clusters using trained model"
   ]
  },
  {
   "cell_type": "code",
   "execution_count": 30,
   "id": "89e165fa-ad53-477d-b190-5523904f4d16",
   "metadata": {},
   "outputs": [
    {
     "data": {
      "text/html": [
       "<div>\n",
       "<style scoped>\n",
       "    .dataframe tbody tr th:only-of-type {\n",
       "        vertical-align: middle;\n",
       "    }\n",
       "\n",
       "    .dataframe tbody tr th {\n",
       "        vertical-align: top;\n",
       "    }\n",
       "\n",
       "    .dataframe thead th {\n",
       "        text-align: right;\n",
       "    }\n",
       "</style>\n",
       "<table border=\"1\" class=\"dataframe\">\n",
       "  <thead>\n",
       "    <tr style=\"text-align: right;\">\n",
       "      <th></th>\n",
       "      <th>area</th>\n",
       "      <th>perimeter</th>\n",
       "      <th>compactness</th>\n",
       "      <th>length</th>\n",
       "      <th>width</th>\n",
       "      <th>asymmetry</th>\n",
       "      <th>length.1</th>\n",
       "      <th>Cluster</th>\n",
       "    </tr>\n",
       "  </thead>\n",
       "  <tbody>\n",
       "    <tr>\n",
       "      <th>0</th>\n",
       "      <td>15.260000</td>\n",
       "      <td>14.84</td>\n",
       "      <td>0.8710</td>\n",
       "      <td>5.763</td>\n",
       "      <td>3.312</td>\n",
       "      <td>2.221</td>\n",
       "      <td>5.220</td>\n",
       "      <td>Cluster 2</td>\n",
       "    </tr>\n",
       "    <tr>\n",
       "      <th>1</th>\n",
       "      <td>14.880000</td>\n",
       "      <td>14.57</td>\n",
       "      <td>0.8811</td>\n",
       "      <td>5.554</td>\n",
       "      <td>3.333</td>\n",
       "      <td>1.018</td>\n",
       "      <td>4.956</td>\n",
       "      <td>Cluster 2</td>\n",
       "    </tr>\n",
       "    <tr>\n",
       "      <th>2</th>\n",
       "      <td>14.290000</td>\n",
       "      <td>14.09</td>\n",
       "      <td>0.9050</td>\n",
       "      <td>5.291</td>\n",
       "      <td>3.337</td>\n",
       "      <td>2.699</td>\n",
       "      <td>4.825</td>\n",
       "      <td>Cluster 2</td>\n",
       "    </tr>\n",
       "    <tr>\n",
       "      <th>3</th>\n",
       "      <td>13.840000</td>\n",
       "      <td>13.94</td>\n",
       "      <td>0.8955</td>\n",
       "      <td>5.324</td>\n",
       "      <td>3.379</td>\n",
       "      <td>2.259</td>\n",
       "      <td>4.805</td>\n",
       "      <td>Cluster 2</td>\n",
       "    </tr>\n",
       "    <tr>\n",
       "      <th>4</th>\n",
       "      <td>16.139999</td>\n",
       "      <td>14.99</td>\n",
       "      <td>0.9034</td>\n",
       "      <td>5.658</td>\n",
       "      <td>3.562</td>\n",
       "      <td>1.355</td>\n",
       "      <td>5.175</td>\n",
       "      <td>Cluster 2</td>\n",
       "    </tr>\n",
       "    <tr>\n",
       "      <th>...</th>\n",
       "      <td>...</td>\n",
       "      <td>...</td>\n",
       "      <td>...</td>\n",
       "      <td>...</td>\n",
       "      <td>...</td>\n",
       "      <td>...</td>\n",
       "      <td>...</td>\n",
       "      <td>...</td>\n",
       "    </tr>\n",
       "    <tr>\n",
       "      <th>205</th>\n",
       "      <td>12.190000</td>\n",
       "      <td>13.20</td>\n",
       "      <td>0.8783</td>\n",
       "      <td>5.137</td>\n",
       "      <td>2.981</td>\n",
       "      <td>3.631</td>\n",
       "      <td>4.870</td>\n",
       "      <td>Cluster 0</td>\n",
       "    </tr>\n",
       "    <tr>\n",
       "      <th>206</th>\n",
       "      <td>11.230000</td>\n",
       "      <td>12.88</td>\n",
       "      <td>0.8511</td>\n",
       "      <td>5.140</td>\n",
       "      <td>2.795</td>\n",
       "      <td>4.325</td>\n",
       "      <td>5.003</td>\n",
       "      <td>Cluster 3</td>\n",
       "    </tr>\n",
       "    <tr>\n",
       "      <th>207</th>\n",
       "      <td>13.200000</td>\n",
       "      <td>13.66</td>\n",
       "      <td>0.8883</td>\n",
       "      <td>5.236</td>\n",
       "      <td>3.232</td>\n",
       "      <td>8.315</td>\n",
       "      <td>5.056</td>\n",
       "      <td>Cluster 3</td>\n",
       "    </tr>\n",
       "    <tr>\n",
       "      <th>208</th>\n",
       "      <td>11.840000</td>\n",
       "      <td>13.21</td>\n",
       "      <td>0.8521</td>\n",
       "      <td>5.175</td>\n",
       "      <td>2.836</td>\n",
       "      <td>3.598</td>\n",
       "      <td>5.044</td>\n",
       "      <td>Cluster 0</td>\n",
       "    </tr>\n",
       "    <tr>\n",
       "      <th>209</th>\n",
       "      <td>12.300000</td>\n",
       "      <td>13.34</td>\n",
       "      <td>0.8684</td>\n",
       "      <td>5.243</td>\n",
       "      <td>2.974</td>\n",
       "      <td>5.637</td>\n",
       "      <td>5.063</td>\n",
       "      <td>Cluster 3</td>\n",
       "    </tr>\n",
       "  </tbody>\n",
       "</table>\n",
       "<p>210 rows × 8 columns</p>\n",
       "</div>"
      ],
      "text/plain": [
       "          area  perimeter  compactness  length  width  asymmetry  length.1  \\\n",
       "0    15.260000      14.84       0.8710   5.763  3.312      2.221     5.220   \n",
       "1    14.880000      14.57       0.8811   5.554  3.333      1.018     4.956   \n",
       "2    14.290000      14.09       0.9050   5.291  3.337      2.699     4.825   \n",
       "3    13.840000      13.94       0.8955   5.324  3.379      2.259     4.805   \n",
       "4    16.139999      14.99       0.9034   5.658  3.562      1.355     5.175   \n",
       "..         ...        ...          ...     ...    ...        ...       ...   \n",
       "205  12.190000      13.20       0.8783   5.137  2.981      3.631     4.870   \n",
       "206  11.230000      12.88       0.8511   5.140  2.795      4.325     5.003   \n",
       "207  13.200000      13.66       0.8883   5.236  3.232      8.315     5.056   \n",
       "208  11.840000      13.21       0.8521   5.175  2.836      3.598     5.044   \n",
       "209  12.300000      13.34       0.8684   5.243  2.974      5.637     5.063   \n",
       "\n",
       "       Cluster  \n",
       "0    Cluster 2  \n",
       "1    Cluster 2  \n",
       "2    Cluster 2  \n",
       "3    Cluster 2  \n",
       "4    Cluster 2  \n",
       "..         ...  \n",
       "205  Cluster 0  \n",
       "206  Cluster 3  \n",
       "207  Cluster 3  \n",
       "208  Cluster 0  \n",
       "209  Cluster 3  \n",
       "\n",
       "[210 rows x 8 columns]"
      ]
     },
     "execution_count": 30,
     "metadata": {},
     "output_type": "execute_result"
    }
   ],
   "source": [
    "Kmeanpredictions=assign_model(Kmeanmodel)\n",
    "Kmeanpredictions"
   ]
  },
  {
   "cell_type": "markdown",
   "id": "53dde651-ef1a-470d-b4f5-9e547d189eb8",
   "metadata": {},
   "source": [
    "### Evaluating models using graphs"
   ]
  },
  {
   "cell_type": "code",
   "execution_count": 35,
   "id": "88c85ee5-f056-4e88-851b-2916ec089455",
   "metadata": {},
   "outputs": [
    {
     "data": {
      "application/vnd.jupyter.widget-view+json": {
       "model_id": "2321ae0f2f234e41a84a25e22fa3a7d1",
       "version_major": 2,
       "version_minor": 0
      },
      "text/plain": [
       "interactive(children=(ToggleButtons(description='Plot Type:', icons=('',), options=(('Pipeline Plot', 'pipelin…"
      ]
     },
     "metadata": {},
     "output_type": "display_data"
    }
   ],
   "source": [
    "evaluate_model(Kmeanmodel)  ## This function usually limited to notebook"
   ]
  },
  {
   "cell_type": "code",
   "execution_count": 33,
   "id": "5bf1d253-9177-4891-93be-2b06594c720d",
   "metadata": {},
   "outputs": [
    {
     "data": {
      "text/html": [],
      "text/plain": [
       "<IPython.core.display.HTML object>"
      ]
     },
     "metadata": {},
     "output_type": "display_data"
    },
    {
     "data": {
      "application/vnd.plotly.v1+json": {
       "config": {
        "plotlyServerURL": "https://plot.ly"
       },
       "data": [
        {
         "customdata": [
          [
           12.73
          ],
          [
           13.16
          ],
          [
           11.43
          ],
          [
           12.08
          ],
          [
           13.02
          ],
          [
           12.74
          ],
          [
           11.84
          ],
          [
           13.45
          ],
          [
           11.18
          ],
          [
           13.16
          ],
          [
           12.78
          ],
          [
           13.22
          ],
          [
           12.36
          ],
          [
           11.23
          ],
          [
           11.42
          ],
          [
           13.54
          ],
          [
           13.5
          ],
          [
           12.88
          ],
          [
           12.72
          ],
          [
           12.7
          ],
          [
           11.34
          ],
          [
           12.19
          ],
          [
           12.37
          ],
          [
           11.18
          ],
          [
           12.67
          ],
          [
           12.76
          ],
          [
           12.62
          ],
          [
           12.11
          ],
          [
           11.87
          ],
          [
           11.36
          ],
          [
           12.11
          ],
          [
           11.56
          ],
          [
           12.21
          ],
          [
           11.02
          ],
          [
           11.24
          ],
          [
           12.15
          ],
          [
           12.1
          ],
          [
           12.54
          ],
          [
           11.27
          ]
         ],
         "hovertemplate": "Cluster=Cluster 0<br>PCA1=%{x}<br>PCA2=%{y}<br>Feature=%{customdata[0]}<extra></extra>",
         "legendgroup": "Cluster 0",
         "marker": {
          "color": "#636efa",
          "opacity": 0.5,
          "symbol": "circle"
         },
         "mode": "markers",
         "name": "Cluster 0",
         "orientation": "v",
         "showlegend": true,
         "textposition": "top center",
         "type": "scatter",
         "x": [
          -2.2811782,
          -1.9002978,
          -3.5687587,
          -2.8724916,
          -2.020876,
          -2.2060864,
          -3.3316815,
          -1.4995815,
          -3.9658897,
          -1.551747,
          -2.0811973,
          -1.8642579,
          -2.8853602,
          -4.0269814,
          -3.7162611,
          -1.3837326,
          -1.3799822,
          -2.1859088,
          -2.4559433,
          -2.2613907,
          -3.9013703,
          -3.0426145,
          -2.785378,
          -4.2155833,
          -2.3569484,
          -2.3716803,
          -2.3605993,
          -3.1113703,
          -3.3632839,
          -3.8516726,
          -2.798827,
          -3.5638306,
          -2.6300967,
          -4.2023244,
          -4.439457,
          -2.8944325,
          -2.9630768,
          -2.3699327,
          -4.039735
         ],
         "xaxis": "x",
         "y": [
          -0.41652393,
          -1.4835008,
          -1.8712848,
          -2.6226344,
          -0.5660885,
          -1.4542724,
          -0.47145808,
          -0.33542085,
          -0.803416,
          -3.0291574,
          -2.7841704,
          0.24962394,
          -0.8340111,
          -1.907614,
          -1.4027109,
          -1.2746234,
          -1.6135114,
          -1.6296537,
          0.11812628,
          -0.67785394,
          -0.7912344,
          -0.42167962,
          -0.094652176,
          -0.12760319,
          -1.666157,
          -1.1639613,
          -0.64607126,
          0.084081344,
          -0.4773494,
          -0.062614806,
          -2.5484633,
          -0.013758629,
          -2.3302724,
          -1.549665,
          -1.7128059,
          -0.36323354,
          -1.839359,
          -0.8571365,
          -0.16351667
         ],
         "yaxis": "y"
        },
        {
         "customdata": [
          [
           16.53
          ],
          [
           17.12
          ],
          [
           20.2
          ],
          [
           19.57
          ],
          [
           18.72
          ],
          [
           18.95
          ],
          [
           20.71
          ],
          [
           17.32
          ],
          [
           19.51
          ],
          [
           16.77
          ],
          [
           18.94
          ],
          [
           18.27
          ],
          [
           18.17
          ],
          [
           18.98
          ],
          [
           18.85
          ],
          [
           18.83
          ],
          [
           19.18
          ],
          [
           19.46
          ],
          [
           17.99
          ],
          [
           18.55
          ],
          [
           18.72
          ],
          [
           16.82
          ],
          [
           18.88
          ],
          [
           18.98
          ],
          [
           16.87
          ],
          [
           18.36
          ],
          [
           18.59
          ],
          [
           18.81
          ],
          [
           18.76
          ],
          [
           20.1
          ],
          [
           20.88
          ],
          [
           21.18
          ],
          [
           19.31
          ],
          [
           19.11
          ],
          [
           19.15
          ],
          [
           16.84
          ],
          [
           17.36
          ],
          [
           18.94
          ],
          [
           17.08
          ],
          [
           18.3
          ],
          [
           17.55
          ],
          [
           20.16
          ],
          [
           17.98
          ],
          [
           18.65
          ],
          [
           17.26
          ],
          [
           18.43
          ],
          [
           18.14
          ],
          [
           18.75
          ],
          [
           20.03
          ],
          [
           17.63
          ],
          [
           18.45
          ],
          [
           20.24
          ],
          [
           19.13
          ],
          [
           19.14
          ],
          [
           20.97
          ],
          [
           19.38
          ],
          [
           18.96
          ],
          [
           17.63
          ],
          [
           18.89
          ],
          [
           19.06
          ],
          [
           19.94
          ]
         ],
         "hovertemplate": "Cluster=Cluster 1<br>PCA1=%{x}<br>PCA2=%{y}<br>Feature=%{customdata[0]}<extra></extra>",
         "legendgroup": "Cluster 1",
         "marker": {
          "color": "#EF553B",
          "opacity": 0.5,
          "symbol": "circle"
         },
         "mode": "markers",
         "name": "Cluster 1",
         "orientation": "v",
         "showlegend": true,
         "textposition": "top center",
         "type": "scatter",
         "x": [
          1.710743,
          2.6118572,
          5.7509847,
          5.5746303,
          4.0669537,
          4.64471,
          6.4906673,
          2.8572829,
          5.3279443,
          2.0977767,
          4.5130982,
          4.0034156,
          3.9449034,
          4.8086934,
          4.515455,
          4.518889,
          4.952873,
          4.9964375,
          3.6252139,
          4.344307,
          4.5269833,
          2.227378,
          4.688788,
          4.9183035,
          2.3936892,
          4.0541644,
          3.8234951,
          4.469576,
          4.399103,
          6.1393585,
          6.491997,
          6.7396073,
          5.0484977,
          4.7679157,
          4.8764696,
          2.232989,
          2.9029088,
          4.615776,
          2.4739666,
          3.8582113,
          2.7414298,
          6.1687527,
          3.6133819,
          4.241165,
          2.641271,
          3.9825282,
          3.7162344,
          4.2506604,
          5.892896,
          3.1823945,
          4.1495357,
          5.725229,
          4.88187,
          4.49559,
          6.7011857,
          5.09661,
          4.3909945,
          3.1342974,
          4.4606576,
          4.9050007,
          5.845639
         ],
         "xaxis": "x",
         "y": [
          2.0565746,
          -0.5407056,
          2.1468534,
          -1.5780308,
          2.094369,
          0.21565904,
          1.5240179,
          0.47581157,
          -0.11436019,
          1.4832287,
          1.9228942,
          -0.7792036,
          -0.36248133,
          0.58581936,
          -0.3280735,
          -0.635668,
          0.24759531,
          1.1827459,
          -1.2227788,
          -1.4659756,
          -0.98285437,
          0.5795816,
          -1.5123198,
          -0.9574332,
          0.29887992,
          1.7573371,
          2.7475758,
          0.06221426,
          -0.06851157,
          -1.0190303,
          2.0741577,
          2.8666105,
          0.3739546,
          -0.21682093,
          -0.044712234,
          1.2564285,
          0.17983343,
          -0.264098,
          -0.4749024,
          -0.41981307,
          1.9818037,
          -1.0750875,
          -1.0281092,
          1.2029597,
          1.1554612,
          -0.26178998,
          0.36174154,
          0.98116755,
          0.055926733,
          0.7688587,
          -0.9970773,
          2.873036,
          -1.0406257,
          3.5236251,
          1.7611676,
          0.5680045,
          1.1283884,
          0.42205116,
          0.45674023,
          -0.8752058,
          0.25901797
         ],
         "yaxis": "y"
        },
        {
         "customdata": [
          [
           15.99
          ],
          [
           15.38
          ],
          [
           16.16
          ],
          [
           15.56
          ],
          [
           15.38
          ],
          [
           16.17
          ],
          [
           15.57
          ],
          [
           15.6
          ],
          [
           16.23
          ],
          [
           15.26
          ],
          [
           14.37
          ],
          [
           16.19
          ],
          [
           15.01
          ],
          [
           14.88
          ],
          [
           14.29
          ],
          [
           13.84
          ],
          [
           16.14
          ],
          [
           15.88
          ],
          [
           14.11
          ],
          [
           14.38
          ],
          [
           14.69
          ],
          [
           14.11
          ],
          [
           14.16
          ],
          [
           15.69
          ],
          [
           14.11
          ],
          [
           16.41
          ],
          [
           16.63
          ],
          [
           16.44
          ],
          [
           14.59
          ],
          [
           13.74
          ],
          [
           13.78
          ],
          [
           13.89
          ],
          [
           15.26
          ],
          [
           14.7
          ],
          [
           15.49
          ],
          [
           14.03
          ],
          [
           13.94
          ],
          [
           14.01
          ],
          [
           14.34
          ],
          [
           15.38
          ],
          [
           14.92
          ],
          [
           14.46
          ],
          [
           15.03
          ],
          [
           14.52
          ],
          [
           14.33
          ],
          [
           14.49
          ],
          [
           14.09
          ],
          [
           14.43
          ],
          [
           14.86
          ],
          [
           14.79
          ],
          [
           15.78
          ],
          [
           15.36
          ],
          [
           13.8
          ],
          [
           15.11
          ],
          [
           15.5
          ],
          [
           15.05
          ],
          [
           16.12
          ],
          [
           16.2
          ],
          [
           14.99
          ],
          [
           14.8
          ]
         ],
         "hovertemplate": "Cluster=Cluster 2<br>PCA1=%{x}<br>PCA2=%{y}<br>Feature=%{customdata[0]}<extra></extra>",
         "legendgroup": "Cluster 2",
         "marker": {
          "color": "#00cc96",
          "opacity": 0.5,
          "symbol": "circle"
         },
         "mode": "markers",
         "name": "Cluster 2",
         "orientation": "v",
         "showlegend": true,
         "textposition": "top center",
         "type": "scatter",
         "x": [
          1.1505636,
          0.6121973,
          1.5020868,
          0.71417916,
          0.5268295,
          1.5038364,
          1.1002467,
          1.0778795,
          1.5896217,
          0.65304273,
          -0.25971815,
          1.7859274,
          0.4186285,
          0.28621495,
          -0.6728262,
          -1.0733638,
          1.5947609,
          1.3746839,
          -0.69744503,
          -0.49065676,
          -0.18078183,
          -0.75122553,
          -0.63128555,
          1.0334038,
          -0.73996675,
          1.6695429,
          2.2723882,
          1.9651545,
          -0.49995515,
          -1.1969637,
          -1.1712033,
          -1.2056329,
          0.3884508,
          -0.1774831,
          0.76565063,
          -0.73269826,
          -0.8374903,
          -0.71922183,
          -0.2833216,
          0.7534661,
          0.25217482,
          -0.38544682,
          0.46371996,
          -0.001224816,
          -0.56679153,
          -0.34134296,
          -0.75652874,
          -0.49606887,
          0.24127015,
          0.0076092756,
          0.7429429,
          0.7958719,
          -0.98441845,
          0.28113148,
          0.65203345,
          0.42654535,
          0.14714295,
          1.6494038,
          0.19176988,
          0.010669409
         ],
         "xaxis": "x",
         "y": [
          -0.26141948,
          0.86531264,
          0.76123655,
          1.3839535,
          -0.04527625,
          0.7756795,
          -0.9038334,
          -0.8310668,
          0.27506438,
          -1.412405,
          -2.2678902,
          -2.6107626,
          -1.8775864,
          -2.6790178,
          -1.1094505,
          -1.595582,
          -2.1931448,
          -2.8125675,
          -1.0920426,
          -1.3177577,
          -0.13621485,
          -1.0420781,
          -0.6963206,
          -2.0173018,
          -1.0829186,
          0.71356934,
          -1.3839487,
          -1.5113094,
          0.40096825,
          -0.9202499,
          -0.7116193,
          0.12868439,
          0.89567316,
          -2.0061045,
          -0.20583008,
          -2.084698,
          -1.6817536,
          -1.5686616,
          -2.4290762,
          -1.6305004,
          -2.5590057,
          -0.96159947,
          -1.7097301,
          -2.2075124,
          -0.4369119,
          0.39627045,
          0.14763115,
          0.21684654,
          -1.5433592,
          -1.0080136,
          1.9720412,
          -2.2632496,
          -2.2718477,
          -0.5541628,
          1.1021419,
          -1.5245675,
          1.8380221,
          -0.6876233,
          -0.7320724,
          -0.5857698
         ],
         "yaxis": "y"
        },
        {
         "customdata": [
          [
           13.37
          ],
          [
           12.46
          ],
          [
           12.19
          ],
          [
           11.65
          ],
          [
           12.89
          ],
          [
           11.81
          ],
          [
           11.23
          ],
          [
           11.23
          ],
          [
           10.59
          ],
          [
           10.93
          ],
          [
           13.2
          ],
          [
           11.41
          ],
          [
           10.82
          ],
          [
           12.8
          ],
          [
           12.38
          ],
          [
           12.79
          ],
          [
           10.91
          ],
          [
           12.7
          ],
          [
           11.49
          ],
          [
           10.74
          ],
          [
           14.28
          ],
          [
           13.07
          ],
          [
           13.32
          ],
          [
           13.34
          ],
          [
           12.22
          ],
          [
           11.82
          ],
          [
           11.21
          ],
          [
           12.49
          ],
          [
           10.79
          ],
          [
           11.83
          ],
          [
           12.01
          ],
          [
           12.26
          ],
          [
           11.19
          ],
          [
           11.48
          ],
          [
           12.13
          ],
          [
           13.99
          ],
          [
           12.02
          ],
          [
           12.05
          ],
          [
           12.55
          ],
          [
           11.14
          ],
          [
           12.44
          ],
          [
           11.35
          ],
          [
           11.55
          ],
          [
           11.27
          ],
          [
           11.4
          ],
          [
           10.83
          ],
          [
           10.8
          ],
          [
           11.26
          ],
          [
           11.75
          ],
          [
           12.3
          ]
         ],
         "hovertemplate": "Cluster=Cluster 3<br>PCA1=%{x}<br>PCA2=%{y}<br>Feature=%{customdata[0]}<extra></extra>",
         "legendgroup": "Cluster 3",
         "marker": {
          "color": "#ab63fa",
          "opacity": 0.5,
          "symbol": "circle"
         },
         "mode": "markers",
         "name": "Cluster 3",
         "orientation": "v",
         "showlegend": true,
         "textposition": "top center",
         "type": "scatter",
         "x": [
          -1.8186855,
          -2.8229191,
          -3.0756924,
          -3.7366338,
          -2.3774698,
          -3.3508966,
          -4.0997624,
          -4.5009456,
          -4.988832,
          -4.5361485,
          -2.4406552,
          -4.0172048,
          -4.542918,
          -2.514859,
          -2.9557636,
          -2.5623603,
          -4.423539,
          -3.027229,
          -3.804482,
          -4.6558104,
          -1.0733411,
          -2.0544012,
          -2.0000086,
          -1.8979795,
          -3.1235595,
          -3.343158,
          -4.186306,
          -2.730717,
          -4.564707,
          -3.4691277,
          -3.3918762,
          -2.864927,
          -4.20735,
          -3.9872699,
          -2.9652762,
          -1.3576841,
          -3.1457806,
          -3.2114658,
          -2.6021,
          -4.464546,
          -2.746734,
          -3.891342,
          -4.0006895,
          -4.038142,
          -4.008004,
          -4.4928603,
          -4.6670184,
          -4.128289,
          -3.321387,
          -3.080749
         ],
         "xaxis": "x",
         "y": [
          0.76546556,
          0.979082,
          0.8253174,
          1.1042113,
          2.245378,
          0.8574366,
          0.17309302,
          3.3367827,
          0.71240616,
          1.2055731,
          4.350796,
          0.80714977,
          0.66588396,
          0.881146,
          1.4475176,
          1.494518,
          -0.008274421,
          4.4284983,
          1.2956002,
          0.49424294,
          2.861824,
          1.400635,
          3.1453328,
          2.1022344,
          1.435291,
          0.41668847,
          2.0365624,
          0.4160665,
          1.2836195,
          1.1320001,
          2.9493499,
          0.7641936,
          1.6732273,
          1.7447934,
          0.819294,
          1.3531353,
          0.2423153,
          0.9398329,
          0.4386546,
          2.203753,
          0.93677044,
          0.2198002,
          2.5809028,
          0.1638159,
          1.4570434,
          1.0092431,
          0.5591135,
          1.1926842,
          0.33900103,
          1.6009688
         ],
         "yaxis": "y"
        }
       ],
       "layout": {
        "autosize": true,
        "legend": {
         "title": {
          "text": "Cluster"
         },
         "tracegroupgap": 0
        },
        "margin": {
         "t": 60
        },
        "plot_bgcolor": "rgb(240,240,240)",
        "template": {
         "data": {
          "bar": [
           {
            "error_x": {
             "color": "#2a3f5f"
            },
            "error_y": {
             "color": "#2a3f5f"
            },
            "marker": {
             "line": {
              "color": "#E5ECF6",
              "width": 0.5
             },
             "pattern": {
              "fillmode": "overlay",
              "size": 10,
              "solidity": 0.2
             }
            },
            "type": "bar"
           }
          ],
          "barpolar": [
           {
            "marker": {
             "line": {
              "color": "#E5ECF6",
              "width": 0.5
             },
             "pattern": {
              "fillmode": "overlay",
              "size": 10,
              "solidity": 0.2
             }
            },
            "type": "barpolar"
           }
          ],
          "carpet": [
           {
            "aaxis": {
             "endlinecolor": "#2a3f5f",
             "gridcolor": "white",
             "linecolor": "white",
             "minorgridcolor": "white",
             "startlinecolor": "#2a3f5f"
            },
            "baxis": {
             "endlinecolor": "#2a3f5f",
             "gridcolor": "white",
             "linecolor": "white",
             "minorgridcolor": "white",
             "startlinecolor": "#2a3f5f"
            },
            "type": "carpet"
           }
          ],
          "choropleth": [
           {
            "colorbar": {
             "outlinewidth": 0,
             "ticks": ""
            },
            "type": "choropleth"
           }
          ],
          "contour": [
           {
            "colorbar": {
             "outlinewidth": 0,
             "ticks": ""
            },
            "colorscale": [
             [
              0,
              "#0d0887"
             ],
             [
              0.1111111111111111,
              "#46039f"
             ],
             [
              0.2222222222222222,
              "#7201a8"
             ],
             [
              0.3333333333333333,
              "#9c179e"
             ],
             [
              0.4444444444444444,
              "#bd3786"
             ],
             [
              0.5555555555555556,
              "#d8576b"
             ],
             [
              0.6666666666666666,
              "#ed7953"
             ],
             [
              0.7777777777777778,
              "#fb9f3a"
             ],
             [
              0.8888888888888888,
              "#fdca26"
             ],
             [
              1,
              "#f0f921"
             ]
            ],
            "type": "contour"
           }
          ],
          "contourcarpet": [
           {
            "colorbar": {
             "outlinewidth": 0,
             "ticks": ""
            },
            "type": "contourcarpet"
           }
          ],
          "heatmap": [
           {
            "colorbar": {
             "outlinewidth": 0,
             "ticks": ""
            },
            "colorscale": [
             [
              0,
              "#0d0887"
             ],
             [
              0.1111111111111111,
              "#46039f"
             ],
             [
              0.2222222222222222,
              "#7201a8"
             ],
             [
              0.3333333333333333,
              "#9c179e"
             ],
             [
              0.4444444444444444,
              "#bd3786"
             ],
             [
              0.5555555555555556,
              "#d8576b"
             ],
             [
              0.6666666666666666,
              "#ed7953"
             ],
             [
              0.7777777777777778,
              "#fb9f3a"
             ],
             [
              0.8888888888888888,
              "#fdca26"
             ],
             [
              1,
              "#f0f921"
             ]
            ],
            "type": "heatmap"
           }
          ],
          "heatmapgl": [
           {
            "colorbar": {
             "outlinewidth": 0,
             "ticks": ""
            },
            "colorscale": [
             [
              0,
              "#0d0887"
             ],
             [
              0.1111111111111111,
              "#46039f"
             ],
             [
              0.2222222222222222,
              "#7201a8"
             ],
             [
              0.3333333333333333,
              "#9c179e"
             ],
             [
              0.4444444444444444,
              "#bd3786"
             ],
             [
              0.5555555555555556,
              "#d8576b"
             ],
             [
              0.6666666666666666,
              "#ed7953"
             ],
             [
              0.7777777777777778,
              "#fb9f3a"
             ],
             [
              0.8888888888888888,
              "#fdca26"
             ],
             [
              1,
              "#f0f921"
             ]
            ],
            "type": "heatmapgl"
           }
          ],
          "histogram": [
           {
            "marker": {
             "pattern": {
              "fillmode": "overlay",
              "size": 10,
              "solidity": 0.2
             }
            },
            "type": "histogram"
           }
          ],
          "histogram2d": [
           {
            "colorbar": {
             "outlinewidth": 0,
             "ticks": ""
            },
            "colorscale": [
             [
              0,
              "#0d0887"
             ],
             [
              0.1111111111111111,
              "#46039f"
             ],
             [
              0.2222222222222222,
              "#7201a8"
             ],
             [
              0.3333333333333333,
              "#9c179e"
             ],
             [
              0.4444444444444444,
              "#bd3786"
             ],
             [
              0.5555555555555556,
              "#d8576b"
             ],
             [
              0.6666666666666666,
              "#ed7953"
             ],
             [
              0.7777777777777778,
              "#fb9f3a"
             ],
             [
              0.8888888888888888,
              "#fdca26"
             ],
             [
              1,
              "#f0f921"
             ]
            ],
            "type": "histogram2d"
           }
          ],
          "histogram2dcontour": [
           {
            "colorbar": {
             "outlinewidth": 0,
             "ticks": ""
            },
            "colorscale": [
             [
              0,
              "#0d0887"
             ],
             [
              0.1111111111111111,
              "#46039f"
             ],
             [
              0.2222222222222222,
              "#7201a8"
             ],
             [
              0.3333333333333333,
              "#9c179e"
             ],
             [
              0.4444444444444444,
              "#bd3786"
             ],
             [
              0.5555555555555556,
              "#d8576b"
             ],
             [
              0.6666666666666666,
              "#ed7953"
             ],
             [
              0.7777777777777778,
              "#fb9f3a"
             ],
             [
              0.8888888888888888,
              "#fdca26"
             ],
             [
              1,
              "#f0f921"
             ]
            ],
            "type": "histogram2dcontour"
           }
          ],
          "mesh3d": [
           {
            "colorbar": {
             "outlinewidth": 0,
             "ticks": ""
            },
            "type": "mesh3d"
           }
          ],
          "parcoords": [
           {
            "line": {
             "colorbar": {
              "outlinewidth": 0,
              "ticks": ""
             }
            },
            "type": "parcoords"
           }
          ],
          "pie": [
           {
            "automargin": true,
            "type": "pie"
           }
          ],
          "scatter": [
           {
            "fillpattern": {
             "fillmode": "overlay",
             "size": 10,
             "solidity": 0.2
            },
            "type": "scatter"
           }
          ],
          "scatter3d": [
           {
            "line": {
             "colorbar": {
              "outlinewidth": 0,
              "ticks": ""
             }
            },
            "marker": {
             "colorbar": {
              "outlinewidth": 0,
              "ticks": ""
             }
            },
            "type": "scatter3d"
           }
          ],
          "scattercarpet": [
           {
            "marker": {
             "colorbar": {
              "outlinewidth": 0,
              "ticks": ""
             }
            },
            "type": "scattercarpet"
           }
          ],
          "scattergeo": [
           {
            "marker": {
             "colorbar": {
              "outlinewidth": 0,
              "ticks": ""
             }
            },
            "type": "scattergeo"
           }
          ],
          "scattergl": [
           {
            "marker": {
             "colorbar": {
              "outlinewidth": 0,
              "ticks": ""
             }
            },
            "type": "scattergl"
           }
          ],
          "scattermapbox": [
           {
            "marker": {
             "colorbar": {
              "outlinewidth": 0,
              "ticks": ""
             }
            },
            "type": "scattermapbox"
           }
          ],
          "scatterpolar": [
           {
            "marker": {
             "colorbar": {
              "outlinewidth": 0,
              "ticks": ""
             }
            },
            "type": "scatterpolar"
           }
          ],
          "scatterpolargl": [
           {
            "marker": {
             "colorbar": {
              "outlinewidth": 0,
              "ticks": ""
             }
            },
            "type": "scatterpolargl"
           }
          ],
          "scatterternary": [
           {
            "marker": {
             "colorbar": {
              "outlinewidth": 0,
              "ticks": ""
             }
            },
            "type": "scatterternary"
           }
          ],
          "surface": [
           {
            "colorbar": {
             "outlinewidth": 0,
             "ticks": ""
            },
            "colorscale": [
             [
              0,
              "#0d0887"
             ],
             [
              0.1111111111111111,
              "#46039f"
             ],
             [
              0.2222222222222222,
              "#7201a8"
             ],
             [
              0.3333333333333333,
              "#9c179e"
             ],
             [
              0.4444444444444444,
              "#bd3786"
             ],
             [
              0.5555555555555556,
              "#d8576b"
             ],
             [
              0.6666666666666666,
              "#ed7953"
             ],
             [
              0.7777777777777778,
              "#fb9f3a"
             ],
             [
              0.8888888888888888,
              "#fdca26"
             ],
             [
              1,
              "#f0f921"
             ]
            ],
            "type": "surface"
           }
          ],
          "table": [
           {
            "cells": {
             "fill": {
              "color": "#EBF0F8"
             },
             "line": {
              "color": "white"
             }
            },
            "header": {
             "fill": {
              "color": "#C8D4E3"
             },
             "line": {
              "color": "white"
             }
            },
            "type": "table"
           }
          ]
         },
         "layout": {
          "annotationdefaults": {
           "arrowcolor": "#2a3f5f",
           "arrowhead": 0,
           "arrowwidth": 1
          },
          "autotypenumbers": "strict",
          "coloraxis": {
           "colorbar": {
            "outlinewidth": 0,
            "ticks": ""
           }
          },
          "colorscale": {
           "diverging": [
            [
             0,
             "#8e0152"
            ],
            [
             0.1,
             "#c51b7d"
            ],
            [
             0.2,
             "#de77ae"
            ],
            [
             0.3,
             "#f1b6da"
            ],
            [
             0.4,
             "#fde0ef"
            ],
            [
             0.5,
             "#f7f7f7"
            ],
            [
             0.6,
             "#e6f5d0"
            ],
            [
             0.7,
             "#b8e186"
            ],
            [
             0.8,
             "#7fbc41"
            ],
            [
             0.9,
             "#4d9221"
            ],
            [
             1,
             "#276419"
            ]
           ],
           "sequential": [
            [
             0,
             "#0d0887"
            ],
            [
             0.1111111111111111,
             "#46039f"
            ],
            [
             0.2222222222222222,
             "#7201a8"
            ],
            [
             0.3333333333333333,
             "#9c179e"
            ],
            [
             0.4444444444444444,
             "#bd3786"
            ],
            [
             0.5555555555555556,
             "#d8576b"
            ],
            [
             0.6666666666666666,
             "#ed7953"
            ],
            [
             0.7777777777777778,
             "#fb9f3a"
            ],
            [
             0.8888888888888888,
             "#fdca26"
            ],
            [
             1,
             "#f0f921"
            ]
           ],
           "sequentialminus": [
            [
             0,
             "#0d0887"
            ],
            [
             0.1111111111111111,
             "#46039f"
            ],
            [
             0.2222222222222222,
             "#7201a8"
            ],
            [
             0.3333333333333333,
             "#9c179e"
            ],
            [
             0.4444444444444444,
             "#bd3786"
            ],
            [
             0.5555555555555556,
             "#d8576b"
            ],
            [
             0.6666666666666666,
             "#ed7953"
            ],
            [
             0.7777777777777778,
             "#fb9f3a"
            ],
            [
             0.8888888888888888,
             "#fdca26"
            ],
            [
             1,
             "#f0f921"
            ]
           ]
          },
          "colorway": [
           "#636efa",
           "#EF553B",
           "#00cc96",
           "#ab63fa",
           "#FFA15A",
           "#19d3f3",
           "#FF6692",
           "#B6E880",
           "#FF97FF",
           "#FECB52"
          ],
          "font": {
           "color": "#2a3f5f"
          },
          "geo": {
           "bgcolor": "white",
           "lakecolor": "white",
           "landcolor": "#E5ECF6",
           "showlakes": true,
           "showland": true,
           "subunitcolor": "white"
          },
          "hoverlabel": {
           "align": "left"
          },
          "hovermode": "closest",
          "mapbox": {
           "style": "light"
          },
          "paper_bgcolor": "white",
          "plot_bgcolor": "#E5ECF6",
          "polar": {
           "angularaxis": {
            "gridcolor": "white",
            "linecolor": "white",
            "ticks": ""
           },
           "bgcolor": "#E5ECF6",
           "radialaxis": {
            "gridcolor": "white",
            "linecolor": "white",
            "ticks": ""
           }
          },
          "scene": {
           "xaxis": {
            "backgroundcolor": "#E5ECF6",
            "gridcolor": "white",
            "gridwidth": 2,
            "linecolor": "white",
            "showbackground": true,
            "ticks": "",
            "zerolinecolor": "white"
           },
           "yaxis": {
            "backgroundcolor": "#E5ECF6",
            "gridcolor": "white",
            "gridwidth": 2,
            "linecolor": "white",
            "showbackground": true,
            "ticks": "",
            "zerolinecolor": "white"
           },
           "zaxis": {
            "backgroundcolor": "#E5ECF6",
            "gridcolor": "white",
            "gridwidth": 2,
            "linecolor": "white",
            "showbackground": true,
            "ticks": "",
            "zerolinecolor": "white"
           }
          },
          "shapedefaults": {
           "line": {
            "color": "#2a3f5f"
           }
          },
          "ternary": {
           "aaxis": {
            "gridcolor": "white",
            "linecolor": "white",
            "ticks": ""
           },
           "baxis": {
            "gridcolor": "white",
            "linecolor": "white",
            "ticks": ""
           },
           "bgcolor": "#E5ECF6",
           "caxis": {
            "gridcolor": "white",
            "linecolor": "white",
            "ticks": ""
           }
          },
          "title": {
           "x": 0.05
          },
          "xaxis": {
           "automargin": true,
           "gridcolor": "white",
           "linecolor": "white",
           "ticks": "",
           "title": {
            "standoff": 15
           },
           "zerolinecolor": "white",
           "zerolinewidth": 2
          },
          "yaxis": {
           "automargin": true,
           "gridcolor": "white",
           "linecolor": "white",
           "ticks": "",
           "title": {
            "standoff": 15
           },
           "zerolinecolor": "white",
           "zerolinewidth": 2
          }
         }
        },
        "title": {
         "text": "2D Cluster PCA Plot"
        },
        "xaxis": {
         "anchor": "y",
         "autorange": true,
         "domain": [
          0,
          1
         ],
         "range": [
          -5.761433499207529,
          7.512208799207529
         ],
         "title": {
          "text": "PCA1"
         },
         "type": "linear"
        },
        "yaxis": {
         "anchor": "x",
         "autorange": true,
         "domain": [
          0,
          1
         ],
         "range": [
          -3.519913340897909,
          4.919254240897909
         ],
         "title": {
          "text": "PCA2"
         },
         "type": "linear"
        }
       }
      },
      "image/png": "[encoded data removed]",
      "text/html": [
       "<div>                            <div id=\"3005e796-33a6-417a-8df9-02cdda13e815\" class=\"plotly-graph-div\" style=\"height:600px; width:100%;\"></div>            <script type=\"text/javascript\">                require([\"plotly\"], function(Plotly) {                    window.PLOTLYENV=window.PLOTLYENV || {};                                    if (document.getElementById(\"3005e796-33a6-417a-8df9-02cdda13e815\")) {                    Plotly.newPlot(                        \"3005e796-33a6-417a-8df9-02cdda13e815\",                        [{\"customdata\":[[12.73],[13.16],[11.43],[12.08],[13.02],[12.74],[11.84],[13.45],[11.18],[13.16],[12.78],[13.22],[12.36],[11.23],[11.42],[13.54],[13.5],[12.88],[12.72],[12.7],[11.34],[12.19],[12.37],[11.18],[12.67],[12.76],[12.62],[12.11],[11.87],[11.36],[12.11],[11.56],[12.21],[11.02],[11.24],[12.15],[12.1],[12.54],[11.27]],\"hovertemplate\":\"Cluster=Cluster 0\\u003cbr\\u003ePCA1=%{x}\\u003cbr\\u003ePCA2=%{y}\\u003cbr\\u003eFeature=%{customdata[0]}\\u003cextra\\u003e\\u003c\\u002fextra\\u003e\",\"legendgroup\":\"Cluster 0\",\"marker\":{\"color\":\"#636efa\",\"opacity\":0.5,\"symbol\":\"circle\"},\"mode\":\"markers\",\"name\":\"Cluster 0\",\"orientation\":\"v\",\"showlegend\":true,\"x\":[-2.2811782,-1.9002978,-3.5687587,-2.8724916,-2.020876,-2.2060864,-3.3316815,-1.4995815,-3.9658897,-1.551747,-2.0811973,-1.8642579,-2.8853602,-4.0269814,-3.7162611,-1.3837326,-1.3799822,-2.1859088,-2.4559433,-2.2613907,-3.9013703,-3.0426145,-2.785378,-4.2155833,-2.3569484,-2.3716803,-2.3605993,-3.1113703,-3.3632839,-3.8516726,-2.798827,-3.5638306,-2.6300967,-4.2023244,-4.439457,-2.8944325,-2.9630768,-2.3699327,-4.039735],\"xaxis\":\"x\",\"y\":[-0.41652393,-1.4835008,-1.8712848,-2.6226344,-0.5660885,-1.4542724,-0.47145808,-0.33542085,-0.803416,-3.0291574,-2.7841704,0.24962394,-0.8340111,-1.907614,-1.4027109,-1.2746234,-1.6135114,-1.6296537,0.11812628,-0.67785394,-0.7912344,-0.42167962,-0.094652176,-0.12760319,-1.666157,-1.1639613,-0.64607126,0.084081344,-0.4773494,-0.062614806,-2.5484633,-0.013758629,-2.3302724,-1.549665,-1.7128059,-0.36323354,-1.839359,-0.8571365,-0.16351667],\"yaxis\":\"y\",\"type\":\"scatter\",\"textposition\":\"top center\"},{\"customdata\":[[16.53],[17.12],[20.2],[19.57],[18.72],[18.95],[20.71],[17.32],[19.51],[16.77],[18.94],[18.27],[18.17],[18.98],[18.85],[18.83],[19.18],[19.46],[17.99],[18.55],[18.72],[16.82],[18.88],[18.98],[16.87],[18.36],[18.59],[18.81],[18.76],[20.1],[20.88],[21.18],[19.31],[19.11],[19.15],[16.84],[17.36],[18.94],[17.08],[18.3],[17.55],[20.16],[17.98],[18.65],[17.26],[18.43],[18.14],[18.75],[20.03],[17.63],[18.45],[20.24],[19.13],[19.14],[20.97],[19.38],[18.96],[17.63],[18.89],[19.06],[19.94]],\"hovertemplate\":\"Cluster=Cluster 1\\u003cbr\\u003ePCA1=%{x}\\u003cbr\\u003ePCA2=%{y}\\u003cbr\\u003eFeature=%{customdata[0]}\\u003cextra\\u003e\\u003c\\u002fextra\\u003e\",\"legendgroup\":\"Cluster 1\",\"marker\":{\"color\":\"#EF553B\",\"opacity\":0.5,\"symbol\":\"circle\"},\"mode\":\"markers\",\"name\":\"Cluster 1\",\"orientation\":\"v\",\"showlegend\":true,\"x\":[1.710743,2.6118572,5.7509847,5.5746303,4.0669537,4.64471,6.4906673,2.8572829,5.3279443,2.0977767,4.5130982,4.0034156,3.9449034,4.8086934,4.515455,4.518889,4.952873,4.9964375,3.6252139,4.344307,4.5269833,2.227378,4.688788,4.9183035,2.3936892,4.0541644,3.8234951,4.469576,4.399103,6.1393585,6.491997,6.7396073,5.0484977,4.7679157,4.8764696,2.232989,2.9029088,4.615776,2.4739666,3.8582113,2.7414298,6.1687527,3.6133819,4.241165,2.641271,3.9825282,3.7162344,4.2506604,5.892896,3.1823945,4.1495357,5.725229,4.88187,4.49559,6.7011857,5.09661,4.3909945,3.1342974,4.4606576,4.9050007,5.845639],\"xaxis\":\"x\",\"y\":[2.0565746,-0.5407056,2.1468534,-1.5780308,2.094369,0.21565904,1.5240179,0.47581157,-0.11436019,1.4832287,1.9228942,-0.7792036,-0.36248133,0.58581936,-0.3280735,-0.635668,0.24759531,1.1827459,-1.2227788,-1.4659756,-0.98285437,0.5795816,-1.5123198,-0.9574332,0.29887992,1.7573371,2.7475758,0.06221426,-0.06851157,-1.0190303,2.0741577,2.8666105,0.3739546,-0.21682093,-0.044712234,1.2564285,0.17983343,-0.264098,-0.4749024,-0.41981307,1.9818037,-1.0750875,-1.0281092,1.2029597,1.1554612,-0.26178998,0.36174154,0.98116755,0.055926733,0.7688587,-0.9970773,2.873036,-1.0406257,3.5236251,1.7611676,0.5680045,1.1283884,0.42205116,0.45674023,-0.8752058,0.25901797],\"yaxis\":\"y\",\"type\":\"scatter\",\"textposition\":\"top center\"},{\"customdata\":[[15.99],[15.38],[16.16],[15.56],[15.38],[16.17],[15.57],[15.6],[16.23],[15.26],[14.37],[16.19],[15.01],[14.88],[14.29],[13.84],[16.14],[15.88],[14.11],[14.38],[14.69],[14.11],[14.16],[15.69],[14.11],[16.41],[16.63],[16.44],[14.59],[13.74],[13.78],[13.89],[15.26],[14.7],[15.49],[14.03],[13.94],[14.01],[14.34],[15.38],[14.92],[14.46],[15.03],[14.52],[14.33],[14.49],[14.09],[14.43],[14.86],[14.79],[15.78],[15.36],[13.8],[15.11],[15.5],[15.05],[16.12],[16.2],[14.99],[14.8]],\"hovertemplate\":\"Cluster=Cluster 2\\u003cbr\\u003ePCA1=%{x}\\u003cbr\\u003ePCA2=%{y}\\u003cbr\\u003eFeature=%{customdata[0]}\\u003cextra\\u003e\\u003c\\u002fextra\\u003e\",\"legendgroup\":\"Cluster 2\",\"marker\":{\"color\":\"#00cc96\",\"opacity\":0.5,\"symbol\":\"circle\"},\"mode\":\"markers\",\"name\":\"Cluster 2\",\"orientation\":\"v\",\"showlegend\":true,\"x\":[1.1505636,0.6121973,1.5020868,0.71417916,0.5268295,1.5038364,1.1002467,1.0778795,1.5896217,0.65304273,-0.25971815,1.7859274,0.4186285,0.28621495,-0.6728262,-1.0733638,1.5947609,1.3746839,-0.69744503,-0.49065676,-0.18078183,-0.75122553,-0.63128555,1.0334038,-0.73996675,1.6695429,2.2723882,1.9651545,-0.49995515,-1.1969637,-1.1712033,-1.2056329,0.3884508,-0.1774831,0.76565063,-0.73269826,-0.8374903,-0.71922183,-0.2833216,0.7534661,0.25217482,-0.38544682,0.46371996,-0.001224816,-0.56679153,-0.34134296,-0.75652874,-0.49606887,0.24127015,0.0076092756,0.7429429,0.7958719,-0.98441845,0.28113148,0.65203345,0.42654535,0.14714295,1.6494038,0.19176988,0.010669409],\"xaxis\":\"x\",\"y\":[-0.26141948,0.86531264,0.76123655,1.3839535,-0.04527625,0.7756795,-0.9038334,-0.8310668,0.27506438,-1.412405,-2.2678902,-2.6107626,-1.8775864,-2.6790178,-1.1094505,-1.595582,-2.1931448,-2.8125675,-1.0920426,-1.3177577,-0.13621485,-1.0420781,-0.6963206,-2.0173018,-1.0829186,0.71356934,-1.3839487,-1.5113094,0.40096825,-0.9202499,-0.7116193,0.12868439,0.89567316,-2.0061045,-0.20583008,-2.084698,-1.6817536,-1.5686616,-2.4290762,-1.6305004,-2.5590057,-0.96159947,-1.7097301,-2.2075124,-0.4369119,0.39627045,0.14763115,0.21684654,-1.5433592,-1.0080136,1.9720412,-2.2632496,-2.2718477,-0.5541628,1.1021419,-1.5245675,1.8380221,-0.6876233,-0.7320724,-0.5857698],\"yaxis\":\"y\",\"type\":\"scatter\",\"textposition\":\"top center\"},{\"customdata\":[[13.37],[12.46],[12.19],[11.65],[12.89],[11.81],[11.23],[11.23],[10.59],[10.93],[13.2],[11.41],[10.82],[12.8],[12.38],[12.79],[10.91],[12.7],[11.49],[10.74],[14.28],[13.07],[13.32],[13.34],[12.22],[11.82],[11.21],[12.49],[10.79],[11.83],[12.01],[12.26],[11.19],[11.48],[12.13],[13.99],[12.02],[12.05],[12.55],[11.14],[12.44],[11.35],[11.55],[11.27],[11.4],[10.83],[10.8],[11.26],[11.75],[12.3]],\"hovertemplate\":\"Cluster=Cluster 3\\u003cbr\\u003ePCA1=%{x}\\u003cbr\\u003ePCA2=%{y}\\u003cbr\\u003eFeature=%{customdata[0]}\\u003cextra\\u003e\\u003c\\u002fextra\\u003e\",\"legendgroup\":\"Cluster 3\",\"marker\":{\"color\":\"#ab63fa\",\"opacity\":0.5,\"symbol\":\"circle\"},\"mode\":\"markers\",\"name\":\"Cluster 3\",\"orientation\":\"v\",\"showlegend\":true,\"x\":[-1.8186855,-2.8229191,-3.0756924,-3.7366338,-2.3774698,-3.3508966,-4.0997624,-4.5009456,-4.988832,-4.5361485,-2.4406552,-4.0172048,-4.542918,-2.514859,-2.9557636,-2.5623603,-4.423539,-3.027229,-3.804482,-4.6558104,-1.0733411,-2.0544012,-2.0000086,-1.8979795,-3.1235595,-3.343158,-4.186306,-2.730717,-4.564707,-3.4691277,-3.3918762,-2.864927,-4.20735,-3.9872699,-2.9652762,-1.3576841,-3.1457806,-3.2114658,-2.6021,-4.464546,-2.746734,-3.891342,-4.0006895,-4.038142,-4.008004,-4.4928603,-4.6670184,-4.128289,-3.321387,-3.080749],\"xaxis\":\"x\",\"y\":[0.76546556,0.979082,0.8253174,1.1042113,2.245378,0.8574366,0.17309302,3.3367827,0.71240616,1.2055731,4.350796,0.80714977,0.66588396,0.881146,1.4475176,1.494518,-0.008274421,4.4284983,1.2956002,0.49424294,2.861824,1.400635,3.1453328,2.1022344,1.435291,0.41668847,2.0365624,0.4160665,1.2836195,1.1320001,2.9493499,0.7641936,1.6732273,1.7447934,0.819294,1.3531353,0.2423153,0.9398329,0.4386546,2.203753,0.93677044,0.2198002,2.5809028,0.1638159,1.4570434,1.0092431,0.5591135,1.1926842,0.33900103,1.6009688],\"yaxis\":\"y\",\"type\":\"scatter\",\"textposition\":\"top center\"}],                        {\"template\":{\"data\":{\"histogram2dcontour\":[{\"type\":\"histogram2dcontour\",\"colorbar\":{\"outlinewidth\":0,\"ticks\":\"\"},\"colorscale\":[[0.0,\"#0d0887\"],[0.1111111111111111,\"#46039f\"],[0.2222222222222222,\"#7201a8\"],[0.3333333333333333,\"#9c179e\"],[0.4444444444444444,\"#bd3786\"],[0.5555555555555556,\"#d8576b\"],[0.6666666666666666,\"#ed7953\"],[0.7777777777777778,\"#fb9f3a\"],[0.8888888888888888,\"#fdca26\"],[1.0,\"#f0f921\"]]}],\"choropleth\":[{\"type\":\"choropleth\",\"colorbar\":{\"outlinewidth\":0,\"ticks\":\"\"}}],\"histogram2d\":[{\"type\":\"histogram2d\",\"colorbar\":{\"outlinewidth\":0,\"ticks\":\"\"},\"colorscale\":[[0.0,\"#0d0887\"],[0.1111111111111111,\"#46039f\"],[0.2222222222222222,\"#7201a8\"],[0.3333333333333333,\"#9c179e\"],[0.4444444444444444,\"#bd3786\"],[0.5555555555555556,\"#d8576b\"],[0.6666666666666666,\"#ed7953\"],[0.7777777777777778,\"#fb9f3a\"],[0.8888888888888888,\"#fdca26\"],[1.0,\"#f0f921\"]]}],\"heatmap\":[{\"type\":\"heatmap\",\"colorbar\":{\"outlinewidth\":0,\"ticks\":\"\"},\"colorscale\":[[0.0,\"#0d0887\"],[0.1111111111111111,\"#46039f\"],[0.2222222222222222,\"#7201a8\"],[0.3333333333333333,\"#9c179e\"],[0.4444444444444444,\"#bd3786\"],[0.5555555555555556,\"#d8576b\"],[0.6666666666666666,\"#ed7953\"],[0.7777777777777778,\"#fb9f3a\"],[0.8888888888888888,\"#fdca26\"],[1.0,\"#f0f921\"]]}],\"heatmapgl\":[{\"type\":\"heatmapgl\",\"colorbar\":{\"outlinewidth\":0,\"ticks\":\"\"},\"colorscale\":[[0.0,\"#0d0887\"],[0.1111111111111111,\"#46039f\"],[0.2222222222222222,\"#7201a8\"],[0.3333333333333333,\"#9c179e\"],[0.4444444444444444,\"#bd3786\"],[0.5555555555555556,\"#d8576b\"],[0.6666666666666666,\"#ed7953\"],[0.7777777777777778,\"#fb9f3a\"],[0.8888888888888888,\"#fdca26\"],[1.0,\"#f0f921\"]]}],\"contourcarpet\":[{\"type\":\"contourcarpet\",\"colorbar\":{\"outlinewidth\":0,\"ticks\":\"\"}}],\"contour\":[{\"type\":\"contour\",\"colorbar\":{\"outlinewidth\":0,\"ticks\":\"\"},\"colorscale\":[[0.0,\"#0d0887\"],[0.1111111111111111,\"#46039f\"],[0.2222222222222222,\"#7201a8\"],[0.3333333333333333,\"#9c179e\"],[0.4444444444444444,\"#bd3786\"],[0.5555555555555556,\"#d8576b\"],[0.6666666666666666,\"#ed7953\"],[0.7777777777777778,\"#fb9f3a\"],[0.8888888888888888,\"#fdca26\"],[1.0,\"#f0f921\"]]}],\"surface\":[{\"type\":\"surface\",\"colorbar\":{\"outlinewidth\":0,\"ticks\":\"\"},\"colorscale\":[[0.0,\"#0d0887\"],[0.1111111111111111,\"#46039f\"],[0.2222222222222222,\"#7201a8\"],[0.3333333333333333,\"#9c179e\"],[0.4444444444444444,\"#bd3786\"],[0.5555555555555556,\"#d8576b\"],[0.6666666666666666,\"#ed7953\"],[0.7777777777777778,\"#fb9f3a\"],[0.8888888888888888,\"#fdca26\"],[1.0,\"#f0f921\"]]}],\"mesh3d\":[{\"type\":\"mesh3d\",\"colorbar\":{\"outlinewidth\":0,\"ticks\":\"\"}}],\"scatter\":[{\"fillpattern\":{\"fillmode\":\"overlay\",\"size\":10,\"solidity\":0.2},\"type\":\"scatter\"}],\"parcoords\":[{\"type\":\"parcoords\",\"line\":{\"colorbar\":{\"outlinewidth\":0,\"ticks\":\"\"}}}],\"scatterpolargl\":[{\"type\":\"scatterpolargl\",\"marker\":{\"colorbar\":{\"outlinewidth\":0,\"ticks\":\"\"}}}],\"bar\":[{\"error_x\":{\"color\":\"#2a3f5f\"},\"error_y\":{\"color\":\"#2a3f5f\"},\"marker\":{\"line\":{\"color\":\"#E5ECF6\",\"width\":0.5},\"pattern\":{\"fillmode\":\"overlay\",\"size\":10,\"solidity\":0.2}},\"type\":\"bar\"}],\"scattergeo\":[{\"type\":\"scattergeo\",\"marker\":{\"colorbar\":{\"outlinewidth\":0,\"ticks\":\"\"}}}],\"scatterpolar\":[{\"type\":\"scatterpolar\",\"marker\":{\"colorbar\":{\"outlinewidth\":0,\"ticks\":\"\"}}}],\"histogram\":[{\"marker\":{\"pattern\":{\"fillmode\":\"overlay\",\"size\":10,\"solidity\":0.2}},\"type\":\"histogram\"}],\"scattergl\":[{\"type\":\"scattergl\",\"marker\":{\"colorbar\":{\"outlinewidth\":0,\"ticks\":\"\"}}}],\"scatter3d\":[{\"type\":\"scatter3d\",\"line\":{\"colorbar\":{\"outlinewidth\":0,\"ticks\":\"\"}},\"marker\":{\"colorbar\":{\"outlinewidth\":0,\"ticks\":\"\"}}}],\"scattermapbox\":[{\"type\":\"scattermapbox\",\"marker\":{\"colorbar\":{\"outlinewidth\":0,\"ticks\":\"\"}}}],\"scatterternary\":[{\"type\":\"scatterternary\",\"marker\":{\"colorbar\":{\"outlinewidth\":0,\"ticks\":\"\"}}}],\"scattercarpet\":[{\"type\":\"scattercarpet\",\"marker\":{\"colorbar\":{\"outlinewidth\":0,\"ticks\":\"\"}}}],\"carpet\":[{\"aaxis\":{\"endlinecolor\":\"#2a3f5f\",\"gridcolor\":\"white\",\"linecolor\":\"white\",\"minorgridcolor\":\"white\",\"startlinecolor\":\"#2a3f5f\"},\"baxis\":{\"endlinecolor\":\"#2a3f5f\",\"gridcolor\":\"white\",\"linecolor\":\"white\",\"minorgridcolor\":\"white\",\"startlinecolor\":\"#2a3f5f\"},\"type\":\"carpet\"}],\"table\":[{\"cells\":{\"fill\":{\"color\":\"#EBF0F8\"},\"line\":{\"color\":\"white\"}},\"header\":{\"fill\":{\"color\":\"#C8D4E3\"},\"line\":{\"color\":\"white\"}},\"type\":\"table\"}],\"barpolar\":[{\"marker\":{\"line\":{\"color\":\"#E5ECF6\",\"width\":0.5},\"pattern\":{\"fillmode\":\"overlay\",\"size\":10,\"solidity\":0.2}},\"type\":\"barpolar\"}],\"pie\":[{\"automargin\":true,\"type\":\"pie\"}]},\"layout\":{\"autotypenumbers\":\"strict\",\"colorway\":[\"#636efa\",\"#EF553B\",\"#00cc96\",\"#ab63fa\",\"#FFA15A\",\"#19d3f3\",\"#FF6692\",\"#B6E880\",\"#FF97FF\",\"#FECB52\"],\"font\":{\"color\":\"#2a3f5f\"},\"hovermode\":\"closest\",\"hoverlabel\":{\"align\":\"left\"},\"paper_bgcolor\":\"white\",\"plot_bgcolor\":\"#E5ECF6\",\"polar\":{\"bgcolor\":\"#E5ECF6\",\"angularaxis\":{\"gridcolor\":\"white\",\"linecolor\":\"white\",\"ticks\":\"\"},\"radialaxis\":{\"gridcolor\":\"white\",\"linecolor\":\"white\",\"ticks\":\"\"}},\"ternary\":{\"bgcolor\":\"#E5ECF6\",\"aaxis\":{\"gridcolor\":\"white\",\"linecolor\":\"white\",\"ticks\":\"\"},\"baxis\":{\"gridcolor\":\"white\",\"linecolor\":\"white\",\"ticks\":\"\"},\"caxis\":{\"gridcolor\":\"white\",\"linecolor\":\"white\",\"ticks\":\"\"}},\"coloraxis\":{\"colorbar\":{\"outlinewidth\":0,\"ticks\":\"\"}},\"colorscale\":{\"sequential\":[[0.0,\"#0d0887\"],[0.1111111111111111,\"#46039f\"],[0.2222222222222222,\"#7201a8\"],[0.3333333333333333,\"#9c179e\"],[0.4444444444444444,\"#bd3786\"],[0.5555555555555556,\"#d8576b\"],[0.6666666666666666,\"#ed7953\"],[0.7777777777777778,\"#fb9f3a\"],[0.8888888888888888,\"#fdca26\"],[1.0,\"#f0f921\"]],\"sequentialminus\":[[0.0,\"#0d0887\"],[0.1111111111111111,\"#46039f\"],[0.2222222222222222,\"#7201a8\"],[0.3333333333333333,\"#9c179e\"],[0.4444444444444444,\"#bd3786\"],[0.5555555555555556,\"#d8576b\"],[0.6666666666666666,\"#ed7953\"],[0.7777777777777778,\"#fb9f3a\"],[0.8888888888888888,\"#fdca26\"],[1.0,\"#f0f921\"]],\"diverging\":[[0,\"#8e0152\"],[0.1,\"#c51b7d\"],[0.2,\"#de77ae\"],[0.3,\"#f1b6da\"],[0.4,\"#fde0ef\"],[0.5,\"#f7f7f7\"],[0.6,\"#e6f5d0\"],[0.7,\"#b8e186\"],[0.8,\"#7fbc41\"],[0.9,\"#4d9221\"],[1,\"#276419\"]]},\"xaxis\":{\"gridcolor\":\"white\",\"linecolor\":\"white\",\"ticks\":\"\",\"title\":{\"standoff\":15},\"zerolinecolor\":\"white\",\"automargin\":true,\"zerolinewidth\":2},\"yaxis\":{\"gridcolor\":\"white\",\"linecolor\":\"white\",\"ticks\":\"\",\"title\":{\"standoff\":15},\"zerolinecolor\":\"white\",\"automargin\":true,\"zerolinewidth\":2},\"scene\":{\"xaxis\":{\"backgroundcolor\":\"#E5ECF6\",\"gridcolor\":\"white\",\"linecolor\":\"white\",\"showbackground\":true,\"ticks\":\"\",\"zerolinecolor\":\"white\",\"gridwidth\":2},\"yaxis\":{\"backgroundcolor\":\"#E5ECF6\",\"gridcolor\":\"white\",\"linecolor\":\"white\",\"showbackground\":true,\"ticks\":\"\",\"zerolinecolor\":\"white\",\"gridwidth\":2},\"zaxis\":{\"backgroundcolor\":\"#E5ECF6\",\"gridcolor\":\"white\",\"linecolor\":\"white\",\"showbackground\":true,\"ticks\":\"\",\"zerolinecolor\":\"white\",\"gridwidth\":2}},\"shapedefaults\":{\"line\":{\"color\":\"#2a3f5f\"}},\"annotationdefaults\":{\"arrowcolor\":\"#2a3f5f\",\"arrowhead\":0,\"arrowwidth\":1},\"geo\":{\"bgcolor\":\"white\",\"landcolor\":\"#E5ECF6\",\"subunitcolor\":\"white\",\"showland\":true,\"showlakes\":true,\"lakecolor\":\"white\"},\"title\":{\"x\":0.05},\"mapbox\":{\"style\":\"light\"}}},\"xaxis\":{\"anchor\":\"y\",\"domain\":[0.0,1.0],\"title\":{\"text\":\"PCA1\"}},\"yaxis\":{\"anchor\":\"x\",\"domain\":[0.0,1.0],\"title\":{\"text\":\"PCA2\"}},\"legend\":{\"title\":{\"text\":\"Cluster\"},\"tracegroupgap\":0},\"margin\":{\"t\":60},\"plot_bgcolor\":\"rgb(240,240,240)\",\"title\":{\"text\":\"2D Cluster PCA Plot\"},\"height\":600},                        {\"responsive\": true}                    ).then(function(){\n",
       "                            \n",
       "var gd = document.getElementById('3005e796-33a6-417a-8df9-02cdda13e815');\n",
       "var x = new MutationObserver(function (mutations, observer) {{\n",
       "        var display = window.getComputedStyle(gd).display;\n",
       "        if (!display || display === 'none') {{\n",
       "            console.log([gd, 'removed!']);\n",
       "            Plotly.purge(gd);\n",
       "            observer.disconnect();\n",
       "        }}\n",
       "}});\n",
       "\n",
       "// Listen for the removal of the full notebook cells\n",
       "var notebookContainer = gd.closest('#notebook-container');\n",
       "if (notebookContainer) {{\n",
       "    x.observe(notebookContainer, {childList: true});\n",
       "}}\n",
       "\n",
       "// Listen for the clearing of the current output cell\n",
       "var outputEl = gd.closest('.output');\n",
       "if (outputEl) {{\n",
       "    x.observe(outputEl, {childList: true});\n",
       "}}\n",
       "\n",
       "                        })                };                });            </script>        </div>"
      ]
     },
     "metadata": {},
     "output_type": "display_data"
    }
   ],
   "source": [
    "plot_model(Kmeanmodel,plot='cluster')"
   ]
  },
  {
   "cell_type": "code",
   "execution_count": 34,
   "id": "e5f833fd-c6c5-4205-9dbb-6163c5ad5368",
   "metadata": {},
   "outputs": [
    {
     "data": {
      "text/html": [],
      "text/plain": [
       "<IPython.core.display.HTML object>"
      ]
     },
     "metadata": {},
     "output_type": "display_data"
    },
    {
     "data": {
      "application/vnd.plotly.v1+json": {
       "config": {
        "plotlyServerURL": "https://plot.ly"
       },
       "data": [
        {
         "customdata": [
          [
           12.73
          ],
          [
           13.16
          ],
          [
           11.43
          ],
          [
           12.08
          ],
          [
           13.02
          ],
          [
           12.74
          ],
          [
           11.84
          ],
          [
           13.45
          ],
          [
           11.18
          ],
          [
           13.16
          ],
          [
           12.78
          ],
          [
           13.22
          ],
          [
           12.36
          ],
          [
           11.23
          ],
          [
           11.42
          ],
          [
           13.54
          ],
          [
           13.5
          ],
          [
           12.88
          ],
          [
           12.72
          ],
          [
           12.7
          ],
          [
           11.34
          ],
          [
           12.19
          ],
          [
           12.37
          ],
          [
           11.18
          ],
          [
           12.67
          ],
          [
           12.76
          ],
          [
           12.62
          ],
          [
           12.11
          ],
          [
           11.87
          ],
          [
           11.36
          ],
          [
           12.11
          ],
          [
           11.56
          ],
          [
           12.21
          ],
          [
           11.02
          ],
          [
           11.24
          ],
          [
           12.15
          ],
          [
           12.1
          ],
          [
           12.54
          ],
          [
           11.27
          ]
         ],
         "hovertemplate": "Cluster=Cluster 0<br>0=%{x}<br>1=%{y}<br>2=%{z}<br>Feature=%{customdata[0]}<extra></extra>",
         "legendgroup": "Cluster 0",
         "marker": {
          "color": "#636efa",
          "opacity": 0.7,
          "symbol": "circle"
         },
         "mode": "markers",
         "name": "Cluster 0",
         "scene": "scene",
         "showlegend": true,
         "type": "scatter3d",
         "x": [
          -3.3599088,
          -2.5108967,
          -4.7224436,
          -3.7155278,
          -2.8074985,
          -2.999356,
          -5.2683053,
          -1.8390117,
          -6.009149,
          -2.279777,
          -2.897445,
          -2.7941136,
          -4.2206907,
          -5.0136194,
          -5.2273498,
          -1.5517498,
          -1.5436643,
          -2.8839192,
          -3.7294729,
          -3.3550656,
          -5.9040523,
          -4.6891484,
          -4.3129826,
          -6.7772474,
          -3.3711784,
          -3.2483454,
          -3.4753394,
          -4.921575,
          -5.31903,
          -6.33969,
          -3.5845058,
          -5.948597,
          -3.6112251,
          -5.1725545,
          -5.169524,
          -4.5447083,
          -4.027189,
          -3.4879196,
          -6.5278826
         ],
         "y": [
          1.8302959,
          2.527739,
          2.358207,
          2.6962597,
          1.8603969,
          2.5061812,
          1.5960318,
          1.5285516,
          1.4874235,
          2.8679638,
          2.819482,
          0.8943811,
          2.0070848,
          2.2412188,
          2.078127,
          2.3491821,
          2.5257847,
          2.57524,
          1.1652671,
          2.1074753,
          1.508967,
          1.6898211,
          1.447595,
          0.6285239,
          2.618266,
          2.3680978,
          2.0612268,
          1.2431563,
          1.5982356,
          0.9640352,
          2.7219694,
          1.1342928,
          2.7030203,
          0.099921,
          0.10431764,
          1.7993854,
          2.5202801,
          2.2903752,
          0.8480546
         ],
         "z": [
          -0.21830556,
          1.4276593,
          2.0288763,
          2.542066,
          0.0035087627,
          1.3060668,
          0.19030601,
          -0.25070313,
          0.8848838,
          2.9607482,
          2.758801,
          -1.1926793,
          0.6290557,
          1.9935806,
          1.6430193,
          1.2693051,
          1.7019325,
          1.5576192,
          -1.0664003,
          0.09933708,
          0.8845531,
          0.055097092,
          -0.63472676,
          0.3187625,
          1.6603037,
          1.0444053,
          0.06671939,
          -0.76534164,
          0.27070504,
          -0.05065785,
          2.5788655,
          -0.43893513,
          2.4214213,
          2.5446527,
          2.5453043,
          -0.23833679,
          1.9923247,
          0.24863024,
          0.25407818
         ]
        },
        {
         "customdata": [
          [
           16.53
          ],
          [
           17.12
          ],
          [
           20.2
          ],
          [
           19.57
          ],
          [
           18.72
          ],
          [
           18.95
          ],
          [
           20.71
          ],
          [
           17.32
          ],
          [
           19.51
          ],
          [
           16.77
          ],
          [
           18.94
          ],
          [
           18.27
          ],
          [
           18.17
          ],
          [
           18.98
          ],
          [
           18.85
          ],
          [
           18.83
          ],
          [
           19.18
          ],
          [
           19.46
          ],
          [
           17.99
          ],
          [
           18.55
          ],
          [
           18.72
          ],
          [
           16.82
          ],
          [
           18.88
          ],
          [
           18.98
          ],
          [
           16.87
          ],
          [
           18.36
          ],
          [
           18.59
          ],
          [
           18.81
          ],
          [
           18.76
          ],
          [
           20.1
          ],
          [
           20.88
          ],
          [
           21.18
          ],
          [
           19.31
          ],
          [
           19.11
          ],
          [
           19.15
          ],
          [
           16.84
          ],
          [
           17.36
          ],
          [
           18.94
          ],
          [
           17.08
          ],
          [
           18.3
          ],
          [
           17.55
          ],
          [
           20.16
          ],
          [
           17.98
          ],
          [
           18.65
          ],
          [
           17.26
          ],
          [
           18.43
          ],
          [
           18.14
          ],
          [
           18.75
          ],
          [
           20.03
          ],
          [
           17.63
          ],
          [
           18.45
          ],
          [
           20.24
          ],
          [
           19.13
          ],
          [
           19.14
          ],
          [
           20.97
          ],
          [
           19.38
          ],
          [
           18.96
          ],
          [
           17.63
          ],
          [
           18.89
          ],
          [
           19.06
          ],
          [
           19.94
          ]
         ],
         "hovertemplate": "Cluster=Cluster 1<br>0=%{x}<br>1=%{y}<br>2=%{z}<br>Feature=%{customdata[0]}<extra></extra>",
         "legendgroup": "Cluster 1",
         "marker": {
          "color": "#EF553B",
          "opacity": 0.7,
          "symbol": "circle"
         },
         "mode": "markers",
         "name": "Cluster 1",
         "scene": "scene",
         "showlegend": true,
         "type": "scatter3d",
         "x": [
          3.1996439,
          4.5312214,
          7.435744,
          9.2817955,
          6.035544,
          7.540634,
          8.062095,
          4.7531033,
          8.555558,
          3.6580448,
          6.402903,
          7.301379,
          6.8773403,
          7.7096562,
          7.6596,
          7.9091096,
          7.9925637,
          7.2332687,
          7.1529293,
          8.092271,
          8.051313,
          3.9611976,
          8.507932,
          8.553215,
          4.2340817,
          6.0448375,
          5.838387,
          7.3636966,
          7.353412,
          9.439413,
          7.8185925,
          7.6645336,
          7.974654,
          8.0273695,
          8.019176,
          3.8394604,
          4.8743753,
          7.831234,
          4.3687162,
          6.8939443,
          4.3467765,
          9.462057,
          7.016016,
          6.483395,
          4.313024,
          6.9491477,
          6.0862756,
          6.6334844,
          8.897556,
          5.086572,
          7.6571646,
          7.207055,
          8.555209,
          6.301009,
          7.9847565,
          7.8286395,
          6.7102795,
          5.137169,
          7.120641,
          8.486615,
          8.794247
         ],
         "y": [
          -0.69127315,
          0.5063813,
          -2.2410102,
          -0.45285916,
          -1.6376334,
          -0.68653816,
          -2.2784147,
          -0.20586972,
          -0.9072978,
          -0.57212234,
          -1.5548555,
          0.0069051604,
          -0.2535278,
          -0.782908,
          -0.4397907,
          0.12270366,
          -0.86280304,
          -1.426882,
          0.4604834,
          0.22069564,
          -0.13388161,
          -0.13249059,
          0.060938038,
          -0.5474922,
          -0.01371077,
          -1.2960497,
          -1.8517419,
          -0.53283364,
          -0.3265069,
          -0.84954387,
          -2.3901315,
          -2.4889133,
          -1.0295159,
          -0.26175833,
          -0.71877843,
          -0.48614535,
          -0.051258676,
          -0.16738306,
          0.52737194,
          0.122763716,
          -0.98787516,
          -0.8246685,
          0.38842148,
          -1.1163898,
          -0.5337919,
          0.024657298,
          -0.3783092,
          -1.024109,
          -1.2770766,
          -0.4204345,
          0.29601377,
          -2.3629818,
          0.055086814,
          -2.1862302,
          -2.368471,
          -1.2296209,
          -1.1965767,
          -0.23515883,
          -0.75783485,
          -0.3542159,
          -1.3677557
         ],
         "z": [
          -1.781735,
          0.45367903,
          -2.7593975,
          0.51194566,
          -2.4663837,
          -0.9524535,
          -2.5797396,
          -0.66315824,
          -0.769926,
          -1.4926443,
          -2.4217372,
          0.6878721,
          0.29625872,
          -1.6233411,
          -0.0819302,
          0.09705993,
          -1.1361715,
          -1.9791268,
          1.0865993,
          1.0771008,
          0.6793905,
          -0.74765086,
          0.9711523,
          0.5869257,
          -0.48387232,
          -2.2881591,
          -2.704797,
          -0.6567619,
          -0.48568615,
          -0.040286798,
          -2.7854528,
          -2.9358745,
          -1.253497,
          -0.5468958,
          -0.6604917,
          -1.3197278,
          -0.38011056,
          -0.41336727,
          0.4409018,
          0.2173258,
          -1.920909,
          -0.016254215,
          0.9468655,
          -1.8757204,
          -1.2739167,
          -0.067387596,
          -0.6849277,
          -1.6481178,
          -1.037547,
          -0.9408728,
          0.7369773,
          -2.9374573,
          0.4036371,
          -2.965821,
          -2.7044032,
          -1.4575545,
          -1.8230255,
          -0.627101,
          -1.1539537,
          0.3593183,
          -1.2401
         ]
        },
        {
         "customdata": [
          [
           15.99
          ],
          [
           15.38
          ],
          [
           16.16
          ],
          [
           15.56
          ],
          [
           15.38
          ],
          [
           16.17
          ],
          [
           15.57
          ],
          [
           15.6
          ],
          [
           16.23
          ],
          [
           15.26
          ],
          [
           14.37
          ],
          [
           16.19
          ],
          [
           15.01
          ],
          [
           14.88
          ],
          [
           14.29
          ],
          [
           13.84
          ],
          [
           16.14
          ],
          [
           15.88
          ],
          [
           14.11
          ],
          [
           14.38
          ],
          [
           14.69
          ],
          [
           14.11
          ],
          [
           14.16
          ],
          [
           15.69
          ],
          [
           14.11
          ],
          [
           16.41
          ],
          [
           16.63
          ],
          [
           16.44
          ],
          [
           14.59
          ],
          [
           13.74
          ],
          [
           13.78
          ],
          [
           13.89
          ],
          [
           15.26
          ],
          [
           14.7
          ],
          [
           15.49
          ],
          [
           14.03
          ],
          [
           13.94
          ],
          [
           14.01
          ],
          [
           14.34
          ],
          [
           15.38
          ],
          [
           14.92
          ],
          [
           14.46
          ],
          [
           15.03
          ],
          [
           14.52
          ],
          [
           14.33
          ],
          [
           14.49
          ],
          [
           14.09
          ],
          [
           14.43
          ],
          [
           14.86
          ],
          [
           14.79
          ],
          [
           15.78
          ],
          [
           15.36
          ],
          [
           13.8
          ],
          [
           15.11
          ],
          [
           15.5
          ],
          [
           15.05
          ],
          [
           16.12
          ],
          [
           16.2
          ],
          [
           14.99
          ],
          [
           14.8
          ]
         ],
         "hovertemplate": "Cluster=Cluster 2<br>0=%{x}<br>1=%{y}<br>2=%{z}<br>Feature=%{customdata[0]}<extra></extra>",
         "legendgroup": "Cluster 2",
         "marker": {
          "color": "#00cc96",
          "opacity": 0.7,
          "symbol": "circle"
         },
         "mode": "markers",
         "name": "Cluster 2",
         "scene": "scene",
         "showlegend": true,
         "type": "scatter3d",
         "x": [
          2.3528492,
          1.9959859,
          3.0330856,
          2.1912246,
          1.5914967,
          3.0258775,
          2.550791,
          2.5017257,
          3.1910336,
          1.8199863,
          0.4656849,
          3.0120537,
          1.5146148,
          1.3939226,
          -0.29312605,
          -0.98856556,
          2.9168367,
          2.6916997,
          -0.43090674,
          -0.030793019,
          0.47641125,
          -0.50606126,
          -0.29408368,
          2.355024,
          -0.52151024,
          3.2182047,
          3.7804055,
          3.4552274,
          -0.024772184,
          -1.1964831,
          -1.1460756,
          -1.0933429,
          1.6407175,
          0.6221039,
          1.8941861,
          -0.3314232,
          -0.6024494,
          -0.43690932,
          0.46339768,
          1.9622053,
          1.3371841,
          0.15874763,
          1.5402894,
          0.8256552,
          -0.12705801,
          0.33533376,
          -0.31292167,
          0.030053563,
          1.2654307,
          0.7880969,
          2.095164,
          2.0196764,
          -0.72007823,
          1.1938015,
          2.043933,
          1.5230728,
          0.5351347,
          3.193218,
          1.060573,
          0.7710516
         ],
         "y": [
          0.7491408,
          0.028109482,
          -0.10001952,
          -0.23293251,
          0.768788,
          -0.111850575,
          1.2696004,
          1.234251,
          0.17592531,
          1.819786,
          2.5438528,
          2.1316247,
          2.2411623,
          2.6734726,
          2.3361022,
          2.5751972,
          2.0518153,
          2.3303964,
          1.9616679,
          2.2838383,
          0.9977385,
          2.035761,
          1.6189085,
          2.191945,
          1.9009732,
          -0.104250565,
          1.2556838,
          1.4599969,
          0.55550885,
          2.028017,
          1.8215977,
          0.91847295,
          0.07032218,
          2.9863155,
          0.8435343,
          2.674814,
          2.4953756,
          2.3645911,
          2.6322656,
          1.9653411,
          2.6938622,
          1.8834164,
          1.9940839,
          2.315827,
          1.378713,
          0.6515524,
          0.90002257,
          0.7859307,
          1.9889317,
          1.7243581,
          -0.5259647,
          2.3419302,
          2.745559,
          1.2277998,
          -0.098543584,
          1.9336383,
          -0.6787124,
          0.96646017,
          1.4127791,
          1.3426532
         ],
         "z": [
          0.10448432,
          -1.1543593,
          -0.98039436,
          -1.437503,
          -0.17083587,
          -0.9968838,
          1.1248306,
          1.0316519,
          -0.49042952,
          1.7871146,
          2.8254058,
          2.7318575,
          2.3908195,
          3.068453,
          0.92039,
          1.6999288,
          2.555395,
          2.946936,
          1.0526285,
          1.3278371,
          -0.270352,
          0.9076154,
          0.37942132,
          2.5551622,
          1.097704,
          -0.9184996,
          1.4939162,
          1.7361324,
          -0.96061265,
          0.64521986,
          0.34636274,
          -0.80558527,
          -1.181404,
          2.3357685,
          0.07238772,
          2.484634,
          1.9495488,
          1.8306515,
          2.9194276,
          2.078203,
          2.993922,
          0.80619675,
          2.1801348,
          2.858647,
          0.050575428,
          -0.8317759,
          -0.6840347,
          -0.7103874,
          1.9304891,
          0.9672257,
          -1.7616953,
          2.756294,
          2.6155622,
          0.3580244,
          -1.2959023,
          1.9079342,
          -2.0411959,
          0.8047794,
          0.5959371,
          0.36247694
         ]
        },
        {
         "customdata": [
          [
           13.37
          ],
          [
           12.46
          ],
          [
           12.19
          ],
          [
           11.65
          ],
          [
           12.89
          ],
          [
           11.81
          ],
          [
           11.23
          ],
          [
           11.23
          ],
          [
           10.59
          ],
          [
           10.93
          ],
          [
           13.2
          ],
          [
           11.41
          ],
          [
           10.82
          ],
          [
           12.8
          ],
          [
           12.38
          ],
          [
           12.79
          ],
          [
           10.91
          ],
          [
           12.7
          ],
          [
           11.49
          ],
          [
           10.74
          ],
          [
           14.28
          ],
          [
           13.07
          ],
          [
           13.32
          ],
          [
           13.34
          ],
          [
           12.22
          ],
          [
           11.82
          ],
          [
           11.21
          ],
          [
           12.49
          ],
          [
           10.79
          ],
          [
           11.83
          ],
          [
           12.01
          ],
          [
           12.26
          ],
          [
           11.19
          ],
          [
           11.48
          ],
          [
           12.13
          ],
          [
           13.99
          ],
          [
           12.02
          ],
          [
           12.05
          ],
          [
           12.55
          ],
          [
           11.14
          ],
          [
           12.44
          ],
          [
           11.35
          ],
          [
           11.55
          ],
          [
           11.27
          ],
          [
           11.4
          ],
          [
           10.83
          ],
          [
           10.8
          ],
          [
           11.26
          ],
          [
           11.75
          ],
          [
           12.3
          ]
         ],
         "hovertemplate": "Cluster=Cluster 3<br>0=%{x}<br>1=%{y}<br>2=%{z}<br>Feature=%{customdata[0]}<extra></extra>",
         "legendgroup": "Cluster 3",
         "marker": {
          "color": "#ab63fa",
          "opacity": 0.7,
          "symbol": "circle"
         },
         "mode": "markers",
         "name": "Cluster 3",
         "scene": "scene",
         "showlegend": true,
         "type": "scatter3d",
         "x": [
          -2.9490035,
          -4.5251307,
          -5.0302224,
          -6.2732105,
          -3.9423892,
          -5.733615,
          -6.7913027,
          -5.769811,
          -7.5605116,
          -7.143547,
          -4.345234,
          -6.785942,
          -7.25512,
          -3.8608153,
          -4.7563367,
          -4.119976,
          -7.0165443,
          -4.5484295,
          -6.414462,
          -7.3131037,
          -3.2872467,
          -3.556789,
          -3.8572087,
          -3.5509803,
          -5.1164927,
          -5.599489,
          -6.4801865,
          -4.2690806,
          -7.180402,
          -5.8413725,
          -5.2985573,
          -4.877101,
          -6.7282043,
          -6.4267716,
          -5.089601,
          -2.539512,
          -5.2447534,
          -5.3153434,
          -4.1767416,
          -6.415574,
          -4.544609,
          -6.50568,
          -5.9202166,
          -6.7083287,
          -6.5877533,
          -7.236764,
          -7.354659,
          -6.817675,
          -5.688092,
          -4.9563923
         ],
         "y": [
          0.18584976,
          0.012751085,
          0.19263813,
          -0.6269566,
          -1.4509641,
          0.23474091,
          0.4232392,
          -2.6474626,
          -0.82604945,
          -1.2494034,
          -2.6106124,
          -0.3879424,
          -0.5687175,
          0.13243082,
          -0.6386233,
          -0.64006275,
          0.3179335,
          -2.6788108,
          -0.899725,
          -0.3995984,
          -1.8924273,
          -0.60022014,
          -2.0719972,
          -1.3450651,
          -0.6811905,
          0.7897139,
          -2.014023,
          0.8456629,
          -1.4042779,
          -0.43863583,
          -2.3792045,
          0.55068606,
          -1.6633583,
          -1.6277369,
          0.52089643,
          -0.5515537,
          1.0790707,
          -0.0069807423,
          0.8257713,
          -2.2521164,
          0.19987535,
          0.6329223,
          -2.3560853,
          0.5026773,
          -1.2693695,
          -1.040182,
          -0.5015521,
          -1.0097142,
          0.9701038,
          -0.8733013
         ],
         "z": [
          -1.8521476,
          -2.267485,
          -2.0001006,
          -1.8908441,
          -2.7543144,
          -1.9476908,
          -0.16106509,
          -2.4457579,
          -0.40903664,
          -1.2014674,
          -2.8232317,
          -1.2361535,
          -0.65085894,
          -2.1338606,
          -2.5861857,
          -2.6022522,
          0.11964929,
          -2.7941864,
          -1.991852,
          -0.3842307,
          -2.7789335,
          -2.493872,
          -2.8097787,
          -2.7028108,
          -2.514439,
          -1.2798908,
          -2.0431314,
          -1.4991008,
          -1.2747076,
          -2.1322632,
          -2.572833,
          -2.0641987,
          -1.830234,
          -2.0625508,
          -2.1635702,
          -2.218559,
          -1.09818,
          -2.125621,
          -1.573376,
          -2.072967,
          -2.2474854,
          -0.4339404,
          -2.3583279,
          -0.19287471,
          -1.8868307,
          -1.0734977,
          -0.39486963,
          -1.5781431,
          -1.2479722,
          -2.6051269
         ]
        }
       ],
       "layout": {
        "height": 800,
        "legend": {
         "title": {
          "text": "Cluster"
         },
         "tracegroupgap": 0
        },
        "scene": {
         "aspectmode": "auto",
         "aspectratio": {
          "x": 2.0389434822863817,
          "y": 0.6785622438739454,
          "z": 0.7227783263349677
         },
         "camera": {
          "center": {
           "x": 0.007028960040072491,
           "y": 0.0019949381192217335,
           "z": 1.0451142608556414e-19
          },
          "eye": {
           "x": 0.8238404204603301,
           "y": 6.2017880375063275,
           "z": 1.7389336773703592
          },
          "projection": {
           "type": "perspective"
          },
          "up": {
           "x": 0,
           "y": 0,
           "z": 1
          }
         },
         "domain": {
          "x": [
           0,
           1
          ],
          "y": [
           0,
           1
          ]
         },
         "xaxis": {
          "title": {
           "text": "0"
          },
          "type": "linear"
         },
         "yaxis": {
          "title": {
           "text": "1"
          },
          "type": "linear"
         },
         "zaxis": {
          "title": {
           "text": "2"
          },
          "type": "linear"
         }
        },
        "template": {
         "data": {
          "bar": [
           {
            "error_x": {
             "color": "#2a3f5f"
            },
            "error_y": {
             "color": "#2a3f5f"
            },
            "marker": {
             "line": {
              "color": "#E5ECF6",
              "width": 0.5
             },
             "pattern": {
              "fillmode": "overlay",
              "size": 10,
              "solidity": 0.2
             }
            },
            "type": "bar"
           }
          ],
          "barpolar": [
           {
            "marker": {
             "line": {
              "color": "#E5ECF6",
              "width": 0.5
             },
             "pattern": {
              "fillmode": "overlay",
              "size": 10,
              "solidity": 0.2
             }
            },
            "type": "barpolar"
           }
          ],
          "carpet": [
           {
            "aaxis": {
             "endlinecolor": "#2a3f5f",
             "gridcolor": "white",
             "linecolor": "white",
             "minorgridcolor": "white",
             "startlinecolor": "#2a3f5f"
            },
            "baxis": {
             "endlinecolor": "#2a3f5f",
             "gridcolor": "white",
             "linecolor": "white",
             "minorgridcolor": "white",
             "startlinecolor": "#2a3f5f"
            },
            "type": "carpet"
           }
          ],
          "choropleth": [
           {
            "colorbar": {
             "outlinewidth": 0,
             "ticks": ""
            },
            "type": "choropleth"
           }
          ],
          "contour": [
           {
            "colorbar": {
             "outlinewidth": 0,
             "ticks": ""
            },
            "colorscale": [
             [
              0,
              "#0d0887"
             ],
             [
              0.1111111111111111,
              "#46039f"
             ],
             [
              0.2222222222222222,
              "#7201a8"
             ],
             [
              0.3333333333333333,
              "#9c179e"
             ],
             [
              0.4444444444444444,
              "#bd3786"
             ],
             [
              0.5555555555555556,
              "#d8576b"
             ],
             [
              0.6666666666666666,
              "#ed7953"
             ],
             [
              0.7777777777777778,
              "#fb9f3a"
             ],
             [
              0.8888888888888888,
              "#fdca26"
             ],
             [
              1,
              "#f0f921"
             ]
            ],
            "type": "contour"
           }
          ],
          "contourcarpet": [
           {
            "colorbar": {
             "outlinewidth": 0,
             "ticks": ""
            },
            "type": "contourcarpet"
           }
          ],
          "heatmap": [
           {
            "colorbar": {
             "outlinewidth": 0,
             "ticks": ""
            },
            "colorscale": [
             [
              0,
              "#0d0887"
             ],
             [
              0.1111111111111111,
              "#46039f"
             ],
             [
              0.2222222222222222,
              "#7201a8"
             ],
             [
              0.3333333333333333,
              "#9c179e"
             ],
             [
              0.4444444444444444,
              "#bd3786"
             ],
             [
              0.5555555555555556,
              "#d8576b"
             ],
             [
              0.6666666666666666,
              "#ed7953"
             ],
             [
              0.7777777777777778,
              "#fb9f3a"
             ],
             [
              0.8888888888888888,
              "#fdca26"
             ],
             [
              1,
              "#f0f921"
             ]
            ],
            "type": "heatmap"
           }
          ],
          "heatmapgl": [
           {
            "colorbar": {
             "outlinewidth": 0,
             "ticks": ""
            },
            "colorscale": [
             [
              0,
              "#0d0887"
             ],
             [
              0.1111111111111111,
              "#46039f"
             ],
             [
              0.2222222222222222,
              "#7201a8"
             ],
             [
              0.3333333333333333,
              "#9c179e"
             ],
             [
              0.4444444444444444,
              "#bd3786"
             ],
             [
              0.5555555555555556,
              "#d8576b"
             ],
             [
              0.6666666666666666,
              "#ed7953"
             ],
             [
              0.7777777777777778,
              "#fb9f3a"
             ],
             [
              0.8888888888888888,
              "#fdca26"
             ],
             [
              1,
              "#f0f921"
             ]
            ],
            "type": "heatmapgl"
           }
          ],
          "histogram": [
           {
            "marker": {
             "pattern": {
              "fillmode": "overlay",
              "size": 10,
              "solidity": 0.2
             }
            },
            "type": "histogram"
           }
          ],
          "histogram2d": [
           {
            "colorbar": {
             "outlinewidth": 0,
             "ticks": ""
            },
            "colorscale": [
             [
              0,
              "#0d0887"
             ],
             [
              0.1111111111111111,
              "#46039f"
             ],
             [
              0.2222222222222222,
              "#7201a8"
             ],
             [
              0.3333333333333333,
              "#9c179e"
             ],
             [
              0.4444444444444444,
              "#bd3786"
             ],
             [
              0.5555555555555556,
              "#d8576b"
             ],
             [
              0.6666666666666666,
              "#ed7953"
             ],
             [
              0.7777777777777778,
              "#fb9f3a"
             ],
             [
              0.8888888888888888,
              "#fdca26"
             ],
             [
              1,
              "#f0f921"
             ]
            ],
            "type": "histogram2d"
           }
          ],
          "histogram2dcontour": [
           {
            "colorbar": {
             "outlinewidth": 0,
             "ticks": ""
            },
            "colorscale": [
             [
              0,
              "#0d0887"
             ],
             [
              0.1111111111111111,
              "#46039f"
             ],
             [
              0.2222222222222222,
              "#7201a8"
             ],
             [
              0.3333333333333333,
              "#9c179e"
             ],
             [
              0.4444444444444444,
              "#bd3786"
             ],
             [
              0.5555555555555556,
              "#d8576b"
             ],
             [
              0.6666666666666666,
              "#ed7953"
             ],
             [
              0.7777777777777778,
              "#fb9f3a"
             ],
             [
              0.8888888888888888,
              "#fdca26"
             ],
             [
              1,
              "#f0f921"
             ]
            ],
            "type": "histogram2dcontour"
           }
          ],
          "mesh3d": [
           {
            "colorbar": {
             "outlinewidth": 0,
             "ticks": ""
            },
            "type": "mesh3d"
           }
          ],
          "parcoords": [
           {
            "line": {
             "colorbar": {
              "outlinewidth": 0,
              "ticks": ""
             }
            },
            "type": "parcoords"
           }
          ],
          "pie": [
           {
            "automargin": true,
            "type": "pie"
           }
          ],
          "scatter": [
           {
            "fillpattern": {
             "fillmode": "overlay",
             "size": 10,
             "solidity": 0.2
            },
            "type": "scatter"
           }
          ],
          "scatter3d": [
           {
            "line": {
             "colorbar": {
              "outlinewidth": 0,
              "ticks": ""
             }
            },
            "marker": {
             "colorbar": {
              "outlinewidth": 0,
              "ticks": ""
             }
            },
            "type": "scatter3d"
           }
          ],
          "scattercarpet": [
           {
            "marker": {
             "colorbar": {
              "outlinewidth": 0,
              "ticks": ""
             }
            },
            "type": "scattercarpet"
           }
          ],
          "scattergeo": [
           {
            "marker": {
             "colorbar": {
              "outlinewidth": 0,
              "ticks": ""
             }
            },
            "type": "scattergeo"
           }
          ],
          "scattergl": [
           {
            "marker": {
             "colorbar": {
              "outlinewidth": 0,
              "ticks": ""
             }
            },
            "type": "scattergl"
           }
          ],
          "scattermapbox": [
           {
            "marker": {
             "colorbar": {
              "outlinewidth": 0,
              "ticks": ""
             }
            },
            "type": "scattermapbox"
           }
          ],
          "scatterpolar": [
           {
            "marker": {
             "colorbar": {
              "outlinewidth": 0,
              "ticks": ""
             }
            },
            "type": "scatterpolar"
           }
          ],
          "scatterpolargl": [
           {
            "marker": {
             "colorbar": {
              "outlinewidth": 0,
              "ticks": ""
             }
            },
            "type": "scatterpolargl"
           }
          ],
          "scatterternary": [
           {
            "marker": {
             "colorbar": {
              "outlinewidth": 0,
              "ticks": ""
             }
            },
            "type": "scatterternary"
           }
          ],
          "surface": [
           {
            "colorbar": {
             "outlinewidth": 0,
             "ticks": ""
            },
            "colorscale": [
             [
              0,
              "#0d0887"
             ],
             [
              0.1111111111111111,
              "#46039f"
             ],
             [
              0.2222222222222222,
              "#7201a8"
             ],
             [
              0.3333333333333333,
              "#9c179e"
             ],
             [
              0.4444444444444444,
              "#bd3786"
             ],
             [
              0.5555555555555556,
              "#d8576b"
             ],
             [
              0.6666666666666666,
              "#ed7953"
             ],
             [
              0.7777777777777778,
              "#fb9f3a"
             ],
             [
              0.8888888888888888,
              "#fdca26"
             ],
             [
              1,
              "#f0f921"
             ]
            ],
            "type": "surface"
           }
          ],
          "table": [
           {
            "cells": {
             "fill": {
              "color": "#EBF0F8"
             },
             "line": {
              "color": "white"
             }
            },
            "header": {
             "fill": {
              "color": "#C8D4E3"
             },
             "line": {
              "color": "white"
             }
            },
            "type": "table"
           }
          ]
         },
         "layout": {
          "annotationdefaults": {
           "arrowcolor": "#2a3f5f",
           "arrowhead": 0,
           "arrowwidth": 1
          },
          "autotypenumbers": "strict",
          "coloraxis": {
           "colorbar": {
            "outlinewidth": 0,
            "ticks": ""
           }
          },
          "colorscale": {
           "diverging": [
            [
             0,
             "#8e0152"
            ],
            [
             0.1,
             "#c51b7d"
            ],
            [
             0.2,
             "#de77ae"
            ],
            [
             0.3,
             "#f1b6da"
            ],
            [
             0.4,
             "#fde0ef"
            ],
            [
             0.5,
             "#f7f7f7"
            ],
            [
             0.6,
             "#e6f5d0"
            ],
            [
             0.7,
             "#b8e186"
            ],
            [
             0.8,
             "#7fbc41"
            ],
            [
             0.9,
             "#4d9221"
            ],
            [
             1,
             "#276419"
            ]
           ],
           "sequential": [
            [
             0,
             "#0d0887"
            ],
            [
             0.1111111111111111,
             "#46039f"
            ],
            [
             0.2222222222222222,
             "#7201a8"
            ],
            [
             0.3333333333333333,
             "#9c179e"
            ],
            [
             0.4444444444444444,
             "#bd3786"
            ],
            [
             0.5555555555555556,
             "#d8576b"
            ],
            [
             0.6666666666666666,
             "#ed7953"
            ],
            [
             0.7777777777777778,
             "#fb9f3a"
            ],
            [
             0.8888888888888888,
             "#fdca26"
            ],
            [
             1,
             "#f0f921"
            ]
           ],
           "sequentialminus": [
            [
             0,
             "#0d0887"
            ],
            [
             0.1111111111111111,
             "#46039f"
            ],
            [
             0.2222222222222222,
             "#7201a8"
            ],
            [
             0.3333333333333333,
             "#9c179e"
            ],
            [
             0.4444444444444444,
             "#bd3786"
            ],
            [
             0.5555555555555556,
             "#d8576b"
            ],
            [
             0.6666666666666666,
             "#ed7953"
            ],
            [
             0.7777777777777778,
             "#fb9f3a"
            ],
            [
             0.8888888888888888,
             "#fdca26"
            ],
            [
             1,
             "#f0f921"
            ]
           ]
          },
          "colorway": [
           "#636efa",
           "#EF553B",
           "#00cc96",
           "#ab63fa",
           "#FFA15A",
           "#19d3f3",
           "#FF6692",
           "#B6E880",
           "#FF97FF",
           "#FECB52"
          ],
          "font": {
           "color": "#2a3f5f"
          },
          "geo": {
           "bgcolor": "white",
           "lakecolor": "white",
           "landcolor": "#E5ECF6",
           "showlakes": true,
           "showland": true,
           "subunitcolor": "white"
          },
          "hoverlabel": {
           "align": "left"
          },
          "hovermode": "closest",
          "mapbox": {
           "style": "light"
          },
          "paper_bgcolor": "white",
          "plot_bgcolor": "#E5ECF6",
          "polar": {
           "angularaxis": {
            "gridcolor": "white",
            "linecolor": "white",
            "ticks": ""
           },
           "bgcolor": "#E5ECF6",
           "radialaxis": {
            "gridcolor": "white",
            "linecolor": "white",
            "ticks": ""
           }
          },
          "scene": {
           "xaxis": {
            "backgroundcolor": "#E5ECF6",
            "gridcolor": "white",
            "gridwidth": 2,
            "linecolor": "white",
            "showbackground": true,
            "ticks": "",
            "zerolinecolor": "white"
           },
           "yaxis": {
            "backgroundcolor": "#E5ECF6",
            "gridcolor": "white",
            "gridwidth": 2,
            "linecolor": "white",
            "showbackground": true,
            "ticks": "",
            "zerolinecolor": "white"
           },
           "zaxis": {
            "backgroundcolor": "#E5ECF6",
            "gridcolor": "white",
            "gridwidth": 2,
            "linecolor": "white",
            "showbackground": true,
            "ticks": "",
            "zerolinecolor": "white"
           }
          },
          "shapedefaults": {
           "line": {
            "color": "#2a3f5f"
           }
          },
          "ternary": {
           "aaxis": {
            "gridcolor": "white",
            "linecolor": "white",
            "ticks": ""
           },
           "baxis": {
            "gridcolor": "white",
            "linecolor": "white",
            "ticks": ""
           },
           "bgcolor": "#E5ECF6",
           "caxis": {
            "gridcolor": "white",
            "linecolor": "white",
            "ticks": ""
           }
          },
          "title": {
           "x": 0.05
          },
          "xaxis": {
           "automargin": true,
           "gridcolor": "white",
           "linecolor": "white",
           "ticks": "",
           "title": {
            "standoff": 15
           },
           "zerolinecolor": "white",
           "zerolinewidth": 2
          },
          "yaxis": {
           "automargin": true,
           "gridcolor": "white",
           "linecolor": "white",
           "ticks": "",
           "title": {
            "standoff": 15
           },
           "zerolinecolor": "white",
           "zerolinewidth": 2
          }
         }
        },
        "title": {
         "text": "3d TSNE Plot for Clusters"
        },
        "width": 900
       }
      },
      "image/png": "[encoded data removed]",
      "text/html": [
       "<div>                            <div id=\"0b32213b-6ef8-4871-a413-53d829fdf504\" class=\"plotly-graph-div\" style=\"height:800px; width:900px;\"></div>            <script type=\"text/javascript\">                require([\"plotly\"], function(Plotly) {                    window.PLOTLYENV=window.PLOTLYENV || {};                                    if (document.getElementById(\"0b32213b-6ef8-4871-a413-53d829fdf504\")) {                    Plotly.newPlot(                        \"0b32213b-6ef8-4871-a413-53d829fdf504\",                        [{\"customdata\":[[12.73],[13.16],[11.43],[12.08],[13.02],[12.74],[11.84],[13.45],[11.18],[13.16],[12.78],[13.22],[12.36],[11.23],[11.42],[13.54],[13.5],[12.88],[12.72],[12.7],[11.34],[12.19],[12.37],[11.18],[12.67],[12.76],[12.62],[12.11],[11.87],[11.36],[12.11],[11.56],[12.21],[11.02],[11.24],[12.15],[12.1],[12.54],[11.27]],\"hovertemplate\":\"Cluster=Cluster 0\\u003cbr\\u003e0=%{x}\\u003cbr\\u003e1=%{y}\\u003cbr\\u003e2=%{z}\\u003cbr\\u003eFeature=%{customdata[0]}\\u003cextra\\u003e\\u003c\\u002fextra\\u003e\",\"legendgroup\":\"Cluster 0\",\"marker\":{\"color\":\"#636efa\",\"opacity\":0.7,\"symbol\":\"circle\"},\"mode\":\"markers\",\"name\":\"Cluster 0\",\"scene\":\"scene\",\"showlegend\":true,\"x\":[-3.3599088,-2.5108967,-4.7224436,-3.7155278,-2.8074985,-2.999356,-5.2683053,-1.8390117,-6.009149,-2.279777,-2.897445,-2.7941136,-4.2206907,-5.0136194,-5.2273498,-1.5517498,-1.5436643,-2.8839192,-3.7294729,-3.3550656,-5.9040523,-4.6891484,-4.3129826,-6.7772474,-3.3711784,-3.2483454,-3.4753394,-4.921575,-5.31903,-6.33969,-3.5845058,-5.948597,-3.6112251,-5.1725545,-5.169524,-4.5447083,-4.027189,-3.4879196,-6.5278826],\"y\":[1.8302959,2.527739,2.358207,2.6962597,1.8603969,2.5061812,1.5960318,1.5285516,1.4874235,2.8679638,2.819482,0.8943811,2.0070848,2.2412188,2.078127,2.3491821,2.5257847,2.57524,1.1652671,2.1074753,1.508967,1.6898211,1.447595,0.6285239,2.618266,2.3680978,2.0612268,1.2431563,1.5982356,0.9640352,2.7219694,1.1342928,2.7030203,0.099921,0.10431764,1.7993854,2.5202801,2.2903752,0.8480546],\"z\":[-0.21830556,1.4276593,2.0288763,2.542066,0.0035087627,1.3060668,0.19030601,-0.25070313,0.8848838,2.9607482,2.758801,-1.1926793,0.6290557,1.9935806,1.6430193,1.2693051,1.7019325,1.5576192,-1.0664003,0.09933708,0.8845531,0.055097092,-0.63472676,0.3187625,1.6603037,1.0444053,0.06671939,-0.76534164,0.27070504,-0.05065785,2.5788655,-0.43893513,2.4214213,2.5446527,2.5453043,-0.23833679,1.9923247,0.24863024,0.25407818],\"type\":\"scatter3d\"},{\"customdata\":[[16.53],[17.12],[20.2],[19.57],[18.72],[18.95],[20.71],[17.32],[19.51],[16.77],[18.94],[18.27],[18.17],[18.98],[18.85],[18.83],[19.18],[19.46],[17.99],[18.55],[18.72],[16.82],[18.88],[18.98],[16.87],[18.36],[18.59],[18.81],[18.76],[20.1],[20.88],[21.18],[19.31],[19.11],[19.15],[16.84],[17.36],[18.94],[17.08],[18.3],[17.55],[20.16],[17.98],[18.65],[17.26],[18.43],[18.14],[18.75],[20.03],[17.63],[18.45],[20.24],[19.13],[19.14],[20.97],[19.38],[18.96],[17.63],[18.89],[19.06],[19.94]],\"hovertemplate\":\"Cluster=Cluster 1\\u003cbr\\u003e0=%{x}\\u003cbr\\u003e1=%{y}\\u003cbr\\u003e2=%{z}\\u003cbr\\u003eFeature=%{customdata[0]}\\u003cextra\\u003e\\u003c\\u002fextra\\u003e\",\"legendgroup\":\"Cluster 1\",\"marker\":{\"color\":\"#EF553B\",\"opacity\":0.7,\"symbol\":\"circle\"},\"mode\":\"markers\",\"name\":\"Cluster 1\",\"scene\":\"scene\",\"showlegend\":true,\"x\":[3.1996439,4.5312214,7.435744,9.2817955,6.035544,7.540634,8.062095,4.7531033,8.555558,3.6580448,6.402903,7.301379,6.8773403,7.7096562,7.6596,7.9091096,7.9925637,7.2332687,7.1529293,8.092271,8.051313,3.9611976,8.507932,8.553215,4.2340817,6.0448375,5.838387,7.3636966,7.353412,9.439413,7.8185925,7.6645336,7.974654,8.0273695,8.019176,3.8394604,4.8743753,7.831234,4.3687162,6.8939443,4.3467765,9.462057,7.016016,6.483395,4.313024,6.9491477,6.0862756,6.6334844,8.897556,5.086572,7.6571646,7.207055,8.555209,6.301009,7.9847565,7.8286395,6.7102795,5.137169,7.120641,8.486615,8.794247],\"y\":[-0.69127315,0.5063813,-2.2410102,-0.45285916,-1.6376334,-0.68653816,-2.2784147,-0.20586972,-0.9072978,-0.57212234,-1.5548555,0.0069051604,-0.2535278,-0.782908,-0.4397907,0.12270366,-0.86280304,-1.426882,0.4604834,0.22069564,-0.13388161,-0.13249059,0.060938038,-0.5474922,-0.01371077,-1.2960497,-1.8517419,-0.53283364,-0.3265069,-0.84954387,-2.3901315,-2.4889133,-1.0295159,-0.26175833,-0.71877843,-0.48614535,-0.051258676,-0.16738306,0.52737194,0.122763716,-0.98787516,-0.8246685,0.38842148,-1.1163898,-0.5337919,0.024657298,-0.3783092,-1.024109,-1.2770766,-0.4204345,0.29601377,-2.3629818,0.055086814,-2.1862302,-2.368471,-1.2296209,-1.1965767,-0.23515883,-0.75783485,-0.3542159,-1.3677557],\"z\":[-1.781735,0.45367903,-2.7593975,0.51194566,-2.4663837,-0.9524535,-2.5797396,-0.66315824,-0.769926,-1.4926443,-2.4217372,0.6878721,0.29625872,-1.6233411,-0.0819302,0.09705993,-1.1361715,-1.9791268,1.0865993,1.0771008,0.6793905,-0.74765086,0.9711523,0.5869257,-0.48387232,-2.2881591,-2.704797,-0.6567619,-0.48568615,-0.040286798,-2.7854528,-2.9358745,-1.253497,-0.5468958,-0.6604917,-1.3197278,-0.38011056,-0.41336727,0.4409018,0.2173258,-1.920909,-0.016254215,0.9468655,-1.8757204,-1.2739167,-0.067387596,-0.6849277,-1.6481178,-1.037547,-0.9408728,0.7369773,-2.9374573,0.4036371,-2.965821,-2.7044032,-1.4575545,-1.8230255,-0.627101,-1.1539537,0.3593183,-1.2401],\"type\":\"scatter3d\"},{\"customdata\":[[15.99],[15.38],[16.16],[15.56],[15.38],[16.17],[15.57],[15.6],[16.23],[15.26],[14.37],[16.19],[15.01],[14.88],[14.29],[13.84],[16.14],[15.88],[14.11],[14.38],[14.69],[14.11],[14.16],[15.69],[14.11],[16.41],[16.63],[16.44],[14.59],[13.74],[13.78],[13.89],[15.26],[14.7],[15.49],[14.03],[13.94],[14.01],[14.34],[15.38],[14.92],[14.46],[15.03],[14.52],[14.33],[14.49],[14.09],[14.43],[14.86],[14.79],[15.78],[15.36],[13.8],[15.11],[15.5],[15.05],[16.12],[16.2],[14.99],[14.8]],\"hovertemplate\":\"Cluster=Cluster 2\\u003cbr\\u003e0=%{x}\\u003cbr\\u003e1=%{y}\\u003cbr\\u003e2=%{z}\\u003cbr\\u003eFeature=%{customdata[0]}\\u003cextra\\u003e\\u003c\\u002fextra\\u003e\",\"legendgroup\":\"Cluster 2\",\"marker\":{\"color\":\"#00cc96\",\"opacity\":0.7,\"symbol\":\"circle\"},\"mode\":\"markers\",\"name\":\"Cluster 2\",\"scene\":\"scene\",\"showlegend\":true,\"x\":[2.3528492,1.9959859,3.0330856,2.1912246,1.5914967,3.0258775,2.550791,2.5017257,3.1910336,1.8199863,0.4656849,3.0120537,1.5146148,1.3939226,-0.29312605,-0.98856556,2.9168367,2.6916997,-0.43090674,-0.030793019,0.47641125,-0.50606126,-0.29408368,2.355024,-0.52151024,3.2182047,3.7804055,3.4552274,-0.024772184,-1.1964831,-1.1460756,-1.0933429,1.6407175,0.6221039,1.8941861,-0.3314232,-0.6024494,-0.43690932,0.46339768,1.9622053,1.3371841,0.15874763,1.5402894,0.8256552,-0.12705801,0.33533376,-0.31292167,0.030053563,1.2654307,0.7880969,2.095164,2.0196764,-0.72007823,1.1938015,2.043933,1.5230728,0.5351347,3.193218,1.060573,0.7710516],\"y\":[0.7491408,0.028109482,-0.10001952,-0.23293251,0.768788,-0.111850575,1.2696004,1.234251,0.17592531,1.819786,2.5438528,2.1316247,2.2411623,2.6734726,2.3361022,2.5751972,2.0518153,2.3303964,1.9616679,2.2838383,0.9977385,2.035761,1.6189085,2.191945,1.9009732,-0.104250565,1.2556838,1.4599969,0.55550885,2.028017,1.8215977,0.91847295,0.07032218,2.9863155,0.8435343,2.674814,2.4953756,2.3645911,2.6322656,1.9653411,2.6938622,1.8834164,1.9940839,2.315827,1.378713,0.6515524,0.90002257,0.7859307,1.9889317,1.7243581,-0.5259647,2.3419302,2.745559,1.2277998,-0.098543584,1.9336383,-0.6787124,0.96646017,1.4127791,1.3426532],\"z\":[0.10448432,-1.1543593,-0.98039436,-1.437503,-0.17083587,-0.9968838,1.1248306,1.0316519,-0.49042952,1.7871146,2.8254058,2.7318575,2.3908195,3.068453,0.92039,1.6999288,2.555395,2.946936,1.0526285,1.3278371,-0.270352,0.9076154,0.37942132,2.5551622,1.097704,-0.9184996,1.4939162,1.7361324,-0.96061265,0.64521986,0.34636274,-0.80558527,-1.181404,2.3357685,0.07238772,2.484634,1.9495488,1.8306515,2.9194276,2.078203,2.993922,0.80619675,2.1801348,2.858647,0.050575428,-0.8317759,-0.6840347,-0.7103874,1.9304891,0.9672257,-1.7616953,2.756294,2.6155622,0.3580244,-1.2959023,1.9079342,-2.0411959,0.8047794,0.5959371,0.36247694],\"type\":\"scatter3d\"},{\"customdata\":[[13.37],[12.46],[12.19],[11.65],[12.89],[11.81],[11.23],[11.23],[10.59],[10.93],[13.2],[11.41],[10.82],[12.8],[12.38],[12.79],[10.91],[12.7],[11.49],[10.74],[14.28],[13.07],[13.32],[13.34],[12.22],[11.82],[11.21],[12.49],[10.79],[11.83],[12.01],[12.26],[11.19],[11.48],[12.13],[13.99],[12.02],[12.05],[12.55],[11.14],[12.44],[11.35],[11.55],[11.27],[11.4],[10.83],[10.8],[11.26],[11.75],[12.3]],\"hovertemplate\":\"Cluster=Cluster 3\\u003cbr\\u003e0=%{x}\\u003cbr\\u003e1=%{y}\\u003cbr\\u003e2=%{z}\\u003cbr\\u003eFeature=%{customdata[0]}\\u003cextra\\u003e\\u003c\\u002fextra\\u003e\",\"legendgroup\":\"Cluster 3\",\"marker\":{\"color\":\"#ab63fa\",\"opacity\":0.7,\"symbol\":\"circle\"},\"mode\":\"markers\",\"name\":\"Cluster 3\",\"scene\":\"scene\",\"showlegend\":true,\"x\":[-2.9490035,-4.5251307,-5.0302224,-6.2732105,-3.9423892,-5.733615,-6.7913027,-5.769811,-7.5605116,-7.143547,-4.345234,-6.785942,-7.25512,-3.8608153,-4.7563367,-4.119976,-7.0165443,-4.5484295,-6.414462,-7.3131037,-3.2872467,-3.556789,-3.8572087,-3.5509803,-5.1164927,-5.599489,-6.4801865,-4.2690806,-7.180402,-5.8413725,-5.2985573,-4.877101,-6.7282043,-6.4267716,-5.089601,-2.539512,-5.2447534,-5.3153434,-4.1767416,-6.415574,-4.544609,-6.50568,-5.9202166,-6.7083287,-6.5877533,-7.236764,-7.354659,-6.817675,-5.688092,-4.9563923],\"y\":[0.18584976,0.012751085,0.19263813,-0.6269566,-1.4509641,0.23474091,0.4232392,-2.6474626,-0.82604945,-1.2494034,-2.6106124,-0.3879424,-0.5687175,0.13243082,-0.6386233,-0.64006275,0.3179335,-2.6788108,-0.899725,-0.3995984,-1.8924273,-0.60022014,-2.0719972,-1.3450651,-0.6811905,0.7897139,-2.014023,0.8456629,-1.4042779,-0.43863583,-2.3792045,0.55068606,-1.6633583,-1.6277369,0.52089643,-0.5515537,1.0790707,-0.0069807423,0.8257713,-2.2521164,0.19987535,0.6329223,-2.3560853,0.5026773,-1.2693695,-1.040182,-0.5015521,-1.0097142,0.9701038,-0.8733013],\"z\":[-1.8521476,-2.267485,-2.0001006,-1.8908441,-2.7543144,-1.9476908,-0.16106509,-2.4457579,-0.40903664,-1.2014674,-2.8232317,-1.2361535,-0.65085894,-2.1338606,-2.5861857,-2.6022522,0.11964929,-2.7941864,-1.991852,-0.3842307,-2.7789335,-2.493872,-2.8097787,-2.7028108,-2.514439,-1.2798908,-2.0431314,-1.4991008,-1.2747076,-2.1322632,-2.572833,-2.0641987,-1.830234,-2.0625508,-2.1635702,-2.218559,-1.09818,-2.125621,-1.573376,-2.072967,-2.2474854,-0.4339404,-2.3583279,-0.19287471,-1.8868307,-1.0734977,-0.39486963,-1.5781431,-1.2479722,-2.6051269],\"type\":\"scatter3d\"}],                        {\"template\":{\"data\":{\"histogram2dcontour\":[{\"type\":\"histogram2dcontour\",\"colorbar\":{\"outlinewidth\":0,\"ticks\":\"\"},\"colorscale\":[[0.0,\"#0d0887\"],[0.1111111111111111,\"#46039f\"],[0.2222222222222222,\"#7201a8\"],[0.3333333333333333,\"#9c179e\"],[0.4444444444444444,\"#bd3786\"],[0.5555555555555556,\"#d8576b\"],[0.6666666666666666,\"#ed7953\"],[0.7777777777777778,\"#fb9f3a\"],[0.8888888888888888,\"#fdca26\"],[1.0,\"#f0f921\"]]}],\"choropleth\":[{\"type\":\"choropleth\",\"colorbar\":{\"outlinewidth\":0,\"ticks\":\"\"}}],\"histogram2d\":[{\"type\":\"histogram2d\",\"colorbar\":{\"outlinewidth\":0,\"ticks\":\"\"},\"colorscale\":[[0.0,\"#0d0887\"],[0.1111111111111111,\"#46039f\"],[0.2222222222222222,\"#7201a8\"],[0.3333333333333333,\"#9c179e\"],[0.4444444444444444,\"#bd3786\"],[0.5555555555555556,\"#d8576b\"],[0.6666666666666666,\"#ed7953\"],[0.7777777777777778,\"#fb9f3a\"],[0.8888888888888888,\"#fdca26\"],[1.0,\"#f0f921\"]]}],\"heatmap\":[{\"type\":\"heatmap\",\"colorbar\":{\"outlinewidth\":0,\"ticks\":\"\"},\"colorscale\":[[0.0,\"#0d0887\"],[0.1111111111111111,\"#46039f\"],[0.2222222222222222,\"#7201a8\"],[0.3333333333333333,\"#9c179e\"],[0.4444444444444444,\"#bd3786\"],[0.5555555555555556,\"#d8576b\"],[0.6666666666666666,\"#ed7953\"],[0.7777777777777778,\"#fb9f3a\"],[0.8888888888888888,\"#fdca26\"],[1.0,\"#f0f921\"]]}],\"heatmapgl\":[{\"type\":\"heatmapgl\",\"colorbar\":{\"outlinewidth\":0,\"ticks\":\"\"},\"colorscale\":[[0.0,\"#0d0887\"],[0.1111111111111111,\"#46039f\"],[0.2222222222222222,\"#7201a8\"],[0.3333333333333333,\"#9c179e\"],[0.4444444444444444,\"#bd3786\"],[0.5555555555555556,\"#d8576b\"],[0.6666666666666666,\"#ed7953\"],[0.7777777777777778,\"#fb9f3a\"],[0.8888888888888888,\"#fdca26\"],[1.0,\"#f0f921\"]]}],\"contourcarpet\":[{\"type\":\"contourcarpet\",\"colorbar\":{\"outlinewidth\":0,\"ticks\":\"\"}}],\"contour\":[{\"type\":\"contour\",\"colorbar\":{\"outlinewidth\":0,\"ticks\":\"\"},\"colorscale\":[[0.0,\"#0d0887\"],[0.1111111111111111,\"#46039f\"],[0.2222222222222222,\"#7201a8\"],[0.3333333333333333,\"#9c179e\"],[0.4444444444444444,\"#bd3786\"],[0.5555555555555556,\"#d8576b\"],[0.6666666666666666,\"#ed7953\"],[0.7777777777777778,\"#fb9f3a\"],[0.8888888888888888,\"#fdca26\"],[1.0,\"#f0f921\"]]}],\"surface\":[{\"type\":\"surface\",\"colorbar\":{\"outlinewidth\":0,\"ticks\":\"\"},\"colorscale\":[[0.0,\"#0d0887\"],[0.1111111111111111,\"#46039f\"],[0.2222222222222222,\"#7201a8\"],[0.3333333333333333,\"#9c179e\"],[0.4444444444444444,\"#bd3786\"],[0.5555555555555556,\"#d8576b\"],[0.6666666666666666,\"#ed7953\"],[0.7777777777777778,\"#fb9f3a\"],[0.8888888888888888,\"#fdca26\"],[1.0,\"#f0f921\"]]}],\"mesh3d\":[{\"type\":\"mesh3d\",\"colorbar\":{\"outlinewidth\":0,\"ticks\":\"\"}}],\"scatter\":[{\"fillpattern\":{\"fillmode\":\"overlay\",\"size\":10,\"solidity\":0.2},\"type\":\"scatter\"}],\"parcoords\":[{\"type\":\"parcoords\",\"line\":{\"colorbar\":{\"outlinewidth\":0,\"ticks\":\"\"}}}],\"scatterpolargl\":[{\"type\":\"scatterpolargl\",\"marker\":{\"colorbar\":{\"outlinewidth\":0,\"ticks\":\"\"}}}],\"bar\":[{\"error_x\":{\"color\":\"#2a3f5f\"},\"error_y\":{\"color\":\"#2a3f5f\"},\"marker\":{\"line\":{\"color\":\"#E5ECF6\",\"width\":0.5},\"pattern\":{\"fillmode\":\"overlay\",\"size\":10,\"solidity\":0.2}},\"type\":\"bar\"}],\"scattergeo\":[{\"type\":\"scattergeo\",\"marker\":{\"colorbar\":{\"outlinewidth\":0,\"ticks\":\"\"}}}],\"scatterpolar\":[{\"type\":\"scatterpolar\",\"marker\":{\"colorbar\":{\"outlinewidth\":0,\"ticks\":\"\"}}}],\"histogram\":[{\"marker\":{\"pattern\":{\"fillmode\":\"overlay\",\"size\":10,\"solidity\":0.2}},\"type\":\"histogram\"}],\"scattergl\":[{\"type\":\"scattergl\",\"marker\":{\"colorbar\":{\"outlinewidth\":0,\"ticks\":\"\"}}}],\"scatter3d\":[{\"type\":\"scatter3d\",\"line\":{\"colorbar\":{\"outlinewidth\":0,\"ticks\":\"\"}},\"marker\":{\"colorbar\":{\"outlinewidth\":0,\"ticks\":\"\"}}}],\"scattermapbox\":[{\"type\":\"scattermapbox\",\"marker\":{\"colorbar\":{\"outlinewidth\":0,\"ticks\":\"\"}}}],\"scatterternary\":[{\"type\":\"scatterternary\",\"marker\":{\"colorbar\":{\"outlinewidth\":0,\"ticks\":\"\"}}}],\"scattercarpet\":[{\"type\":\"scattercarpet\",\"marker\":{\"colorbar\":{\"outlinewidth\":0,\"ticks\":\"\"}}}],\"carpet\":[{\"aaxis\":{\"endlinecolor\":\"#2a3f5f\",\"gridcolor\":\"white\",\"linecolor\":\"white\",\"minorgridcolor\":\"white\",\"startlinecolor\":\"#2a3f5f\"},\"baxis\":{\"endlinecolor\":\"#2a3f5f\",\"gridcolor\":\"white\",\"linecolor\":\"white\",\"minorgridcolor\":\"white\",\"startlinecolor\":\"#2a3f5f\"},\"type\":\"carpet\"}],\"table\":[{\"cells\":{\"fill\":{\"color\":\"#EBF0F8\"},\"line\":{\"color\":\"white\"}},\"header\":{\"fill\":{\"color\":\"#C8D4E3\"},\"line\":{\"color\":\"white\"}},\"type\":\"table\"}],\"barpolar\":[{\"marker\":{\"line\":{\"color\":\"#E5ECF6\",\"width\":0.5},\"pattern\":{\"fillmode\":\"overlay\",\"size\":10,\"solidity\":0.2}},\"type\":\"barpolar\"}],\"pie\":[{\"automargin\":true,\"type\":\"pie\"}]},\"layout\":{\"autotypenumbers\":\"strict\",\"colorway\":[\"#636efa\",\"#EF553B\",\"#00cc96\",\"#ab63fa\",\"#FFA15A\",\"#19d3f3\",\"#FF6692\",\"#B6E880\",\"#FF97FF\",\"#FECB52\"],\"font\":{\"color\":\"#2a3f5f\"},\"hovermode\":\"closest\",\"hoverlabel\":{\"align\":\"left\"},\"paper_bgcolor\":\"white\",\"plot_bgcolor\":\"#E5ECF6\",\"polar\":{\"bgcolor\":\"#E5ECF6\",\"angularaxis\":{\"gridcolor\":\"white\",\"linecolor\":\"white\",\"ticks\":\"\"},\"radialaxis\":{\"gridcolor\":\"white\",\"linecolor\":\"white\",\"ticks\":\"\"}},\"ternary\":{\"bgcolor\":\"#E5ECF6\",\"aaxis\":{\"gridcolor\":\"white\",\"linecolor\":\"white\",\"ticks\":\"\"},\"baxis\":{\"gridcolor\":\"white\",\"linecolor\":\"white\",\"ticks\":\"\"},\"caxis\":{\"gridcolor\":\"white\",\"linecolor\":\"white\",\"ticks\":\"\"}},\"coloraxis\":{\"colorbar\":{\"outlinewidth\":0,\"ticks\":\"\"}},\"colorscale\":{\"sequential\":[[0.0,\"#0d0887\"],[0.1111111111111111,\"#46039f\"],[0.2222222222222222,\"#7201a8\"],[0.3333333333333333,\"#9c179e\"],[0.4444444444444444,\"#bd3786\"],[0.5555555555555556,\"#d8576b\"],[0.6666666666666666,\"#ed7953\"],[0.7777777777777778,\"#fb9f3a\"],[0.8888888888888888,\"#fdca26\"],[1.0,\"#f0f921\"]],\"sequentialminus\":[[0.0,\"#0d0887\"],[0.1111111111111111,\"#46039f\"],[0.2222222222222222,\"#7201a8\"],[0.3333333333333333,\"#9c179e\"],[0.4444444444444444,\"#bd3786\"],[0.5555555555555556,\"#d8576b\"],[0.6666666666666666,\"#ed7953\"],[0.7777777777777778,\"#fb9f3a\"],[0.8888888888888888,\"#fdca26\"],[1.0,\"#f0f921\"]],\"diverging\":[[0,\"#8e0152\"],[0.1,\"#c51b7d\"],[0.2,\"#de77ae\"],[0.3,\"#f1b6da\"],[0.4,\"#fde0ef\"],[0.5,\"#f7f7f7\"],[0.6,\"#e6f5d0\"],[0.7,\"#b8e186\"],[0.8,\"#7fbc41\"],[0.9,\"#4d9221\"],[1,\"#276419\"]]},\"xaxis\":{\"gridcolor\":\"white\",\"linecolor\":\"white\",\"ticks\":\"\",\"title\":{\"standoff\":15},\"zerolinecolor\":\"white\",\"automargin\":true,\"zerolinewidth\":2},\"yaxis\":{\"gridcolor\":\"white\",\"linecolor\":\"white\",\"ticks\":\"\",\"title\":{\"standoff\":15},\"zerolinecolor\":\"white\",\"automargin\":true,\"zerolinewidth\":2},\"scene\":{\"xaxis\":{\"backgroundcolor\":\"#E5ECF6\",\"gridcolor\":\"white\",\"linecolor\":\"white\",\"showbackground\":true,\"ticks\":\"\",\"zerolinecolor\":\"white\",\"gridwidth\":2},\"yaxis\":{\"backgroundcolor\":\"#E5ECF6\",\"gridcolor\":\"white\",\"linecolor\":\"white\",\"showbackground\":true,\"ticks\":\"\",\"zerolinecolor\":\"white\",\"gridwidth\":2},\"zaxis\":{\"backgroundcolor\":\"#E5ECF6\",\"gridcolor\":\"white\",\"linecolor\":\"white\",\"showbackground\":true,\"ticks\":\"\",\"zerolinecolor\":\"white\",\"gridwidth\":2}},\"shapedefaults\":{\"line\":{\"color\":\"#2a3f5f\"}},\"annotationdefaults\":{\"arrowcolor\":\"#2a3f5f\",\"arrowhead\":0,\"arrowwidth\":1},\"geo\":{\"bgcolor\":\"white\",\"landcolor\":\"#E5ECF6\",\"subunitcolor\":\"white\",\"showland\":true,\"showlakes\":true,\"lakecolor\":\"white\"},\"title\":{\"x\":0.05},\"mapbox\":{\"style\":\"light\"}}},\"scene\":{\"domain\":{\"x\":[0.0,1.0],\"y\":[0.0,1.0]},\"xaxis\":{\"title\":{\"text\":\"0\"}},\"yaxis\":{\"title\":{\"text\":\"1\"}},\"zaxis\":{\"title\":{\"text\":\"2\"}}},\"legend\":{\"title\":{\"text\":\"Cluster\"},\"tracegroupgap\":0},\"title\":{\"text\":\"3d TSNE Plot for Clusters\"},\"height\":800,\"width\":900},                        {\"responsive\": true}                    ).then(function(){\n",
       "                            \n",
       "var gd = document.getElementById('0b32213b-6ef8-4871-a413-53d829fdf504');\n",
       "var x = new MutationObserver(function (mutations, observer) {{\n",
       "        var display = window.getComputedStyle(gd).display;\n",
       "        if (!display || display === 'none') {{\n",
       "            console.log([gd, 'removed!']);\n",
       "            Plotly.purge(gd);\n",
       "            observer.disconnect();\n",
       "        }}\n",
       "}});\n",
       "\n",
       "// Listen for the removal of the full notebook cells\n",
       "var notebookContainer = gd.closest('#notebook-container');\n",
       "if (notebookContainer) {{\n",
       "    x.observe(notebookContainer, {childList: true});\n",
       "}}\n",
       "\n",
       "// Listen for the clearing of the current output cell\n",
       "var outputEl = gd.closest('.output');\n",
       "if (outputEl) {{\n",
       "    x.observe(outputEl, {childList: true});\n",
       "}}\n",
       "\n",
       "                        })                };                });            </script>        </div>"
      ]
     },
     "metadata": {},
     "output_type": "display_data"
    }
   ],
   "source": [
    "plot_model(Kmeanmodel,plot='tsne')"
   ]
  },
  {
   "cell_type": "code",
   "execution_count": 36,
   "id": "b458ca1c-1ae2-43d5-b9ee-ebe50405b399",
   "metadata": {},
   "outputs": [
    {
     "data": {
      "text/html": [],
      "text/plain": [
       "<IPython.core.display.HTML object>"
      ]
     },
     "metadata": {},
     "output_type": "display_data"
    },
    {
     "data": {
      "image/png": "[encoded data removed]",
      "text/plain": [
       "<Figure size 800x550 with 1 Axes>"
      ]
     },
     "metadata": {},
     "output_type": "display_data"
    }
   ],
   "source": [
    "plot_model(Kmeanmodel,plot='elbow')"
   ]
  },
  {
   "cell_type": "code",
   "execution_count": 37,
   "id": "8c5d34b8-72a0-42f4-805f-e8b3edfde9a8",
   "metadata": {},
   "outputs": [
    {
     "data": {
      "text/html": [],
      "text/plain": [
       "<IPython.core.display.HTML object>"
      ]
     },
     "metadata": {},
     "output_type": "display_data"
    },
    {
     "data": {
      "application/vnd.plotly.v1+json": {
       "config": {
        "plotlyServerURL": "https://plot.ly"
       },
       "data": [
        {
         "alignmentgroup": "True",
         "bingroup": "x",
         "hovertemplate": "Cluster=%{x}<br>count=%{y}<extra></extra>",
         "legendgroup": "Cluster 0",
         "marker": {
          "color": "#636efa",
          "opacity": 0.7,
          "pattern": {
           "shape": ""
          }
         },
         "name": "Cluster 0",
         "offsetgroup": "Cluster 0",
         "orientation": "v",
         "showlegend": true,
         "type": "histogram",
         "x": [
          "Cluster 0",
          "Cluster 0",
          "Cluster 0",
          "Cluster 0",
          "Cluster 0",
          "Cluster 0",
          "Cluster 0",
          "Cluster 0",
          "Cluster 0",
          "Cluster 0",
          "Cluster 0",
          "Cluster 0",
          "Cluster 0",
          "Cluster 0",
          "Cluster 0",
          "Cluster 0",
          "Cluster 0",
          "Cluster 0",
          "Cluster 0",
          "Cluster 0",
          "Cluster 0",
          "Cluster 0",
          "Cluster 0",
          "Cluster 0",
          "Cluster 0",
          "Cluster 0",
          "Cluster 0",
          "Cluster 0",
          "Cluster 0",
          "Cluster 0",
          "Cluster 0",
          "Cluster 0",
          "Cluster 0",
          "Cluster 0",
          "Cluster 0",
          "Cluster 0",
          "Cluster 0",
          "Cluster 0",
          "Cluster 0"
         ],
         "xaxis": "x",
         "yaxis": "y"
        },
        {
         "alignmentgroup": "True",
         "customdata": [
          [
           12.73,
           13.75,
           0.8458,
           5.412,
           2.882,
           3.533,
           5.067
          ],
          [
           13.16,
           13.55,
           0.9009,
           5.138,
           3.201,
           2.461,
           4.783
          ],
          [
           11.43,
           13.13,
           0.8335,
           5.176,
           2.719,
           2.221,
           5.132
          ],
          [
           12.08,
           13.23,
           0.8664,
           5.099,
           2.936,
           1.415,
           4.961
          ],
          [
           13.02,
           13.76,
           0.8641,
           5.395,
           3.026,
           3.373,
           4.825
          ],
          [
           12.74,
           13.67,
           0.8564,
           5.395,
           2.956,
           2.504,
           4.869
          ],
          [
           11.84,
           13.21,
           0.8521,
           5.175,
           2.836,
           3.598,
           5.044
          ],
          [
           13.45,
           14.02,
           0.8604,
           5.516,
           3.065,
           3.531,
           5.097
          ],
          [
           11.18,
           13.04,
           0.8266,
           5.22,
           2.693,
           3.332,
           5.001
          ],
          [
           13.16,
           13.82,
           0.8662,
           5.454,
           2.975,
           0.8551,
           5.056
          ],
          [
           12.78,
           13.57,
           0.8716,
           5.262,
           3.026,
           1.176,
           4.782
          ],
          [
           13.22,
           13.84,
           0.868,
           5.395,
           3.07,
           4.157,
           5.088
          ],
          [
           12.36,
           13.19,
           0.8923,
           5.076,
           3.042,
           3.22,
           4.605
          ],
          [
           11.23,
           12.63,
           0.884,
           4.902,
           2.879,
           2.269,
           4.703
          ],
          [
           11.42,
           12.86,
           0.8683,
           5.008,
           2.85,
           2.7,
           5.4
          ],
          [
           13.54,
           13.85,
           0.8871,
           5.348,
           3.156,
           2.587,
           5.178
          ],
          [
           13.5,
           13.85,
           0.8852,
           5.351,
           3.158,
           2.249,
           5.176
          ],
          [
           12.88,
           13.5,
           0.8879,
           5.139,
           3.119,
           2.352,
           4.607
          ],
          [
           12.72,
           13.57,
           0.8686,
           5.226,
           3.049,
           4.102,
           4.914
          ],
          [
           12.7,
           13.71,
           0.8491,
           5.386,
           2.911,
           3.26,
           5.316
          ],
          [
           11.34,
           12.87,
           0.8596,
           5.053,
           2.849,
           3.347,
           5.003
          ],
          [
           12.19,
           13.2,
           0.8783,
           5.137,
           2.981,
           3.631,
           4.87
          ],
          [
           12.37,
           13.47,
           0.8567,
           5.204,
           2.96,
           3.919,
           5.001
          ],
          [
           11.18,
           12.72,
           0.868,
           5.009,
           2.81,
           4.051,
           4.828
          ],
          [
           12.67,
           13.32,
           0.8977,
           4.984,
           3.135,
           2.3,
           5.4
          ],
          [
           12.76,
           13.38,
           0.8964,
           5.073,
           3.155,
           2.828,
           4.83
          ],
          [
           12.62,
           13.67,
           0.8481,
           5.41,
           2.911,
           3.306,
           5.231
          ],
          [
           12.11,
           13.27,
           0.8639,
           5.236,
           2.975,
           4.132,
           5.012
          ],
          [
           11.87,
           13.02,
           0.8795,
           5.132,
           2.953,
           3.597,
           5.132
          ],
          [
           11.36,
           13.05,
           0.8382,
           5.175,
           2.755,
           4.048,
           5.263
          ],
          [
           12.11,
           13.47,
           0.8392,
           5.159,
           3.032,
           1.502,
           4.519
          ],
          [
           11.56,
           13.31,
           0.8198,
           5.363,
           2.683,
           4.062,
           5.182
          ],
          [
           12.21,
           13.47,
           0.8453,
           5.357,
           2.893,
           1.661,
           5.178
          ],
          [
           11.02,
           13,
           null,
           0.8189,
           5.325,
           2.701,
           6.735
          ],
          [
           11.24,
           13,
           null,
           0.8359,
           5.09,
           2.715,
           3.521
          ],
          [
           12.15,
           13.45,
           0.8443,
           5.417,
           2.837,
           3.638,
           5.338
          ],
          [
           12.1,
           13.15,
           0.8793,
           5.105,
           2.941,
           2.201,
           5.056
          ],
          [
           12.54,
           13.67,
           0.8425,
           5.451,
           2.879,
           3.082,
           5.491
          ],
          [
           11.27,
           12.86,
           0.8563,
           5.091,
           2.804,
           3.985,
           5.001
          ]
         ],
         "hovertemplate": "Cluster=%{x}<br>area=%{customdata[0]}<br>perimeter=%{customdata[1]}<br>compactness=%{customdata[2]}<br>length=%{customdata[3]}<br>width=%{customdata[4]}<br>asymmetry=%{customdata[5]}<br>length.1=%{customdata[6]}<extra></extra>",
         "legendgroup": "Cluster 0",
         "marker": {
          "color": "#636efa"
         },
         "name": "Cluster 0",
         "notched": true,
         "offsetgroup": "Cluster 0",
         "showlegend": false,
         "type": "box",
         "x": [
          "Cluster 0",
          "Cluster 0",
          "Cluster 0",
          "Cluster 0",
          "Cluster 0",
          "Cluster 0",
          "Cluster 0",
          "Cluster 0",
          "Cluster 0",
          "Cluster 0",
          "Cluster 0",
          "Cluster 0",
          "Cluster 0",
          "Cluster 0",
          "Cluster 0",
          "Cluster 0",
          "Cluster 0",
          "Cluster 0",
          "Cluster 0",
          "Cluster 0",
          "Cluster 0",
          "Cluster 0",
          "Cluster 0",
          "Cluster 0",
          "Cluster 0",
          "Cluster 0",
          "Cluster 0",
          "Cluster 0",
          "Cluster 0",
          "Cluster 0",
          "Cluster 0",
          "Cluster 0",
          "Cluster 0",
          "Cluster 0",
          "Cluster 0",
          "Cluster 0",
          "Cluster 0",
          "Cluster 0",
          "Cluster 0"
         ],
         "xaxis": "x2",
         "yaxis": "y2"
        },
        {
         "alignmentgroup": "True",
         "bingroup": "x",
         "hovertemplate": "Cluster=%{x}<br>count=%{y}<extra></extra>",
         "legendgroup": "Cluster 1",
         "marker": {
          "color": "#EF553B",
          "opacity": 0.7,
          "pattern": {
           "shape": ""
          }
         },
         "name": "Cluster 1",
         "offsetgroup": "Cluster 1",
         "orientation": "v",
         "showlegend": true,
         "type": "histogram",
         "x": [
          "Cluster 1",
          "Cluster 1",
          "Cluster 1",
          "Cluster 1",
          "Cluster 1",
          "Cluster 1",
          "Cluster 1",
          "Cluster 1",
          "Cluster 1",
          "Cluster 1",
          "Cluster 1",
          "Cluster 1",
          "Cluster 1",
          "Cluster 1",
          "Cluster 1",
          "Cluster 1",
          "Cluster 1",
          "Cluster 1",
          "Cluster 1",
          "Cluster 1",
          "Cluster 1",
          "Cluster 1",
          "Cluster 1",
          "Cluster 1",
          "Cluster 1",
          "Cluster 1",
          "Cluster 1",
          "Cluster 1",
          "Cluster 1",
          "Cluster 1",
          "Cluster 1",
          "Cluster 1",
          "Cluster 1",
          "Cluster 1",
          "Cluster 1",
          "Cluster 1",
          "Cluster 1",
          "Cluster 1",
          "Cluster 1",
          "Cluster 1",
          "Cluster 1",
          "Cluster 1",
          "Cluster 1",
          "Cluster 1",
          "Cluster 1",
          "Cluster 1",
          "Cluster 1",
          "Cluster 1",
          "Cluster 1",
          "Cluster 1",
          "Cluster 1",
          "Cluster 1",
          "Cluster 1",
          "Cluster 1",
          "Cluster 1",
          "Cluster 1",
          "Cluster 1",
          "Cluster 1",
          "Cluster 1",
          "Cluster 1",
          "Cluster 1"
         ],
         "xaxis": "x",
         "yaxis": "y"
        },
        {
         "alignmentgroup": "True",
         "customdata": [
          [
           16.53,
           15.34,
           0.8823,
           5.875,
           3.467,
           5.532,
           5.88
          ],
          [
           17.12,
           15.55,
           0.8892,
           5.85,
           3.566,
           2.858,
           5.746
          ],
          [
           20.2,
           16.89,
           0.8894,
           6.285,
           3.864,
           5.173,
           6.187
          ],
          [
           19.57,
           16.74,
           0.8779,
           6.384,
           3.772,
           1.472,
           6.273
          ],
          [
           18.72,
           16.19,
           0.8977,
           6.006,
           3.857,
           5.324,
           5.879
          ],
          [
           18.95,
           16.42,
           0.8829,
           6.248,
           3.755,
           3.368,
           6.148
          ],
          [
           20.71,
           17.23,
           0.8763,
           6.579,
           3.814,
           4.451,
           6.451
          ],
          [
           17.32,
           15.91,
           0.8599,
           6.064,
           3.403,
           3.824,
           5.922
          ],
          [
           19.51,
           16.71,
           0.878,
           6.366,
           3.801,
           2.962,
           6.185
          ],
          [
           16.77,
           15.62,
           0.8638,
           5.927,
           3.438,
           4.92,
           5.795
          ],
          [
           18.94,
           16.49,
           0.875,
           6.445,
           3.639,
           5.064,
           6.362
          ],
          [
           18.27,
           16.09,
           0.887,
           6.173,
           3.651,
           2.443,
           6.197
          ],
          [
           18.17,
           16.26,
           0.8637,
           6.271,
           3.512,
           2.853,
           6.273
          ],
          [
           18.98,
           16.66,
           0.859,
           6.549,
           3.67,
           3.691,
           6.498
          ],
          [
           18.85,
           16.17,
           0.9056,
           6.152,
           3.806,
           2.843,
           6.2
          ],
          [
           18.83,
           16.29,
           0.8917,
           6.037,
           3.786,
           2.553,
           5.879
          ],
          [
           19.18,
           16.63,
           0.8717,
           6.369,
           3.681,
           3.357,
           6.229
          ],
          [
           19.46,
           16.5,
           0.8985,
           6.113,
           3.892,
           4.308,
           6.009
          ],
          [
           17.99,
           15.86,
           0.8992,
           5.89,
           3.694,
           2.068,
           5.837
          ],
          [
           18.55,
           16.22,
           0.8865,
           6.153,
           3.674,
           1.738,
           5.894
          ],
          [
           18.72,
           16.34,
           0.881,
           6.219,
           3.684,
           2.188,
           6.097
          ],
          [
           16.82,
           15.51,
           0.8786,
           6.017,
           3.486,
           4.004,
           5.841
          ],
          [
           18.88,
           16.26,
           0.8969,
           6.084,
           3.764,
           1.649,
           6.109
          ],
          [
           18.98,
           16.57,
           0.8687,
           6.449,
           3.552,
           2.144,
           6.453
          ],
          [
           16.87,
           15.65,
           0.8648,
           6.139,
           3.463,
           3.696,
           5.967
          ],
          [
           18.36,
           16.52,
           0.8452,
           6.666,
           3.485,
           4.933,
           6.448
          ],
          [
           18.59,
           16.05,
           0.9066,
           6.037,
           3.86,
           6.001,
           5.877
          ],
          [
           18.81,
           16.29,
           0.8906,
           6.272,
           3.693,
           3.237,
           6.053
          ],
          [
           18.76,
           16.2,
           0.8984,
           6.172,
           3.796,
           3.12,
           6.053
          ],
          [
           20.1,
           16.99,
           0.8746,
           6.581,
           3.785,
           1.955,
           6.449
          ],
          [
           20.88,
           17.05,
           0.9031,
           6.45,
           4.032,
           5.016,
           6.321
          ],
          [
           21.18,
           17.21,
           0.8989,
           6.573,
           4.033,
           5.78,
           6.231
          ],
          [
           19.31,
           16.59,
           0.8815,
           6.341,
           3.81,
           3.477,
           6.238
          ],
          [
           19.11,
           16.26,
           0.9081,
           6.154,
           3.93,
           2.936,
           6.079
          ],
          [
           19.15,
           16.45,
           0.889,
           6.245,
           3.815,
           3.084,
           6.185
          ],
          [
           16.84,
           15.67,
           0.8623,
           5.998,
           3.484,
           4.675,
           5.877
          ],
          [
           17.36,
           15.76,
           0.8785,
           6.145,
           3.574,
           3.526,
           5.971
          ],
          [
           18.94,
           16.32,
           0.8942,
           6.144,
           3.825,
           2.908,
           5.949
          ],
          [
           17.08,
           15.38,
           0.9079,
           5.832,
           3.683,
           2.956,
           5.484
          ],
          [
           18.3,
           15.89,
           0.9108,
           5.979,
           3.755,
           2.837,
           5.962
          ],
          [
           17.55,
           15.66,
           0.8991,
           5.791,
           3.69,
           5.366,
           5.661
          ],
          [
           20.16,
           17.03,
           0.8735,
           6.513,
           3.773,
           1.91,
           6.185
          ],
          [
           17.98,
           15.85,
           0.8993,
           5.979,
           3.687,
           2.257,
           5.919
          ],
          [
           18.65,
           16.41,
           0.8698,
           6.285,
           3.594,
           4.391,
           6.102
          ],
          [
           17.26,
           15.73,
           0.8763,
           5.978,
           3.594,
           4.539,
           5.791
          ],
          [
           18.43,
           15.97,
           0.9077,
           5.98,
           3.771,
           2.984,
           5.905
          ],
          [
           18.14,
           16.12,
           0.8772,
           6.059,
           3.563,
           3.619,
           6.011
          ],
          [
           18.75,
           16.18,
           0.8999,
           6.111,
           3.869,
           4.188,
           5.992
          ],
          [
           20.03,
           16.9,
           0.8811,
           6.493,
           3.857,
           3.063,
           6.32
          ],
          [
           17.63,
           15.98,
           0.8673,
           6.191,
           3.561,
           4.076,
           6.06
          ],
          [
           18.45,
           16.12,
           0.8921,
           6.107,
           3.769,
           2.235,
           5.794
          ],
          [
           20.24,
           16.91,
           0.8897,
           6.315,
           3.962,
           5.901,
           6.188
          ],
          [
           19.13,
           16.31,
           0.9035,
           6.183,
           3.902,
           2.109,
           5.924
          ],
          [
           19.14,
           16.61,
           0.8722,
           6.259,
           3.737,
           6.682,
           6.053
          ],
          [
           20.97,
           17.25,
           0.8859,
           6.563,
           3.991,
           4.677,
           6.316
          ],
          [
           19.38,
           16.72,
           0.8716,
           6.303,
           3.791,
           3.678,
           5.965
          ],
          [
           18.96,
           16.2,
           0.9077,
           6.051,
           3.897,
           4.334,
           5.75
          ],
          [
           17.63,
           15.86,
           0.88,
           6.033,
           3.573,
           3.747,
           5.929
          ],
          [
           18.89,
           16.23,
           0.9008,
           6.227,
           3.769,
           3.639,
           5.966
          ],
          [
           19.06,
           16.45,
           0.8854,
           6.416,
           3.719,
           2.248,
           6.163
          ],
          [
           19.94,
           16.92,
           0.8752,
           6.675,
           3.763,
           3.252,
           6.55
          ]
         ],
         "hovertemplate": "Cluster=%{x}<br>area=%{customdata[0]}<br>perimeter=%{customdata[1]}<br>compactness=%{customdata[2]}<br>length=%{customdata[3]}<br>width=%{customdata[4]}<br>asymmetry=%{customdata[5]}<br>length.1=%{customdata[6]}<extra></extra>",
         "legendgroup": "Cluster 1",
         "marker": {
          "color": "#EF553B"
         },
         "name": "Cluster 1",
         "notched": true,
         "offsetgroup": "Cluster 1",
         "showlegend": false,
         "type": "box",
         "x": [
          "Cluster 1",
          "Cluster 1",
          "Cluster 1",
          "Cluster 1",
          "Cluster 1",
          "Cluster 1",
          "Cluster 1",
          "Cluster 1",
          "Cluster 1",
          "Cluster 1",
          "Cluster 1",
          "Cluster 1",
          "Cluster 1",
          "Cluster 1",
          "Cluster 1",
          "Cluster 1",
          "Cluster 1",
          "Cluster 1",
          "Cluster 1",
          "Cluster 1",
          "Cluster 1",
          "Cluster 1",
          "Cluster 1",
          "Cluster 1",
          "Cluster 1",
          "Cluster 1",
          "Cluster 1",
          "Cluster 1",
          "Cluster 1",
          "Cluster 1",
          "Cluster 1",
          "Cluster 1",
          "Cluster 1",
          "Cluster 1",
          "Cluster 1",
          "Cluster 1",
          "Cluster 1",
          "Cluster 1",
          "Cluster 1",
          "Cluster 1",
          "Cluster 1",
          "Cluster 1",
          "Cluster 1",
          "Cluster 1",
          "Cluster 1",
          "Cluster 1",
          "Cluster 1",
          "Cluster 1",
          "Cluster 1",
          "Cluster 1",
          "Cluster 1",
          "Cluster 1",
          "Cluster 1",
          "Cluster 1",
          "Cluster 1",
          "Cluster 1",
          "Cluster 1",
          "Cluster 1",
          "Cluster 1",
          "Cluster 1",
          "Cluster 1"
         ],
         "xaxis": "x2",
         "yaxis": "y2"
        },
        {
         "alignmentgroup": "True",
         "bingroup": "x",
         "hovertemplate": "Cluster=%{x}<br>count=%{y}<extra></extra>",
         "legendgroup": "Cluster 2",
         "marker": {
          "color": "#00cc96",
          "opacity": 0.7,
          "pattern": {
           "shape": ""
          }
         },
         "name": "Cluster 2",
         "offsetgroup": "Cluster 2",
         "orientation": "v",
         "showlegend": true,
         "type": "histogram",
         "x": [
          "Cluster 2",
          "Cluster 2",
          "Cluster 2",
          "Cluster 2",
          "Cluster 2",
          "Cluster 2",
          "Cluster 2",
          "Cluster 2",
          "Cluster 2",
          "Cluster 2",
          "Cluster 2",
          "Cluster 2",
          "Cluster 2",
          "Cluster 2",
          "Cluster 2",
          "Cluster 2",
          "Cluster 2",
          "Cluster 2",
          "Cluster 2",
          "Cluster 2",
          "Cluster 2",
          "Cluster 2",
          "Cluster 2",
          "Cluster 2",
          "Cluster 2",
          "Cluster 2",
          "Cluster 2",
          "Cluster 2",
          "Cluster 2",
          "Cluster 2",
          "Cluster 2",
          "Cluster 2",
          "Cluster 2",
          "Cluster 2",
          "Cluster 2",
          "Cluster 2",
          "Cluster 2",
          "Cluster 2",
          "Cluster 2",
          "Cluster 2",
          "Cluster 2",
          "Cluster 2",
          "Cluster 2",
          "Cluster 2",
          "Cluster 2",
          "Cluster 2",
          "Cluster 2",
          "Cluster 2",
          "Cluster 2",
          "Cluster 2",
          "Cluster 2",
          "Cluster 2",
          "Cluster 2",
          "Cluster 2",
          "Cluster 2",
          "Cluster 2",
          "Cluster 2",
          "Cluster 2",
          "Cluster 2",
          "Cluster 2"
         ],
         "xaxis": "x",
         "yaxis": "y"
        },
        {
         "alignmentgroup": "True",
         "customdata": [
          [
           15.99,
           14.89,
           0.9064,
           5.363,
           3.582,
           3.336,
           5.144
          ],
          [
           15.38,
           14.9,
           0.8706,
           5.884,
           3.268,
           4.462,
           5.795
          ],
          [
           16.16,
           15.33,
           0.8644,
           5.845,
           3.395,
           4.266,
           5.795
          ],
          [
           15.56,
           14.89,
           0.8823,
           5.776,
           3.408,
           4.972,
           5.847
          ],
          [
           15.38,
           14.66,
           0.899,
           5.477,
           3.465,
           3.6,
           5.4
          ],
          [
           16.17,
           15.38,
           0.8588,
           5.762,
           3.387,
           4.286,
           5.703
          ],
          [
           15.57,
           15.15,
           0.8527,
           5.92,
           3.231,
           2.64,
           5.879
          ],
          [
           15.6,
           15.11,
           0.858,
           5.832,
           3.286,
           2.725,
           5.752
          ],
          [
           16.23,
           15.18,
           0.885,
           5.872,
           3.472,
           3.769,
           5.922
          ],
          [
           15.26,
           14.84,
           0.871,
           5.763,
           3.312,
           2.221,
           5.22
          ],
          [
           14.37,
           14.39,
           0.8726,
           5.569,
           3.153,
           1.464,
           5.3
          ],
          [
           16.19,
           15.16,
           0.8849,
           5.833,
           3.421,
           0.903,
           5.307
          ],
          [
           15.01,
           14.76,
           0.8657,
           5.789,
           3.245,
           1.791,
           5.001
          ],
          [
           14.88,
           14.57,
           0.8811,
           5.554,
           3.333,
           1.018,
           4.956
          ],
          [
           14.29,
           14.09,
           0.905,
           5.291,
           3.337,
           2.699,
           4.825
          ],
          [
           13.84,
           13.94,
           0.8955,
           5.324,
           3.379,
           2.259,
           4.805
          ],
          [
           16.14,
           14.99,
           0.9034,
           5.658,
           3.562,
           1.355,
           5.175
          ],
          [
           15.88,
           14.9,
           0.8988,
           5.618,
           3.507,
           0.7651,
           5.091
          ],
          [
           14.11,
           14.26,
           0.8722,
           5.52,
           3.168,
           2.688,
           5.219
          ],
          [
           14.38,
           14.21,
           0.8951,
           5.386,
           3.312,
           2.462,
           4.956
          ],
          [
           14.69,
           14.49,
           0.8799,
           5.563,
           3.259,
           3.586,
           5.219
          ],
          [
           14.11,
           14.18,
           0.882,
           5.541,
           3.221,
           2.754,
           5.038
          ],
          [
           14.16,
           14.4,
           0.8584,
           5.658,
           3.129,
           3.072,
           5.176
          ],
          [
           15.69,
           14.75,
           0.9058,
           5.527,
           3.514,
           1.599,
           5.046
          ],
          [
           14.11,
           14.1,
           0.8911,
           5.42,
           3.302,
           2.7,
           5.4
          ],
          [
           16.41,
           15.25,
           0.8866,
           5.718,
           3.525,
           4.217,
           5.618
          ],
          [
           16.63,
           15.46,
           0.8747,
           6.053,
           3.465,
           2.04,
           5.877
          ],
          [
           16.44,
           15.25,
           0.888,
           5.884,
           3.505,
           1.969,
           5.533
          ],
          [
           14.59,
           14.28,
           0.8993,
           5.351,
           3.333,
           4.185,
           4.781
          ],
          [
           13.74,
           14.05,
           0.8744,
           5.482,
           3.114,
           2.932,
           4.825
          ],
          [
           13.78,
           14.06,
           0.8759,
           5.479,
           3.156,
           3.136,
           4.872
          ],
          [
           13.89,
           14.02,
           0.888,
           5.439,
           3.199,
           3.986,
           4.738
          ],
          [
           15.26,
           14.85,
           0.8696,
           5.714,
           3.242,
           4.543,
           5.314
          ],
          [
           14.7,
           14.21,
           0.9153,
           5.205,
           3.466,
           1.767,
           4.649
          ],
          [
           15.49,
           14.94,
           0.8724,
           5.757,
           3.371,
           3.412,
           5.228
          ],
          [
           14.03,
           14.16,
           0.8796,
           5.438,
           3.201,
           1.717,
           5.001
          ],
          [
           13.94,
           14.17,
           0.8728,
           5.585,
           3.15,
           2.124,
           5.012
          ],
          [
           14.01,
           14.29,
           0.8625,
           5.609,
           3.158,
           2.217,
           5.132
          ],
          [
           14.34,
           14.37,
           0.8726,
           5.63,
           3.19,
           1.313,
           5.15
          ],
          [
           15.38,
           14.77,
           0.8857,
           5.662,
           3.419,
           1.999,
           5.222
          ],
          [
           14.92,
           14.43,
           0.9006,
           5.384,
           3.412,
           1.142,
           5.088
          ],
          [
           14.46,
           14.35,
           0.8818,
           5.388,
           3.377,
           2.802,
           5.044
          ],
          [
           15.03,
           14.77,
           0.8658,
           5.702,
           3.212,
           1.933,
           5.439
          ],
          [
           14.52,
           14.6,
           0.8557,
           5.741,
           3.113,
           1.481,
           5.487
          ],
          [
           14.33,
           14.28,
           0.8831,
           5.504,
           3.199,
           3.328,
           5.224
          ],
          [
           14.49,
           14.61,
           0.8538,
           5.715,
           3.113,
           4.116,
           5.396
          ],
          [
           14.09,
           14.41,
           0.8529,
           5.717,
           3.186,
           3.92,
           5.299
          ],
          [
           14.43,
           14.4,
           0.8751,
           5.585,
           3.272,
           3.975,
           5.144
          ],
          [
           14.86,
           14.67,
           0.8676,
           5.678,
           3.258,
           2.129,
           5.351
          ],
          [
           14.79,
           14.52,
           0.8819,
           5.545,
           3.291,
           2.704,
           5.111
          ],
          [
           15.78,
           14.91,
           0.8923,
           5.674,
           3.434,
           5.593,
           5.136
          ],
          [
           15.36,
           14.76,
           0.8861,
           5.701,
           3.393,
           1.367,
           5.132
          ],
          [
           13.8,
           14.04,
           0.8794,
           5.376,
           3.155,
           1.56,
           4.961
          ],
          [
           15.11,
           14.54,
           0.8986,
           5.579,
           3.462,
           3.128,
           5.18
          ],
          [
           15.5,
           14.86,
           0.882,
           5.877,
           3.396,
           4.711,
           5.528
          ],
          [
           15.05,
           14.68,
           0.8779,
           5.712,
           3.328,
           2.129,
           5.36
          ],
          [
           16.12,
           15,
           null,
           0.9,
           null,
           5.709,
           3.485
          ],
          [
           16.2,
           15.27,
           0.8734,
           5.826,
           3.464,
           2.823,
           5.527
          ],
          [
           14.99,
           14.56,
           0.8883,
           5.57,
           3.377,
           2.958,
           5.175
          ],
          [
           14.8,
           14.52,
           0.8823,
           5.656,
           3.288,
           3.112,
           5.309
          ]
         ],
         "hovertemplate": "Cluster=%{x}<br>area=%{customdata[0]}<br>perimeter=%{customdata[1]}<br>compactness=%{customdata[2]}<br>length=%{customdata[3]}<br>width=%{customdata[4]}<br>asymmetry=%{customdata[5]}<br>length.1=%{customdata[6]}<extra></extra>",
         "legendgroup": "Cluster 2",
         "marker": {
          "color": "#00cc96"
         },
         "name": "Cluster 2",
         "notched": true,
         "offsetgroup": "Cluster 2",
         "showlegend": false,
         "type": "box",
         "x": [
          "Cluster 2",
          "Cluster 2",
          "Cluster 2",
          "Cluster 2",
          "Cluster 2",
          "Cluster 2",
          "Cluster 2",
          "Cluster 2",
          "Cluster 2",
          "Cluster 2",
          "Cluster 2",
          "Cluster 2",
          "Cluster 2",
          "Cluster 2",
          "Cluster 2",
          "Cluster 2",
          "Cluster 2",
          "Cluster 2",
          "Cluster 2",
          "Cluster 2",
          "Cluster 2",
          "Cluster 2",
          "Cluster 2",
          "Cluster 2",
          "Cluster 2",
          "Cluster 2",
          "Cluster 2",
          "Cluster 2",
          "Cluster 2",
          "Cluster 2",
          "Cluster 2",
          "Cluster 2",
          "Cluster 2",
          "Cluster 2",
          "Cluster 2",
          "Cluster 2",
          "Cluster 2",
          "Cluster 2",
          "Cluster 2",
          "Cluster 2",
          "Cluster 2",
          "Cluster 2",
          "Cluster 2",
          "Cluster 2",
          "Cluster 2",
          "Cluster 2",
          "Cluster 2",
          "Cluster 2",
          "Cluster 2",
          "Cluster 2",
          "Cluster 2",
          "Cluster 2",
          "Cluster 2",
          "Cluster 2",
          "Cluster 2",
          "Cluster 2",
          "Cluster 2",
          "Cluster 2",
          "Cluster 2",
          "Cluster 2"
         ],
         "xaxis": "x2",
         "yaxis": "y2"
        },
        {
         "alignmentgroup": "True",
         "bingroup": "x",
         "hovertemplate": "Cluster=%{x}<br>count=%{y}<extra></extra>",
         "legendgroup": "Cluster 3",
         "marker": {
          "color": "#ab63fa",
          "opacity": 0.7,
          "pattern": {
           "shape": ""
          }
         },
         "name": "Cluster 3",
         "offsetgroup": "Cluster 3",
         "orientation": "v",
         "showlegend": true,
         "type": "histogram",
         "x": [
          "Cluster 3",
          "Cluster 3",
          "Cluster 3",
          "Cluster 3",
          "Cluster 3",
          "Cluster 3",
          "Cluster 3",
          "Cluster 3",
          "Cluster 3",
          "Cluster 3",
          "Cluster 3",
          "Cluster 3",
          "Cluster 3",
          "Cluster 3",
          "Cluster 3",
          "Cluster 3",
          "Cluster 3",
          "Cluster 3",
          "Cluster 3",
          "Cluster 3",
          "Cluster 3",
          "Cluster 3",
          "Cluster 3",
          "Cluster 3",
          "Cluster 3",
          "Cluster 3",
          "Cluster 3",
          "Cluster 3",
          "Cluster 3",
          "Cluster 3",
          "Cluster 3",
          "Cluster 3",
          "Cluster 3",
          "Cluster 3",
          "Cluster 3",
          "Cluster 3",
          "Cluster 3",
          "Cluster 3",
          "Cluster 3",
          "Cluster 3",
          "Cluster 3",
          "Cluster 3",
          "Cluster 3",
          "Cluster 3",
          "Cluster 3",
          "Cluster 3",
          "Cluster 3",
          "Cluster 3",
          "Cluster 3",
          "Cluster 3"
         ],
         "xaxis": "x",
         "yaxis": "y"
        },
        {
         "alignmentgroup": "True",
         "customdata": [
          [
           13.37,
           13.78,
           0.8849,
           5.32,
           3.128,
           4.67,
           5.091
          ],
          [
           12.46,
           13.41,
           0.8706,
           5.236,
           3.017,
           4.987,
           5.147
          ],
          [
           12.19,
           13.36,
           0.8579,
           5.24,
           2.909,
           4.857,
           5.158
          ],
          [
           11.65,
           13.07,
           0.8575,
           5.108,
           2.85,
           5.209,
           5.135
          ],
          [
           12.89,
           13.77,
           0.8541,
           5.495,
           3.026,
           6.185,
           5.316
          ],
          [
           11.81,
           13.45,
           0.8198,
           5.413,
           2.716,
           4.898,
           5.352
          ],
          [
           11.23,
           12.88,
           0.8511,
           5.14,
           2.795,
           4.325,
           5.003
          ],
          [
           11.23,
           12.82,
           0.8594,
           5.089,
           2.821,
           7.524,
           4.957
          ],
          [
           10.59,
           12.41,
           0.8648,
           4.899,
           2.787,
           4.975,
           4.794
          ],
          [
           10.93,
           12.8,
           0.839,
           5.046,
           2.717,
           5.398,
           5.045
          ],
          [
           13.2,
           13.66,
           0.8883,
           5.236,
           3.232,
           8.315,
           5.056
          ],
          [
           11.41,
           12.95,
           0.856,
           5.09,
           2.775,
           4.957,
           4.825
          ],
          [
           10.82,
           12.83,
           0.8256,
           5.18,
           2.63,
           4.853,
           5.089
          ],
          [
           12.8,
           13.47,
           0.886,
           5.16,
           3.126,
           4.873,
           4.914
          ],
          [
           12.38,
           13.44,
           0.8609,
           5.219,
           2.989,
           5.472,
           5.045
          ],
          [
           12.79,
           13.53,
           0.8786,
           5.224,
           3.054,
           5.483,
           4.958
          ],
          [
           10.91,
           12.8,
           0.8372,
           5.088,
           2.675,
           4.179,
           4.956
          ],
          [
           12.7,
           13.41,
           0.8874,
           5.183,
           3.091,
           8.456,
           5
          ],
          [
           11.49,
           13.22,
           0.8263,
           5.304,
           2.695,
           5.388,
           5.31
          ],
          [
           10.74,
           12.73,
           0.8329,
           5.145,
           2.642,
           4.702,
           4.963
          ],
          [
           14.28,
           14.17,
           0.8944,
           5.397,
           3.298,
           6.685,
           5.001
          ],
          [
           13.07,
           13.92,
           0.848,
           5.472,
           2.994,
           5.304,
           5.395
          ],
          [
           13.32,
           13.94,
           0.8613,
           5.541,
           3.073,
           7.035,
           5.44
          ],
          [
           13.34,
           13.95,
           0.862,
           5.389,
           3.074,
           5.995,
           5.307
          ],
          [
           12.22,
           13.32,
           0.8652,
           5.224,
           2.967,
           5.469,
           5.221
          ],
          [
           11.82,
           13.4,
           0.8274,
           5.314,
           2.777,
           4.471,
           5.178
          ],
          [
           11.21,
           13.13,
           0.8167,
           5.279,
           2.687,
           6.169,
           5.275
          ],
          [
           12.49,
           13.46,
           0.8658,
           5.267,
           2.967,
           4.421,
           5.002
          ],
          [
           10.79,
           12.93,
           0.8107,
           5.317,
           2.648,
           5.462,
           5.194
          ],
          [
           11.83,
           13.23,
           0.8496,
           5.263,
           2.84,
           5.195,
           5.307
          ],
          [
           12.01,
           13.52,
           0.8249,
           5.405,
           2.776,
           6.992,
           5.27
          ],
          [
           12.26,
           13.6,
           0.8333,
           5.408,
           2.833,
           4.756,
           5.36
          ],
          [
           11.19,
           13.05,
           0.8253,
           5.25,
           2.675,
           5.813,
           5.219
          ],
          [
           11.48,
           13.05,
           0.8473,
           5.18,
           2.758,
           5.876,
           5.002
          ],
          [
           12.13,
           13.73,
           0.8081,
           5.394,
           2.745,
           4.825,
           5.22
          ],
          [
           13.99,
           13.83,
           0.9183,
           5.119,
           3.383,
           5.234,
           4.781
          ],
          [
           12.02,
           13.33,
           0.8503,
           5.35,
           2.81,
           4.271,
           5.308
          ],
          [
           12.05,
           13.41,
           0.8416,
           5.267,
           2.847,
           4.988,
           5.046
          ],
          [
           12.55,
           13.57,
           0.8558,
           5.333,
           2.968,
           4.419,
           5.176
          ],
          [
           11.14,
           12.79,
           0.8558,
           5.011,
           2.794,
           6.388,
           5.049
          ],
          [
           12.44,
           13.59,
           0.8462,
           5.319,
           2.897,
           4.924,
           5.27
          ],
          [
           11.35,
           13.12,
           0.8291,
           5.176,
           2.668,
           4.337,
           5.132
          ],
          [
           11.55,
           13.1,
           0.8455,
           5.167,
           2.845,
           6.715,
           4.956
          ],
          [
           11.27,
           12.97,
           0.8419,
           5.088,
           2.763,
           4.309,
           5
          ],
          [
           11.4,
           13.08,
           0.8375,
           5.136,
           2.763,
           5.588,
           5.089
          ],
          [
           10.83,
           12.96,
           0.8099,
           5.278,
           2.641,
           5.182,
           5.185
          ],
          [
           10.8,
           12.57,
           0.859,
           4.981,
           2.821,
           4.773,
           5.063
          ],
          [
           11.26,
           13.01,
           0.8355,
           5.186,
           2.71,
           5.335,
           5.092
          ],
          [
           11.75,
           13.52,
           0.8082,
           5.444,
           2.678,
           4.378,
           5.31
          ],
          [
           12.3,
           13.34,
           0.8684,
           5.243,
           2.974,
           5.637,
           5.063
          ]
         ],
         "hovertemplate": "Cluster=%{x}<br>area=%{customdata[0]}<br>perimeter=%{customdata[1]}<br>compactness=%{customdata[2]}<br>length=%{customdata[3]}<br>width=%{customdata[4]}<br>asymmetry=%{customdata[5]}<br>length.1=%{customdata[6]}<extra></extra>",
         "legendgroup": "Cluster 3",
         "marker": {
          "color": "#ab63fa"
         },
         "name": "Cluster 3",
         "notched": true,
         "offsetgroup": "Cluster 3",
         "showlegend": false,
         "type": "box",
         "x": [
          "Cluster 3",
          "Cluster 3",
          "Cluster 3",
          "Cluster 3",
          "Cluster 3",
          "Cluster 3",
          "Cluster 3",
          "Cluster 3",
          "Cluster 3",
          "Cluster 3",
          "Cluster 3",
          "Cluster 3",
          "Cluster 3",
          "Cluster 3",
          "Cluster 3",
          "Cluster 3",
          "Cluster 3",
          "Cluster 3",
          "Cluster 3",
          "Cluster 3",
          "Cluster 3",
          "Cluster 3",
          "Cluster 3",
          "Cluster 3",
          "Cluster 3",
          "Cluster 3",
          "Cluster 3",
          "Cluster 3",
          "Cluster 3",
          "Cluster 3",
          "Cluster 3",
          "Cluster 3",
          "Cluster 3",
          "Cluster 3",
          "Cluster 3",
          "Cluster 3",
          "Cluster 3",
          "Cluster 3",
          "Cluster 3",
          "Cluster 3",
          "Cluster 3",
          "Cluster 3",
          "Cluster 3",
          "Cluster 3",
          "Cluster 3",
          "Cluster 3",
          "Cluster 3",
          "Cluster 3",
          "Cluster 3",
          "Cluster 3"
         ],
         "xaxis": "x2",
         "yaxis": "y2"
        }
       ],
       "layout": {
        "autosize": true,
        "barmode": "relative",
        "legend": {
         "title": {
          "text": "Cluster"
         },
         "tracegroupgap": 0
        },
        "margin": {
         "t": 60
        },
        "template": {
         "data": {
          "bar": [
           {
            "error_x": {
             "color": "#2a3f5f"
            },
            "error_y": {
             "color": "#2a3f5f"
            },
            "marker": {
             "line": {
              "color": "#E5ECF6",
              "width": 0.5
             },
             "pattern": {
              "fillmode": "overlay",
              "size": 10,
              "solidity": 0.2
             }
            },
            "type": "bar"
           }
          ],
          "barpolar": [
           {
            "marker": {
             "line": {
              "color": "#E5ECF6",
              "width": 0.5
             },
             "pattern": {
              "fillmode": "overlay",
              "size": 10,
              "solidity": 0.2
             }
            },
            "type": "barpolar"
           }
          ],
          "carpet": [
           {
            "aaxis": {
             "endlinecolor": "#2a3f5f",
             "gridcolor": "white",
             "linecolor": "white",
             "minorgridcolor": "white",
             "startlinecolor": "#2a3f5f"
            },
            "baxis": {
             "endlinecolor": "#2a3f5f",
             "gridcolor": "white",
             "linecolor": "white",
             "minorgridcolor": "white",
             "startlinecolor": "#2a3f5f"
            },
            "type": "carpet"
           }
          ],
          "choropleth": [
           {
            "colorbar": {
             "outlinewidth": 0,
             "ticks": ""
            },
            "type": "choropleth"
           }
          ],
          "contour": [
           {
            "colorbar": {
             "outlinewidth": 0,
             "ticks": ""
            },
            "colorscale": [
             [
              0,
              "#0d0887"
             ],
             [
              0.1111111111111111,
              "#46039f"
             ],
             [
              0.2222222222222222,
              "#7201a8"
             ],
             [
              0.3333333333333333,
              "#9c179e"
             ],
             [
              0.4444444444444444,
              "#bd3786"
             ],
             [
              0.5555555555555556,
              "#d8576b"
             ],
             [
              0.6666666666666666,
              "#ed7953"
             ],
             [
              0.7777777777777778,
              "#fb9f3a"
             ],
             [
              0.8888888888888888,
              "#fdca26"
             ],
             [
              1,
              "#f0f921"
             ]
            ],
            "type": "contour"
           }
          ],
          "contourcarpet": [
           {
            "colorbar": {
             "outlinewidth": 0,
             "ticks": ""
            },
            "type": "contourcarpet"
           }
          ],
          "heatmap": [
           {
            "colorbar": {
             "outlinewidth": 0,
             "ticks": ""
            },
            "colorscale": [
             [
              0,
              "#0d0887"
             ],
             [
              0.1111111111111111,
              "#46039f"
             ],
             [
              0.2222222222222222,
              "#7201a8"
             ],
             [
              0.3333333333333333,
              "#9c179e"
             ],
             [
              0.4444444444444444,
              "#bd3786"
             ],
             [
              0.5555555555555556,
              "#d8576b"
             ],
             [
              0.6666666666666666,
              "#ed7953"
             ],
             [
              0.7777777777777778,
              "#fb9f3a"
             ],
             [
              0.8888888888888888,
              "#fdca26"
             ],
             [
              1,
              "#f0f921"
             ]
            ],
            "type": "heatmap"
           }
          ],
          "heatmapgl": [
           {
            "colorbar": {
             "outlinewidth": 0,
             "ticks": ""
            },
            "colorscale": [
             [
              0,
              "#0d0887"
             ],
             [
              0.1111111111111111,
              "#46039f"
             ],
             [
              0.2222222222222222,
              "#7201a8"
             ],
             [
              0.3333333333333333,
              "#9c179e"
             ],
             [
              0.4444444444444444,
              "#bd3786"
             ],
             [
              0.5555555555555556,
              "#d8576b"
             ],
             [
              0.6666666666666666,
              "#ed7953"
             ],
             [
              0.7777777777777778,
              "#fb9f3a"
             ],
             [
              0.8888888888888888,
              "#fdca26"
             ],
             [
              1,
              "#f0f921"
             ]
            ],
            "type": "heatmapgl"
           }
          ],
          "histogram": [
           {
            "marker": {
             "pattern": {
              "fillmode": "overlay",
              "size": 10,
              "solidity": 0.2
             }
            },
            "type": "histogram"
           }
          ],
          "histogram2d": [
           {
            "colorbar": {
             "outlinewidth": 0,
             "ticks": ""
            },
            "colorscale": [
             [
              0,
              "#0d0887"
             ],
             [
              0.1111111111111111,
              "#46039f"
             ],
             [
              0.2222222222222222,
              "#7201a8"
             ],
             [
              0.3333333333333333,
              "#9c179e"
             ],
             [
              0.4444444444444444,
              "#bd3786"
             ],
             [
              0.5555555555555556,
              "#d8576b"
             ],
             [
              0.6666666666666666,
              "#ed7953"
             ],
             [
              0.7777777777777778,
              "#fb9f3a"
             ],
             [
              0.8888888888888888,
              "#fdca26"
             ],
             [
              1,
              "#f0f921"
             ]
            ],
            "type": "histogram2d"
           }
          ],
          "histogram2dcontour": [
           {
            "colorbar": {
             "outlinewidth": 0,
             "ticks": ""
            },
            "colorscale": [
             [
              0,
              "#0d0887"
             ],
             [
              0.1111111111111111,
              "#46039f"
             ],
             [
              0.2222222222222222,
              "#7201a8"
             ],
             [
              0.3333333333333333,
              "#9c179e"
             ],
             [
              0.4444444444444444,
              "#bd3786"
             ],
             [
              0.5555555555555556,
              "#d8576b"
             ],
             [
              0.6666666666666666,
              "#ed7953"
             ],
             [
              0.7777777777777778,
              "#fb9f3a"
             ],
             [
              0.8888888888888888,
              "#fdca26"
             ],
             [
              1,
              "#f0f921"
             ]
            ],
            "type": "histogram2dcontour"
           }
          ],
          "mesh3d": [
           {
            "colorbar": {
             "outlinewidth": 0,
             "ticks": ""
            },
            "type": "mesh3d"
           }
          ],
          "parcoords": [
           {
            "line": {
             "colorbar": {
              "outlinewidth": 0,
              "ticks": ""
             }
            },
            "type": "parcoords"
           }
          ],
          "pie": [
           {
            "automargin": true,
            "type": "pie"
           }
          ],
          "scatter": [
           {
            "fillpattern": {
             "fillmode": "overlay",
             "size": 10,
             "solidity": 0.2
            },
            "type": "scatter"
           }
          ],
          "scatter3d": [
           {
            "line": {
             "colorbar": {
              "outlinewidth": 0,
              "ticks": ""
             }
            },
            "marker": {
             "colorbar": {
              "outlinewidth": 0,
              "ticks": ""
             }
            },
            "type": "scatter3d"
           }
          ],
          "scattercarpet": [
           {
            "marker": {
             "colorbar": {
              "outlinewidth": 0,
              "ticks": ""
             }
            },
            "type": "scattercarpet"
           }
          ],
          "scattergeo": [
           {
            "marker": {
             "colorbar": {
              "outlinewidth": 0,
              "ticks": ""
             }
            },
            "type": "scattergeo"
           }
          ],
          "scattergl": [
           {
            "marker": {
             "colorbar": {
              "outlinewidth": 0,
              "ticks": ""
             }
            },
            "type": "scattergl"
           }
          ],
          "scattermapbox": [
           {
            "marker": {
             "colorbar": {
              "outlinewidth": 0,
              "ticks": ""
             }
            },
            "type": "scattermapbox"
           }
          ],
          "scatterpolar": [
           {
            "marker": {
             "colorbar": {
              "outlinewidth": 0,
              "ticks": ""
             }
            },
            "type": "scatterpolar"
           }
          ],
          "scatterpolargl": [
           {
            "marker": {
             "colorbar": {
              "outlinewidth": 0,
              "ticks": ""
             }
            },
            "type": "scatterpolargl"
           }
          ],
          "scatterternary": [
           {
            "marker": {
             "colorbar": {
              "outlinewidth": 0,
              "ticks": ""
             }
            },
            "type": "scatterternary"
           }
          ],
          "surface": [
           {
            "colorbar": {
             "outlinewidth": 0,
             "ticks": ""
            },
            "colorscale": [
             [
              0,
              "#0d0887"
             ],
             [
              0.1111111111111111,
              "#46039f"
             ],
             [
              0.2222222222222222,
              "#7201a8"
             ],
             [
              0.3333333333333333,
              "#9c179e"
             ],
             [
              0.4444444444444444,
              "#bd3786"
             ],
             [
              0.5555555555555556,
              "#d8576b"
             ],
             [
              0.6666666666666666,
              "#ed7953"
             ],
             [
              0.7777777777777778,
              "#fb9f3a"
             ],
             [
              0.8888888888888888,
              "#fdca26"
             ],
             [
              1,
              "#f0f921"
             ]
            ],
            "type": "surface"
           }
          ],
          "table": [
           {
            "cells": {
             "fill": {
              "color": "#EBF0F8"
             },
             "line": {
              "color": "white"
             }
            },
            "header": {
             "fill": {
              "color": "#C8D4E3"
             },
             "line": {
              "color": "white"
             }
            },
            "type": "table"
           }
          ]
         },
         "layout": {
          "annotationdefaults": {
           "arrowcolor": "#2a3f5f",
           "arrowhead": 0,
           "arrowwidth": 1
          },
          "autotypenumbers": "strict",
          "coloraxis": {
           "colorbar": {
            "outlinewidth": 0,
            "ticks": ""
           }
          },
          "colorscale": {
           "diverging": [
            [
             0,
             "#8e0152"
            ],
            [
             0.1,
             "#c51b7d"
            ],
            [
             0.2,
             "#de77ae"
            ],
            [
             0.3,
             "#f1b6da"
            ],
            [
             0.4,
             "#fde0ef"
            ],
            [
             0.5,
             "#f7f7f7"
            ],
            [
             0.6,
             "#e6f5d0"
            ],
            [
             0.7,
             "#b8e186"
            ],
            [
             0.8,
             "#7fbc41"
            ],
            [
             0.9,
             "#4d9221"
            ],
            [
             1,
             "#276419"
            ]
           ],
           "sequential": [
            [
             0,
             "#0d0887"
            ],
            [
             0.1111111111111111,
             "#46039f"
            ],
            [
             0.2222222222222222,
             "#7201a8"
            ],
            [
             0.3333333333333333,
             "#9c179e"
            ],
            [
             0.4444444444444444,
             "#bd3786"
            ],
            [
             0.5555555555555556,
             "#d8576b"
            ],
            [
             0.6666666666666666,
             "#ed7953"
            ],
            [
             0.7777777777777778,
             "#fb9f3a"
            ],
            [
             0.8888888888888888,
             "#fdca26"
            ],
            [
             1,
             "#f0f921"
            ]
           ],
           "sequentialminus": [
            [
             0,
             "#0d0887"
            ],
            [
             0.1111111111111111,
             "#46039f"
            ],
            [
             0.2222222222222222,
             "#7201a8"
            ],
            [
             0.3333333333333333,
             "#9c179e"
            ],
            [
             0.4444444444444444,
             "#bd3786"
            ],
            [
             0.5555555555555556,
             "#d8576b"
            ],
            [
             0.6666666666666666,
             "#ed7953"
            ],
            [
             0.7777777777777778,
             "#fb9f3a"
            ],
            [
             0.8888888888888888,
             "#fdca26"
            ],
            [
             1,
             "#f0f921"
            ]
           ]
          },
          "colorway": [
           "#636efa",
           "#EF553B",
           "#00cc96",
           "#ab63fa",
           "#FFA15A",
           "#19d3f3",
           "#FF6692",
           "#B6E880",
           "#FF97FF",
           "#FECB52"
          ],
          "font": {
           "color": "#2a3f5f"
          },
          "geo": {
           "bgcolor": "white",
           "lakecolor": "white",
           "landcolor": "#E5ECF6",
           "showlakes": true,
           "showland": true,
           "subunitcolor": "white"
          },
          "hoverlabel": {
           "align": "left"
          },
          "hovermode": "closest",
          "mapbox": {
           "style": "light"
          },
          "paper_bgcolor": "white",
          "plot_bgcolor": "#E5ECF6",
          "polar": {
           "angularaxis": {
            "gridcolor": "white",
            "linecolor": "white",
            "ticks": ""
           },
           "bgcolor": "#E5ECF6",
           "radialaxis": {
            "gridcolor": "white",
            "linecolor": "white",
            "ticks": ""
           }
          },
          "scene": {
           "xaxis": {
            "backgroundcolor": "#E5ECF6",
            "gridcolor": "white",
            "gridwidth": 2,
            "linecolor": "white",
            "showbackground": true,
            "ticks": "",
            "zerolinecolor": "white"
           },
           "yaxis": {
            "backgroundcolor": "#E5ECF6",
            "gridcolor": "white",
            "gridwidth": 2,
            "linecolor": "white",
            "showbackground": true,
            "ticks": "",
            "zerolinecolor": "white"
           },
           "zaxis": {
            "backgroundcolor": "#E5ECF6",
            "gridcolor": "white",
            "gridwidth": 2,
            "linecolor": "white",
            "showbackground": true,
            "ticks": "",
            "zerolinecolor": "white"
           }
          },
          "shapedefaults": {
           "line": {
            "color": "#2a3f5f"
           }
          },
          "ternary": {
           "aaxis": {
            "gridcolor": "white",
            "linecolor": "white",
            "ticks": ""
           },
           "baxis": {
            "gridcolor": "white",
            "linecolor": "white",
            "ticks": ""
           },
           "bgcolor": "#E5ECF6",
           "caxis": {
            "gridcolor": "white",
            "linecolor": "white",
            "ticks": ""
           }
          },
          "title": {
           "x": 0.05
          },
          "xaxis": {
           "automargin": true,
           "gridcolor": "white",
           "linecolor": "white",
           "ticks": "",
           "title": {
            "standoff": 15
           },
           "zerolinecolor": "white",
           "zerolinewidth": 2
          },
          "yaxis": {
           "automargin": true,
           "gridcolor": "white",
           "linecolor": "white",
           "ticks": "",
           "title": {
            "standoff": 15
           },
           "zerolinecolor": "white",
           "zerolinewidth": 2
          }
         }
        },
        "xaxis": {
         "anchor": "y",
         "autorange": true,
         "categoryarray": [
          "Cluster 0",
          "Cluster 1",
          "Cluster 2",
          "Cluster 3"
         ],
         "categoryorder": "array",
         "domain": [
          0,
          1
         ],
         "range": [
          -0.5,
          3.5
         ],
         "title": {
          "text": "Cluster"
         },
         "type": "category"
        },
        "xaxis2": {
         "anchor": "y2",
         "autorange": true,
         "domain": [
          0,
          1
         ],
         "matches": "x",
         "range": [
          -0.5,
          3.5
         ],
         "showgrid": true,
         "showticklabels": false,
         "type": "category"
        },
        "yaxis": {
         "anchor": "x",
         "autorange": true,
         "domain": [
          0,
          0.7326
         ],
         "range": [
          0,
          64.21052631578948
         ],
         "title": {
          "text": "count"
         }
        },
        "yaxis2": {
         "anchor": "x2",
         "autorange": true,
         "domain": [
          0.7426,
          1
         ],
         "matches": "y2",
         "range": [
          -0.5,
          3.5
         ],
         "showgrid": false,
         "showline": false,
         "showticklabels": false,
         "ticks": "",
         "type": "category"
        }
       }
      },
      "image/png": "[encoded data removed]",
      "text/html": [
       "<div>                            <div id=\"34a1293d-0ee4-468d-9e7f-a235a29bea86\" class=\"plotly-graph-div\" style=\"height:600px; width:100%;\"></div>            <script type=\"text/javascript\">                require([\"plotly\"], function(Plotly) {                    window.PLOTLYENV=window.PLOTLYENV || {};                                    if (document.getElementById(\"34a1293d-0ee4-468d-9e7f-a235a29bea86\")) {                    Plotly.newPlot(                        \"34a1293d-0ee4-468d-9e7f-a235a29bea86\",                        [{\"alignmentgroup\":\"True\",\"bingroup\":\"x\",\"hovertemplate\":\"Cluster=%{x}\\u003cbr\\u003ecount=%{y}\\u003cextra\\u003e\\u003c\\u002fextra\\u003e\",\"legendgroup\":\"Cluster 0\",\"marker\":{\"color\":\"#636efa\",\"opacity\":0.7,\"pattern\":{\"shape\":\"\"}},\"name\":\"Cluster 0\",\"offsetgroup\":\"Cluster 0\",\"orientation\":\"v\",\"showlegend\":true,\"x\":[\"Cluster 0\",\"Cluster 0\",\"Cluster 0\",\"Cluster 0\",\"Cluster 0\",\"Cluster 0\",\"Cluster 0\",\"Cluster 0\",\"Cluster 0\",\"Cluster 0\",\"Cluster 0\",\"Cluster 0\",\"Cluster 0\",\"Cluster 0\",\"Cluster 0\",\"Cluster 0\",\"Cluster 0\",\"Cluster 0\",\"Cluster 0\",\"Cluster 0\",\"Cluster 0\",\"Cluster 0\",\"Cluster 0\",\"Cluster 0\",\"Cluster 0\",\"Cluster 0\",\"Cluster 0\",\"Cluster 0\",\"Cluster 0\",\"Cluster 0\",\"Cluster 0\",\"Cluster 0\",\"Cluster 0\",\"Cluster 0\",\"Cluster 0\",\"Cluster 0\",\"Cluster 0\",\"Cluster 0\",\"Cluster 0\"],\"xaxis\":\"x\",\"yaxis\":\"y\",\"type\":\"histogram\"},{\"alignmentgroup\":\"True\",\"customdata\":[[12.73,13.75,0.8458,5.412,2.882,3.533,5.067],[13.16,13.55,0.9009,5.138,3.201,2.461,4.783],[11.43,13.13,0.8335,5.176,2.719,2.221,5.132],[12.08,13.23,0.8664,5.099,2.936,1.415,4.961],[13.02,13.76,0.8641,5.395,3.026,3.373,4.825],[12.74,13.67,0.8564,5.395,2.956,2.504,4.869],[11.84,13.21,0.8521,5.175,2.836,3.598,5.044],[13.45,14.02,0.8604,5.516,3.065,3.531,5.097],[11.18,13.04,0.8266,5.22,2.693,3.332,5.001],[13.16,13.82,0.8662,5.454,2.975,0.8551,5.056],[12.78,13.57,0.8716,5.262,3.026,1.176,4.782],[13.22,13.84,0.868,5.395,3.07,4.157,5.088],[12.36,13.19,0.8923,5.076,3.042,3.22,4.605],[11.23,12.63,0.884,4.902,2.879,2.269,4.703],[11.42,12.86,0.8683,5.008,2.85,2.7,5.4],[13.54,13.85,0.8871,5.348,3.156,2.587,5.178],[13.5,13.85,0.8852,5.351,3.158,2.249,5.176],[12.88,13.5,0.8879,5.139,3.119,2.352,4.607],[12.72,13.57,0.8686,5.226,3.049,4.102,4.914],[12.7,13.71,0.8491,5.386,2.911,3.26,5.316],[11.34,12.87,0.8596,5.053,2.849,3.347,5.003],[12.19,13.2,0.8783,5.137,2.981,3.631,4.87],[12.37,13.47,0.8567,5.204,2.96,3.919,5.001],[11.18,12.72,0.868,5.009,2.81,4.051,4.828],[12.67,13.32,0.8977,4.984,3.135,2.3,5.4],[12.76,13.38,0.8964,5.073,3.155,2.828,4.83],[12.62,13.67,0.8481,5.41,2.911,3.306,5.231],[12.11,13.27,0.8639,5.236,2.975,4.132,5.012],[11.87,13.02,0.8795,5.132,2.953,3.597,5.132],[11.36,13.05,0.8382,5.175,2.755,4.048,5.263],[12.11,13.47,0.8392,5.159,3.032,1.502,4.519],[11.56,13.31,0.8198,5.363,2.683,4.062,5.182],[12.21,13.47,0.8453,5.357,2.893,1.661,5.178],[11.02,13.0,null,0.8189,5.325,2.701,6.735],[11.24,13.0,null,0.8359,5.09,2.715,3.521],[12.15,13.45,0.8443,5.417,2.837,3.638,5.338],[12.1,13.15,0.8793,5.105,2.941,2.201,5.056],[12.54,13.67,0.8425,5.451,2.879,3.082,5.491],[11.27,12.86,0.8563,5.091,2.804,3.985,5.001]],\"hovertemplate\":\"Cluster=%{x}\\u003cbr\\u003earea=%{customdata[0]}\\u003cbr\\u003eperimeter=%{customdata[1]}\\u003cbr\\u003ecompactness=%{customdata[2]}\\u003cbr\\u003elength=%{customdata[3]}\\u003cbr\\u003ewidth=%{customdata[4]}\\u003cbr\\u003easymmetry=%{customdata[5]}\\u003cbr\\u003elength.1=%{customdata[6]}\\u003cextra\\u003e\\u003c\\u002fextra\\u003e\",\"legendgroup\":\"Cluster 0\",\"marker\":{\"color\":\"#636efa\"},\"name\":\"Cluster 0\",\"notched\":true,\"offsetgroup\":\"Cluster 0\",\"showlegend\":false,\"x\":[\"Cluster 0\",\"Cluster 0\",\"Cluster 0\",\"Cluster 0\",\"Cluster 0\",\"Cluster 0\",\"Cluster 0\",\"Cluster 0\",\"Cluster 0\",\"Cluster 0\",\"Cluster 0\",\"Cluster 0\",\"Cluster 0\",\"Cluster 0\",\"Cluster 0\",\"Cluster 0\",\"Cluster 0\",\"Cluster 0\",\"Cluster 0\",\"Cluster 0\",\"Cluster 0\",\"Cluster 0\",\"Cluster 0\",\"Cluster 0\",\"Cluster 0\",\"Cluster 0\",\"Cluster 0\",\"Cluster 0\",\"Cluster 0\",\"Cluster 0\",\"Cluster 0\",\"Cluster 0\",\"Cluster 0\",\"Cluster 0\",\"Cluster 0\",\"Cluster 0\",\"Cluster 0\",\"Cluster 0\",\"Cluster 0\"],\"xaxis\":\"x2\",\"yaxis\":\"y2\",\"type\":\"box\"},{\"alignmentgroup\":\"True\",\"bingroup\":\"x\",\"hovertemplate\":\"Cluster=%{x}\\u003cbr\\u003ecount=%{y}\\u003cextra\\u003e\\u003c\\u002fextra\\u003e\",\"legendgroup\":\"Cluster 1\",\"marker\":{\"color\":\"#EF553B\",\"opacity\":0.7,\"pattern\":{\"shape\":\"\"}},\"name\":\"Cluster 1\",\"offsetgroup\":\"Cluster 1\",\"orientation\":\"v\",\"showlegend\":true,\"x\":[\"Cluster 1\",\"Cluster 1\",\"Cluster 1\",\"Cluster 1\",\"Cluster 1\",\"Cluster 1\",\"Cluster 1\",\"Cluster 1\",\"Cluster 1\",\"Cluster 1\",\"Cluster 1\",\"Cluster 1\",\"Cluster 1\",\"Cluster 1\",\"Cluster 1\",\"Cluster 1\",\"Cluster 1\",\"Cluster 1\",\"Cluster 1\",\"Cluster 1\",\"Cluster 1\",\"Cluster 1\",\"Cluster 1\",\"Cluster 1\",\"Cluster 1\",\"Cluster 1\",\"Cluster 1\",\"Cluster 1\",\"Cluster 1\",\"Cluster 1\",\"Cluster 1\",\"Cluster 1\",\"Cluster 1\",\"Cluster 1\",\"Cluster 1\",\"Cluster 1\",\"Cluster 1\",\"Cluster 1\",\"Cluster 1\",\"Cluster 1\",\"Cluster 1\",\"Cluster 1\",\"Cluster 1\",\"Cluster 1\",\"Cluster 1\",\"Cluster 1\",\"Cluster 1\",\"Cluster 1\",\"Cluster 1\",\"Cluster 1\",\"Cluster 1\",\"Cluster 1\",\"Cluster 1\",\"Cluster 1\",\"Cluster 1\",\"Cluster 1\",\"Cluster 1\",\"Cluster 1\",\"Cluster 1\",\"Cluster 1\",\"Cluster 1\"],\"xaxis\":\"x\",\"yaxis\":\"y\",\"type\":\"histogram\"},{\"alignmentgroup\":\"True\",\"customdata\":[[16.53,15.34,0.8823,5.875,3.467,5.532,5.88],[17.12,15.55,0.8892,5.85,3.566,2.858,5.746],[20.2,16.89,0.8894,6.285,3.864,5.173,6.187],[19.57,16.74,0.8779,6.384,3.772,1.472,6.273],[18.72,16.19,0.8977,6.006,3.857,5.324,5.879],[18.95,16.42,0.8829,6.248,3.755,3.368,6.148],[20.71,17.23,0.8763,6.579,3.814,4.451,6.451],[17.32,15.91,0.8599,6.064,3.403,3.824,5.922],[19.51,16.71,0.878,6.366,3.801,2.962,6.185],[16.77,15.62,0.8638,5.927,3.438,4.92,5.795],[18.94,16.49,0.875,6.445,3.639,5.064,6.362],[18.27,16.09,0.887,6.173,3.651,2.443,6.197],[18.17,16.26,0.8637,6.271,3.512,2.853,6.273],[18.98,16.66,0.859,6.549,3.67,3.691,6.498],[18.85,16.17,0.9056,6.152,3.806,2.843,6.2],[18.83,16.29,0.8917,6.037,3.786,2.553,5.879],[19.18,16.63,0.8717,6.369,3.681,3.357,6.229],[19.46,16.5,0.8985,6.113,3.892,4.308,6.009],[17.99,15.86,0.8992,5.89,3.694,2.068,5.837],[18.55,16.22,0.8865,6.153,3.674,1.738,5.894],[18.72,16.34,0.881,6.219,3.684,2.188,6.097],[16.82,15.51,0.8786,6.017,3.486,4.004,5.841],[18.88,16.26,0.8969,6.084,3.764,1.649,6.109],[18.98,16.57,0.8687,6.449,3.552,2.144,6.453],[16.87,15.65,0.8648,6.139,3.463,3.696,5.967],[18.36,16.52,0.8452,6.666,3.485,4.933,6.448],[18.59,16.05,0.9066,6.037,3.86,6.001,5.877],[18.81,16.29,0.8906,6.272,3.693,3.237,6.053],[18.76,16.2,0.8984,6.172,3.796,3.12,6.053],[20.1,16.99,0.8746,6.581,3.785,1.955,6.449],[20.88,17.05,0.9031,6.45,4.032,5.016,6.321],[21.18,17.21,0.8989,6.573,4.033,5.78,6.231],[19.31,16.59,0.8815,6.341,3.81,3.477,6.238],[19.11,16.26,0.9081,6.154,3.93,2.936,6.079],[19.15,16.45,0.889,6.245,3.815,3.084,6.185],[16.84,15.67,0.8623,5.998,3.484,4.675,5.877],[17.36,15.76,0.8785,6.145,3.574,3.526,5.971],[18.94,16.32,0.8942,6.144,3.825,2.908,5.949],[17.08,15.38,0.9079,5.832,3.683,2.956,5.484],[18.3,15.89,0.9108,5.979,3.755,2.837,5.962],[17.55,15.66,0.8991,5.791,3.69,5.366,5.661],[20.16,17.03,0.8735,6.513,3.773,1.91,6.185],[17.98,15.85,0.8993,5.979,3.687,2.257,5.919],[18.65,16.41,0.8698,6.285,3.594,4.391,6.102],[17.26,15.73,0.8763,5.978,3.594,4.539,5.791],[18.43,15.97,0.9077,5.98,3.771,2.984,5.905],[18.14,16.12,0.8772,6.059,3.563,3.619,6.011],[18.75,16.18,0.8999,6.111,3.869,4.188,5.992],[20.03,16.9,0.8811,6.493,3.857,3.063,6.32],[17.63,15.98,0.8673,6.191,3.561,4.076,6.06],[18.45,16.12,0.8921,6.107,3.769,2.235,5.794],[20.24,16.91,0.8897,6.315,3.962,5.901,6.188],[19.13,16.31,0.9035,6.183,3.902,2.109,5.924],[19.14,16.61,0.8722,6.259,3.737,6.682,6.053],[20.97,17.25,0.8859,6.563,3.991,4.677,6.316],[19.38,16.72,0.8716,6.303,3.791,3.678,5.965],[18.96,16.2,0.9077,6.051,3.897,4.334,5.75],[17.63,15.86,0.88,6.033,3.573,3.747,5.929],[18.89,16.23,0.9008,6.227,3.769,3.639,5.966],[19.06,16.45,0.8854,6.416,3.719,2.248,6.163],[19.94,16.92,0.8752,6.675,3.763,3.252,6.55]],\"hovertemplate\":\"Cluster=%{x}\\u003cbr\\u003earea=%{customdata[0]}\\u003cbr\\u003eperimeter=%{customdata[1]}\\u003cbr\\u003ecompactness=%{customdata[2]}\\u003cbr\\u003elength=%{customdata[3]}\\u003cbr\\u003ewidth=%{customdata[4]}\\u003cbr\\u003easymmetry=%{customdata[5]}\\u003cbr\\u003elength.1=%{customdata[6]}\\u003cextra\\u003e\\u003c\\u002fextra\\u003e\",\"legendgroup\":\"Cluster 1\",\"marker\":{\"color\":\"#EF553B\"},\"name\":\"Cluster 1\",\"notched\":true,\"offsetgroup\":\"Cluster 1\",\"showlegend\":false,\"x\":[\"Cluster 1\",\"Cluster 1\",\"Cluster 1\",\"Cluster 1\",\"Cluster 1\",\"Cluster 1\",\"Cluster 1\",\"Cluster 1\",\"Cluster 1\",\"Cluster 1\",\"Cluster 1\",\"Cluster 1\",\"Cluster 1\",\"Cluster 1\",\"Cluster 1\",\"Cluster 1\",\"Cluster 1\",\"Cluster 1\",\"Cluster 1\",\"Cluster 1\",\"Cluster 1\",\"Cluster 1\",\"Cluster 1\",\"Cluster 1\",\"Cluster 1\",\"Cluster 1\",\"Cluster 1\",\"Cluster 1\",\"Cluster 1\",\"Cluster 1\",\"Cluster 1\",\"Cluster 1\",\"Cluster 1\",\"Cluster 1\",\"Cluster 1\",\"Cluster 1\",\"Cluster 1\",\"Cluster 1\",\"Cluster 1\",\"Cluster 1\",\"Cluster 1\",\"Cluster 1\",\"Cluster 1\",\"Cluster 1\",\"Cluster 1\",\"Cluster 1\",\"Cluster 1\",\"Cluster 1\",\"Cluster 1\",\"Cluster 1\",\"Cluster 1\",\"Cluster 1\",\"Cluster 1\",\"Cluster 1\",\"Cluster 1\",\"Cluster 1\",\"Cluster 1\",\"Cluster 1\",\"Cluster 1\",\"Cluster 1\",\"Cluster 1\"],\"xaxis\":\"x2\",\"yaxis\":\"y2\",\"type\":\"box\"},{\"alignmentgroup\":\"True\",\"bingroup\":\"x\",\"hovertemplate\":\"Cluster=%{x}\\u003cbr\\u003ecount=%{y}\\u003cextra\\u003e\\u003c\\u002fextra\\u003e\",\"legendgroup\":\"Cluster 2\",\"marker\":{\"color\":\"#00cc96\",\"opacity\":0.7,\"pattern\":{\"shape\":\"\"}},\"name\":\"Cluster 2\",\"offsetgroup\":\"Cluster 2\",\"orientation\":\"v\",\"showlegend\":true,\"x\":[\"Cluster 2\",\"Cluster 2\",\"Cluster 2\",\"Cluster 2\",\"Cluster 2\",\"Cluster 2\",\"Cluster 2\",\"Cluster 2\",\"Cluster 2\",\"Cluster 2\",\"Cluster 2\",\"Cluster 2\",\"Cluster 2\",\"Cluster 2\",\"Cluster 2\",\"Cluster 2\",\"Cluster 2\",\"Cluster 2\",\"Cluster 2\",\"Cluster 2\",\"Cluster 2\",\"Cluster 2\",\"Cluster 2\",\"Cluster 2\",\"Cluster 2\",\"Cluster 2\",\"Cluster 2\",\"Cluster 2\",\"Cluster 2\",\"Cluster 2\",\"Cluster 2\",\"Cluster 2\",\"Cluster 2\",\"Cluster 2\",\"Cluster 2\",\"Cluster 2\",\"Cluster 2\",\"Cluster 2\",\"Cluster 2\",\"Cluster 2\",\"Cluster 2\",\"Cluster 2\",\"Cluster 2\",\"Cluster 2\",\"Cluster 2\",\"Cluster 2\",\"Cluster 2\",\"Cluster 2\",\"Cluster 2\",\"Cluster 2\",\"Cluster 2\",\"Cluster 2\",\"Cluster 2\",\"Cluster 2\",\"Cluster 2\",\"Cluster 2\",\"Cluster 2\",\"Cluster 2\",\"Cluster 2\",\"Cluster 2\"],\"xaxis\":\"x\",\"yaxis\":\"y\",\"type\":\"histogram\"},{\"alignmentgroup\":\"True\",\"customdata\":[[15.99,14.89,0.9064,5.363,3.582,3.336,5.144],[15.38,14.9,0.8706,5.884,3.268,4.462,5.795],[16.16,15.33,0.8644,5.845,3.395,4.266,5.795],[15.56,14.89,0.8823,5.776,3.408,4.972,5.847],[15.38,14.66,0.899,5.477,3.465,3.6,5.4],[16.17,15.38,0.8588,5.762,3.387,4.286,5.703],[15.57,15.15,0.8527,5.92,3.231,2.64,5.879],[15.6,15.11,0.858,5.832,3.286,2.725,5.752],[16.23,15.18,0.885,5.872,3.472,3.769,5.922],[15.26,14.84,0.871,5.763,3.312,2.221,5.22],[14.37,14.39,0.8726,5.569,3.153,1.464,5.3],[16.19,15.16,0.8849,5.833,3.421,0.903,5.307],[15.01,14.76,0.8657,5.789,3.245,1.791,5.001],[14.88,14.57,0.8811,5.554,3.333,1.018,4.956],[14.29,14.09,0.905,5.291,3.337,2.699,4.825],[13.84,13.94,0.8955,5.324,3.379,2.259,4.805],[16.14,14.99,0.9034,5.658,3.562,1.355,5.175],[15.88,14.9,0.8988,5.618,3.507,0.7651,5.091],[14.11,14.26,0.8722,5.52,3.168,2.688,5.219],[14.38,14.21,0.8951,5.386,3.312,2.462,4.956],[14.69,14.49,0.8799,5.563,3.259,3.586,5.219],[14.11,14.18,0.882,5.541,3.221,2.754,5.038],[14.16,14.4,0.8584,5.658,3.129,3.072,5.176],[15.69,14.75,0.9058,5.527,3.514,1.599,5.046],[14.11,14.1,0.8911,5.42,3.302,2.7,5.4],[16.41,15.25,0.8866,5.718,3.525,4.217,5.618],[16.63,15.46,0.8747,6.053,3.465,2.04,5.877],[16.44,15.25,0.888,5.884,3.505,1.969,5.533],[14.59,14.28,0.8993,5.351,3.333,4.185,4.781],[13.74,14.05,0.8744,5.482,3.114,2.932,4.825],[13.78,14.06,0.8759,5.479,3.156,3.136,4.872],[13.89,14.02,0.888,5.439,3.199,3.986,4.738],[15.26,14.85,0.8696,5.714,3.242,4.543,5.314],[14.7,14.21,0.9153,5.205,3.466,1.767,4.649],[15.49,14.94,0.8724,5.757,3.371,3.412,5.228],[14.03,14.16,0.8796,5.438,3.201,1.717,5.001],[13.94,14.17,0.8728,5.585,3.15,2.124,5.012],[14.01,14.29,0.8625,5.609,3.158,2.217,5.132],[14.34,14.37,0.8726,5.63,3.19,1.313,5.15],[15.38,14.77,0.8857,5.662,3.419,1.999,5.222],[14.92,14.43,0.9006,5.384,3.412,1.142,5.088],[14.46,14.35,0.8818,5.388,3.377,2.802,5.044],[15.03,14.77,0.8658,5.702,3.212,1.933,5.439],[14.52,14.6,0.8557,5.741,3.113,1.481,5.487],[14.33,14.28,0.8831,5.504,3.199,3.328,5.224],[14.49,14.61,0.8538,5.715,3.113,4.116,5.396],[14.09,14.41,0.8529,5.717,3.186,3.92,5.299],[14.43,14.4,0.8751,5.585,3.272,3.975,5.144],[14.86,14.67,0.8676,5.678,3.258,2.129,5.351],[14.79,14.52,0.8819,5.545,3.291,2.704,5.111],[15.78,14.91,0.8923,5.674,3.434,5.593,5.136],[15.36,14.76,0.8861,5.701,3.393,1.367,5.132],[13.8,14.04,0.8794,5.376,3.155,1.56,4.961],[15.11,14.54,0.8986,5.579,3.462,3.128,5.18],[15.5,14.86,0.882,5.877,3.396,4.711,5.528],[15.05,14.68,0.8779,5.712,3.328,2.129,5.36],[16.12,15.0,null,0.9,null,5.709,3.485],[16.2,15.27,0.8734,5.826,3.464,2.823,5.527],[14.99,14.56,0.8883,5.57,3.377,2.958,5.175],[14.8,14.52,0.8823,5.656,3.288,3.112,5.309]],\"hovertemplate\":\"Cluster=%{x}\\u003cbr\\u003earea=%{customdata[0]}\\u003cbr\\u003eperimeter=%{customdata[1]}\\u003cbr\\u003ecompactness=%{customdata[2]}\\u003cbr\\u003elength=%{customdata[3]}\\u003cbr\\u003ewidth=%{customdata[4]}\\u003cbr\\u003easymmetry=%{customdata[5]}\\u003cbr\\u003elength.1=%{customdata[6]}\\u003cextra\\u003e\\u003c\\u002fextra\\u003e\",\"legendgroup\":\"Cluster 2\",\"marker\":{\"color\":\"#00cc96\"},\"name\":\"Cluster 2\",\"notched\":true,\"offsetgroup\":\"Cluster 2\",\"showlegend\":false,\"x\":[\"Cluster 2\",\"Cluster 2\",\"Cluster 2\",\"Cluster 2\",\"Cluster 2\",\"Cluster 2\",\"Cluster 2\",\"Cluster 2\",\"Cluster 2\",\"Cluster 2\",\"Cluster 2\",\"Cluster 2\",\"Cluster 2\",\"Cluster 2\",\"Cluster 2\",\"Cluster 2\",\"Cluster 2\",\"Cluster 2\",\"Cluster 2\",\"Cluster 2\",\"Cluster 2\",\"Cluster 2\",\"Cluster 2\",\"Cluster 2\",\"Cluster 2\",\"Cluster 2\",\"Cluster 2\",\"Cluster 2\",\"Cluster 2\",\"Cluster 2\",\"Cluster 2\",\"Cluster 2\",\"Cluster 2\",\"Cluster 2\",\"Cluster 2\",\"Cluster 2\",\"Cluster 2\",\"Cluster 2\",\"Cluster 2\",\"Cluster 2\",\"Cluster 2\",\"Cluster 2\",\"Cluster 2\",\"Cluster 2\",\"Cluster 2\",\"Cluster 2\",\"Cluster 2\",\"Cluster 2\",\"Cluster 2\",\"Cluster 2\",\"Cluster 2\",\"Cluster 2\",\"Cluster 2\",\"Cluster 2\",\"Cluster 2\",\"Cluster 2\",\"Cluster 2\",\"Cluster 2\",\"Cluster 2\",\"Cluster 2\"],\"xaxis\":\"x2\",\"yaxis\":\"y2\",\"type\":\"box\"},{\"alignmentgroup\":\"True\",\"bingroup\":\"x\",\"hovertemplate\":\"Cluster=%{x}\\u003cbr\\u003ecount=%{y}\\u003cextra\\u003e\\u003c\\u002fextra\\u003e\",\"legendgroup\":\"Cluster 3\",\"marker\":{\"color\":\"#ab63fa\",\"opacity\":0.7,\"pattern\":{\"shape\":\"\"}},\"name\":\"Cluster 3\",\"offsetgroup\":\"Cluster 3\",\"orientation\":\"v\",\"showlegend\":true,\"x\":[\"Cluster 3\",\"Cluster 3\",\"Cluster 3\",\"Cluster 3\",\"Cluster 3\",\"Cluster 3\",\"Cluster 3\",\"Cluster 3\",\"Cluster 3\",\"Cluster 3\",\"Cluster 3\",\"Cluster 3\",\"Cluster 3\",\"Cluster 3\",\"Cluster 3\",\"Cluster 3\",\"Cluster 3\",\"Cluster 3\",\"Cluster 3\",\"Cluster 3\",\"Cluster 3\",\"Cluster 3\",\"Cluster 3\",\"Cluster 3\",\"Cluster 3\",\"Cluster 3\",\"Cluster 3\",\"Cluster 3\",\"Cluster 3\",\"Cluster 3\",\"Cluster 3\",\"Cluster 3\",\"Cluster 3\",\"Cluster 3\",\"Cluster 3\",\"Cluster 3\",\"Cluster 3\",\"Cluster 3\",\"Cluster 3\",\"Cluster 3\",\"Cluster 3\",\"Cluster 3\",\"Cluster 3\",\"Cluster 3\",\"Cluster 3\",\"Cluster 3\",\"Cluster 3\",\"Cluster 3\",\"Cluster 3\",\"Cluster 3\"],\"xaxis\":\"x\",\"yaxis\":\"y\",\"type\":\"histogram\"},{\"alignmentgroup\":\"True\",\"customdata\":[[13.37,13.78,0.8849,5.32,3.128,4.67,5.091],[12.46,13.41,0.8706,5.236,3.017,4.987,5.147],[12.19,13.36,0.8579,5.24,2.909,4.857,5.158],[11.65,13.07,0.8575,5.108,2.85,5.209,5.135],[12.89,13.77,0.8541,5.495,3.026,6.185,5.316],[11.81,13.45,0.8198,5.413,2.716,4.898,5.352],[11.23,12.88,0.8511,5.14,2.795,4.325,5.003],[11.23,12.82,0.8594,5.089,2.821,7.524,4.957],[10.59,12.41,0.8648,4.899,2.787,4.975,4.794],[10.93,12.8,0.839,5.046,2.717,5.398,5.045],[13.2,13.66,0.8883,5.236,3.232,8.315,5.056],[11.41,12.95,0.856,5.09,2.775,4.957,4.825],[10.82,12.83,0.8256,5.18,2.63,4.853,5.089],[12.8,13.47,0.886,5.16,3.126,4.873,4.914],[12.38,13.44,0.8609,5.219,2.989,5.472,5.045],[12.79,13.53,0.8786,5.224,3.054,5.483,4.958],[10.91,12.8,0.8372,5.088,2.675,4.179,4.956],[12.7,13.41,0.8874,5.183,3.091,8.456,5.0],[11.49,13.22,0.8263,5.304,2.695,5.388,5.31],[10.74,12.73,0.8329,5.145,2.642,4.702,4.963],[14.28,14.17,0.8944,5.397,3.298,6.685,5.001],[13.07,13.92,0.848,5.472,2.994,5.304,5.395],[13.32,13.94,0.8613,5.541,3.073,7.035,5.44],[13.34,13.95,0.862,5.389,3.074,5.995,5.307],[12.22,13.32,0.8652,5.224,2.967,5.469,5.221],[11.82,13.4,0.8274,5.314,2.777,4.471,5.178],[11.21,13.13,0.8167,5.279,2.687,6.169,5.275],[12.49,13.46,0.8658,5.267,2.967,4.421,5.002],[10.79,12.93,0.8107,5.317,2.648,5.462,5.194],[11.83,13.23,0.8496,5.263,2.84,5.195,5.307],[12.01,13.52,0.8249,5.405,2.776,6.992,5.27],[12.26,13.6,0.8333,5.408,2.833,4.756,5.36],[11.19,13.05,0.8253,5.25,2.675,5.813,5.219],[11.48,13.05,0.8473,5.18,2.758,5.876,5.002],[12.13,13.73,0.8081,5.394,2.745,4.825,5.22],[13.99,13.83,0.9183,5.119,3.383,5.234,4.781],[12.02,13.33,0.8503,5.35,2.81,4.271,5.308],[12.05,13.41,0.8416,5.267,2.847,4.988,5.046],[12.55,13.57,0.8558,5.333,2.968,4.419,5.176],[11.14,12.79,0.8558,5.011,2.794,6.388,5.049],[12.44,13.59,0.8462,5.319,2.897,4.924,5.27],[11.35,13.12,0.8291,5.176,2.668,4.337,5.132],[11.55,13.1,0.8455,5.167,2.845,6.715,4.956],[11.27,12.97,0.8419,5.088,2.763,4.309,5.0],[11.4,13.08,0.8375,5.136,2.763,5.588,5.089],[10.83,12.96,0.8099,5.278,2.641,5.182,5.185],[10.8,12.57,0.859,4.981,2.821,4.773,5.063],[11.26,13.01,0.8355,5.186,2.71,5.335,5.092],[11.75,13.52,0.8082,5.444,2.678,4.378,5.31],[12.3,13.34,0.8684,5.243,2.974,5.637,5.063]],\"hovertemplate\":\"Cluster=%{x}\\u003cbr\\u003earea=%{customdata[0]}\\u003cbr\\u003eperimeter=%{customdata[1]}\\u003cbr\\u003ecompactness=%{customdata[2]}\\u003cbr\\u003elength=%{customdata[3]}\\u003cbr\\u003ewidth=%{customdata[4]}\\u003cbr\\u003easymmetry=%{customdata[5]}\\u003cbr\\u003elength.1=%{customdata[6]}\\u003cextra\\u003e\\u003c\\u002fextra\\u003e\",\"legendgroup\":\"Cluster 3\",\"marker\":{\"color\":\"#ab63fa\"},\"name\":\"Cluster 3\",\"notched\":true,\"offsetgroup\":\"Cluster 3\",\"showlegend\":false,\"x\":[\"Cluster 3\",\"Cluster 3\",\"Cluster 3\",\"Cluster 3\",\"Cluster 3\",\"Cluster 3\",\"Cluster 3\",\"Cluster 3\",\"Cluster 3\",\"Cluster 3\",\"Cluster 3\",\"Cluster 3\",\"Cluster 3\",\"Cluster 3\",\"Cluster 3\",\"Cluster 3\",\"Cluster 3\",\"Cluster 3\",\"Cluster 3\",\"Cluster 3\",\"Cluster 3\",\"Cluster 3\",\"Cluster 3\",\"Cluster 3\",\"Cluster 3\",\"Cluster 3\",\"Cluster 3\",\"Cluster 3\",\"Cluster 3\",\"Cluster 3\",\"Cluster 3\",\"Cluster 3\",\"Cluster 3\",\"Cluster 3\",\"Cluster 3\",\"Cluster 3\",\"Cluster 3\",\"Cluster 3\",\"Cluster 3\",\"Cluster 3\",\"Cluster 3\",\"Cluster 3\",\"Cluster 3\",\"Cluster 3\",\"Cluster 3\",\"Cluster 3\",\"Cluster 3\",\"Cluster 3\",\"Cluster 3\",\"Cluster 3\"],\"xaxis\":\"x2\",\"yaxis\":\"y2\",\"type\":\"box\"}],                        {\"template\":{\"data\":{\"histogram2dcontour\":[{\"type\":\"histogram2dcontour\",\"colorbar\":{\"outlinewidth\":0,\"ticks\":\"\"},\"colorscale\":[[0.0,\"#0d0887\"],[0.1111111111111111,\"#46039f\"],[0.2222222222222222,\"#7201a8\"],[0.3333333333333333,\"#9c179e\"],[0.4444444444444444,\"#bd3786\"],[0.5555555555555556,\"#d8576b\"],[0.6666666666666666,\"#ed7953\"],[0.7777777777777778,\"#fb9f3a\"],[0.8888888888888888,\"#fdca26\"],[1.0,\"#f0f921\"]]}],\"choropleth\":[{\"type\":\"choropleth\",\"colorbar\":{\"outlinewidth\":0,\"ticks\":\"\"}}],\"histogram2d\":[{\"type\":\"histogram2d\",\"colorbar\":{\"outlinewidth\":0,\"ticks\":\"\"},\"colorscale\":[[0.0,\"#0d0887\"],[0.1111111111111111,\"#46039f\"],[0.2222222222222222,\"#7201a8\"],[0.3333333333333333,\"#9c179e\"],[0.4444444444444444,\"#bd3786\"],[0.5555555555555556,\"#d8576b\"],[0.6666666666666666,\"#ed7953\"],[0.7777777777777778,\"#fb9f3a\"],[0.8888888888888888,\"#fdca26\"],[1.0,\"#f0f921\"]]}],\"heatmap\":[{\"type\":\"heatmap\",\"colorbar\":{\"outlinewidth\":0,\"ticks\":\"\"},\"colorscale\":[[0.0,\"#0d0887\"],[0.1111111111111111,\"#46039f\"],[0.2222222222222222,\"#7201a8\"],[0.3333333333333333,\"#9c179e\"],[0.4444444444444444,\"#bd3786\"],[0.5555555555555556,\"#d8576b\"],[0.6666666666666666,\"#ed7953\"],[0.7777777777777778,\"#fb9f3a\"],[0.8888888888888888,\"#fdca26\"],[1.0,\"#f0f921\"]]}],\"heatmapgl\":[{\"type\":\"heatmapgl\",\"colorbar\":{\"outlinewidth\":0,\"ticks\":\"\"},\"colorscale\":[[0.0,\"#0d0887\"],[0.1111111111111111,\"#46039f\"],[0.2222222222222222,\"#7201a8\"],[0.3333333333333333,\"#9c179e\"],[0.4444444444444444,\"#bd3786\"],[0.5555555555555556,\"#d8576b\"],[0.6666666666666666,\"#ed7953\"],[0.7777777777777778,\"#fb9f3a\"],[0.8888888888888888,\"#fdca26\"],[1.0,\"#f0f921\"]]}],\"contourcarpet\":[{\"type\":\"contourcarpet\",\"colorbar\":{\"outlinewidth\":0,\"ticks\":\"\"}}],\"contour\":[{\"type\":\"contour\",\"colorbar\":{\"outlinewidth\":0,\"ticks\":\"\"},\"colorscale\":[[0.0,\"#0d0887\"],[0.1111111111111111,\"#46039f\"],[0.2222222222222222,\"#7201a8\"],[0.3333333333333333,\"#9c179e\"],[0.4444444444444444,\"#bd3786\"],[0.5555555555555556,\"#d8576b\"],[0.6666666666666666,\"#ed7953\"],[0.7777777777777778,\"#fb9f3a\"],[0.8888888888888888,\"#fdca26\"],[1.0,\"#f0f921\"]]}],\"surface\":[{\"type\":\"surface\",\"colorbar\":{\"outlinewidth\":0,\"ticks\":\"\"},\"colorscale\":[[0.0,\"#0d0887\"],[0.1111111111111111,\"#46039f\"],[0.2222222222222222,\"#7201a8\"],[0.3333333333333333,\"#9c179e\"],[0.4444444444444444,\"#bd3786\"],[0.5555555555555556,\"#d8576b\"],[0.6666666666666666,\"#ed7953\"],[0.7777777777777778,\"#fb9f3a\"],[0.8888888888888888,\"#fdca26\"],[1.0,\"#f0f921\"]]}],\"mesh3d\":[{\"type\":\"mesh3d\",\"colorbar\":{\"outlinewidth\":0,\"ticks\":\"\"}}],\"scatter\":[{\"fillpattern\":{\"fillmode\":\"overlay\",\"size\":10,\"solidity\":0.2},\"type\":\"scatter\"}],\"parcoords\":[{\"type\":\"parcoords\",\"line\":{\"colorbar\":{\"outlinewidth\":0,\"ticks\":\"\"}}}],\"scatterpolargl\":[{\"type\":\"scatterpolargl\",\"marker\":{\"colorbar\":{\"outlinewidth\":0,\"ticks\":\"\"}}}],\"bar\":[{\"error_x\":{\"color\":\"#2a3f5f\"},\"error_y\":{\"color\":\"#2a3f5f\"},\"marker\":{\"line\":{\"color\":\"#E5ECF6\",\"width\":0.5},\"pattern\":{\"fillmode\":\"overlay\",\"size\":10,\"solidity\":0.2}},\"type\":\"bar\"}],\"scattergeo\":[{\"type\":\"scattergeo\",\"marker\":{\"colorbar\":{\"outlinewidth\":0,\"ticks\":\"\"}}}],\"scatterpolar\":[{\"type\":\"scatterpolar\",\"marker\":{\"colorbar\":{\"outlinewidth\":0,\"ticks\":\"\"}}}],\"histogram\":[{\"marker\":{\"pattern\":{\"fillmode\":\"overlay\",\"size\":10,\"solidity\":0.2}},\"type\":\"histogram\"}],\"scattergl\":[{\"type\":\"scattergl\",\"marker\":{\"colorbar\":{\"outlinewidth\":0,\"ticks\":\"\"}}}],\"scatter3d\":[{\"type\":\"scatter3d\",\"line\":{\"colorbar\":{\"outlinewidth\":0,\"ticks\":\"\"}},\"marker\":{\"colorbar\":{\"outlinewidth\":0,\"ticks\":\"\"}}}],\"scattermapbox\":[{\"type\":\"scattermapbox\",\"marker\":{\"colorbar\":{\"outlinewidth\":0,\"ticks\":\"\"}}}],\"scatterternary\":[{\"type\":\"scatterternary\",\"marker\":{\"colorbar\":{\"outlinewidth\":0,\"ticks\":\"\"}}}],\"scattercarpet\":[{\"type\":\"scattercarpet\",\"marker\":{\"colorbar\":{\"outlinewidth\":0,\"ticks\":\"\"}}}],\"carpet\":[{\"aaxis\":{\"endlinecolor\":\"#2a3f5f\",\"gridcolor\":\"white\",\"linecolor\":\"white\",\"minorgridcolor\":\"white\",\"startlinecolor\":\"#2a3f5f\"},\"baxis\":{\"endlinecolor\":\"#2a3f5f\",\"gridcolor\":\"white\",\"linecolor\":\"white\",\"minorgridcolor\":\"white\",\"startlinecolor\":\"#2a3f5f\"},\"type\":\"carpet\"}],\"table\":[{\"cells\":{\"fill\":{\"color\":\"#EBF0F8\"},\"line\":{\"color\":\"white\"}},\"header\":{\"fill\":{\"color\":\"#C8D4E3\"},\"line\":{\"color\":\"white\"}},\"type\":\"table\"}],\"barpolar\":[{\"marker\":{\"line\":{\"color\":\"#E5ECF6\",\"width\":0.5},\"pattern\":{\"fillmode\":\"overlay\",\"size\":10,\"solidity\":0.2}},\"type\":\"barpolar\"}],\"pie\":[{\"automargin\":true,\"type\":\"pie\"}]},\"layout\":{\"autotypenumbers\":\"strict\",\"colorway\":[\"#636efa\",\"#EF553B\",\"#00cc96\",\"#ab63fa\",\"#FFA15A\",\"#19d3f3\",\"#FF6692\",\"#B6E880\",\"#FF97FF\",\"#FECB52\"],\"font\":{\"color\":\"#2a3f5f\"},\"hovermode\":\"closest\",\"hoverlabel\":{\"align\":\"left\"},\"paper_bgcolor\":\"white\",\"plot_bgcolor\":\"#E5ECF6\",\"polar\":{\"bgcolor\":\"#E5ECF6\",\"angularaxis\":{\"gridcolor\":\"white\",\"linecolor\":\"white\",\"ticks\":\"\"},\"radialaxis\":{\"gridcolor\":\"white\",\"linecolor\":\"white\",\"ticks\":\"\"}},\"ternary\":{\"bgcolor\":\"#E5ECF6\",\"aaxis\":{\"gridcolor\":\"white\",\"linecolor\":\"white\",\"ticks\":\"\"},\"baxis\":{\"gridcolor\":\"white\",\"linecolor\":\"white\",\"ticks\":\"\"},\"caxis\":{\"gridcolor\":\"white\",\"linecolor\":\"white\",\"ticks\":\"\"}},\"coloraxis\":{\"colorbar\":{\"outlinewidth\":0,\"ticks\":\"\"}},\"colorscale\":{\"sequential\":[[0.0,\"#0d0887\"],[0.1111111111111111,\"#46039f\"],[0.2222222222222222,\"#7201a8\"],[0.3333333333333333,\"#9c179e\"],[0.4444444444444444,\"#bd3786\"],[0.5555555555555556,\"#d8576b\"],[0.6666666666666666,\"#ed7953\"],[0.7777777777777778,\"#fb9f3a\"],[0.8888888888888888,\"#fdca26\"],[1.0,\"#f0f921\"]],\"sequentialminus\":[[0.0,\"#0d0887\"],[0.1111111111111111,\"#46039f\"],[0.2222222222222222,\"#7201a8\"],[0.3333333333333333,\"#9c179e\"],[0.4444444444444444,\"#bd3786\"],[0.5555555555555556,\"#d8576b\"],[0.6666666666666666,\"#ed7953\"],[0.7777777777777778,\"#fb9f3a\"],[0.8888888888888888,\"#fdca26\"],[1.0,\"#f0f921\"]],\"diverging\":[[0,\"#8e0152\"],[0.1,\"#c51b7d\"],[0.2,\"#de77ae\"],[0.3,\"#f1b6da\"],[0.4,\"#fde0ef\"],[0.5,\"#f7f7f7\"],[0.6,\"#e6f5d0\"],[0.7,\"#b8e186\"],[0.8,\"#7fbc41\"],[0.9,\"#4d9221\"],[1,\"#276419\"]]},\"xaxis\":{\"gridcolor\":\"white\",\"linecolor\":\"white\",\"ticks\":\"\",\"title\":{\"standoff\":15},\"zerolinecolor\":\"white\",\"automargin\":true,\"zerolinewidth\":2},\"yaxis\":{\"gridcolor\":\"white\",\"linecolor\":\"white\",\"ticks\":\"\",\"title\":{\"standoff\":15},\"zerolinecolor\":\"white\",\"automargin\":true,\"zerolinewidth\":2},\"scene\":{\"xaxis\":{\"backgroundcolor\":\"#E5ECF6\",\"gridcolor\":\"white\",\"linecolor\":\"white\",\"showbackground\":true,\"ticks\":\"\",\"zerolinecolor\":\"white\",\"gridwidth\":2},\"yaxis\":{\"backgroundcolor\":\"#E5ECF6\",\"gridcolor\":\"white\",\"linecolor\":\"white\",\"showbackground\":true,\"ticks\":\"\",\"zerolinecolor\":\"white\",\"gridwidth\":2},\"zaxis\":{\"backgroundcolor\":\"#E5ECF6\",\"gridcolor\":\"white\",\"linecolor\":\"white\",\"showbackground\":true,\"ticks\":\"\",\"zerolinecolor\":\"white\",\"gridwidth\":2}},\"shapedefaults\":{\"line\":{\"color\":\"#2a3f5f\"}},\"annotationdefaults\":{\"arrowcolor\":\"#2a3f5f\",\"arrowhead\":0,\"arrowwidth\":1},\"geo\":{\"bgcolor\":\"white\",\"landcolor\":\"#E5ECF6\",\"subunitcolor\":\"white\",\"showland\":true,\"showlakes\":true,\"lakecolor\":\"white\"},\"title\":{\"x\":0.05},\"mapbox\":{\"style\":\"light\"}}},\"xaxis\":{\"anchor\":\"y\",\"domain\":[0.0,1.0],\"categoryorder\":\"array\",\"categoryarray\":[\"Cluster 0\",\"Cluster 1\",\"Cluster 2\",\"Cluster 3\"],\"title\":{\"text\":\"Cluster\"}},\"yaxis\":{\"anchor\":\"x\",\"domain\":[0.0,0.7326],\"title\":{\"text\":\"count\"}},\"xaxis2\":{\"anchor\":\"y2\",\"domain\":[0.0,1.0],\"matches\":\"x\",\"showticklabels\":false,\"showgrid\":true},\"yaxis2\":{\"anchor\":\"x2\",\"domain\":[0.7426,1.0],\"matches\":\"y2\",\"showticklabels\":false,\"showline\":false,\"ticks\":\"\",\"showgrid\":false},\"legend\":{\"title\":{\"text\":\"Cluster\"},\"tracegroupgap\":0},\"margin\":{\"t\":60},\"barmode\":\"relative\",\"height\":600},                        {\"responsive\": true}                    ).then(function(){\n",
       "                            \n",
       "var gd = document.getElementById('34a1293d-0ee4-468d-9e7f-a235a29bea86');\n",
       "var x = new MutationObserver(function (mutations, observer) {{\n",
       "        var display = window.getComputedStyle(gd).display;\n",
       "        if (!display || display === 'none') {{\n",
       "            console.log([gd, 'removed!']);\n",
       "            Plotly.purge(gd);\n",
       "            observer.disconnect();\n",
       "        }}\n",
       "}});\n",
       "\n",
       "// Listen for the removal of the full notebook cells\n",
       "var notebookContainer = gd.closest('#notebook-container');\n",
       "if (notebookContainer) {{\n",
       "    x.observe(notebookContainer, {childList: true});\n",
       "}}\n",
       "\n",
       "// Listen for the clearing of the current output cell\n",
       "var outputEl = gd.closest('.output');\n",
       "if (outputEl) {{\n",
       "    x.observe(outputEl, {childList: true});\n",
       "}}\n",
       "\n",
       "                        })                };                });            </script>        </div>"
      ]
     },
     "metadata": {},
     "output_type": "display_data"
    }
   ],
   "source": [
    "plot_model(Kmeanmodel,plot='distribution')"
   ]
  },
  {
   "cell_type": "code",
   "execution_count": 38,
   "id": "60ef98ad-3639-427c-b770-42131a4a1a5e",
   "metadata": {},
   "outputs": [
    {
     "data": {
      "text/html": [],
      "text/plain": [
       "<IPython.core.display.HTML object>"
      ]
     },
     "metadata": {},
     "output_type": "display_data"
    },
    {
     "data": {
      "image/png": "[encoded data removed]",
      "text/plain": [
       "<Figure size 800x550 with 2 Axes>"
      ]
     },
     "metadata": {},
     "output_type": "display_data"
    }
   ],
   "source": [
    "plot_model(Kmeanmodel,plot='distance')"
   ]
  },
  {
   "cell_type": "markdown",
   "id": "241142d2-7c64-4efd-9e9b-b34954a5acf3",
   "metadata": {},
   "source": [
    "## Comparison"
   ]
  },
  {
   "cell_type": "markdown",
   "id": "0930d355-f97a-4249-b3b8-9399a51262b3",
   "metadata": {},
   "source": [
    "### Using Kmeans clustering algorithm"
   ]
  },
  {
   "cell_type": "markdown",
   "id": "5f7a4921-d38e-43d4-b5f1-0cff8bab0b7b",
   "metadata": {},
   "source": [
    "#### No data Preprocessing"
   ]
  },
  {
   "cell_type": "code",
   "execution_count": 39,
   "id": "3d2ab80d-98ef-465d-a4cb-bf7ddfe6d252",
   "metadata": {},
   "outputs": [
    {
     "name": "stdout",
     "output_type": "stream",
     "text": [
      "For Cluster=3\n"
     ]
    },
    {
     "data": {
      "text/html": [],
      "text/plain": [
       "<IPython.core.display.HTML object>"
      ]
     },
     "metadata": {},
     "output_type": "display_data"
    },
    {
     "data": {
      "text/html": [
       "<style type=\"text/css\">\n",
       "</style>\n",
       "<table id=\"T_c14ea\">\n",
       "  <thead>\n",
       "    <tr>\n",
       "      <th class=\"blank level0\" >&nbsp;</th>\n",
       "      <th id=\"T_c14ea_level0_col0\" class=\"col_heading level0 col0\" >Silhouette</th>\n",
       "      <th id=\"T_c14ea_level0_col1\" class=\"col_heading level0 col1\" >Calinski-Harabasz</th>\n",
       "      <th id=\"T_c14ea_level0_col2\" class=\"col_heading level0 col2\" >Davies-Bouldin</th>\n",
       "      <th id=\"T_c14ea_level0_col3\" class=\"col_heading level0 col3\" >Homogeneity</th>\n",
       "      <th id=\"T_c14ea_level0_col4\" class=\"col_heading level0 col4\" >Rand Index</th>\n",
       "      <th id=\"T_c14ea_level0_col5\" class=\"col_heading level0 col5\" >Completeness</th>\n",
       "    </tr>\n",
       "  </thead>\n",
       "  <tbody>\n",
       "    <tr>\n",
       "      <th id=\"T_c14ea_level0_row0\" class=\"row_heading level0 row0\" >0</th>\n",
       "      <td id=\"T_c14ea_row0_col0\" class=\"data row0 col0\" >0.4540</td>\n",
       "      <td id=\"T_c14ea_row0_col1\" class=\"data row0 col1\" >324.4954</td>\n",
       "      <td id=\"T_c14ea_row0_col2\" class=\"data row0 col2\" >0.7987</td>\n",
       "      <td id=\"T_c14ea_row0_col3\" class=\"data row0 col3\" >0</td>\n",
       "      <td id=\"T_c14ea_row0_col4\" class=\"data row0 col4\" >0</td>\n",
       "      <td id=\"T_c14ea_row0_col5\" class=\"data row0 col5\" >0</td>\n",
       "    </tr>\n",
       "  </tbody>\n",
       "</table>\n"
      ],
      "text/plain": [
       "<pandas.io.formats.style.Styler at 0x1fa9c99d0c0>"
      ]
     },
     "metadata": {},
     "output_type": "display_data"
    },
    {
     "data": {
      "text/html": [],
      "text/plain": [
       "<IPython.core.display.HTML object>"
      ]
     },
     "metadata": {},
     "output_type": "display_data"
    },
    {
     "name": "stdout",
     "output_type": "stream",
     "text": [
      "For Cluster=4\n"
     ]
    },
    {
     "data": {
      "text/html": [],
      "text/plain": [
       "<IPython.core.display.HTML object>"
      ]
     },
     "metadata": {},
     "output_type": "display_data"
    },
    {
     "data": {
      "text/html": [
       "<style type=\"text/css\">\n",
       "</style>\n",
       "<table id=\"T_0931b\">\n",
       "  <thead>\n",
       "    <tr>\n",
       "      <th class=\"blank level0\" >&nbsp;</th>\n",
       "      <th id=\"T_0931b_level0_col0\" class=\"col_heading level0 col0\" >Silhouette</th>\n",
       "      <th id=\"T_0931b_level0_col1\" class=\"col_heading level0 col1\" >Calinski-Harabasz</th>\n",
       "      <th id=\"T_0931b_level0_col2\" class=\"col_heading level0 col2\" >Davies-Bouldin</th>\n",
       "      <th id=\"T_0931b_level0_col3\" class=\"col_heading level0 col3\" >Homogeneity</th>\n",
       "      <th id=\"T_0931b_level0_col4\" class=\"col_heading level0 col4\" >Rand Index</th>\n",
       "      <th id=\"T_0931b_level0_col5\" class=\"col_heading level0 col5\" >Completeness</th>\n",
       "    </tr>\n",
       "  </thead>\n",
       "  <tbody>\n",
       "    <tr>\n",
       "      <th id=\"T_0931b_level0_row0\" class=\"row_heading level0 row0\" >0</th>\n",
       "      <td id=\"T_0931b_row0_col0\" class=\"data row0 col0\" >0.3909</td>\n",
       "      <td id=\"T_0931b_row0_col1\" class=\"data row0 col1\" >275.0454</td>\n",
       "      <td id=\"T_0931b_row0_col2\" class=\"data row0 col2\" >0.9340</td>\n",
       "      <td id=\"T_0931b_row0_col3\" class=\"data row0 col3\" >0</td>\n",
       "      <td id=\"T_0931b_row0_col4\" class=\"data row0 col4\" >0</td>\n",
       "      <td id=\"T_0931b_row0_col5\" class=\"data row0 col5\" >0</td>\n",
       "    </tr>\n",
       "  </tbody>\n",
       "</table>\n"
      ],
      "text/plain": [
       "<pandas.io.formats.style.Styler at 0x1fa9c99d3f0>"
      ]
     },
     "metadata": {},
     "output_type": "display_data"
    },
    {
     "data": {
      "text/html": [],
      "text/plain": [
       "<IPython.core.display.HTML object>"
      ]
     },
     "metadata": {},
     "output_type": "display_data"
    },
    {
     "name": "stdout",
     "output_type": "stream",
     "text": [
      "For Cluster=5\n"
     ]
    },
    {
     "data": {
      "text/html": [],
      "text/plain": [
       "<IPython.core.display.HTML object>"
      ]
     },
     "metadata": {},
     "output_type": "display_data"
    },
    {
     "data": {
      "text/html": [
       "<style type=\"text/css\">\n",
       "</style>\n",
       "<table id=\"T_efd2a\">\n",
       "  <thead>\n",
       "    <tr>\n",
       "      <th class=\"blank level0\" >&nbsp;</th>\n",
       "      <th id=\"T_efd2a_level0_col0\" class=\"col_heading level0 col0\" >Silhouette</th>\n",
       "      <th id=\"T_efd2a_level0_col1\" class=\"col_heading level0 col1\" >Calinski-Harabasz</th>\n",
       "      <th id=\"T_efd2a_level0_col2\" class=\"col_heading level0 col2\" >Davies-Bouldin</th>\n",
       "      <th id=\"T_efd2a_level0_col3\" class=\"col_heading level0 col3\" >Homogeneity</th>\n",
       "      <th id=\"T_efd2a_level0_col4\" class=\"col_heading level0 col4\" >Rand Index</th>\n",
       "      <th id=\"T_efd2a_level0_col5\" class=\"col_heading level0 col5\" >Completeness</th>\n",
       "    </tr>\n",
       "  </thead>\n",
       "  <tbody>\n",
       "    <tr>\n",
       "      <th id=\"T_efd2a_level0_row0\" class=\"row_heading level0 row0\" >0</th>\n",
       "      <td id=\"T_efd2a_row0_col0\" class=\"data row0 col0\" >0.3788</td>\n",
       "      <td id=\"T_efd2a_row0_col1\" class=\"data row0 col1\" >230.2999</td>\n",
       "      <td id=\"T_efd2a_row0_col2\" class=\"data row0 col2\" >0.9438</td>\n",
       "      <td id=\"T_efd2a_row0_col3\" class=\"data row0 col3\" >0</td>\n",
       "      <td id=\"T_efd2a_row0_col4\" class=\"data row0 col4\" >0</td>\n",
       "      <td id=\"T_efd2a_row0_col5\" class=\"data row0 col5\" >0</td>\n",
       "    </tr>\n",
       "  </tbody>\n",
       "</table>\n"
      ],
      "text/plain": [
       "<pandas.io.formats.style.Styler at 0x1fa9b9721d0>"
      ]
     },
     "metadata": {},
     "output_type": "display_data"
    },
    {
     "data": {
      "text/html": [],
      "text/plain": [
       "<IPython.core.display.HTML object>"
      ]
     },
     "metadata": {},
     "output_type": "display_data"
    },
    {
     "name": "stdout",
     "output_type": "stream",
     "text": [
      "For Cluster=6\n"
     ]
    },
    {
     "data": {
      "text/html": [],
      "text/plain": [
       "<IPython.core.display.HTML object>"
      ]
     },
     "metadata": {},
     "output_type": "display_data"
    },
    {
     "data": {
      "text/html": [
       "<style type=\"text/css\">\n",
       "</style>\n",
       "<table id=\"T_99d14\">\n",
       "  <thead>\n",
       "    <tr>\n",
       "      <th class=\"blank level0\" >&nbsp;</th>\n",
       "      <th id=\"T_99d14_level0_col0\" class=\"col_heading level0 col0\" >Silhouette</th>\n",
       "      <th id=\"T_99d14_level0_col1\" class=\"col_heading level0 col1\" >Calinski-Harabasz</th>\n",
       "      <th id=\"T_99d14_level0_col2\" class=\"col_heading level0 col2\" >Davies-Bouldin</th>\n",
       "      <th id=\"T_99d14_level0_col3\" class=\"col_heading level0 col3\" >Homogeneity</th>\n",
       "      <th id=\"T_99d14_level0_col4\" class=\"col_heading level0 col4\" >Rand Index</th>\n",
       "      <th id=\"T_99d14_level0_col5\" class=\"col_heading level0 col5\" >Completeness</th>\n",
       "    </tr>\n",
       "  </thead>\n",
       "  <tbody>\n",
       "    <tr>\n",
       "      <th id=\"T_99d14_level0_row0\" class=\"row_heading level0 row0\" >0</th>\n",
       "      <td id=\"T_99d14_row0_col0\" class=\"data row0 col0\" >0.3375</td>\n",
       "      <td id=\"T_99d14_row0_col1\" class=\"data row0 col1\" >215.0900</td>\n",
       "      <td id=\"T_99d14_row0_col2\" class=\"data row0 col2\" >1.0268</td>\n",
       "      <td id=\"T_99d14_row0_col3\" class=\"data row0 col3\" >0</td>\n",
       "      <td id=\"T_99d14_row0_col4\" class=\"data row0 col4\" >0</td>\n",
       "      <td id=\"T_99d14_row0_col5\" class=\"data row0 col5\" >0</td>\n",
       "    </tr>\n",
       "  </tbody>\n",
       "</table>\n"
      ],
      "text/plain": [
       "<pandas.io.formats.style.Styler at 0x1fa51777d00>"
      ]
     },
     "metadata": {},
     "output_type": "display_data"
    },
    {
     "data": {
      "text/html": [],
      "text/plain": [
       "<IPython.core.display.HTML object>"
      ]
     },
     "metadata": {},
     "output_type": "display_data"
    }
   ],
   "source": [
    "# can skip starting two lines\n",
    "from pycaret.datasets import get_data\n",
    "from pycaret.clustering import *\n",
    "\n",
    "dataset=get_data('seeds',verbose=False)\n",
    "setup(dataset,verbose=False)\n",
    "\n",
    "print(\"For Cluster=3\")\n",
    "x=create_model('kmeans',num_clusters=3)\n",
    "\n",
    "print(\"For Cluster=4\")\n",
    "x=create_model('kmeans',num_clusters=4)\n",
    "\n",
    "print(\"For Cluster=5\")\n",
    "x=create_model('kmeans',num_clusters=5)\n",
    "\n",
    "print(\"For Cluster=6\")\n",
    "x=create_model('kmeans',num_clusters=6)\n"
   ]
  },
  {
   "cell_type": "code",
   "execution_count": 43,
   "id": "aaf720bd-7308-42fc-8fd2-4241cd6e76e7",
   "metadata": {},
   "outputs": [
    {
     "data": {
      "application/vnd.jupyter.widget-view+json": {
       "model_id": "5a17094d2c3f42ca8c0cec51ed3104e4",
       "version_major": 2,
       "version_minor": 0
      },
      "text/plain": [
       "interactive(children=(ToggleButtons(description='Plot Type:', icons=('',), options=(('Pipeline Plot', 'pipelin…"
      ]
     },
     "metadata": {},
     "output_type": "display_data"
    }
   ],
   "source": [
    "evaluate_model(x)"
   ]
  },
  {
   "cell_type": "markdown",
   "id": "fdf507ba-1714-4e8a-a434-48b90e2eeb0a",
   "metadata": {},
   "source": [
    "#### Using Normalization"
   ]
  },
  {
   "cell_type": "code",
   "execution_count": 42,
   "id": "5fbb9098-a61e-4f3b-aafd-5228dc3c8a35",
   "metadata": {},
   "outputs": [
    {
     "name": "stdout",
     "output_type": "stream",
     "text": [
      "For Cluster=3\n"
     ]
    },
    {
     "data": {
      "text/html": [],
      "text/plain": [
       "<IPython.core.display.HTML object>"
      ]
     },
     "metadata": {},
     "output_type": "display_data"
    },
    {
     "data": {
      "text/html": [
       "<style type=\"text/css\">\n",
       "</style>\n",
       "<table id=\"T_92cde\">\n",
       "  <thead>\n",
       "    <tr>\n",
       "      <th class=\"blank level0\" >&nbsp;</th>\n",
       "      <th id=\"T_92cde_level0_col0\" class=\"col_heading level0 col0\" >Silhouette</th>\n",
       "      <th id=\"T_92cde_level0_col1\" class=\"col_heading level0 col1\" >Calinski-Harabasz</th>\n",
       "      <th id=\"T_92cde_level0_col2\" class=\"col_heading level0 col2\" >Davies-Bouldin</th>\n",
       "      <th id=\"T_92cde_level0_col3\" class=\"col_heading level0 col3\" >Homogeneity</th>\n",
       "      <th id=\"T_92cde_level0_col4\" class=\"col_heading level0 col4\" >Rand Index</th>\n",
       "      <th id=\"T_92cde_level0_col5\" class=\"col_heading level0 col5\" >Completeness</th>\n",
       "    </tr>\n",
       "  </thead>\n",
       "  <tbody>\n",
       "    <tr>\n",
       "      <th id=\"T_92cde_level0_row0\" class=\"row_heading level0 row0\" >0</th>\n",
       "      <td id=\"T_92cde_row0_col0\" class=\"data row0 col0\" >0.3842</td>\n",
       "      <td id=\"T_92cde_row0_col1\" class=\"data row0 col1\" >155.4342</td>\n",
       "      <td id=\"T_92cde_row0_col2\" class=\"data row0 col2\" >1.0274</td>\n",
       "      <td id=\"T_92cde_row0_col3\" class=\"data row0 col3\" >0</td>\n",
       "      <td id=\"T_92cde_row0_col4\" class=\"data row0 col4\" >0</td>\n",
       "      <td id=\"T_92cde_row0_col5\" class=\"data row0 col5\" >0</td>\n",
       "    </tr>\n",
       "  </tbody>\n",
       "</table>\n"
      ],
      "text/plain": [
       "<pandas.io.formats.style.Styler at 0x1fa9d104490>"
      ]
     },
     "metadata": {},
     "output_type": "display_data"
    },
    {
     "data": {
      "text/html": [],
      "text/plain": [
       "<IPython.core.display.HTML object>"
      ]
     },
     "metadata": {},
     "output_type": "display_data"
    },
    {
     "name": "stdout",
     "output_type": "stream",
     "text": [
      "For Cluster=4\n"
     ]
    },
    {
     "data": {
      "text/html": [],
      "text/plain": [
       "<IPython.core.display.HTML object>"
      ]
     },
     "metadata": {},
     "output_type": "display_data"
    },
    {
     "data": {
      "text/html": [
       "<style type=\"text/css\">\n",
       "</style>\n",
       "<table id=\"T_aa8a8\">\n",
       "  <thead>\n",
       "    <tr>\n",
       "      <th class=\"blank level0\" >&nbsp;</th>\n",
       "      <th id=\"T_aa8a8_level0_col0\" class=\"col_heading level0 col0\" >Silhouette</th>\n",
       "      <th id=\"T_aa8a8_level0_col1\" class=\"col_heading level0 col1\" >Calinski-Harabasz</th>\n",
       "      <th id=\"T_aa8a8_level0_col2\" class=\"col_heading level0 col2\" >Davies-Bouldin</th>\n",
       "      <th id=\"T_aa8a8_level0_col3\" class=\"col_heading level0 col3\" >Homogeneity</th>\n",
       "      <th id=\"T_aa8a8_level0_col4\" class=\"col_heading level0 col4\" >Rand Index</th>\n",
       "      <th id=\"T_aa8a8_level0_col5\" class=\"col_heading level0 col5\" >Completeness</th>\n",
       "    </tr>\n",
       "  </thead>\n",
       "  <tbody>\n",
       "    <tr>\n",
       "      <th id=\"T_aa8a8_level0_row0\" class=\"row_heading level0 row0\" >0</th>\n",
       "      <td id=\"T_aa8a8_row0_col0\" class=\"data row0 col0\" >0.3011</td>\n",
       "      <td id=\"T_aa8a8_row0_col1\" class=\"data row0 col1\" >119.3509</td>\n",
       "      <td id=\"T_aa8a8_row0_col2\" class=\"data row0 col2\" >1.1413</td>\n",
       "      <td id=\"T_aa8a8_row0_col3\" class=\"data row0 col3\" >0</td>\n",
       "      <td id=\"T_aa8a8_row0_col4\" class=\"data row0 col4\" >0</td>\n",
       "      <td id=\"T_aa8a8_row0_col5\" class=\"data row0 col5\" >0</td>\n",
       "    </tr>\n",
       "  </tbody>\n",
       "</table>\n"
      ],
      "text/plain": [
       "<pandas.io.formats.style.Styler at 0x1fa9b9735e0>"
      ]
     },
     "metadata": {},
     "output_type": "display_data"
    },
    {
     "data": {
      "text/html": [],
      "text/plain": [
       "<IPython.core.display.HTML object>"
      ]
     },
     "metadata": {},
     "output_type": "display_data"
    },
    {
     "name": "stdout",
     "output_type": "stream",
     "text": [
      "For Cluster=5\n"
     ]
    },
    {
     "data": {
      "text/html": [],
      "text/plain": [
       "<IPython.core.display.HTML object>"
      ]
     },
     "metadata": {},
     "output_type": "display_data"
    },
    {
     "data": {
      "text/html": [
       "<style type=\"text/css\">\n",
       "</style>\n",
       "<table id=\"T_fd0ea\">\n",
       "  <thead>\n",
       "    <tr>\n",
       "      <th class=\"blank level0\" >&nbsp;</th>\n",
       "      <th id=\"T_fd0ea_level0_col0\" class=\"col_heading level0 col0\" >Silhouette</th>\n",
       "      <th id=\"T_fd0ea_level0_col1\" class=\"col_heading level0 col1\" >Calinski-Harabasz</th>\n",
       "      <th id=\"T_fd0ea_level0_col2\" class=\"col_heading level0 col2\" >Davies-Bouldin</th>\n",
       "      <th id=\"T_fd0ea_level0_col3\" class=\"col_heading level0 col3\" >Homogeneity</th>\n",
       "      <th id=\"T_fd0ea_level0_col4\" class=\"col_heading level0 col4\" >Rand Index</th>\n",
       "      <th id=\"T_fd0ea_level0_col5\" class=\"col_heading level0 col5\" >Completeness</th>\n",
       "    </tr>\n",
       "  </thead>\n",
       "  <tbody>\n",
       "    <tr>\n",
       "      <th id=\"T_fd0ea_level0_row0\" class=\"row_heading level0 row0\" >0</th>\n",
       "      <td id=\"T_fd0ea_row0_col0\" class=\"data row0 col0\" >0.3039</td>\n",
       "      <td id=\"T_fd0ea_row0_col1\" class=\"data row0 col1\" >138.0138</td>\n",
       "      <td id=\"T_fd0ea_row0_col2\" class=\"data row0 col2\" >1.1575</td>\n",
       "      <td id=\"T_fd0ea_row0_col3\" class=\"data row0 col3\" >0</td>\n",
       "      <td id=\"T_fd0ea_row0_col4\" class=\"data row0 col4\" >0</td>\n",
       "      <td id=\"T_fd0ea_row0_col5\" class=\"data row0 col5\" >0</td>\n",
       "    </tr>\n",
       "  </tbody>\n",
       "</table>\n"
      ],
      "text/plain": [
       "<pandas.io.formats.style.Styler at 0x1fa1d2032b0>"
      ]
     },
     "metadata": {},
     "output_type": "display_data"
    },
    {
     "data": {
      "text/html": [],
      "text/plain": [
       "<IPython.core.display.HTML object>"
      ]
     },
     "metadata": {},
     "output_type": "display_data"
    },
    {
     "name": "stdout",
     "output_type": "stream",
     "text": [
      "For Cluster=6\n"
     ]
    },
    {
     "data": {
      "text/html": [],
      "text/plain": [
       "<IPython.core.display.HTML object>"
      ]
     },
     "metadata": {},
     "output_type": "display_data"
    },
    {
     "data": {
      "text/html": [
       "<style type=\"text/css\">\n",
       "</style>\n",
       "<table id=\"T_f5b9b\">\n",
       "  <thead>\n",
       "    <tr>\n",
       "      <th class=\"blank level0\" >&nbsp;</th>\n",
       "      <th id=\"T_f5b9b_level0_col0\" class=\"col_heading level0 col0\" >Silhouette</th>\n",
       "      <th id=\"T_f5b9b_level0_col1\" class=\"col_heading level0 col1\" >Calinski-Harabasz</th>\n",
       "      <th id=\"T_f5b9b_level0_col2\" class=\"col_heading level0 col2\" >Davies-Bouldin</th>\n",
       "      <th id=\"T_f5b9b_level0_col3\" class=\"col_heading level0 col3\" >Homogeneity</th>\n",
       "      <th id=\"T_f5b9b_level0_col4\" class=\"col_heading level0 col4\" >Rand Index</th>\n",
       "      <th id=\"T_f5b9b_level0_col5\" class=\"col_heading level0 col5\" >Completeness</th>\n",
       "    </tr>\n",
       "  </thead>\n",
       "  <tbody>\n",
       "    <tr>\n",
       "      <th id=\"T_f5b9b_level0_row0\" class=\"row_heading level0 row0\" >0</th>\n",
       "      <td id=\"T_f5b9b_row0_col0\" class=\"data row0 col0\" >0.2328</td>\n",
       "      <td id=\"T_f5b9b_row0_col1\" class=\"data row0 col1\" >125.5648</td>\n",
       "      <td id=\"T_f5b9b_row0_col2\" class=\"data row0 col2\" >1.3058</td>\n",
       "      <td id=\"T_f5b9b_row0_col3\" class=\"data row0 col3\" >0</td>\n",
       "      <td id=\"T_f5b9b_row0_col4\" class=\"data row0 col4\" >0</td>\n",
       "      <td id=\"T_f5b9b_row0_col5\" class=\"data row0 col5\" >0</td>\n",
       "    </tr>\n",
       "  </tbody>\n",
       "</table>\n"
      ],
      "text/plain": [
       "<pandas.io.formats.style.Styler at 0x1fa9b971060>"
      ]
     },
     "metadata": {},
     "output_type": "display_data"
    },
    {
     "data": {
      "text/html": [],
      "text/plain": [
       "<IPython.core.display.HTML object>"
      ]
     },
     "metadata": {},
     "output_type": "display_data"
    }
   ],
   "source": [
    "# can skip starting two lines\n",
    "from pycaret.datasets import get_data\n",
    "from pycaret.clustering import *\n",
    "\n",
    "dataset=get_data('seeds',verbose=False)\n",
    "setup(dataset,normalize=True,normalize_method='zscore',verbose=False)\n",
    "\n",
    "print(\"For Cluster=3\")\n",
    "x=create_model('kmeans',num_clusters=3)\n",
    "\n",
    "print(\"For Cluster=4\")\n",
    "x=create_model('kmeans',num_clusters=4)\n",
    "\n",
    "print(\"For Cluster=5\")\n",
    "x=create_model('kmeans',num_clusters=5)\n",
    "\n",
    "print(\"For Cluster=6\")\n",
    "x=create_model('kmeans',num_clusters=6)"
   ]
  },
  {
   "cell_type": "code",
   "execution_count": 44,
   "id": "3d6b8596-5107-4fb6-b5fb-3b81e363d482",
   "metadata": {},
   "outputs": [
    {
     "data": {
      "application/vnd.jupyter.widget-view+json": {
       "model_id": "2de7604b37184d869b6696dfd19b8393",
       "version_major": 2,
       "version_minor": 0
      },
      "text/plain": [
       "interactive(children=(ToggleButtons(description='Plot Type:', icons=('',), options=(('Pipeline Plot', 'pipelin…"
      ]
     },
     "metadata": {},
     "output_type": "display_data"
    }
   ],
   "source": [
    "evaluate_model(x)"
   ]
  },
  {
   "cell_type": "markdown",
   "id": "e1a48215-ac9b-4184-bd35-63b0730a4bea",
   "metadata": {},
   "source": [
    "#### Using Transformation"
   ]
  },
  {
   "cell_type": "code",
   "execution_count": 45,
   "id": "8829708b-b234-423f-a1a3-ac330cf392a0",
   "metadata": {},
   "outputs": [
    {
     "name": "stdout",
     "output_type": "stream",
     "text": [
      "For Cluster=3\n"
     ]
    },
    {
     "data": {
      "text/html": [],
      "text/plain": [
       "<IPython.core.display.HTML object>"
      ]
     },
     "metadata": {},
     "output_type": "display_data"
    },
    {
     "data": {
      "text/html": [
       "<style type=\"text/css\">\n",
       "</style>\n",
       "<table id=\"T_1bad4\">\n",
       "  <thead>\n",
       "    <tr>\n",
       "      <th class=\"blank level0\" >&nbsp;</th>\n",
       "      <th id=\"T_1bad4_level0_col0\" class=\"col_heading level0 col0\" >Silhouette</th>\n",
       "      <th id=\"T_1bad4_level0_col1\" class=\"col_heading level0 col1\" >Calinski-Harabasz</th>\n",
       "      <th id=\"T_1bad4_level0_col2\" class=\"col_heading level0 col2\" >Davies-Bouldin</th>\n",
       "      <th id=\"T_1bad4_level0_col3\" class=\"col_heading level0 col3\" >Homogeneity</th>\n",
       "      <th id=\"T_1bad4_level0_col4\" class=\"col_heading level0 col4\" >Rand Index</th>\n",
       "      <th id=\"T_1bad4_level0_col5\" class=\"col_heading level0 col5\" >Completeness</th>\n",
       "    </tr>\n",
       "  </thead>\n",
       "  <tbody>\n",
       "    <tr>\n",
       "      <th id=\"T_1bad4_level0_row0\" class=\"row_heading level0 row0\" >0</th>\n",
       "      <td id=\"T_1bad4_row0_col0\" class=\"data row0 col0\" >0.5161</td>\n",
       "      <td id=\"T_1bad4_row0_col1\" class=\"data row0 col1\" >492.7559</td>\n",
       "      <td id=\"T_1bad4_row0_col2\" class=\"data row0 col2\" >0.5731</td>\n",
       "      <td id=\"T_1bad4_row0_col3\" class=\"data row0 col3\" >0</td>\n",
       "      <td id=\"T_1bad4_row0_col4\" class=\"data row0 col4\" >0</td>\n",
       "      <td id=\"T_1bad4_row0_col5\" class=\"data row0 col5\" >0</td>\n",
       "    </tr>\n",
       "  </tbody>\n",
       "</table>\n"
      ],
      "text/plain": [
       "<pandas.io.formats.style.Styler at 0x1fa515c2bc0>"
      ]
     },
     "metadata": {},
     "output_type": "display_data"
    },
    {
     "data": {
      "text/html": [],
      "text/plain": [
       "<IPython.core.display.HTML object>"
      ]
     },
     "metadata": {},
     "output_type": "display_data"
    },
    {
     "name": "stdout",
     "output_type": "stream",
     "text": [
      "For Cluster=4\n"
     ]
    },
    {
     "data": {
      "text/html": [],
      "text/plain": [
       "<IPython.core.display.HTML object>"
      ]
     },
     "metadata": {},
     "output_type": "display_data"
    },
    {
     "data": {
      "text/html": [
       "<style type=\"text/css\">\n",
       "</style>\n",
       "<table id=\"T_03e0a\">\n",
       "  <thead>\n",
       "    <tr>\n",
       "      <th class=\"blank level0\" >&nbsp;</th>\n",
       "      <th id=\"T_03e0a_level0_col0\" class=\"col_heading level0 col0\" >Silhouette</th>\n",
       "      <th id=\"T_03e0a_level0_col1\" class=\"col_heading level0 col1\" >Calinski-Harabasz</th>\n",
       "      <th id=\"T_03e0a_level0_col2\" class=\"col_heading level0 col2\" >Davies-Bouldin</th>\n",
       "      <th id=\"T_03e0a_level0_col3\" class=\"col_heading level0 col3\" >Homogeneity</th>\n",
       "      <th id=\"T_03e0a_level0_col4\" class=\"col_heading level0 col4\" >Rand Index</th>\n",
       "      <th id=\"T_03e0a_level0_col5\" class=\"col_heading level0 col5\" >Completeness</th>\n",
       "    </tr>\n",
       "  </thead>\n",
       "  <tbody>\n",
       "    <tr>\n",
       "      <th id=\"T_03e0a_level0_row0\" class=\"row_heading level0 row0\" >0</th>\n",
       "      <td id=\"T_03e0a_row0_col0\" class=\"data row0 col0\" >0.5219</td>\n",
       "      <td id=\"T_03e0a_row0_col1\" class=\"data row0 col1\" >616.7174</td>\n",
       "      <td id=\"T_03e0a_row0_col2\" class=\"data row0 col2\" >0.5381</td>\n",
       "      <td id=\"T_03e0a_row0_col3\" class=\"data row0 col3\" >0</td>\n",
       "      <td id=\"T_03e0a_row0_col4\" class=\"data row0 col4\" >0</td>\n",
       "      <td id=\"T_03e0a_row0_col5\" class=\"data row0 col5\" >0</td>\n",
       "    </tr>\n",
       "  </tbody>\n",
       "</table>\n"
      ],
      "text/plain": [
       "<pandas.io.formats.style.Styler at 0x1fa9c97e170>"
      ]
     },
     "metadata": {},
     "output_type": "display_data"
    },
    {
     "data": {
      "text/html": [],
      "text/plain": [
       "<IPython.core.display.HTML object>"
      ]
     },
     "metadata": {},
     "output_type": "display_data"
    },
    {
     "name": "stdout",
     "output_type": "stream",
     "text": [
      "For Cluster=5\n"
     ]
    },
    {
     "data": {
      "text/html": [],
      "text/plain": [
       "<IPython.core.display.HTML object>"
      ]
     },
     "metadata": {},
     "output_type": "display_data"
    },
    {
     "data": {
      "text/html": [
       "<style type=\"text/css\">\n",
       "</style>\n",
       "<table id=\"T_657bc\">\n",
       "  <thead>\n",
       "    <tr>\n",
       "      <th class=\"blank level0\" >&nbsp;</th>\n",
       "      <th id=\"T_657bc_level0_col0\" class=\"col_heading level0 col0\" >Silhouette</th>\n",
       "      <th id=\"T_657bc_level0_col1\" class=\"col_heading level0 col1\" >Calinski-Harabasz</th>\n",
       "      <th id=\"T_657bc_level0_col2\" class=\"col_heading level0 col2\" >Davies-Bouldin</th>\n",
       "      <th id=\"T_657bc_level0_col3\" class=\"col_heading level0 col3\" >Homogeneity</th>\n",
       "      <th id=\"T_657bc_level0_col4\" class=\"col_heading level0 col4\" >Rand Index</th>\n",
       "      <th id=\"T_657bc_level0_col5\" class=\"col_heading level0 col5\" >Completeness</th>\n",
       "    </tr>\n",
       "  </thead>\n",
       "  <tbody>\n",
       "    <tr>\n",
       "      <th id=\"T_657bc_level0_row0\" class=\"row_heading level0 row0\" >0</th>\n",
       "      <td id=\"T_657bc_row0_col0\" class=\"data row0 col0\" >0.5178</td>\n",
       "      <td id=\"T_657bc_row0_col1\" class=\"data row0 col1\" >732.8043</td>\n",
       "      <td id=\"T_657bc_row0_col2\" class=\"data row0 col2\" >0.5552</td>\n",
       "      <td id=\"T_657bc_row0_col3\" class=\"data row0 col3\" >0</td>\n",
       "      <td id=\"T_657bc_row0_col4\" class=\"data row0 col4\" >0</td>\n",
       "      <td id=\"T_657bc_row0_col5\" class=\"data row0 col5\" >0</td>\n",
       "    </tr>\n",
       "  </tbody>\n",
       "</table>\n"
      ],
      "text/plain": [
       "<pandas.io.formats.style.Styler at 0x1fa9c99d930>"
      ]
     },
     "metadata": {},
     "output_type": "display_data"
    },
    {
     "data": {
      "text/html": [],
      "text/plain": [
       "<IPython.core.display.HTML object>"
      ]
     },
     "metadata": {},
     "output_type": "display_data"
    },
    {
     "name": "stdout",
     "output_type": "stream",
     "text": [
      "For Cluster=6\n"
     ]
    },
    {
     "data": {
      "text/html": [],
      "text/plain": [
       "<IPython.core.display.HTML object>"
      ]
     },
     "metadata": {},
     "output_type": "display_data"
    },
    {
     "data": {
      "text/html": [
       "<style type=\"text/css\">\n",
       "</style>\n",
       "<table id=\"T_264e7\">\n",
       "  <thead>\n",
       "    <tr>\n",
       "      <th class=\"blank level0\" >&nbsp;</th>\n",
       "      <th id=\"T_264e7_level0_col0\" class=\"col_heading level0 col0\" >Silhouette</th>\n",
       "      <th id=\"T_264e7_level0_col1\" class=\"col_heading level0 col1\" >Calinski-Harabasz</th>\n",
       "      <th id=\"T_264e7_level0_col2\" class=\"col_heading level0 col2\" >Davies-Bouldin</th>\n",
       "      <th id=\"T_264e7_level0_col3\" class=\"col_heading level0 col3\" >Homogeneity</th>\n",
       "      <th id=\"T_264e7_level0_col4\" class=\"col_heading level0 col4\" >Rand Index</th>\n",
       "      <th id=\"T_264e7_level0_col5\" class=\"col_heading level0 col5\" >Completeness</th>\n",
       "    </tr>\n",
       "  </thead>\n",
       "  <tbody>\n",
       "    <tr>\n",
       "      <th id=\"T_264e7_level0_row0\" class=\"row_heading level0 row0\" >0</th>\n",
       "      <td id=\"T_264e7_row0_col0\" class=\"data row0 col0\" >0.5044</td>\n",
       "      <td id=\"T_264e7_row0_col1\" class=\"data row0 col1\" >783.4492</td>\n",
       "      <td id=\"T_264e7_row0_col2\" class=\"data row0 col2\" >0.5682</td>\n",
       "      <td id=\"T_264e7_row0_col3\" class=\"data row0 col3\" >0</td>\n",
       "      <td id=\"T_264e7_row0_col4\" class=\"data row0 col4\" >0</td>\n",
       "      <td id=\"T_264e7_row0_col5\" class=\"data row0 col5\" >0</td>\n",
       "    </tr>\n",
       "  </tbody>\n",
       "</table>\n"
      ],
      "text/plain": [
       "<pandas.io.formats.style.Styler at 0x1fa9b970670>"
      ]
     },
     "metadata": {},
     "output_type": "display_data"
    },
    {
     "data": {
      "text/html": [],
      "text/plain": [
       "<IPython.core.display.HTML object>"
      ]
     },
     "metadata": {},
     "output_type": "display_data"
    }
   ],
   "source": [
    "# can skip starting two lines\n",
    "from pycaret.datasets import get_data\n",
    "from pycaret.clustering import *\n",
    "\n",
    "dataset=get_data('seeds',verbose=False)\n",
    "setup(dataset,transformation=True,transformation_method='yeo-johnson',verbose=False)\n",
    "\n",
    "print(\"For Cluster=3\")\n",
    "x=create_model('kmeans',num_clusters=3)\n",
    "\n",
    "print(\"For Cluster=4\")\n",
    "x=create_model('kmeans',num_clusters=4)\n",
    "\n",
    "print(\"For Cluster=5\")\n",
    "x=create_model('kmeans',num_clusters=5)\n",
    "\n",
    "print(\"For Cluster=6\")\n",
    "x=create_model('kmeans',num_clusters=6)"
   ]
  },
  {
   "cell_type": "code",
   "execution_count": 47,
   "id": "f666ba01-8a4d-4db9-9ff7-717ed790ad96",
   "metadata": {},
   "outputs": [
    {
     "data": {
      "application/vnd.jupyter.widget-view+json": {
       "model_id": "de539b8a657745c8b44ef5d07f42d836",
       "version_major": 2,
       "version_minor": 0
      },
      "text/plain": [
       "interactive(children=(ToggleButtons(description='Plot Type:', icons=('',), options=(('Pipeline Plot', 'pipelin…"
      ]
     },
     "metadata": {},
     "output_type": "display_data"
    }
   ],
   "source": [
    "evaluate_model(x)"
   ]
  },
  {
   "cell_type": "markdown",
   "id": "eecb900b-03b0-499c-9102-9851c20e803c",
   "metadata": {},
   "source": [
    "#### Using PCA"
   ]
  },
  {
   "cell_type": "code",
   "execution_count": 48,
   "id": "e7e3f8fa-5218-41ef-b02c-7952d045d6d9",
   "metadata": {},
   "outputs": [
    {
     "name": "stdout",
     "output_type": "stream",
     "text": [
      "For Cluster=3\n"
     ]
    },
    {
     "data": {
      "text/html": [],
      "text/plain": [
       "<IPython.core.display.HTML object>"
      ]
     },
     "metadata": {},
     "output_type": "display_data"
    },
    {
     "data": {
      "text/html": [
       "<style type=\"text/css\">\n",
       "</style>\n",
       "<table id=\"T_1e5ee\">\n",
       "  <thead>\n",
       "    <tr>\n",
       "      <th class=\"blank level0\" >&nbsp;</th>\n",
       "      <th id=\"T_1e5ee_level0_col0\" class=\"col_heading level0 col0\" >Silhouette</th>\n",
       "      <th id=\"T_1e5ee_level0_col1\" class=\"col_heading level0 col1\" >Calinski-Harabasz</th>\n",
       "      <th id=\"T_1e5ee_level0_col2\" class=\"col_heading level0 col2\" >Davies-Bouldin</th>\n",
       "      <th id=\"T_1e5ee_level0_col3\" class=\"col_heading level0 col3\" >Homogeneity</th>\n",
       "      <th id=\"T_1e5ee_level0_col4\" class=\"col_heading level0 col4\" >Rand Index</th>\n",
       "      <th id=\"T_1e5ee_level0_col5\" class=\"col_heading level0 col5\" >Completeness</th>\n",
       "    </tr>\n",
       "  </thead>\n",
       "  <tbody>\n",
       "    <tr>\n",
       "      <th id=\"T_1e5ee_level0_row0\" class=\"row_heading level0 row0\" >0</th>\n",
       "      <td id=\"T_1e5ee_row0_col0\" class=\"data row0 col0\" >0.4572</td>\n",
       "      <td id=\"T_1e5ee_row0_col1\" class=\"data row0 col1\" >324.3747</td>\n",
       "      <td id=\"T_1e5ee_row0_col2\" class=\"data row0 col2\" >0.7981</td>\n",
       "      <td id=\"T_1e5ee_row0_col3\" class=\"data row0 col3\" >0</td>\n",
       "      <td id=\"T_1e5ee_row0_col4\" class=\"data row0 col4\" >0</td>\n",
       "      <td id=\"T_1e5ee_row0_col5\" class=\"data row0 col5\" >0</td>\n",
       "    </tr>\n",
       "  </tbody>\n",
       "</table>\n"
      ],
      "text/plain": [
       "<pandas.io.formats.style.Styler at 0x1fa9cafff70>"
      ]
     },
     "metadata": {},
     "output_type": "display_data"
    },
    {
     "data": {
      "text/html": [],
      "text/plain": [
       "<IPython.core.display.HTML object>"
      ]
     },
     "metadata": {},
     "output_type": "display_data"
    },
    {
     "name": "stdout",
     "output_type": "stream",
     "text": [
      "For Cluster=4\n"
     ]
    },
    {
     "data": {
      "text/html": [],
      "text/plain": [
       "<IPython.core.display.HTML object>"
      ]
     },
     "metadata": {},
     "output_type": "display_data"
    },
    {
     "data": {
      "text/html": [
       "<style type=\"text/css\">\n",
       "</style>\n",
       "<table id=\"T_f7b46\">\n",
       "  <thead>\n",
       "    <tr>\n",
       "      <th class=\"blank level0\" >&nbsp;</th>\n",
       "      <th id=\"T_f7b46_level0_col0\" class=\"col_heading level0 col0\" >Silhouette</th>\n",
       "      <th id=\"T_f7b46_level0_col1\" class=\"col_heading level0 col1\" >Calinski-Harabasz</th>\n",
       "      <th id=\"T_f7b46_level0_col2\" class=\"col_heading level0 col2\" >Davies-Bouldin</th>\n",
       "      <th id=\"T_f7b46_level0_col3\" class=\"col_heading level0 col3\" >Homogeneity</th>\n",
       "      <th id=\"T_f7b46_level0_col4\" class=\"col_heading level0 col4\" >Rand Index</th>\n",
       "      <th id=\"T_f7b46_level0_col5\" class=\"col_heading level0 col5\" >Completeness</th>\n",
       "    </tr>\n",
       "  </thead>\n",
       "  <tbody>\n",
       "    <tr>\n",
       "      <th id=\"T_f7b46_level0_row0\" class=\"row_heading level0 row0\" >0</th>\n",
       "      <td id=\"T_f7b46_row0_col0\" class=\"data row0 col0\" >0.3832</td>\n",
       "      <td id=\"T_f7b46_row0_col1\" class=\"data row0 col1\" >271.1957</td>\n",
       "      <td id=\"T_f7b46_row0_col2\" class=\"data row0 col2\" >0.9293</td>\n",
       "      <td id=\"T_f7b46_row0_col3\" class=\"data row0 col3\" >0</td>\n",
       "      <td id=\"T_f7b46_row0_col4\" class=\"data row0 col4\" >0</td>\n",
       "      <td id=\"T_f7b46_row0_col5\" class=\"data row0 col5\" >0</td>\n",
       "    </tr>\n",
       "  </tbody>\n",
       "</table>\n"
      ],
      "text/plain": [
       "<pandas.io.formats.style.Styler at 0x1fa9b927850>"
      ]
     },
     "metadata": {},
     "output_type": "display_data"
    },
    {
     "data": {
      "text/html": [],
      "text/plain": [
       "<IPython.core.display.HTML object>"
      ]
     },
     "metadata": {},
     "output_type": "display_data"
    },
    {
     "name": "stdout",
     "output_type": "stream",
     "text": [
      "For Cluster=5\n"
     ]
    },
    {
     "data": {
      "text/html": [],
      "text/plain": [
       "<IPython.core.display.HTML object>"
      ]
     },
     "metadata": {},
     "output_type": "display_data"
    },
    {
     "data": {
      "text/html": [
       "<style type=\"text/css\">\n",
       "</style>\n",
       "<table id=\"T_94ad7\">\n",
       "  <thead>\n",
       "    <tr>\n",
       "      <th class=\"blank level0\" >&nbsp;</th>\n",
       "      <th id=\"T_94ad7_level0_col0\" class=\"col_heading level0 col0\" >Silhouette</th>\n",
       "      <th id=\"T_94ad7_level0_col1\" class=\"col_heading level0 col1\" >Calinski-Harabasz</th>\n",
       "      <th id=\"T_94ad7_level0_col2\" class=\"col_heading level0 col2\" >Davies-Bouldin</th>\n",
       "      <th id=\"T_94ad7_level0_col3\" class=\"col_heading level0 col3\" >Homogeneity</th>\n",
       "      <th id=\"T_94ad7_level0_col4\" class=\"col_heading level0 col4\" >Rand Index</th>\n",
       "      <th id=\"T_94ad7_level0_col5\" class=\"col_heading level0 col5\" >Completeness</th>\n",
       "    </tr>\n",
       "  </thead>\n",
       "  <tbody>\n",
       "    <tr>\n",
       "      <th id=\"T_94ad7_level0_row0\" class=\"row_heading level0 row0\" >0</th>\n",
       "      <td id=\"T_94ad7_row0_col0\" class=\"data row0 col0\" >0.3701</td>\n",
       "      <td id=\"T_94ad7_row0_col1\" class=\"data row0 col1\" >256.4964</td>\n",
       "      <td id=\"T_94ad7_row0_col2\" class=\"data row0 col2\" >0.9549</td>\n",
       "      <td id=\"T_94ad7_row0_col3\" class=\"data row0 col3\" >0</td>\n",
       "      <td id=\"T_94ad7_row0_col4\" class=\"data row0 col4\" >0</td>\n",
       "      <td id=\"T_94ad7_row0_col5\" class=\"data row0 col5\" >0</td>\n",
       "    </tr>\n",
       "  </tbody>\n",
       "</table>\n"
      ],
      "text/plain": [
       "<pandas.io.formats.style.Styler at 0x1fa9b972110>"
      ]
     },
     "metadata": {},
     "output_type": "display_data"
    },
    {
     "data": {
      "text/html": [],
      "text/plain": [
       "<IPython.core.display.HTML object>"
      ]
     },
     "metadata": {},
     "output_type": "display_data"
    },
    {
     "name": "stdout",
     "output_type": "stream",
     "text": [
      "For Cluster=6\n"
     ]
    },
    {
     "data": {
      "text/html": [],
      "text/plain": [
       "<IPython.core.display.HTML object>"
      ]
     },
     "metadata": {},
     "output_type": "display_data"
    },
    {
     "data": {
      "text/html": [
       "<style type=\"text/css\">\n",
       "</style>\n",
       "<table id=\"T_99df3\">\n",
       "  <thead>\n",
       "    <tr>\n",
       "      <th class=\"blank level0\" >&nbsp;</th>\n",
       "      <th id=\"T_99df3_level0_col0\" class=\"col_heading level0 col0\" >Silhouette</th>\n",
       "      <th id=\"T_99df3_level0_col1\" class=\"col_heading level0 col1\" >Calinski-Harabasz</th>\n",
       "      <th id=\"T_99df3_level0_col2\" class=\"col_heading level0 col2\" >Davies-Bouldin</th>\n",
       "      <th id=\"T_99df3_level0_col3\" class=\"col_heading level0 col3\" >Homogeneity</th>\n",
       "      <th id=\"T_99df3_level0_col4\" class=\"col_heading level0 col4\" >Rand Index</th>\n",
       "      <th id=\"T_99df3_level0_col5\" class=\"col_heading level0 col5\" >Completeness</th>\n",
       "    </tr>\n",
       "  </thead>\n",
       "  <tbody>\n",
       "    <tr>\n",
       "      <th id=\"T_99df3_level0_row0\" class=\"row_heading level0 row0\" >0</th>\n",
       "      <td id=\"T_99df3_row0_col0\" class=\"data row0 col0\" >0.3497</td>\n",
       "      <td id=\"T_99df3_row0_col1\" class=\"data row0 col1\" >223.8657</td>\n",
       "      <td id=\"T_99df3_row0_col2\" class=\"data row0 col2\" >0.9696</td>\n",
       "      <td id=\"T_99df3_row0_col3\" class=\"data row0 col3\" >0</td>\n",
       "      <td id=\"T_99df3_row0_col4\" class=\"data row0 col4\" >0</td>\n",
       "      <td id=\"T_99df3_row0_col5\" class=\"data row0 col5\" >0</td>\n",
       "    </tr>\n",
       "  </tbody>\n",
       "</table>\n"
      ],
      "text/plain": [
       "<pandas.io.formats.style.Styler at 0x1fa9b9bc880>"
      ]
     },
     "metadata": {},
     "output_type": "display_data"
    },
    {
     "data": {
      "text/html": [],
      "text/plain": [
       "<IPython.core.display.HTML object>"
      ]
     },
     "metadata": {},
     "output_type": "display_data"
    }
   ],
   "source": [
    "# can skip starting two lines\n",
    "from pycaret.datasets import get_data\n",
    "from pycaret.clustering import *\n",
    "\n",
    "dataset=get_data('seeds',verbose=False)\n",
    "setup(dataset,pca=True,pca_method='linear',verbose=False)\n",
    "\n",
    "print(\"For Cluster=3\")\n",
    "x=create_model('kmeans',num_clusters=3)\n",
    "\n",
    "print(\"For Cluster=4\")\n",
    "x=create_model('kmeans',num_clusters=4)\n",
    "\n",
    "print(\"For Cluster=5\")\n",
    "x=create_model('kmeans',num_clusters=5)\n",
    "\n",
    "print(\"For Cluster=6\")\n",
    "x=create_model('kmeans',num_clusters=6)"
   ]
  },
  {
   "cell_type": "code",
   "execution_count": 49,
   "id": "8de8d11d-15c7-4299-8919-fbdfbd0acc16",
   "metadata": {
    "scrolled": true
   },
   "outputs": [
    {
     "data": {
      "application/vnd.jupyter.widget-view+json": {
       "model_id": "24da109ece7e480bb5d3ec8fc8df7d90",
       "version_major": 2,
       "version_minor": 0
      },
      "text/plain": [
       "interactive(children=(ToggleButtons(description='Plot Type:', icons=('',), options=(('Pipeline Plot', 'pipelin…"
      ]
     },
     "metadata": {},
     "output_type": "display_data"
    }
   ],
   "source": [
    "evaluate_model(x)"
   ]
  },
  {
   "cell_type": "markdown",
   "id": "2f6b4a89-5c8b-479d-8271-06750a44c7e0",
   "metadata": {},
   "source": [
    "#### Using Transformation + Normalization"
   ]
  },
  {
   "cell_type": "code",
   "execution_count": 50,
   "id": "31ee619b-a49e-4c78-8e04-47af963fa269",
   "metadata": {},
   "outputs": [
    {
     "name": "stdout",
     "output_type": "stream",
     "text": [
      "For Cluster=3\n"
     ]
    },
    {
     "data": {
      "text/html": [],
      "text/plain": [
       "<IPython.core.display.HTML object>"
      ]
     },
     "metadata": {},
     "output_type": "display_data"
    },
    {
     "data": {
      "text/html": [
       "<style type=\"text/css\">\n",
       "</style>\n",
       "<table id=\"T_74506\">\n",
       "  <thead>\n",
       "    <tr>\n",
       "      <th class=\"blank level0\" >&nbsp;</th>\n",
       "      <th id=\"T_74506_level0_col0\" class=\"col_heading level0 col0\" >Silhouette</th>\n",
       "      <th id=\"T_74506_level0_col1\" class=\"col_heading level0 col1\" >Calinski-Harabasz</th>\n",
       "      <th id=\"T_74506_level0_col2\" class=\"col_heading level0 col2\" >Davies-Bouldin</th>\n",
       "      <th id=\"T_74506_level0_col3\" class=\"col_heading level0 col3\" >Homogeneity</th>\n",
       "      <th id=\"T_74506_level0_col4\" class=\"col_heading level0 col4\" >Rand Index</th>\n",
       "      <th id=\"T_74506_level0_col5\" class=\"col_heading level0 col5\" >Completeness</th>\n",
       "    </tr>\n",
       "  </thead>\n",
       "  <tbody>\n",
       "    <tr>\n",
       "      <th id=\"T_74506_level0_row0\" class=\"row_heading level0 row0\" >0</th>\n",
       "      <td id=\"T_74506_row0_col0\" class=\"data row0 col0\" >0.3929</td>\n",
       "      <td id=\"T_74506_row0_col1\" class=\"data row0 col1\" >195.8647</td>\n",
       "      <td id=\"T_74506_row0_col2\" class=\"data row0 col2\" >0.9932</td>\n",
       "      <td id=\"T_74506_row0_col3\" class=\"data row0 col3\" >0</td>\n",
       "      <td id=\"T_74506_row0_col4\" class=\"data row0 col4\" >0</td>\n",
       "      <td id=\"T_74506_row0_col5\" class=\"data row0 col5\" >0</td>\n",
       "    </tr>\n",
       "  </tbody>\n",
       "</table>\n"
      ],
      "text/plain": [
       "<pandas.io.formats.style.Styler at 0x1fa9b926cb0>"
      ]
     },
     "metadata": {},
     "output_type": "display_data"
    },
    {
     "data": {
      "text/html": [],
      "text/plain": [
       "<IPython.core.display.HTML object>"
      ]
     },
     "metadata": {},
     "output_type": "display_data"
    },
    {
     "name": "stdout",
     "output_type": "stream",
     "text": [
      "For Cluster=4\n"
     ]
    },
    {
     "data": {
      "text/html": [],
      "text/plain": [
       "<IPython.core.display.HTML object>"
      ]
     },
     "metadata": {},
     "output_type": "display_data"
    },
    {
     "data": {
      "text/html": [
       "<style type=\"text/css\">\n",
       "</style>\n",
       "<table id=\"T_93f39\">\n",
       "  <thead>\n",
       "    <tr>\n",
       "      <th class=\"blank level0\" >&nbsp;</th>\n",
       "      <th id=\"T_93f39_level0_col0\" class=\"col_heading level0 col0\" >Silhouette</th>\n",
       "      <th id=\"T_93f39_level0_col1\" class=\"col_heading level0 col1\" >Calinski-Harabasz</th>\n",
       "      <th id=\"T_93f39_level0_col2\" class=\"col_heading level0 col2\" >Davies-Bouldin</th>\n",
       "      <th id=\"T_93f39_level0_col3\" class=\"col_heading level0 col3\" >Homogeneity</th>\n",
       "      <th id=\"T_93f39_level0_col4\" class=\"col_heading level0 col4\" >Rand Index</th>\n",
       "      <th id=\"T_93f39_level0_col5\" class=\"col_heading level0 col5\" >Completeness</th>\n",
       "    </tr>\n",
       "  </thead>\n",
       "  <tbody>\n",
       "    <tr>\n",
       "      <th id=\"T_93f39_level0_row0\" class=\"row_heading level0 row0\" >0</th>\n",
       "      <td id=\"T_93f39_row0_col0\" class=\"data row0 col0\" >0.3071</td>\n",
       "      <td id=\"T_93f39_row0_col1\" class=\"data row0 col1\" >152.1490</td>\n",
       "      <td id=\"T_93f39_row0_col2\" class=\"data row0 col2\" >1.1609</td>\n",
       "      <td id=\"T_93f39_row0_col3\" class=\"data row0 col3\" >0</td>\n",
       "      <td id=\"T_93f39_row0_col4\" class=\"data row0 col4\" >0</td>\n",
       "      <td id=\"T_93f39_row0_col5\" class=\"data row0 col5\" >0</td>\n",
       "    </tr>\n",
       "  </tbody>\n",
       "</table>\n"
      ],
      "text/plain": [
       "<pandas.io.formats.style.Styler at 0x1fa9b926cb0>"
      ]
     },
     "metadata": {},
     "output_type": "display_data"
    },
    {
     "data": {
      "text/html": [],
      "text/plain": [
       "<IPython.core.display.HTML object>"
      ]
     },
     "metadata": {},
     "output_type": "display_data"
    },
    {
     "name": "stdout",
     "output_type": "stream",
     "text": [
      "For Cluster=5\n"
     ]
    },
    {
     "data": {
      "text/html": [],
      "text/plain": [
       "<IPython.core.display.HTML object>"
      ]
     },
     "metadata": {},
     "output_type": "display_data"
    },
    {
     "data": {
      "text/html": [
       "<style type=\"text/css\">\n",
       "</style>\n",
       "<table id=\"T_867a6\">\n",
       "  <thead>\n",
       "    <tr>\n",
       "      <th class=\"blank level0\" >&nbsp;</th>\n",
       "      <th id=\"T_867a6_level0_col0\" class=\"col_heading level0 col0\" >Silhouette</th>\n",
       "      <th id=\"T_867a6_level0_col1\" class=\"col_heading level0 col1\" >Calinski-Harabasz</th>\n",
       "      <th id=\"T_867a6_level0_col2\" class=\"col_heading level0 col2\" >Davies-Bouldin</th>\n",
       "      <th id=\"T_867a6_level0_col3\" class=\"col_heading level0 col3\" >Homogeneity</th>\n",
       "      <th id=\"T_867a6_level0_col4\" class=\"col_heading level0 col4\" >Rand Index</th>\n",
       "      <th id=\"T_867a6_level0_col5\" class=\"col_heading level0 col5\" >Completeness</th>\n",
       "    </tr>\n",
       "  </thead>\n",
       "  <tbody>\n",
       "    <tr>\n",
       "      <th id=\"T_867a6_level0_row0\" class=\"row_heading level0 row0\" >0</th>\n",
       "      <td id=\"T_867a6_row0_col0\" class=\"data row0 col0\" >0.2563</td>\n",
       "      <td id=\"T_867a6_row0_col1\" class=\"data row0 col1\" >130.5739</td>\n",
       "      <td id=\"T_867a6_row0_col2\" class=\"data row0 col2\" >1.3199</td>\n",
       "      <td id=\"T_867a6_row0_col3\" class=\"data row0 col3\" >0</td>\n",
       "      <td id=\"T_867a6_row0_col4\" class=\"data row0 col4\" >0</td>\n",
       "      <td id=\"T_867a6_row0_col5\" class=\"data row0 col5\" >0</td>\n",
       "    </tr>\n",
       "  </tbody>\n",
       "</table>\n"
      ],
      "text/plain": [
       "<pandas.io.formats.style.Styler at 0x1fa9c97cf40>"
      ]
     },
     "metadata": {},
     "output_type": "display_data"
    },
    {
     "data": {
      "text/html": [],
      "text/plain": [
       "<IPython.core.display.HTML object>"
      ]
     },
     "metadata": {},
     "output_type": "display_data"
    },
    {
     "name": "stdout",
     "output_type": "stream",
     "text": [
      "For Cluster=6\n"
     ]
    },
    {
     "data": {
      "text/html": [],
      "text/plain": [
       "<IPython.core.display.HTML object>"
      ]
     },
     "metadata": {},
     "output_type": "display_data"
    },
    {
     "data": {
      "text/html": [
       "<style type=\"text/css\">\n",
       "</style>\n",
       "<table id=\"T_ca8ae\">\n",
       "  <thead>\n",
       "    <tr>\n",
       "      <th class=\"blank level0\" >&nbsp;</th>\n",
       "      <th id=\"T_ca8ae_level0_col0\" class=\"col_heading level0 col0\" >Silhouette</th>\n",
       "      <th id=\"T_ca8ae_level0_col1\" class=\"col_heading level0 col1\" >Calinski-Harabasz</th>\n",
       "      <th id=\"T_ca8ae_level0_col2\" class=\"col_heading level0 col2\" >Davies-Bouldin</th>\n",
       "      <th id=\"T_ca8ae_level0_col3\" class=\"col_heading level0 col3\" >Homogeneity</th>\n",
       "      <th id=\"T_ca8ae_level0_col4\" class=\"col_heading level0 col4\" >Rand Index</th>\n",
       "      <th id=\"T_ca8ae_level0_col5\" class=\"col_heading level0 col5\" >Completeness</th>\n",
       "    </tr>\n",
       "  </thead>\n",
       "  <tbody>\n",
       "    <tr>\n",
       "      <th id=\"T_ca8ae_level0_row0\" class=\"row_heading level0 row0\" >0</th>\n",
       "      <td id=\"T_ca8ae_row0_col0\" class=\"data row0 col0\" >0.2469</td>\n",
       "      <td id=\"T_ca8ae_row0_col1\" class=\"data row0 col1\" >117.2666</td>\n",
       "      <td id=\"T_ca8ae_row0_col2\" class=\"data row0 col2\" >1.3072</td>\n",
       "      <td id=\"T_ca8ae_row0_col3\" class=\"data row0 col3\" >0</td>\n",
       "      <td id=\"T_ca8ae_row0_col4\" class=\"data row0 col4\" >0</td>\n",
       "      <td id=\"T_ca8ae_row0_col5\" class=\"data row0 col5\" >0</td>\n",
       "    </tr>\n",
       "  </tbody>\n",
       "</table>\n"
      ],
      "text/plain": [
       "<pandas.io.formats.style.Styler at 0x1fa9cafc100>"
      ]
     },
     "metadata": {},
     "output_type": "display_data"
    },
    {
     "data": {
      "text/html": [],
      "text/plain": [
       "<IPython.core.display.HTML object>"
      ]
     },
     "metadata": {},
     "output_type": "display_data"
    }
   ],
   "source": [
    "# can skip starting two lines\n",
    "from pycaret.datasets import get_data\n",
    "from pycaret.clustering import *\n",
    "\n",
    "dataset=get_data('seeds',verbose=False)\n",
    "setup(dataset,normalize=True,normalize_method='zscore',transformation=True,transformation_method='yeo-johnson',verbose=False)\n",
    "\n",
    "print(\"For Cluster=3\")\n",
    "x=create_model('kmeans',num_clusters=3)\n",
    "\n",
    "print(\"For Cluster=4\")\n",
    "x=create_model('kmeans',num_clusters=4)\n",
    "\n",
    "print(\"For Cluster=5\")\n",
    "x=create_model('kmeans',num_clusters=5)\n",
    "\n",
    "print(\"For Cluster=6\")\n",
    "x=create_model('kmeans',num_clusters=6)"
   ]
  },
  {
   "cell_type": "code",
   "execution_count": 51,
   "id": "7d175d73-5a98-47c2-9bed-6f8d9e7dc349",
   "metadata": {
    "scrolled": true
   },
   "outputs": [
    {
     "data": {
      "application/vnd.jupyter.widget-view+json": {
       "model_id": "45d93d9dcdc140a1aec70f22eced75d4",
       "version_major": 2,
       "version_minor": 0
      },
      "text/plain": [
       "interactive(children=(ToggleButtons(description='Plot Type:', icons=('',), options=(('Pipeline Plot', 'pipelin…"
      ]
     },
     "metadata": {},
     "output_type": "display_data"
    }
   ],
   "source": [
    "evaluate_model(x)"
   ]
  },
  {
   "cell_type": "markdown",
   "id": "4e513a1c-69f1-4617-83be-deb2957b09dc",
   "metadata": {},
   "source": [
    "#### Using Transformation + Normalization + PCA"
   ]
  },
  {
   "cell_type": "code",
   "execution_count": 52,
   "id": "0313157f-af3d-4dc1-b6ba-bb23a4dd4978",
   "metadata": {},
   "outputs": [
    {
     "name": "stdout",
     "output_type": "stream",
     "text": [
      "For Cluster=3\n"
     ]
    },
    {
     "data": {
      "text/html": [],
      "text/plain": [
       "<IPython.core.display.HTML object>"
      ]
     },
     "metadata": {},
     "output_type": "display_data"
    },
    {
     "data": {
      "text/html": [
       "<style type=\"text/css\">\n",
       "</style>\n",
       "<table id=\"T_11cff\">\n",
       "  <thead>\n",
       "    <tr>\n",
       "      <th class=\"blank level0\" >&nbsp;</th>\n",
       "      <th id=\"T_11cff_level0_col0\" class=\"col_heading level0 col0\" >Silhouette</th>\n",
       "      <th id=\"T_11cff_level0_col1\" class=\"col_heading level0 col1\" >Calinski-Harabasz</th>\n",
       "      <th id=\"T_11cff_level0_col2\" class=\"col_heading level0 col2\" >Davies-Bouldin</th>\n",
       "      <th id=\"T_11cff_level0_col3\" class=\"col_heading level0 col3\" >Homogeneity</th>\n",
       "      <th id=\"T_11cff_level0_col4\" class=\"col_heading level0 col4\" >Rand Index</th>\n",
       "      <th id=\"T_11cff_level0_col5\" class=\"col_heading level0 col5\" >Completeness</th>\n",
       "    </tr>\n",
       "  </thead>\n",
       "  <tbody>\n",
       "    <tr>\n",
       "      <th id=\"T_11cff_level0_row0\" class=\"row_heading level0 row0\" >0</th>\n",
       "      <td id=\"T_11cff_row0_col0\" class=\"data row0 col0\" >0.3960</td>\n",
       "      <td id=\"T_11cff_row0_col1\" class=\"data row0 col1\" >196.5351</td>\n",
       "      <td id=\"T_11cff_row0_col2\" class=\"data row0 col2\" >0.9848</td>\n",
       "      <td id=\"T_11cff_row0_col3\" class=\"data row0 col3\" >0</td>\n",
       "      <td id=\"T_11cff_row0_col4\" class=\"data row0 col4\" >0</td>\n",
       "      <td id=\"T_11cff_row0_col5\" class=\"data row0 col5\" >0</td>\n",
       "    </tr>\n",
       "  </tbody>\n",
       "</table>\n"
      ],
      "text/plain": [
       "<pandas.io.formats.style.Styler at 0x1fa75b35780>"
      ]
     },
     "metadata": {},
     "output_type": "display_data"
    },
    {
     "data": {
      "text/html": [],
      "text/plain": [
       "<IPython.core.display.HTML object>"
      ]
     },
     "metadata": {},
     "output_type": "display_data"
    },
    {
     "name": "stdout",
     "output_type": "stream",
     "text": [
      "For Cluster=4\n"
     ]
    },
    {
     "data": {
      "text/html": [],
      "text/plain": [
       "<IPython.core.display.HTML object>"
      ]
     },
     "metadata": {},
     "output_type": "display_data"
    },
    {
     "data": {
      "text/html": [
       "<style type=\"text/css\">\n",
       "</style>\n",
       "<table id=\"T_718cc\">\n",
       "  <thead>\n",
       "    <tr>\n",
       "      <th class=\"blank level0\" >&nbsp;</th>\n",
       "      <th id=\"T_718cc_level0_col0\" class=\"col_heading level0 col0\" >Silhouette</th>\n",
       "      <th id=\"T_718cc_level0_col1\" class=\"col_heading level0 col1\" >Calinski-Harabasz</th>\n",
       "      <th id=\"T_718cc_level0_col2\" class=\"col_heading level0 col2\" >Davies-Bouldin</th>\n",
       "      <th id=\"T_718cc_level0_col3\" class=\"col_heading level0 col3\" >Homogeneity</th>\n",
       "      <th id=\"T_718cc_level0_col4\" class=\"col_heading level0 col4\" >Rand Index</th>\n",
       "      <th id=\"T_718cc_level0_col5\" class=\"col_heading level0 col5\" >Completeness</th>\n",
       "    </tr>\n",
       "  </thead>\n",
       "  <tbody>\n",
       "    <tr>\n",
       "      <th id=\"T_718cc_level0_row0\" class=\"row_heading level0 row0\" >0</th>\n",
       "      <td id=\"T_718cc_row0_col0\" class=\"data row0 col0\" >0.3022</td>\n",
       "      <td id=\"T_718cc_row0_col1\" class=\"data row0 col1\" >145.0075</td>\n",
       "      <td id=\"T_718cc_row0_col2\" class=\"data row0 col2\" >1.3367</td>\n",
       "      <td id=\"T_718cc_row0_col3\" class=\"data row0 col3\" >0</td>\n",
       "      <td id=\"T_718cc_row0_col4\" class=\"data row0 col4\" >0</td>\n",
       "      <td id=\"T_718cc_row0_col5\" class=\"data row0 col5\" >0</td>\n",
       "    </tr>\n",
       "  </tbody>\n",
       "</table>\n"
      ],
      "text/plain": [
       "<pandas.io.formats.style.Styler at 0x1fa9c95f190>"
      ]
     },
     "metadata": {},
     "output_type": "display_data"
    },
    {
     "data": {
      "text/html": [],
      "text/plain": [
       "<IPython.core.display.HTML object>"
      ]
     },
     "metadata": {},
     "output_type": "display_data"
    },
    {
     "name": "stdout",
     "output_type": "stream",
     "text": [
      "For Cluster=5\n"
     ]
    },
    {
     "data": {
      "text/html": [],
      "text/plain": [
       "<IPython.core.display.HTML object>"
      ]
     },
     "metadata": {},
     "output_type": "display_data"
    },
    {
     "data": {
      "text/html": [
       "<style type=\"text/css\">\n",
       "</style>\n",
       "<table id=\"T_fba9c\">\n",
       "  <thead>\n",
       "    <tr>\n",
       "      <th class=\"blank level0\" >&nbsp;</th>\n",
       "      <th id=\"T_fba9c_level0_col0\" class=\"col_heading level0 col0\" >Silhouette</th>\n",
       "      <th id=\"T_fba9c_level0_col1\" class=\"col_heading level0 col1\" >Calinski-Harabasz</th>\n",
       "      <th id=\"T_fba9c_level0_col2\" class=\"col_heading level0 col2\" >Davies-Bouldin</th>\n",
       "      <th id=\"T_fba9c_level0_col3\" class=\"col_heading level0 col3\" >Homogeneity</th>\n",
       "      <th id=\"T_fba9c_level0_col4\" class=\"col_heading level0 col4\" >Rand Index</th>\n",
       "      <th id=\"T_fba9c_level0_col5\" class=\"col_heading level0 col5\" >Completeness</th>\n",
       "    </tr>\n",
       "  </thead>\n",
       "  <tbody>\n",
       "    <tr>\n",
       "      <th id=\"T_fba9c_level0_row0\" class=\"row_heading level0 row0\" >0</th>\n",
       "      <td id=\"T_fba9c_row0_col0\" class=\"data row0 col0\" >0.2582</td>\n",
       "      <td id=\"T_fba9c_row0_col1\" class=\"data row0 col1\" >125.9156</td>\n",
       "      <td id=\"T_fba9c_row0_col2\" class=\"data row0 col2\" >1.4875</td>\n",
       "      <td id=\"T_fba9c_row0_col3\" class=\"data row0 col3\" >0</td>\n",
       "      <td id=\"T_fba9c_row0_col4\" class=\"data row0 col4\" >0</td>\n",
       "      <td id=\"T_fba9c_row0_col5\" class=\"data row0 col5\" >0</td>\n",
       "    </tr>\n",
       "  </tbody>\n",
       "</table>\n"
      ],
      "text/plain": [
       "<pandas.io.formats.style.Styler at 0x1fa9b972110>"
      ]
     },
     "metadata": {},
     "output_type": "display_data"
    },
    {
     "data": {
      "text/html": [],
      "text/plain": [
       "<IPython.core.display.HTML object>"
      ]
     },
     "metadata": {},
     "output_type": "display_data"
    },
    {
     "name": "stdout",
     "output_type": "stream",
     "text": [
      "For Cluster=6\n"
     ]
    },
    {
     "data": {
      "text/html": [],
      "text/plain": [
       "<IPython.core.display.HTML object>"
      ]
     },
     "metadata": {},
     "output_type": "display_data"
    },
    {
     "data": {
      "text/html": [
       "<style type=\"text/css\">\n",
       "</style>\n",
       "<table id=\"T_5c061\">\n",
       "  <thead>\n",
       "    <tr>\n",
       "      <th class=\"blank level0\" >&nbsp;</th>\n",
       "      <th id=\"T_5c061_level0_col0\" class=\"col_heading level0 col0\" >Silhouette</th>\n",
       "      <th id=\"T_5c061_level0_col1\" class=\"col_heading level0 col1\" >Calinski-Harabasz</th>\n",
       "      <th id=\"T_5c061_level0_col2\" class=\"col_heading level0 col2\" >Davies-Bouldin</th>\n",
       "      <th id=\"T_5c061_level0_col3\" class=\"col_heading level0 col3\" >Homogeneity</th>\n",
       "      <th id=\"T_5c061_level0_col4\" class=\"col_heading level0 col4\" >Rand Index</th>\n",
       "      <th id=\"T_5c061_level0_col5\" class=\"col_heading level0 col5\" >Completeness</th>\n",
       "    </tr>\n",
       "  </thead>\n",
       "  <tbody>\n",
       "    <tr>\n",
       "      <th id=\"T_5c061_level0_row0\" class=\"row_heading level0 row0\" >0</th>\n",
       "      <td id=\"T_5c061_row0_col0\" class=\"data row0 col0\" >0.2555</td>\n",
       "      <td id=\"T_5c061_row0_col1\" class=\"data row0 col1\" >112.2360</td>\n",
       "      <td id=\"T_5c061_row0_col2\" class=\"data row0 col2\" >1.2353</td>\n",
       "      <td id=\"T_5c061_row0_col3\" class=\"data row0 col3\" >0</td>\n",
       "      <td id=\"T_5c061_row0_col4\" class=\"data row0 col4\" >0</td>\n",
       "      <td id=\"T_5c061_row0_col5\" class=\"data row0 col5\" >0</td>\n",
       "    </tr>\n",
       "  </tbody>\n",
       "</table>\n"
      ],
      "text/plain": [
       "<pandas.io.formats.style.Styler at 0x1fa9c97d4b0>"
      ]
     },
     "metadata": {},
     "output_type": "display_data"
    },
    {
     "data": {
      "text/html": [],
      "text/plain": [
       "<IPython.core.display.HTML object>"
      ]
     },
     "metadata": {},
     "output_type": "display_data"
    }
   ],
   "source": [
    "# can skip starting two lines\n",
    "from pycaret.datasets import get_data\n",
    "from pycaret.clustering import *\n",
    "\n",
    "dataset=get_data('seeds',verbose=False)\n",
    "setup(dataset,normalize=True,normalize_method='zscore',transformation=True,transformation_method='yeo-johnson',pca=True,pca_method='linear',verbose=False)\n",
    "\n",
    "print(\"For Cluster=3\")\n",
    "x=create_model('kmeans',num_clusters=3)\n",
    "\n",
    "print(\"For Cluster=4\")\n",
    "x=create_model('kmeans',num_clusters=4)\n",
    "\n",
    "print(\"For Cluster=5\")\n",
    "x=create_model('kmeans',num_clusters=5)\n",
    "\n",
    "print(\"For Cluster=6\")\n",
    "x=create_model('kmeans',num_clusters=6)"
   ]
  },
  {
   "cell_type": "code",
   "execution_count": 53,
   "id": "5f039db0-1809-4e85-899a-043727acab8f",
   "metadata": {},
   "outputs": [
    {
     "data": {
      "application/vnd.jupyter.widget-view+json": {
       "model_id": "df250e9573e6417daca7467f1b5085a6",
       "version_major": 2,
       "version_minor": 0
      },
      "text/plain": [
       "interactive(children=(ToggleButtons(description='Plot Type:', icons=('',), options=(('Pipeline Plot', 'pipelin…"
      ]
     },
     "metadata": {},
     "output_type": "display_data"
    }
   ],
   "source": [
    "evaluate_model(x)"
   ]
  },
  {
   "cell_type": "code",
   "execution_count": 56,
   "id": "a6b34d78-30fc-476f-97fa-967ae8db1f59",
   "metadata": {},
   "outputs": [
    {
     "name": "stdout",
     "output_type": "stream",
     "text": [
      "\n",
      "\\begin{table}[h]\n",
      "    \\centering\n",
      "    \\caption{Using K-Means Clustering}\n",
      "    \\begin{tabular}{lrrrrrrrrrrrrrrrrrrrrrrrr}\n",
      "\\toprule\n",
      " & \\multicolumn{4}{r}{No Data Processing} & \\multicolumn{4}{r}{Using Normalization} & \\multicolumn{4}{r}{Using Transform} & \\multicolumn{4}{r}{Using PCA} & \\multicolumn{4}{r}{Using T+N} & \\multicolumn{4}{r}{T+N+PCA} \\\\\n",
      " & c=3 & c=4 & c=5 & c=6 & c=3 & c=4 & c=5 & c=6 & c=3 & c=4 & c=5 & c=6 & c=3 & c=4 & c=5 & c=6 & c=3 & c=4 & c=5 & c=6 & c=3 & c=4 & c=5 & c=6 \\\\\n",
      "\\midrule\n",
      "Silhouette & 0.454000 & 0.390900 & 0.378800 & 0.337500 & 0.384200 & 0.301100 & 0.303900 & 0.232800 & 0.516100 & 0.521900 & 0.517800 & 0.504400 & 0.457200 & 0.383200 & 0.370100 & 0.349700 & 0.392900 & 0.307100 & 0.256300 & 0.246900 & 0.396000 & 0.302200 & 0.258200 & 0.255500 \\\\\n",
      "Calinski-Harabasz & 324.495400 & 275.045400 & 230.299900 & 215.090000 & 155.434200 & 119.350900 & 138.013800 & 125.564800 & 492.755900 & 616.717400 & 732.804300 & 783.449200 & 324.374700 & 271.195700 & 256.496400 & 223.865700 & 195.864700 & 152.149000 & 130.573900 & 117.266600 & 196.535100 & 145.007500 & 125.915600 & 112.236000 \\\\\n",
      "Davies-Bouldin & 0.798700 & 0.934000 & 0.943800 & 1.026800 & 1.027400 & 1.141300 & 1.157500 & 1.305800 & 0.573100 & 0.538100 & 0.555200 & 0.568200 & 0.798100 & 0.929300 & 0.954900 & 0.969600 & 0.993200 & 1.160900 & 1.319900 & 1.307200 & 0.984800 & 1.336700 & 1.487500 & 1.235300 \\\\\n",
      "\\bottomrule\n",
      "\\end{tabular}\n",
      "\n",
      "\\end{table}\n",
      "\n"
     ]
    },
    {
     "data": {
      "text/html": [
       "<div>\n",
       "<style scoped>\n",
       "    .dataframe tbody tr th:only-of-type {\n",
       "        vertical-align: middle;\n",
       "    }\n",
       "\n",
       "    .dataframe tbody tr th {\n",
       "        vertical-align: top;\n",
       "    }\n",
       "\n",
       "    .dataframe thead tr th {\n",
       "        text-align: left;\n",
       "    }\n",
       "</style>\n",
       "<table border=\"1\" class=\"dataframe\">\n",
       "  <thead>\n",
       "    <tr>\n",
       "      <th></th>\n",
       "      <th colspan=\"4\" halign=\"left\">No Data Processing</th>\n",
       "      <th colspan=\"4\" halign=\"left\">Using Normalization</th>\n",
       "      <th colspan=\"2\" halign=\"left\">Using Transform</th>\n",
       "      <th>...</th>\n",
       "      <th colspan=\"2\" halign=\"left\">Using PCA</th>\n",
       "      <th colspan=\"4\" halign=\"left\">Using T+N</th>\n",
       "      <th colspan=\"4\" halign=\"left\">T+N+PCA</th>\n",
       "    </tr>\n",
       "    <tr>\n",
       "      <th></th>\n",
       "      <th>c=3</th>\n",
       "      <th>c=4</th>\n",
       "      <th>c=5</th>\n",
       "      <th>c=6</th>\n",
       "      <th>c=3</th>\n",
       "      <th>c=4</th>\n",
       "      <th>c=5</th>\n",
       "      <th>c=6</th>\n",
       "      <th>c=3</th>\n",
       "      <th>c=4</th>\n",
       "      <th>...</th>\n",
       "      <th>c=5</th>\n",
       "      <th>c=6</th>\n",
       "      <th>c=3</th>\n",
       "      <th>c=4</th>\n",
       "      <th>c=5</th>\n",
       "      <th>c=6</th>\n",
       "      <th>c=3</th>\n",
       "      <th>c=4</th>\n",
       "      <th>c=5</th>\n",
       "      <th>c=6</th>\n",
       "    </tr>\n",
       "  </thead>\n",
       "  <tbody>\n",
       "    <tr>\n",
       "      <th>Silhouette</th>\n",
       "      <td>0.4540</td>\n",
       "      <td>0.3909</td>\n",
       "      <td>0.3788</td>\n",
       "      <td>0.3375</td>\n",
       "      <td>0.3842</td>\n",
       "      <td>0.3011</td>\n",
       "      <td>0.3039</td>\n",
       "      <td>0.2328</td>\n",
       "      <td>0.5161</td>\n",
       "      <td>0.5219</td>\n",
       "      <td>...</td>\n",
       "      <td>0.3701</td>\n",
       "      <td>0.3497</td>\n",
       "      <td>0.3929</td>\n",
       "      <td>0.3071</td>\n",
       "      <td>0.2563</td>\n",
       "      <td>0.2469</td>\n",
       "      <td>0.3960</td>\n",
       "      <td>0.3022</td>\n",
       "      <td>0.2582</td>\n",
       "      <td>0.2555</td>\n",
       "    </tr>\n",
       "    <tr>\n",
       "      <th>Calinski-Harabasz</th>\n",
       "      <td>324.4954</td>\n",
       "      <td>275.0454</td>\n",
       "      <td>230.2999</td>\n",
       "      <td>215.0900</td>\n",
       "      <td>155.4342</td>\n",
       "      <td>119.3509</td>\n",
       "      <td>138.0138</td>\n",
       "      <td>125.5648</td>\n",
       "      <td>492.7559</td>\n",
       "      <td>616.7174</td>\n",
       "      <td>...</td>\n",
       "      <td>256.4964</td>\n",
       "      <td>223.8657</td>\n",
       "      <td>195.8647</td>\n",
       "      <td>152.1490</td>\n",
       "      <td>130.5739</td>\n",
       "      <td>117.2666</td>\n",
       "      <td>196.5351</td>\n",
       "      <td>145.0075</td>\n",
       "      <td>125.9156</td>\n",
       "      <td>112.2360</td>\n",
       "    </tr>\n",
       "    <tr>\n",
       "      <th>Davies-Bouldin</th>\n",
       "      <td>0.7987</td>\n",
       "      <td>0.9340</td>\n",
       "      <td>0.9438</td>\n",
       "      <td>1.0268</td>\n",
       "      <td>1.0274</td>\n",
       "      <td>1.1413</td>\n",
       "      <td>1.1575</td>\n",
       "      <td>1.3058</td>\n",
       "      <td>0.5731</td>\n",
       "      <td>0.5381</td>\n",
       "      <td>...</td>\n",
       "      <td>0.9549</td>\n",
       "      <td>0.9696</td>\n",
       "      <td>0.9932</td>\n",
       "      <td>1.1609</td>\n",
       "      <td>1.3199</td>\n",
       "      <td>1.3072</td>\n",
       "      <td>0.9848</td>\n",
       "      <td>1.3367</td>\n",
       "      <td>1.4875</td>\n",
       "      <td>1.2353</td>\n",
       "    </tr>\n",
       "  </tbody>\n",
       "</table>\n",
       "<p>3 rows × 24 columns</p>\n",
       "</div>"
      ],
      "text/plain": [
       "                  No Data Processing                                \\\n",
       "                                 c=3       c=4       c=5       c=6   \n",
       "Silhouette                    0.4540    0.3909    0.3788    0.3375   \n",
       "Calinski-Harabasz           324.4954  275.0454  230.2999  215.0900   \n",
       "Davies-Bouldin                0.7987    0.9340    0.9438    1.0268   \n",
       "\n",
       "                  Using Normalization                                \\\n",
       "                                  c=3       c=4       c=5       c=6   \n",
       "Silhouette                     0.3842    0.3011    0.3039    0.2328   \n",
       "Calinski-Harabasz            155.4342  119.3509  138.0138  125.5648   \n",
       "Davies-Bouldin                 1.0274    1.1413    1.1575    1.3058   \n",
       "\n",
       "                  Using Transform            ... Using PCA            \\\n",
       "                              c=3       c=4  ...       c=5       c=6   \n",
       "Silhouette                 0.5161    0.5219  ...    0.3701    0.3497   \n",
       "Calinski-Harabasz        492.7559  616.7174  ...  256.4964  223.8657   \n",
       "Davies-Bouldin             0.5731    0.5381  ...    0.9549    0.9696   \n",
       "\n",
       "                  Using T+N                                 T+N+PCA            \\\n",
       "                        c=3       c=4       c=5       c=6       c=3       c=4   \n",
       "Silhouette           0.3929    0.3071    0.2563    0.2469    0.3960    0.3022   \n",
       "Calinski-Harabasz  195.8647  152.1490  130.5739  117.2666  196.5351  145.0075   \n",
       "Davies-Bouldin       0.9932    1.1609    1.3199    1.3072    0.9848    1.3367   \n",
       "\n",
       "                                       \n",
       "                        c=5       c=6  \n",
       "Silhouette           0.2582    0.2555  \n",
       "Calinski-Harabasz  125.9156  112.2360  \n",
       "Davies-Bouldin       1.4875    1.2353  \n",
       "\n",
       "[3 rows x 24 columns]"
      ]
     },
     "execution_count": 56,
     "metadata": {},
     "output_type": "execute_result"
    }
   ],
   "source": [
    "data = {\n",
    "    (\"No Data Processing\", \"c=3\"): [0.4540, 324.4954, 0.7987],\n",
    "    (\"No Data Processing\", \"c=4\"): [0.3909, 275.0454, 0.9340],\n",
    "    (\"No Data Processing\", \"c=5\"): [0.3788, 230.2999, 0.9438],\n",
    "    (\"No Data Processing\", \"c=6\"): [0.3375, 215.0900, 1.0268],\n",
    "\n",
    "    (\"Using Normalization\", \"c=3\"): [0.3842, 155.4342, 1.0274],\n",
    "    (\"Using Normalization\", \"c=4\"): [0.3011, 119.3509, 1.1413],\n",
    "    (\"Using Normalization\", \"c=5\"): [0.3039, 138.0138, 1.1575],\n",
    "    (\"Using Normalization\", \"c=6\"): [0.2328, 125.5648, 1.3058],\n",
    "\n",
    "    (\"Using Transform\", \"c=3\"): [0.5161, 492.7559, 0.5731],\n",
    "    (\"Using Transform\", \"c=4\"): [0.5219, 616.7174, 0.5381],\n",
    "    (\"Using Transform\", \"c=5\"): [0.5178, 732.8043, 0.5552],\n",
    "    (\"Using Transform\", \"c=6\"): [0.5044, 783.4492, 0.5682],\n",
    "\n",
    "    (\"Using PCA\", \"c=3\"): [0.4572,324.3747,0.7981],\n",
    "    (\"Using PCA\", \"c=4\"): [0.3832,271.1957,0.9293],\n",
    "    (\"Using PCA\", \"c=5\"): [0.3701,256.4964,0.9549],\n",
    "    (\"Using PCA\", \"c=6\"): [0.3497,223.8657,0.9696],\n",
    "\n",
    "    (\"Using T+N\", \"c=3\"): [0.3929,195.8647,0.9932],\n",
    "    (\"Using T+N\", \"c=4\"): [0.3071,152.1490,1.1609],\n",
    "    (\"Using T+N\", \"c=5\"): [0.2563,130.5739,1.3199],\n",
    "    (\"Using T+N\", \"c=6\"): [0.2469,117.2666,1.3072],\n",
    "\n",
    "    (\"T+N+PCA\", \"c=3\"): [0.3960,196.5351,0.9848],\n",
    "    (\"T+N+PCA\", \"c=4\"): [0.3022,145.0075,1.3367],\n",
    "    (\"T+N+PCA\", \"c=5\"): [0.2582,125.9156,1.4875],\n",
    "    (\"T+N+PCA\", \"c=6\"): [0.2555,112.2360,1.2353],\n",
    "}\n",
    "\n",
    "\n",
    "df1 = pd.DataFrame(data, index=[\"Silhouette\", \"Calinski-Harabasz\", \"Davies-Bouldin\"])\n",
    "\n",
    "latex_table = f\"\"\"\n",
    "\\\\begin{{table}}[h]\n",
    "    \\\\centering\n",
    "    \\\\caption{{Using K-Means Clustering}}\n",
    "    {df1.to_latex(index=True, multirow=True, escape=False)}\n",
    "\\\\end{{table}}\n",
    "\"\"\"\n",
    "\n",
    "with open(\"kmeans_table.tex\", \"w\") as f:\n",
    "    f.write(latex_table)\n",
    "\n",
    "df1"
   ]
  }
 ],
 "metadata": {
  "kernelspec": {
   "display_name": "Python 3 (ipykernel)",
   "language": "python",
   "name": "python3"
  },
  "language_info": {
   "codemirror_mode": {
    "name": "ipython",
    "version": 3
   },
   "file_extension": ".py",
   "mimetype": "text/x-python",
   "name": "python",
   "nbconvert_exporter": "python",
   "pygments_lexer": "ipython3",
   "version": "3.10.1"
  }
 },
 "nbformat": 4,
 "nbformat_minor": 5
}
